{
 "cells": [
  {
   "cell_type": "markdown",
   "id": "5bdc635b",
   "metadata": {
    "id": "TCckXaHgL4Wq",
    "papermill": {
     "duration": 0.03208,
     "end_time": "2022-05-16T01:11:48.025052",
     "exception": false,
     "start_time": "2022-05-16T01:11:47.992972",
     "status": "completed"
    },
    "tags": []
   },
   "source": [
    "## Imports"
   ]
  },
  {
   "cell_type": "code",
   "execution_count": 1,
   "id": "4da1e081",
   "metadata": {
    "execution": {
     "iopub.execute_input": "2022-05-16T01:11:48.087649Z",
     "iopub.status.busy": "2022-05-16T01:11:48.086973Z",
     "iopub.status.idle": "2022-05-16T01:12:18.596753Z",
     "shell.execute_reply": "2022-05-16T01:12:18.595861Z"
    },
    "id": "-EznjN4Z8bep",
    "outputId": "5a4e6d68-d97b-4021-99a4-674401eba7cf",
    "papermill": {
     "duration": 30.569927,
     "end_time": "2022-05-16T01:12:18.625845",
     "exception": false,
     "start_time": "2022-05-16T01:11:48.055918",
     "status": "completed"
    },
    "tags": []
   },
   "outputs": [
    {
     "name": "stdout",
     "output_type": "stream",
     "text": [
      "Requirement already satisfied: fuzzywuzzy in /opt/conda/lib/python3.7/site-packages (0.18.0)\r\n",
      "\u001b[33mWARNING: Running pip as the 'root' user can result in broken permissions and conflicting behaviour with the system package manager. It is recommended to use a virtual environment instead: https://pip.pypa.io/warnings/venv\u001b[0m\u001b[33m\r\n",
      "\u001b[0mNote: you may need to restart the kernel to use updated packages.\n"
     ]
    }
   ],
   "source": [
    "pip install fuzzywuzzy"
   ]
  },
  {
   "cell_type": "code",
   "execution_count": 2,
   "id": "83307d9e",
   "metadata": {
    "execution": {
     "iopub.execute_input": "2022-05-16T01:12:18.682409Z",
     "iopub.status.busy": "2022-05-16T01:12:18.681721Z",
     "iopub.status.idle": "2022-05-16T01:12:47.871082Z",
     "shell.execute_reply": "2022-05-16T01:12:47.870100Z"
    },
    "id": "6YZjj6tw8fak",
    "outputId": "a35337a3-dde5-44d9-9c50-90feb24e8ec9",
    "papermill": {
     "duration": 29.220545,
     "end_time": "2022-05-16T01:12:47.873601",
     "exception": false,
     "start_time": "2022-05-16T01:12:18.653056",
     "status": "completed"
    },
    "tags": []
   },
   "outputs": [
    {
     "name": "stdout",
     "output_type": "stream",
     "text": [
      "Requirement already satisfied: shap in /opt/conda/lib/python3.7/site-packages (0.40.0)\r\n",
      "Requirement already satisfied: slicer==0.0.7 in /opt/conda/lib/python3.7/site-packages (from shap) (0.0.7)\r\n",
      "Requirement already satisfied: numba in /opt/conda/lib/python3.7/site-packages (from shap) (0.55.1)\r\n",
      "Requirement already satisfied: packaging>20.9 in /opt/conda/lib/python3.7/site-packages (from shap) (21.3)\r\n",
      "Requirement already satisfied: numpy in /opt/conda/lib/python3.7/site-packages (from shap) (1.21.6)\r\n",
      "Requirement already satisfied: pandas in /opt/conda/lib/python3.7/site-packages (from shap) (1.3.5)\r\n",
      "Requirement already satisfied: scikit-learn in /opt/conda/lib/python3.7/site-packages (from shap) (1.0.2)\r\n",
      "Requirement already satisfied: tqdm>4.25.0 in /opt/conda/lib/python3.7/site-packages (from shap) (4.63.0)\r\n",
      "Requirement already satisfied: cloudpickle in /opt/conda/lib/python3.7/site-packages (from shap) (2.0.0)\r\n",
      "Requirement already satisfied: scipy in /opt/conda/lib/python3.7/site-packages (from shap) (1.7.3)\r\n",
      "Requirement already satisfied: pyparsing!=3.0.5,>=2.0.2 in /opt/conda/lib/python3.7/site-packages (from packaging>20.9->shap) (3.0.7)\r\n",
      "Requirement already satisfied: setuptools in /opt/conda/lib/python3.7/site-packages (from numba->shap) (59.8.0)\r\n",
      "Requirement already satisfied: llvmlite<0.39,>=0.38.0rc1 in /opt/conda/lib/python3.7/site-packages (from numba->shap) (0.38.0)\r\n",
      "Requirement already satisfied: python-dateutil>=2.7.3 in /opt/conda/lib/python3.7/site-packages (from pandas->shap) (2.8.2)\r\n",
      "Requirement already satisfied: pytz>=2017.3 in /opt/conda/lib/python3.7/site-packages (from pandas->shap) (2021.3)\r\n",
      "Requirement already satisfied: joblib>=0.11 in /opt/conda/lib/python3.7/site-packages (from scikit-learn->shap) (1.0.1)\r\n",
      "Requirement already satisfied: threadpoolctl>=2.0.0 in /opt/conda/lib/python3.7/site-packages (from scikit-learn->shap) (3.1.0)\r\n",
      "Requirement already satisfied: six>=1.5 in /opt/conda/lib/python3.7/site-packages (from python-dateutil>=2.7.3->pandas->shap) (1.16.0)\r\n",
      "\u001b[33mWARNING: Running pip as the 'root' user can result in broken permissions and conflicting behaviour with the system package manager. It is recommended to use a virtual environment instead: https://pip.pypa.io/warnings/venv\u001b[0m\u001b[33m\r\n",
      "\u001b[0mNote: you may need to restart the kernel to use updated packages.\n"
     ]
    }
   ],
   "source": [
    "pip install shap"
   ]
  },
  {
   "cell_type": "code",
   "execution_count": 3,
   "id": "ede4e79f",
   "metadata": {
    "execution": {
     "iopub.execute_input": "2022-05-16T01:12:47.936413Z",
     "iopub.status.busy": "2022-05-16T01:12:47.935905Z",
     "iopub.status.idle": "2022-05-16T01:13:17.065060Z",
     "shell.execute_reply": "2022-05-16T01:13:17.064022Z"
    },
    "id": "mf3-roHd8ooz",
    "outputId": "3a61f5b9-1d4b-4b54-f549-21c76bcf14ad",
    "papermill": {
     "duration": 29.162758,
     "end_time": "2022-05-16T01:13:17.067802",
     "exception": false,
     "start_time": "2022-05-16T01:12:47.905044",
     "status": "completed"
    },
    "tags": []
   },
   "outputs": [
    {
     "name": "stdout",
     "output_type": "stream",
     "text": [
      "Requirement already satisfied: catboost in /opt/conda/lib/python3.7/site-packages (1.0.5)\r\n",
      "Requirement already satisfied: scipy in /opt/conda/lib/python3.7/site-packages (from catboost) (1.7.3)\r\n",
      "Requirement already satisfied: plotly in /opt/conda/lib/python3.7/site-packages (from catboost) (5.8.0)\r\n",
      "Requirement already satisfied: matplotlib in /opt/conda/lib/python3.7/site-packages (from catboost) (3.5.2)\r\n",
      "Requirement already satisfied: six in /opt/conda/lib/python3.7/site-packages (from catboost) (1.16.0)\r\n",
      "Requirement already satisfied: numpy>=1.16.0 in /opt/conda/lib/python3.7/site-packages (from catboost) (1.21.6)\r\n",
      "Requirement already satisfied: pandas>=0.24.0 in /opt/conda/lib/python3.7/site-packages (from catboost) (1.3.5)\r\n",
      "Requirement already satisfied: graphviz in /opt/conda/lib/python3.7/site-packages (from catboost) (0.8.4)\r\n",
      "Requirement already satisfied: python-dateutil>=2.7.3 in /opt/conda/lib/python3.7/site-packages (from pandas>=0.24.0->catboost) (2.8.2)\r\n",
      "Requirement already satisfied: pytz>=2017.3 in /opt/conda/lib/python3.7/site-packages (from pandas>=0.24.0->catboost) (2021.3)\r\n",
      "Requirement already satisfied: cycler>=0.10 in /opt/conda/lib/python3.7/site-packages (from matplotlib->catboost) (0.11.0)\r\n",
      "Requirement already satisfied: kiwisolver>=1.0.1 in /opt/conda/lib/python3.7/site-packages (from matplotlib->catboost) (1.4.0)\r\n",
      "Requirement already satisfied: pillow>=6.2.0 in /opt/conda/lib/python3.7/site-packages (from matplotlib->catboost) (9.0.1)\r\n",
      "Requirement already satisfied: pyparsing>=2.2.1 in /opt/conda/lib/python3.7/site-packages (from matplotlib->catboost) (3.0.7)\r\n",
      "Requirement already satisfied: packaging>=20.0 in /opt/conda/lib/python3.7/site-packages (from matplotlib->catboost) (21.3)\r\n",
      "Requirement already satisfied: fonttools>=4.22.0 in /opt/conda/lib/python3.7/site-packages (from matplotlib->catboost) (4.30.0)\r\n",
      "Requirement already satisfied: tenacity>=6.2.0 in /opt/conda/lib/python3.7/site-packages (from plotly->catboost) (8.0.1)\r\n",
      "Requirement already satisfied: typing-extensions in /opt/conda/lib/python3.7/site-packages (from kiwisolver>=1.0.1->matplotlib->catboost) (4.2.0)\r\n",
      "\u001b[33mWARNING: Running pip as the 'root' user can result in broken permissions and conflicting behaviour with the system package manager. It is recommended to use a virtual environment instead: https://pip.pypa.io/warnings/venv\u001b[0m\u001b[33m\r\n",
      "\u001b[0mNote: you may need to restart the kernel to use updated packages.\n"
     ]
    }
   ],
   "source": [
    "pip install catboost"
   ]
  },
  {
   "cell_type": "code",
   "execution_count": 4,
   "id": "c2aa16c4",
   "metadata": {
    "execution": {
     "iopub.execute_input": "2022-05-16T01:13:17.135361Z",
     "iopub.status.busy": "2022-05-16T01:13:17.135110Z",
     "iopub.status.idle": "2022-05-16T01:13:20.048684Z",
     "shell.execute_reply": "2022-05-16T01:13:20.047945Z"
    },
    "id": "dCnCBdwXsGkL",
    "outputId": "4ec0f453-fe79-4f17-e272-38822571392e",
    "papermill": {
     "duration": 2.948238,
     "end_time": "2022-05-16T01:13:20.050889",
     "exception": false,
     "start_time": "2022-05-16T01:13:17.102651",
     "status": "completed"
    },
    "tags": []
   },
   "outputs": [],
   "source": [
    "import numpy as np \n",
    "import pandas as pd \n",
    "from sklearn.model_selection import train_test_split\n",
    "import random\n",
    "import os\n",
    "\n",
    "import matplotlib.pyplot as plt\n",
    "import seaborn as sns\n",
    "\n",
    "\n",
    "from tqdm import tqdm\n",
    "\n",
    "import fuzzywuzzy\n",
    "from fuzzywuzzy import fuzz\n",
    "from fuzzywuzzy import process\n",
    "import shap\n",
    "\n",
    "from catboost import CatBoostRegressor, CatBoostClassifier, Pool\n",
    "\n"
   ]
  },
  {
   "cell_type": "markdown",
   "id": "47298c8e",
   "metadata": {
    "id": "YjZ3fYdnL71K",
    "papermill": {
     "duration": 0.03063,
     "end_time": "2022-05-16T01:13:20.112696",
     "exception": false,
     "start_time": "2022-05-16T01:13:20.082066",
     "status": "completed"
    },
    "tags": []
   },
   "source": [
    "## Downloading"
   ]
  },
  {
   "cell_type": "code",
   "execution_count": 5,
   "id": "85c57568",
   "metadata": {
    "execution": {
     "iopub.execute_input": "2022-05-16T01:13:20.175217Z",
     "iopub.status.busy": "2022-05-16T01:13:20.174959Z",
     "iopub.status.idle": "2022-05-16T01:13:20.185961Z",
     "shell.execute_reply": "2022-05-16T01:13:20.184961Z"
    },
    "id": "62ItXVEy8SPQ",
    "outputId": "cd1ec843-a781-4cb8-f38c-3e986eb7d79f",
    "papermill": {
     "duration": 0.044417,
     "end_time": "2022-05-16T01:13:20.187901",
     "exception": false,
     "start_time": "2022-05-16T01:13:20.143484",
     "status": "completed"
    },
    "tags": []
   },
   "outputs": [
    {
     "name": "stdout",
     "output_type": "stream",
     "text": [
      "/kaggle/input/upppm/titles.csv\n",
      "/kaggle/input/us-patent-phrase-to-phrase-matching/sample_submission.csv\n",
      "/kaggle/input/us-patent-phrase-to-phrase-matching/train.csv\n",
      "/kaggle/input/us-patent-phrase-to-phrase-matching/test.csv\n"
     ]
    }
   ],
   "source": [
    "import os\n",
    "for dirname, _, filenames in os.walk('/kaggle/input'):\n",
    "    for filename in filenames:\n",
    "        print(os.path.join(dirname, filename))"
   ]
  },
  {
   "cell_type": "code",
   "execution_count": 6,
   "id": "580cc173",
   "metadata": {
    "execution": {
     "iopub.execute_input": "2022-05-16T01:13:20.252213Z",
     "iopub.status.busy": "2022-05-16T01:13:20.251967Z",
     "iopub.status.idle": "2022-05-16T01:13:20.996080Z",
     "shell.execute_reply": "2022-05-16T01:13:20.995314Z"
    },
    "id": "fDgL01xh-dzW",
    "papermill": {
     "duration": 0.779103,
     "end_time": "2022-05-16T01:13:20.998690",
     "exception": false,
     "start_time": "2022-05-16T01:13:20.219587",
     "status": "completed"
    },
    "tags": []
   },
   "outputs": [],
   "source": [
    "train_df = pd.read_csv(\"../input/us-patent-phrase-to-phrase-matching/train.csv\")\n",
    "test_df = pd.read_csv(\"../input/us-patent-phrase-to-phrase-matching/test.csv\")\n",
    "sub = pd.read_csv(\"../input/us-patent-phrase-to-phrase-matching/sample_submission.csv\")\n",
    "titles = pd.read_csv(\"../input/upppm/titles.csv\")"
   ]
  },
  {
   "cell_type": "code",
   "execution_count": 7,
   "id": "bdb5dd9b",
   "metadata": {
    "execution": {
     "iopub.execute_input": "2022-05-16T01:13:21.062792Z",
     "iopub.status.busy": "2022-05-16T01:13:21.062524Z",
     "iopub.status.idle": "2022-05-16T01:13:21.077168Z",
     "shell.execute_reply": "2022-05-16T01:13:21.076521Z"
    },
    "id": "yWiUYkdVdcRe",
    "outputId": "b6dffed9-ee5a-4d46-d10c-1d13c7855f92",
    "papermill": {
     "duration": 0.048626,
     "end_time": "2022-05-16T01:13:21.078838",
     "exception": false,
     "start_time": "2022-05-16T01:13:21.030212",
     "status": "completed"
    },
    "tags": []
   },
   "outputs": [
    {
     "data": {
      "text/plain": [
       "5"
      ]
     },
     "execution_count": 7,
     "metadata": {},
     "output_type": "execute_result"
    }
   ],
   "source": [
    "len(train_df['score'].unique())"
   ]
  },
  {
   "cell_type": "markdown",
   "id": "075e2aa7",
   "metadata": {
    "id": "iLEy-FCY_NW8",
    "papermill": {
     "duration": 0.031262,
     "end_time": "2022-05-16T01:13:21.143150",
     "exception": false,
     "start_time": "2022-05-16T01:13:21.111888",
     "status": "completed"
    },
    "tags": []
   },
   "source": [
    "## Baseline"
   ]
  },
  {
   "cell_type": "code",
   "execution_count": 8,
   "id": "c742e74c",
   "metadata": {
    "execution": {
     "iopub.execute_input": "2022-05-16T01:13:21.206969Z",
     "iopub.status.busy": "2022-05-16T01:13:21.206274Z",
     "iopub.status.idle": "2022-05-16T01:13:21.211116Z",
     "shell.execute_reply": "2022-05-16T01:13:21.210320Z"
    },
    "id": "sDoUFd_vsMOO",
    "papermill": {
     "duration": 0.038695,
     "end_time": "2022-05-16T01:13:21.212776",
     "exception": false,
     "start_time": "2022-05-16T01:13:21.174081",
     "status": "completed"
    },
    "tags": []
   },
   "outputs": [],
   "source": [
    "context_dict = {\n",
    "    'A': 'Human Necessities',\n",
    "    'B': 'Operations and Transport',\n",
    "    'C': 'Chemistry and Metallurgy',\n",
    "    'D': 'Textiles',\n",
    "    'E': 'Fixed Constructions',\n",
    "    'F': 'Mechanical Engineering',\n",
    "    'G': 'Physics',\n",
    "    'H': 'Electricity',\n",
    "    'Y': 'Emerging Cross-Sectional Technologies'\n",
    "}"
   ]
  },
  {
   "cell_type": "markdown",
   "id": "a4c5250d",
   "metadata": {
    "id": "ke4ZFcuzLzw8",
    "papermill": {
     "duration": 0.031756,
     "end_time": "2022-05-16T01:13:21.275443",
     "exception": false,
     "start_time": "2022-05-16T01:13:21.243687",
     "status": "completed"
    },
    "tags": []
   },
   "source": [
    "## Feature Engineering"
   ]
  },
  {
   "cell_type": "code",
   "execution_count": 9,
   "id": "619d1867",
   "metadata": {
    "execution": {
     "iopub.execute_input": "2022-05-16T01:13:21.339588Z",
     "iopub.status.busy": "2022-05-16T01:13:21.339295Z",
     "iopub.status.idle": "2022-05-16T01:13:21.349968Z",
     "shell.execute_reply": "2022-05-16T01:13:21.349171Z"
    },
    "id": "rFp9nRFTsMHR",
    "papermill": {
     "duration": 0.044509,
     "end_time": "2022-05-16T01:13:21.351702",
     "exception": false,
     "start_time": "2022-05-16T01:13:21.307193",
     "status": "completed"
    },
    "tags": []
   },
   "outputs": [],
   "source": [
    "def create_feature(df, cpc_codes_df):\n",
    "  \n",
    "    df['section'] = df['context'].str[:1]\n",
    "    df['class'] = df['context'].str[1:]\n",
    "    \n",
    "    df['anchor_len'] = df['anchor'].apply(lambda x: len(x.split(' ')))\n",
    "    df['target_len'] = df['target'].apply(lambda x: len(x.split(' ')))\n",
    "    \n",
    "    pattern = '[0-9]'\n",
    "    mask = df['anchor'].str.contains(pattern, na=False)\n",
    "    df['num_anchor'] = mask\n",
    "    mask = df['target'].str.contains(pattern, na=False)\n",
    "    df['num_target'] = mask\n",
    "    \n",
    "    df['context_desc'] = df['context'].map(cpc_codes_df.set_index('code')['title']).str.lower()\n",
    "    \n",
    "    fuzzy_anchor_target_scores = []\n",
    "    fuzzy_anchor_context_scores = []\n",
    "    fuzzy_taget_context_scores = []\n",
    "    for index, row in df.iterrows():\n",
    "        fuzzy_anchor_target_scores.append(fuzz.ratio(row['anchor'], row['target']))\n",
    "        fuzzy_anchor_context_scores.append(fuzz.ratio(row['anchor'], row['context_desc']))\n",
    "        fuzzy_taget_context_scores.append(fuzz.ratio(row['context_desc'], row['target']))\n",
    "    df['fuzzy_at_score'] = fuzzy_anchor_target_scores\n",
    "    df['fuzzy_ac_score'] = fuzzy_anchor_context_scores\n",
    "    df['fuzzy_tc_score'] = fuzzy_taget_context_scores\n",
    "    df['fuzzy_c_score'] = df['fuzzy_ac_score'] + df['fuzzy_tc_score']\n",
    "    df['fuzzy_total'] = df['fuzzy_at_score'] + df['fuzzy_c_score']\n",
    "    \n",
    "    df.drop(['context', 'fuzzy_ac_score', 'fuzzy_tc_score'], 1, inplace=True)\n",
    "    \n",
    "    return df"
   ]
  },
  {
   "cell_type": "code",
   "execution_count": 10,
   "id": "70547b16",
   "metadata": {
    "execution": {
     "iopub.execute_input": "2022-05-16T01:13:21.415574Z",
     "iopub.status.busy": "2022-05-16T01:13:21.414879Z",
     "iopub.status.idle": "2022-05-16T01:13:24.744163Z",
     "shell.execute_reply": "2022-05-16T01:13:24.743461Z"
    },
    "id": "pB0k1nSSsMDw",
    "outputId": "7b8aeffd-0289-495b-d385-bf37452731dd",
    "papermill": {
     "duration": 3.363036,
     "end_time": "2022-05-16T01:13:24.745893",
     "exception": false,
     "start_time": "2022-05-16T01:13:21.382857",
     "status": "completed"
    },
    "tags": []
   },
   "outputs": [
    {
     "name": "stderr",
     "output_type": "stream",
     "text": [
      "In a future version of pandas all arguments of DataFrame.drop except for the argument 'labels' will be keyword-only\n"
     ]
    },
    {
     "data": {
      "text/html": [
       "<div>\n",
       "<style scoped>\n",
       "    .dataframe tbody tr th:only-of-type {\n",
       "        vertical-align: middle;\n",
       "    }\n",
       "\n",
       "    .dataframe tbody tr th {\n",
       "        vertical-align: top;\n",
       "    }\n",
       "\n",
       "    .dataframe thead th {\n",
       "        text-align: right;\n",
       "    }\n",
       "</style>\n",
       "<table border=\"1\" class=\"dataframe\">\n",
       "  <thead>\n",
       "    <tr style=\"text-align: right;\">\n",
       "      <th></th>\n",
       "      <th>id</th>\n",
       "      <th>anchor</th>\n",
       "      <th>target</th>\n",
       "      <th>score</th>\n",
       "      <th>section</th>\n",
       "      <th>class</th>\n",
       "      <th>anchor_len</th>\n",
       "      <th>target_len</th>\n",
       "      <th>num_anchor</th>\n",
       "      <th>num_target</th>\n",
       "      <th>context_desc</th>\n",
       "      <th>fuzzy_at_score</th>\n",
       "      <th>fuzzy_c_score</th>\n",
       "      <th>fuzzy_total</th>\n",
       "    </tr>\n",
       "  </thead>\n",
       "  <tbody>\n",
       "    <tr>\n",
       "      <th>0</th>\n",
       "      <td>37d61fd2272659b1</td>\n",
       "      <td>abatement</td>\n",
       "      <td>abatement of pollution</td>\n",
       "      <td>0.50</td>\n",
       "      <td>A</td>\n",
       "      <td>47</td>\n",
       "      <td>1</td>\n",
       "      <td>3</td>\n",
       "      <td>False</td>\n",
       "      <td>False</td>\n",
       "      <td>furniture; domestic articles or appliances; co...</td>\n",
       "      <td>58</td>\n",
       "      <td>39</td>\n",
       "      <td>97</td>\n",
       "    </tr>\n",
       "    <tr>\n",
       "      <th>1</th>\n",
       "      <td>7b9652b17b68b7a4</td>\n",
       "      <td>abatement</td>\n",
       "      <td>act of abating</td>\n",
       "      <td>0.75</td>\n",
       "      <td>A</td>\n",
       "      <td>47</td>\n",
       "      <td>1</td>\n",
       "      <td>3</td>\n",
       "      <td>False</td>\n",
       "      <td>False</td>\n",
       "      <td>furniture; domestic articles or appliances; co...</td>\n",
       "      <td>43</td>\n",
       "      <td>31</td>\n",
       "      <td>74</td>\n",
       "    </tr>\n",
       "    <tr>\n",
       "      <th>2</th>\n",
       "      <td>36d72442aefd8232</td>\n",
       "      <td>abatement</td>\n",
       "      <td>active catalyst</td>\n",
       "      <td>0.25</td>\n",
       "      <td>A</td>\n",
       "      <td>47</td>\n",
       "      <td>1</td>\n",
       "      <td>2</td>\n",
       "      <td>False</td>\n",
       "      <td>False</td>\n",
       "      <td>furniture; domestic articles or appliances; co...</td>\n",
       "      <td>33</td>\n",
       "      <td>29</td>\n",
       "      <td>62</td>\n",
       "    </tr>\n",
       "    <tr>\n",
       "      <th>3</th>\n",
       "      <td>5296b0c19e1ce60e</td>\n",
       "      <td>abatement</td>\n",
       "      <td>eliminating process</td>\n",
       "      <td>0.50</td>\n",
       "      <td>A</td>\n",
       "      <td>47</td>\n",
       "      <td>1</td>\n",
       "      <td>2</td>\n",
       "      <td>False</td>\n",
       "      <td>False</td>\n",
       "      <td>furniture; domestic articles or appliances; co...</td>\n",
       "      <td>29</td>\n",
       "      <td>33</td>\n",
       "      <td>62</td>\n",
       "    </tr>\n",
       "    <tr>\n",
       "      <th>4</th>\n",
       "      <td>54c1e3b9184cb5b6</td>\n",
       "      <td>abatement</td>\n",
       "      <td>forest region</td>\n",
       "      <td>0.00</td>\n",
       "      <td>A</td>\n",
       "      <td>47</td>\n",
       "      <td>1</td>\n",
       "      <td>2</td>\n",
       "      <td>False</td>\n",
       "      <td>False</td>\n",
       "      <td>furniture; domestic articles or appliances; co...</td>\n",
       "      <td>27</td>\n",
       "      <td>31</td>\n",
       "      <td>58</td>\n",
       "    </tr>\n",
       "  </tbody>\n",
       "</table>\n",
       "</div>"
      ],
      "text/plain": [
       "                 id     anchor                  target  score section class  \\\n",
       "0  37d61fd2272659b1  abatement  abatement of pollution   0.50       A    47   \n",
       "1  7b9652b17b68b7a4  abatement          act of abating   0.75       A    47   \n",
       "2  36d72442aefd8232  abatement         active catalyst   0.25       A    47   \n",
       "3  5296b0c19e1ce60e  abatement     eliminating process   0.50       A    47   \n",
       "4  54c1e3b9184cb5b6  abatement           forest region   0.00       A    47   \n",
       "\n",
       "   anchor_len  target_len  num_anchor  num_target  \\\n",
       "0           1           3       False       False   \n",
       "1           1           3       False       False   \n",
       "2           1           2       False       False   \n",
       "3           1           2       False       False   \n",
       "4           1           2       False       False   \n",
       "\n",
       "                                        context_desc  fuzzy_at_score  \\\n",
       "0  furniture; domestic articles or appliances; co...              58   \n",
       "1  furniture; domestic articles or appliances; co...              43   \n",
       "2  furniture; domestic articles or appliances; co...              33   \n",
       "3  furniture; domestic articles or appliances; co...              29   \n",
       "4  furniture; domestic articles or appliances; co...              27   \n",
       "\n",
       "   fuzzy_c_score  fuzzy_total  \n",
       "0             39           97  \n",
       "1             31           74  \n",
       "2             29           62  \n",
       "3             33           62  \n",
       "4             31           58  "
      ]
     },
     "execution_count": 10,
     "metadata": {},
     "output_type": "execute_result"
    }
   ],
   "source": [
    "train_df_wth_features = create_feature(train_df.copy(), titles)\n",
    "test_df_wth_features = create_feature(test_df.copy(), titles)\n",
    "train_df_wth_features.head()"
   ]
  },
  {
   "cell_type": "code",
   "execution_count": 11,
   "id": "b9d89130",
   "metadata": {
    "execution": {
     "iopub.execute_input": "2022-05-16T01:13:24.812120Z",
     "iopub.status.busy": "2022-05-16T01:13:24.811880Z",
     "iopub.status.idle": "2022-05-16T01:13:24.828045Z",
     "shell.execute_reply": "2022-05-16T01:13:24.827328Z"
    },
    "id": "qY4LDqflBvmM",
    "papermill": {
     "duration": 0.051108,
     "end_time": "2022-05-16T01:13:24.829857",
     "exception": false,
     "start_time": "2022-05-16T01:13:24.778749",
     "status": "completed"
    },
    "tags": []
   },
   "outputs": [],
   "source": [
    "train = train_df_wth_features.sample(frac=0.8).copy()"
   ]
  },
  {
   "cell_type": "code",
   "execution_count": 12,
   "id": "01c13e16",
   "metadata": {
    "execution": {
     "iopub.execute_input": "2022-05-16T01:13:24.897304Z",
     "iopub.status.busy": "2022-05-16T01:13:24.896702Z",
     "iopub.status.idle": "2022-05-16T01:13:24.906149Z",
     "shell.execute_reply": "2022-05-16T01:13:24.905520Z"
    },
    "id": "_1jQuROyDW9N",
    "papermill": {
     "duration": 0.045708,
     "end_time": "2022-05-16T01:13:24.907809",
     "exception": false,
     "start_time": "2022-05-16T01:13:24.862101",
     "status": "completed"
    },
    "tags": []
   },
   "outputs": [],
   "source": [
    "val = train_df_wth_features[~train_df_wth_features.index.isin(train.index)].copy()"
   ]
  },
  {
   "cell_type": "code",
   "execution_count": 13,
   "id": "ff0610be",
   "metadata": {
    "execution": {
     "iopub.execute_input": "2022-05-16T01:13:24.973497Z",
     "iopub.status.busy": "2022-05-16T01:13:24.973292Z",
     "iopub.status.idle": "2022-05-16T01:13:24.981804Z",
     "shell.execute_reply": "2022-05-16T01:13:24.981117Z"
    },
    "id": "W2IQf1rSMlBa",
    "outputId": "e35e7e73-51ed-48da-b91d-15a6cc98c84d",
    "papermill": {
     "duration": 0.04336,
     "end_time": "2022-05-16T01:13:24.983632",
     "exception": false,
     "start_time": "2022-05-16T01:13:24.940272",
     "status": "completed"
    },
    "tags": []
   },
   "outputs": [
    {
     "name": "stderr",
     "output_type": "stream",
     "text": [
      "In a future version of pandas all arguments of DataFrame.drop except for the argument 'labels' will be keyword-only\n"
     ]
    }
   ],
   "source": [
    "X_train = train.drop(['score'], 1)\n",
    "y_train = train['score']"
   ]
  },
  {
   "cell_type": "code",
   "execution_count": 14,
   "id": "1a8626e1",
   "metadata": {
    "execution": {
     "iopub.execute_input": "2022-05-16T01:13:25.049735Z",
     "iopub.status.busy": "2022-05-16T01:13:25.049046Z",
     "iopub.status.idle": "2022-05-16T01:13:25.055931Z",
     "shell.execute_reply": "2022-05-16T01:13:25.054911Z"
    },
    "id": "W4OKeZ6HbmmB",
    "outputId": "b9b36d77-cc27-4039-ed1e-4a2016e413c2",
    "papermill": {
     "duration": 0.041635,
     "end_time": "2022-05-16T01:13:25.057532",
     "exception": false,
     "start_time": "2022-05-16T01:13:25.015897",
     "status": "completed"
    },
    "tags": []
   },
   "outputs": [
    {
     "name": "stderr",
     "output_type": "stream",
     "text": [
      "In a future version of pandas all arguments of DataFrame.drop except for the argument 'labels' will be keyword-only\n"
     ]
    }
   ],
   "source": [
    "X_val = val.drop(['score'], 1)\n",
    "y_val = val['score']"
   ]
  },
  {
   "cell_type": "markdown",
   "id": "a76ffe32",
   "metadata": {
    "id": "POo4HFFKIGDL",
    "papermill": {
     "duration": 0.033864,
     "end_time": "2022-05-16T01:13:25.123566",
     "exception": false,
     "start_time": "2022-05-16T01:13:25.089702",
     "status": "completed"
    },
    "tags": []
   },
   "source": [
    "## Model"
   ]
  },
  {
   "cell_type": "code",
   "execution_count": 15,
   "id": "a5ec4d94",
   "metadata": {
    "execution": {
     "iopub.execute_input": "2022-05-16T01:13:25.190429Z",
     "iopub.status.busy": "2022-05-16T01:13:25.190184Z",
     "iopub.status.idle": "2022-05-16T01:13:25.195345Z",
     "shell.execute_reply": "2022-05-16T01:13:25.194680Z"
    },
    "id": "5u1ux4IvJa3C",
    "outputId": "8ac454ac-b7af-44cf-a1f6-ec47ea0114ab",
    "papermill": {
     "duration": 0.040149,
     "end_time": "2022-05-16T01:13:25.196933",
     "exception": false,
     "start_time": "2022-05-16T01:13:25.156784",
     "status": "completed"
    },
    "tags": []
   },
   "outputs": [
    {
     "data": {
      "text/plain": [
       "Index(['id', 'anchor', 'target', 'section', 'class', 'anchor_len',\n",
       "       'target_len', 'num_anchor', 'num_target', 'context_desc',\n",
       "       'fuzzy_at_score', 'fuzzy_c_score', 'fuzzy_total'],\n",
       "      dtype='object')"
      ]
     },
     "execution_count": 15,
     "metadata": {},
     "output_type": "execute_result"
    }
   ],
   "source": [
    "X_train.columns"
   ]
  },
  {
   "cell_type": "code",
   "execution_count": 16,
   "id": "945a8b9c",
   "metadata": {
    "execution": {
     "iopub.execute_input": "2022-05-16T01:13:25.264007Z",
     "iopub.status.busy": "2022-05-16T01:13:25.263412Z",
     "iopub.status.idle": "2022-05-16T01:13:25.267448Z",
     "shell.execute_reply": "2022-05-16T01:13:25.266809Z"
    },
    "id": "62bCGfb0JlB4",
    "papermill": {
     "duration": 0.039551,
     "end_time": "2022-05-16T01:13:25.269070",
     "exception": false,
     "start_time": "2022-05-16T01:13:25.229519",
     "status": "completed"
    },
    "tags": []
   },
   "outputs": [],
   "source": [
    "X_col = ['anchor', \n",
    "         'target', \n",
    "         'section', \n",
    "         'class', \n",
    "         'anchor_len',\n",
    "         'target_len',\n",
    "         'num_anchor',\n",
    "         'num_target',\n",
    "         'context_desc',\n",
    "         'fuzzy_at_score',\n",
    "         'fuzzy_c_score',\n",
    "         'fuzzy_total']\n",
    "         \n",
    "y_col = ['score']"
   ]
  },
  {
   "cell_type": "code",
   "execution_count": 17,
   "id": "98ab1734",
   "metadata": {
    "execution": {
     "iopub.execute_input": "2022-05-16T01:13:25.337230Z",
     "iopub.status.busy": "2022-05-16T01:13:25.336738Z",
     "iopub.status.idle": "2022-05-16T01:13:25.350854Z",
     "shell.execute_reply": "2022-05-16T01:13:25.350078Z"
    },
    "id": "oTy_2QUHKk4s",
    "outputId": "45da504f-5c2c-4686-aaf3-f6a81648d84a",
    "papermill": {
     "duration": 0.050837,
     "end_time": "2022-05-16T01:13:25.352801",
     "exception": false,
     "start_time": "2022-05-16T01:13:25.301964",
     "status": "completed"
    },
    "tags": []
   },
   "outputs": [
    {
     "data": {
      "text/html": [
       "<div>\n",
       "<style scoped>\n",
       "    .dataframe tbody tr th:only-of-type {\n",
       "        vertical-align: middle;\n",
       "    }\n",
       "\n",
       "    .dataframe tbody tr th {\n",
       "        vertical-align: top;\n",
       "    }\n",
       "\n",
       "    .dataframe thead th {\n",
       "        text-align: right;\n",
       "    }\n",
       "</style>\n",
       "<table border=\"1\" class=\"dataframe\">\n",
       "  <thead>\n",
       "    <tr style=\"text-align: right;\">\n",
       "      <th></th>\n",
       "      <th>id</th>\n",
       "      <th>anchor</th>\n",
       "      <th>target</th>\n",
       "      <th>section</th>\n",
       "      <th>class</th>\n",
       "      <th>anchor_len</th>\n",
       "      <th>target_len</th>\n",
       "      <th>num_anchor</th>\n",
       "      <th>num_target</th>\n",
       "      <th>context_desc</th>\n",
       "      <th>fuzzy_at_score</th>\n",
       "      <th>fuzzy_c_score</th>\n",
       "      <th>fuzzy_total</th>\n",
       "    </tr>\n",
       "  </thead>\n",
       "  <tbody>\n",
       "    <tr>\n",
       "      <th>7587</th>\n",
       "      <td>91aeb19c2b11c229</td>\n",
       "      <td>contain sulfur compounds</td>\n",
       "      <td>contain sulfates</td>\n",
       "      <td>C</td>\n",
       "      <td>11</td>\n",
       "      <td>3</td>\n",
       "      <td>2</td>\n",
       "      <td>False</td>\n",
       "      <td>False</td>\n",
       "      <td>animal or vegetable oils, fats, fatty substanc...</td>\n",
       "      <td>65</td>\n",
       "      <td>47</td>\n",
       "      <td>112</td>\n",
       "    </tr>\n",
       "    <tr>\n",
       "      <th>32776</th>\n",
       "      <td>cf0adc935d3f3712</td>\n",
       "      <td>target pointer</td>\n",
       "      <td>emblaze</td>\n",
       "      <td>F</td>\n",
       "      <td>41</td>\n",
       "      <td>2</td>\n",
       "      <td>1</td>\n",
       "      <td>False</td>\n",
       "      <td>False</td>\n",
       "      <td>weapons</td>\n",
       "      <td>19</td>\n",
       "      <td>67</td>\n",
       "      <td>86</td>\n",
       "    </tr>\n",
       "    <tr>\n",
       "      <th>30901</th>\n",
       "      <td>344454a65236e043</td>\n",
       "      <td>smooth outer surface</td>\n",
       "      <td>predetermined diameter</td>\n",
       "      <td>A</td>\n",
       "      <td>45</td>\n",
       "      <td>3</td>\n",
       "      <td>2</td>\n",
       "      <td>False</td>\n",
       "      <td>False</td>\n",
       "      <td>hand or travelling articles</td>\n",
       "      <td>29</td>\n",
       "      <td>75</td>\n",
       "      <td>104</td>\n",
       "    </tr>\n",
       "    <tr>\n",
       "      <th>15373</th>\n",
       "      <td>d161b498cdeae595</td>\n",
       "      <td>her2 targeted</td>\n",
       "      <td>cd fr targeting</td>\n",
       "      <td>A</td>\n",
       "      <td>61</td>\n",
       "      <td>2</td>\n",
       "      <td>3</td>\n",
       "      <td>True</td>\n",
       "      <td>False</td>\n",
       "      <td>medical or veterinary science; hygiene</td>\n",
       "      <td>57</td>\n",
       "      <td>73</td>\n",
       "      <td>130</td>\n",
       "    </tr>\n",
       "    <tr>\n",
       "      <th>10395</th>\n",
       "      <td>487c380eabe2c782</td>\n",
       "      <td>duplex device</td>\n",
       "      <td>bandwidth receiver</td>\n",
       "      <td>H</td>\n",
       "      <td>04</td>\n",
       "      <td>2</td>\n",
       "      <td>2</td>\n",
       "      <td>False</td>\n",
       "      <td>False</td>\n",
       "      <td>electric communication technique</td>\n",
       "      <td>32</td>\n",
       "      <td>59</td>\n",
       "      <td>91</td>\n",
       "    </tr>\n",
       "  </tbody>\n",
       "</table>\n",
       "</div>"
      ],
      "text/plain": [
       "                     id                    anchor                  target  \\\n",
       "7587   91aeb19c2b11c229  contain sulfur compounds        contain sulfates   \n",
       "32776  cf0adc935d3f3712            target pointer                 emblaze   \n",
       "30901  344454a65236e043      smooth outer surface  predetermined diameter   \n",
       "15373  d161b498cdeae595             her2 targeted         cd fr targeting   \n",
       "10395  487c380eabe2c782             duplex device      bandwidth receiver   \n",
       "\n",
       "      section class  anchor_len  target_len  num_anchor  num_target  \\\n",
       "7587        C    11           3           2       False       False   \n",
       "32776       F    41           2           1       False       False   \n",
       "30901       A    45           3           2       False       False   \n",
       "15373       A    61           2           3        True       False   \n",
       "10395       H    04           2           2       False       False   \n",
       "\n",
       "                                            context_desc  fuzzy_at_score  \\\n",
       "7587   animal or vegetable oils, fats, fatty substanc...              65   \n",
       "32776                                            weapons              19   \n",
       "30901                        hand or travelling articles              29   \n",
       "15373             medical or veterinary science; hygiene              57   \n",
       "10395                   electric communication technique              32   \n",
       "\n",
       "       fuzzy_c_score  fuzzy_total  \n",
       "7587              47          112  \n",
       "32776             67           86  \n",
       "30901             75          104  \n",
       "15373             73          130  \n",
       "10395             59           91  "
      ]
     },
     "execution_count": 17,
     "metadata": {},
     "output_type": "execute_result"
    }
   ],
   "source": [
    "X_train.head()"
   ]
  },
  {
   "cell_type": "code",
   "execution_count": 18,
   "id": "c0bb2cf4",
   "metadata": {
    "execution": {
     "iopub.execute_input": "2022-05-16T01:13:25.421095Z",
     "iopub.status.busy": "2022-05-16T01:13:25.420359Z",
     "iopub.status.idle": "2022-05-16T01:13:25.431403Z",
     "shell.execute_reply": "2022-05-16T01:13:25.430231Z"
    },
    "id": "V42BoezKKVxT",
    "outputId": "0e2ac29c-c160-412b-9f81-f9fea36ed52b",
    "papermill": {
     "duration": 0.047624,
     "end_time": "2022-05-16T01:13:25.433562",
     "exception": false,
     "start_time": "2022-05-16T01:13:25.385938",
     "status": "completed"
    },
    "tags": []
   },
   "outputs": [
    {
     "name": "stdout",
     "output_type": "stream",
     "text": [
      "numerical features: ['anchor_len', 'target_len', 'fuzzy_at_score', 'fuzzy_c_score', 'fuzzy_total']\n",
      "text features: ['anchor', 'target', 'context_desc']\n",
      "categorical features: ['num_target', 'num_anchor', 'id', 'section', 'class']\n"
     ]
    }
   ],
   "source": [
    "num_cols = X_train.select_dtypes(include=np.number).columns.tolist()\n",
    "text_cols = ['anchor', 'target', 'context_desc']\n",
    "cat_cols = list(set(X_train.columns) - set(num_cols) - set(text_cols))\n",
    "print('numerical features:', num_cols)\n",
    "print('text features:', text_cols)\n",
    "print('categorical features:', cat_cols)"
   ]
  },
  {
   "cell_type": "code",
   "execution_count": 19,
   "id": "7e658b28",
   "metadata": {
    "execution": {
     "iopub.execute_input": "2022-05-16T01:13:25.503686Z",
     "iopub.status.busy": "2022-05-16T01:13:25.503144Z",
     "iopub.status.idle": "2022-05-16T01:13:25.506643Z",
     "shell.execute_reply": "2022-05-16T01:13:25.505935Z"
    },
    "id": "fJsTgniST7wW",
    "papermill": {
     "duration": 0.040166,
     "end_time": "2022-05-16T01:13:25.508290",
     "exception": false,
     "start_time": "2022-05-16T01:13:25.468124",
     "status": "completed"
    },
    "tags": []
   },
   "outputs": [],
   "source": [
    "ignore_cols = ['id']"
   ]
  },
  {
   "cell_type": "code",
   "execution_count": 20,
   "id": "c40c76e6",
   "metadata": {
    "execution": {
     "iopub.execute_input": "2022-05-16T01:13:25.578472Z",
     "iopub.status.busy": "2022-05-16T01:13:25.578028Z",
     "iopub.status.idle": "2022-05-16T01:13:25.581634Z",
     "shell.execute_reply": "2022-05-16T01:13:25.580946Z"
    },
    "id": "plRvyw7fIEps",
    "papermill": {
     "duration": 0.040477,
     "end_time": "2022-05-16T01:13:25.583453",
     "exception": false,
     "start_time": "2022-05-16T01:13:25.542976",
     "status": "completed"
    },
    "tags": []
   },
   "outputs": [],
   "source": [
    "# catboost_params = {\n",
    "#     'iterations': 1000,\n",
    "#     'learning_rate': 0.1,\n",
    "#     'eval_metric': 'Logloss',\n",
    "#     'task_type': 'GPU',\n",
    "#     'early_stopping_rounds': 10,\n",
    "#     'use_best_model': True,\n",
    "#     'verbose': 100\n",
    "# }"
   ]
  },
  {
   "cell_type": "code",
   "execution_count": 21,
   "id": "2c1c1e51",
   "metadata": {
    "execution": {
     "iopub.execute_input": "2022-05-16T01:13:25.652933Z",
     "iopub.status.busy": "2022-05-16T01:13:25.652279Z",
     "iopub.status.idle": "2022-05-16T01:13:25.658536Z",
     "shell.execute_reply": "2022-05-16T01:13:25.657894Z"
    },
    "papermill": {
     "duration": 0.043148,
     "end_time": "2022-05-16T01:13:25.660423",
     "exception": false,
     "start_time": "2022-05-16T01:13:25.617275",
     "status": "completed"
    },
    "tags": []
   },
   "outputs": [],
   "source": [
    "def fit_model(train_pool, test_pool, **kwargs):\n",
    "    model = CatBoostClassifier(\n",
    "        task_type='GPU',\n",
    "        iterations=2000,\n",
    "        eval_metric='Accuracy',\n",
    "        od_type='Iter',\n",
    "        od_wait=500,\n",
    "        **kwargs\n",
    "    )\n",
    "\n",
    "    return model.fit(\n",
    "        train_pool,\n",
    "        eval_set=test_pool,\n",
    "        verbose=100,\n",
    "        plot=True,\n",
    "        use_best_model=True)"
   ]
  },
  {
   "cell_type": "code",
   "execution_count": 22,
   "id": "9b0003e7",
   "metadata": {
    "execution": {
     "iopub.execute_input": "2022-05-16T01:13:25.729012Z",
     "iopub.status.busy": "2022-05-16T01:13:25.728772Z",
     "iopub.status.idle": "2022-05-16T01:13:25.966950Z",
     "shell.execute_reply": "2022-05-16T01:13:25.966163Z"
    },
    "id": "rvOIj5iSa2Bl",
    "papermill": {
     "duration": 0.274947,
     "end_time": "2022-05-16T01:13:25.969061",
     "exception": false,
     "start_time": "2022-05-16T01:13:25.694114",
     "status": "completed"
    },
    "tags": []
   },
   "outputs": [],
   "source": [
    "train_pool = Pool(\n",
    "                    X_train,\n",
    "                    y_train,\n",
    "                    cat_features = cat_cols,\n",
    "                    text_features = text_cols,\n",
    "                    feature_names = list(X_train)\n",
    "                )"
   ]
  },
  {
   "cell_type": "code",
   "execution_count": 23,
   "id": "6067869b",
   "metadata": {
    "execution": {
     "iopub.execute_input": "2022-05-16T01:13:26.039132Z",
     "iopub.status.busy": "2022-05-16T01:13:26.038681Z",
     "iopub.status.idle": "2022-05-16T01:13:26.096880Z",
     "shell.execute_reply": "2022-05-16T01:13:26.095972Z"
    },
    "id": "XOJ31jHLbaNa",
    "papermill": {
     "duration": 0.095673,
     "end_time": "2022-05-16T01:13:26.098991",
     "exception": false,
     "start_time": "2022-05-16T01:13:26.003318",
     "status": "completed"
    },
    "tags": []
   },
   "outputs": [],
   "source": [
    "valid_pool = Pool(\n",
    "                    X_val,\n",
    "                    y_val,\n",
    "                    cat_features = cat_cols,\n",
    "                    text_features = text_cols,\n",
    "                    feature_names = list(X_train)  \n",
    "                  )"
   ]
  },
  {
   "cell_type": "code",
   "execution_count": 24,
   "id": "8d171533",
   "metadata": {
    "execution": {
     "iopub.execute_input": "2022-05-16T01:13:26.169027Z",
     "iopub.status.busy": "2022-05-16T01:13:26.168556Z",
     "iopub.status.idle": "2022-05-16T01:15:24.625778Z",
     "shell.execute_reply": "2022-05-16T01:15:24.625056Z"
    },
    "id": "5r-FdbJIH4T2",
    "outputId": "031fc65e-5057-4fb0-c0ee-f0f81943d3c2",
    "papermill": {
     "duration": 118.494632,
     "end_time": "2022-05-16T01:15:24.628324",
     "exception": false,
     "start_time": "2022-05-16T01:13:26.133692",
     "status": "completed"
    },
    "tags": []
   },
   "outputs": [
    {
     "data": {
      "application/vnd.jupyter.widget-view+json": {
       "model_id": "4bb3a67c4cbe4064b8198fa5cf05e4dd",
       "version_major": 2,
       "version_minor": 0
      },
      "text/plain": [
       "MetricVisualizer(layout=Layout(align_self='stretch', height='500px'))"
      ]
     },
     "metadata": {},
     "output_type": "display_data"
    },
    {
     "name": "stdout",
     "output_type": "stream",
     "text": [
      "0:\tlearn: 0.4870793\ttest: 0.4900617\tbest: 0.4900617 (0)\ttotal: 28.3ms\tremaining: 56.6s\n",
      "100:\tlearn: 0.5596682\ttest: 0.5472241\tbest: 0.5472241 (98)\ttotal: 2.13s\tremaining: 40s\n",
      "200:\tlearn: 0.5822195\ttest: 0.5557231\tbest: 0.5564085 (188)\ttotal: 3.83s\tremaining: 34.3s\n",
      "300:\tlearn: 0.6008294\ttest: 0.5621659\tbest: 0.5624400 (296)\ttotal: 5.77s\tremaining: 32.6s\n",
      "400:\tlearn: 0.6152581\ttest: 0.5679232\tbest: 0.5680603 (399)\ttotal: 8s\tremaining: 31.9s\n",
      "500:\tlearn: 0.6283501\ttest: 0.5721727\tbest: 0.5727210 (498)\ttotal: 9.68s\tremaining: 28.9s\n",
      "600:\tlearn: 0.6415793\ttest: 0.5751885\tbest: 0.5753256 (543)\ttotal: 11.9s\tremaining: 27.7s\n",
      "700:\tlearn: 0.6513126\ttest: 0.5773818\tbest: 0.5782042 (682)\ttotal: 13.6s\tremaining: 25.2s\n",
      "800:\tlearn: 0.6600521\ttest: 0.5816313\tbest: 0.5825908 (784)\ttotal: 15.3s\tremaining: 23s\n",
      "900:\tlearn: 0.6688944\ttest: 0.5839616\tbest: 0.5850583 (868)\ttotal: 17s\tremaining: 20.8s\n",
      "1000:\tlearn: 0.6758517\ttest: 0.5854695\tbest: 0.5865661 (995)\ttotal: 18.7s\tremaining: 18.7s\n",
      "1100:\tlearn: 0.6837000\ttest: 0.5883482\tbest: 0.5888965 (1089)\ttotal: 20.4s\tremaining: 16.7s\n",
      "1200:\tlearn: 0.6903489\ttest: 0.5906785\tbest: 0.5913639 (1185)\ttotal: 22.4s\tremaining: 14.9s\n",
      "1300:\tlearn: 0.6966893\ttest: 0.5938314\tbest: 0.5945168 (1278)\ttotal: 24.3s\tremaining: 13.1s\n",
      "1400:\tlearn: 0.7040236\ttest: 0.5954764\tbest: 0.5960247 (1375)\ttotal: 26.1s\tremaining: 11.1s\n",
      "1500:\tlearn: 0.7110837\ttest: 0.5976696\tbest: 0.5982180 (1484)\ttotal: 27.8s\tremaining: 9.24s\n",
      "1600:\tlearn: 0.7169785\ttest: 0.5980809\tbest: 0.5989034 (1556)\ttotal: 29.6s\tremaining: 7.38s\n",
      "1700:\tlearn: 0.7225307\ttest: 0.5978067\tbest: 0.5991775 (1678)\ttotal: 31.3s\tremaining: 5.51s\n",
      "1800:\tlearn: 0.7289739\ttest: 0.5993146\tbest: 0.5994517 (1798)\ttotal: 33.5s\tremaining: 3.7s\n",
      "1900:\tlearn: 0.7346631\ttest: 0.6013708\tbest: 0.6016450 (1838)\ttotal: 35.3s\tremaining: 1.83s\n",
      "1999:\tlearn: 0.7403523\ttest: 0.5994517\tbest: 0.6016450 (1838)\ttotal: 37.2s\tremaining: 0us\n",
      "bestTest = 0.6016449623\n",
      "bestIteration = 1838\n",
      "Shrink model to first 1839 iterations.\n"
     ]
    }
   ],
   "source": [
    "model = fit_model(\n",
    "    train_pool, valid_pool,\n",
    "    learning_rate=0.35,\n",
    "    tokenizers=[\n",
    "        {\n",
    "            'tokenizer_id': 'Sense',\n",
    "            'separator_type': 'BySense',\n",
    "            'lowercasing': 'True',\n",
    "            'token_types':['Word', 'Number', 'SentenceBreak'],\n",
    "            'sub_tokens_policy':'SeveralTokens'\n",
    "        }      \n",
    "    ],\n",
    "    dictionaries = [\n",
    "        {\n",
    "            'dictionary_id': 'Word',\n",
    "            'max_dictionary_size': '50000'\n",
    "        }\n",
    "    ],\n",
    "    feature_calcers = [\n",
    "        'BoW:top_tokens_count=10000'\n",
    "    ]\n",
    ")"
   ]
  },
  {
   "cell_type": "code",
   "execution_count": 25,
   "id": "0793d900",
   "metadata": {
    "execution": {
     "iopub.execute_input": "2022-05-16T01:15:24.878958Z",
     "iopub.status.busy": "2022-05-16T01:15:24.878651Z",
     "iopub.status.idle": "2022-05-16T01:15:24.906275Z",
     "shell.execute_reply": "2022-05-16T01:15:24.905487Z"
    },
    "id": "0uIqSltTMk-r",
    "outputId": "4161b09d-32d9-4abc-ec2e-a8f6c1358d25",
    "papermill": {
     "duration": 0.139613,
     "end_time": "2022-05-16T01:15:24.913419",
     "exception": false,
     "start_time": "2022-05-16T01:15:24.773806",
     "status": "completed"
    },
    "tags": []
   },
   "outputs": [
    {
     "data": {
      "text/html": [
       "<div>\n",
       "<style scoped>\n",
       "    .dataframe tbody tr th:only-of-type {\n",
       "        vertical-align: middle;\n",
       "    }\n",
       "\n",
       "    .dataframe tbody tr th {\n",
       "        vertical-align: top;\n",
       "    }\n",
       "\n",
       "    .dataframe thead th {\n",
       "        text-align: right;\n",
       "    }\n",
       "</style>\n",
       "<table border=\"1\" class=\"dataframe\">\n",
       "  <thead>\n",
       "    <tr style=\"text-align: right;\">\n",
       "      <th></th>\n",
       "      <th>preds</th>\n",
       "    </tr>\n",
       "  </thead>\n",
       "  <tbody>\n",
       "    <tr>\n",
       "      <th>0</th>\n",
       "      <td>0.50</td>\n",
       "    </tr>\n",
       "    <tr>\n",
       "      <th>1</th>\n",
       "      <td>0.50</td>\n",
       "    </tr>\n",
       "    <tr>\n",
       "      <th>2</th>\n",
       "      <td>0.25</td>\n",
       "    </tr>\n",
       "    <tr>\n",
       "      <th>3</th>\n",
       "      <td>0.25</td>\n",
       "    </tr>\n",
       "    <tr>\n",
       "      <th>4</th>\n",
       "      <td>0.00</td>\n",
       "    </tr>\n",
       "  </tbody>\n",
       "</table>\n",
       "</div>"
      ],
      "text/plain": [
       "   preds\n",
       "0   0.50\n",
       "1   0.50\n",
       "2   0.25\n",
       "3   0.25\n",
       "4   0.00"
      ]
     },
     "execution_count": 25,
     "metadata": {},
     "output_type": "execute_result"
    }
   ],
   "source": [
    "X_test = test_df_wth_features.copy()\n",
    "preds = pd.DataFrame(model.predict(X_test), columns=['preds'])\n",
    "preds.head()"
   ]
  },
  {
   "cell_type": "code",
   "execution_count": 26,
   "id": "646f7370",
   "metadata": {
    "execution": {
     "iopub.execute_input": "2022-05-16T01:15:25.219030Z",
     "iopub.status.busy": "2022-05-16T01:15:25.218685Z",
     "iopub.status.idle": "2022-05-16T01:15:25.239518Z",
     "shell.execute_reply": "2022-05-16T01:15:25.238842Z"
    },
    "id": "1oXV3dKLMk8i",
    "outputId": "a360ff80-101b-4fe0-f15c-248cfb8e7cba",
    "papermill": {
     "duration": 0.191676,
     "end_time": "2022-05-16T01:15:25.247276",
     "exception": false,
     "start_time": "2022-05-16T01:15:25.055600",
     "status": "completed"
    },
    "tags": []
   },
   "outputs": [
    {
     "data": {
      "text/html": [
       "<div>\n",
       "<style scoped>\n",
       "    .dataframe tbody tr th:only-of-type {\n",
       "        vertical-align: middle;\n",
       "    }\n",
       "\n",
       "    .dataframe tbody tr th {\n",
       "        vertical-align: top;\n",
       "    }\n",
       "\n",
       "    .dataframe thead th {\n",
       "        text-align: right;\n",
       "    }\n",
       "</style>\n",
       "<table border=\"1\" class=\"dataframe\">\n",
       "  <thead>\n",
       "    <tr style=\"text-align: right;\">\n",
       "      <th></th>\n",
       "      <th>id</th>\n",
       "      <th>score</th>\n",
       "    </tr>\n",
       "  </thead>\n",
       "  <tbody>\n",
       "    <tr>\n",
       "      <th>0</th>\n",
       "      <td>4112d61851461f60</td>\n",
       "      <td>0.50</td>\n",
       "    </tr>\n",
       "    <tr>\n",
       "      <th>1</th>\n",
       "      <td>09e418c93a776564</td>\n",
       "      <td>0.50</td>\n",
       "    </tr>\n",
       "    <tr>\n",
       "      <th>2</th>\n",
       "      <td>36baf228038e314b</td>\n",
       "      <td>0.25</td>\n",
       "    </tr>\n",
       "    <tr>\n",
       "      <th>3</th>\n",
       "      <td>1f37ead645e7f0c8</td>\n",
       "      <td>0.25</td>\n",
       "    </tr>\n",
       "    <tr>\n",
       "      <th>4</th>\n",
       "      <td>71a5b6ad068d531f</td>\n",
       "      <td>0.00</td>\n",
       "    </tr>\n",
       "  </tbody>\n",
       "</table>\n",
       "</div>"
      ],
      "text/plain": [
       "                 id  score\n",
       "0  4112d61851461f60   0.50\n",
       "1  09e418c93a776564   0.50\n",
       "2  36baf228038e314b   0.25\n",
       "3  1f37ead645e7f0c8   0.25\n",
       "4  71a5b6ad068d531f   0.00"
      ]
     },
     "execution_count": 26,
     "metadata": {},
     "output_type": "execute_result"
    }
   ],
   "source": [
    "sub['score'] = preds['preds']\n",
    "sub.to_csv('submission.csv', index=False)\n",
    "sub.head()"
   ]
  },
  {
   "cell_type": "code",
   "execution_count": null,
   "id": "65bf1b4a",
   "metadata": {
    "id": "NPD-6NKVMkrx",
    "papermill": {
     "duration": 0.064958,
     "end_time": "2022-05-16T01:15:25.460728",
     "exception": false,
     "start_time": "2022-05-16T01:15:25.395770",
     "status": "completed"
    },
    "tags": []
   },
   "outputs": [],
   "source": []
  },
  {
   "cell_type": "code",
   "execution_count": null,
   "id": "6ed00a43",
   "metadata": {
    "id": "3UcHlofVMkpF",
    "papermill": {
     "duration": 0.041318,
     "end_time": "2022-05-16T01:15:25.543758",
     "exception": false,
     "start_time": "2022-05-16T01:15:25.502440",
     "status": "completed"
    },
    "tags": []
   },
   "outputs": [],
   "source": []
  }
 ],
 "metadata": {
  "kernelspec": {
   "display_name": "Python 3",
   "language": "python",
   "name": "python3"
  },
  "language_info": {
   "codemirror_mode": {
    "name": "ipython",
    "version": 3
   },
   "file_extension": ".py",
   "mimetype": "text/x-python",
   "name": "python",
   "nbconvert_exporter": "python",
   "pygments_lexer": "ipython3",
   "version": "3.7.12"
  },
  "papermill": {
   "default_parameters": {},
   "duration": 226.497699,
   "end_time": "2022-05-16T01:15:26.418520",
   "environment_variables": {},
   "exception": null,
   "input_path": "__notebook__.ipynb",
   "output_path": "__notebook__.ipynb",
   "parameters": {},
   "start_time": "2022-05-16T01:11:39.920821",
   "version": "2.3.4"
  },
  "widgets": {
   "application/vnd.jupyter.widget-state+json": {
    "state": {
     "4bb3a67c4cbe4064b8198fa5cf05e4dd": {
      "model_module": "catboost-widget",
      "model_module_version": "^1.0.0",
      "model_name": "CatboostWidgetModel",
      "state": {
       "_dom_classes": [],
       "_model_module": "catboost-widget",
       "_model_module_version": "^1.0.0",
       "_model_name": "CatboostWidgetModel",
       "_view_count": null,
       "_view_module": "catboost-widget",
       "_view_module_version": "^1.0.0",
       "_view_name": "CatboostWidgetView",
       "data": {
        "catboost_info": {
         "content": {
          "data": {
           "iterations": [
            {
             "iteration": 0,
             "learn": [
              0.4870793063,
              1.39330976
             ],
             "passed_time": 0.02833721266,
             "remaining_time": 56.64608811,
             "test": [
              0.4900616861,
              1.391786701
             ]
            },
            {
             "iteration": 1,
             "learn": [
              0.491363356,
              1.295663149
             ],
             "passed_time": 0.04860028112,
             "remaining_time": 48.55168084,
             "test": [
              0.4955448938,
              1.292539705
             ]
            },
            {
             "iteration": 2,
             "learn": [
              0.493179793,
              1.243509397
             ],
             "passed_time": 0.0668672792,
             "remaining_time": 44.51131885,
             "test": [
              0.4984235778,
              1.239398641
             ]
            },
            {
             "iteration": 3,
             "learn": [
              0.4987319213,
              1.202869028
             ],
             "passed_time": 0.0868126157,
             "remaining_time": 43.31949524,
             "test": [
              0.5052775874,
              1.200228512
             ]
            },
            {
             "iteration": 4,
             "learn": [
              0.5035643293,
              1.176293863
             ],
             "passed_time": 0.1046520788,
             "remaining_time": 41.75617943,
             "test": [
              0.5118574366,
              1.173984214
             ]
            },
            {
             "iteration": 5,
             "learn": [
              0.5050380424,
              1.160083957
             ],
             "passed_time": 0.1231360649,
             "remaining_time": 40.92221891,
             "test": [
              0.5110349554,
              1.158402855
             ]
            },
            {
             "iteration": 6,
             "learn": [
              0.5076770169,
              1.145249899
             ],
             "passed_time": 0.1422634551,
             "remaining_time": 40.504438,
             "test": [
              0.5174777245,
              1.143113862
             ]
            },
            {
             "iteration": 7,
             "learn": [
              0.5108643499,
              1.136419268
             ],
             "passed_time": 0.1758749175,
             "remaining_time": 43.79285447,
             "test": [
              0.5183002056,
              1.134479684
             ]
            },
            {
             "iteration": 8,
             "learn": [
              0.511995339,
              1.132260527
             ],
             "passed_time": 0.2341751923,
             "remaining_time": 51.80475643,
             "test": [
              0.5195339273,
              1.130129664
             ]
            },
            {
             "iteration": 9,
             "learn": [
              0.5136061416,
              1.129155394
             ],
             "passed_time": 0.2955585258,
             "remaining_time": 58.81614663,
             "test": [
              0.5198080877,
              1.127666906
             ]
            },
            {
             "iteration": 10,
             "learn": [
              0.5153883063,
              1.1245811
             ],
             "passed_time": 0.3295146187,
             "remaining_time": 59.58223423,
             "test": [
              0.5218642906,
              1.123312334
             ]
            },
            {
             "iteration": 11,
             "learn": [
              0.5168277469,
              1.120100051
             ],
             "passed_time": 0.3616734029,
             "remaining_time": 59.91722708,
             "test": [
              0.5230980123,
              1.119512241
             ]
            },
            {
             "iteration": 12,
             "learn": [
              0.5181643704,
              1.116484916
             ],
             "passed_time": 0.3963807689,
             "remaining_time": 60.58527598,
             "test": [
              0.522823852,
              1.116396612
             ]
            },
            {
             "iteration": 13,
             "learn": [
              0.5191925423,
              1.11425808
             ],
             "passed_time": 0.426131367,
             "remaining_time": 60.4497782,
             "test": [
              0.5254283756,
              1.113765314
             ]
            },
            {
             "iteration": 14,
             "learn": [
              0.520117897,
              1.11251059
             ],
             "passed_time": 0.4539666532,
             "remaining_time": 60.07492045,
             "test": [
              0.5247429746,
              1.112703345
             ]
            },
            {
             "iteration": 15,
             "learn": [
              0.5204263486,
              1.110352232
             ],
             "passed_time": 0.4835806678,
             "remaining_time": 59.96400281,
             "test": [
              0.5258396162,
              1.11057164
             ]
            },
            {
             "iteration": 16,
             "learn": [
              0.5214887929,
              1.108759369
             ],
             "passed_time": 0.513706912,
             "remaining_time": 59.92240038,
             "test": [
              0.5255654558,
              1.109231093
             ]
            },
            {
             "iteration": 17,
             "learn": [
              0.5225855096,
              1.107275079
             ],
             "passed_time": 0.543610824,
             "remaining_time": 59.85759184,
             "test": [
              0.5258396162,
              1.107824213
             ]
            },
            {
             "iteration": 18,
             "learn": [
              0.5225512372,
              1.105471896
             ],
             "passed_time": 0.5717817835,
             "remaining_time": 59.61577438,
             "test": [
              0.5277587389,
              1.106085477
             ]
            },
            {
             "iteration": 19,
             "learn": [
              0.5235108643,
              1.103910427
             ],
             "passed_time": 0.6013950061,
             "remaining_time": 59.5381056,
             "test": [
              0.5267991775,
              1.104504637
             ]
            },
            {
             "iteration": 20,
             "learn": [
              0.5251559394,
              1.102409939
             ],
             "passed_time": 0.6292842593,
             "remaining_time": 59.30254996,
             "test": [
              0.5281699794,
              1.102951039
             ]
            },
            {
             "iteration": 21,
             "learn": [
              0.5264925629,
              1.100656557
             ],
             "passed_time": 0.6594121355,
             "remaining_time": 59.28714564,
             "test": [
              0.5287183002,
              1.101664306
             ]
            },
            {
             "iteration": 22,
             "learn": [
              0.5270751936,
              1.100042466
             ],
             "passed_time": 0.6894435809,
             "remaining_time": 59.26217215,
             "test": [
              0.5291295408,
              1.100953604
             ]
            },
            {
             "iteration": 23,
             "learn": [
              0.5283775447,
              1.098371552
             ],
             "passed_time": 0.718016987,
             "remaining_time": 59.11673193,
             "test": [
              0.5302261823,
              1.099226514
             ]
            },
            {
             "iteration": 24,
             "learn": [
              0.529268627,
              1.097392982
             ],
             "passed_time": 0.7476993299,
             "remaining_time": 59.06824706,
             "test": [
              0.5298149417,
              1.09865798
             ]
            },
            {
             "iteration": 25,
             "learn": [
              0.5295770786,
              1.096453838
             ],
             "passed_time": 0.7753390965,
             "remaining_time": 58.86612986,
             "test": [
              0.5298149417,
              1.09844841
             ]
            },
            {
             "iteration": 26,
             "learn": [
              0.5299198026,
              1.09512692
             ],
             "passed_time": 0.8077325271,
             "remaining_time": 59.02430652,
             "test": [
              0.5302261823,
              1.097640119
             ]
            },
            {
             "iteration": 27,
             "learn": [
              0.5304681609,
              1.09380181
             ],
             "passed_time": 0.8369823958,
             "remaining_time": 58.94747445,
             "test": [
              0.5303632625,
              1.096613825
             ]
            },
            {
             "iteration": 28,
             "learn": [
              0.5309479745,
              1.092918158
             ],
             "passed_time": 0.8698035715,
             "remaining_time": 59.11664963,
             "test": [
              0.5300891021,
              1.096124272
             ]
            },
            {
             "iteration": 29,
             "learn": [
              0.5309137021,
              1.091794465
             ],
             "passed_time": 0.9103127561,
             "remaining_time": 59.77720431,
             "test": [
              0.5306374229,
              1.09521732
             ]
            },
            {
             "iteration": 30,
             "learn": [
              0.5322503256,
              1.09036299
             ],
             "passed_time": 0.9278559486,
             "remaining_time": 58.93381815,
             "test": [
              0.5295407814,
              1.093693307
             ]
            },
            {
             "iteration": 31,
             "learn": [
              0.5326615944,
              1.089544871
             ],
             "passed_time": 0.9491193368,
             "remaining_time": 58.37083921,
             "test": [
              0.5296778615,
              1.093506361
             ]
            },
            {
             "iteration": 32,
             "learn": [
              0.5333127699,
              1.088823477
             ],
             "passed_time": 0.9654007347,
             "remaining_time": 57.5437347,
             "test": [
              0.5305003427,
              1.093389428
             ]
            },
            {
             "iteration": 33,
             "learn": [
              0.5335869491,
              1.08796419
             ],
             "passed_time": 0.981599033,
             "remaining_time": 56.75952056,
             "test": [
              0.5310486635,
              1.092906836
             ]
            },
            {
             "iteration": 34,
             "learn": [
              0.534615121,
              1.086532113
             ],
             "passed_time": 0.9981571921,
             "remaining_time": 56.03939664,
             "test": [
              0.5309115833,
              1.091699219
             ]
            },
            {
             "iteration": 35,
             "learn": [
              0.5354376585,
              1.085716001
             ],
             "passed_time": 1.014747612,
             "remaining_time": 55.36011971,
             "test": [
              0.531459904,
              1.09113731
             ]
            },
            {
             "iteration": 36,
             "learn": [
              0.5358831997,
              1.085033766
             ],
             "passed_time": 1.031292341,
             "remaining_time": 54.71423958,
             "test": [
              0.5324194654,
              1.090410076
             ]
            },
            {
             "iteration": 37,
             "learn": [
              0.5362259236,
              1.084410705
             ],
             "passed_time": 1.047821886,
             "remaining_time": 54.10069844,
             "test": [
              0.5322823852,
              1.090134309
             ]
            },
            {
             "iteration": 38,
             "learn": [
              0.5358831997,
              1.082352286
             ],
             "passed_time": 1.067421833,
             "remaining_time": 53.67215936,
             "test": [
              0.5333790267,
              1.088401061
             ]
            },
            {
             "iteration": 39,
             "learn": [
              0.5365686476,
              1.081631963
             ],
             "passed_time": 1.084631283,
             "remaining_time": 53.14693289,
             "test": [
              0.5347498286,
              1.087843035
             ]
            },
            {
             "iteration": 40,
             "learn": [
              0.5371512784,
              1.080718122
             ],
             "passed_time": 1.102036981,
             "remaining_time": 52.65586455,
             "test": [
              0.5359835504,
              1.086914866
             ]
            },
            {
             "iteration": 41,
             "learn": [
              0.5375968195,
              1.080246475
             ],
             "passed_time": 1.117579214,
             "remaining_time": 52.10047862,
             "test": [
              0.5359835504,
              1.086574508
             ]
            },
            {
             "iteration": 42,
             "learn": [
              0.5382822675,
              1.079705011
             ],
             "passed_time": 1.133448366,
             "remaining_time": 51.58508027,
             "test": [
              0.5362577108,
              1.086370561
             ]
            },
            {
             "iteration": 43,
             "learn": [
              0.5383850847,
              1.078767741
             ],
             "passed_time": 1.161406889,
             "remaining_time": 51.62981535,
             "test": [
              0.536394791,
              1.086175583
             ]
            },
            {
             "iteration": 44,
             "learn": [
              0.5382479951,
              1.077849884
             ],
             "passed_time": 1.180478367,
             "remaining_time": 51.28522685,
             "test": [
              0.5373543523,
              1.08547385
             ]
            },
            {
             "iteration": 45,
             "learn": [
              0.5387278086,
              1.076953982
             ],
             "passed_time": 1.197264809,
             "remaining_time": 50.85772687,
             "test": [
              0.5387251542,
              1.084727205
             ]
            },
            {
             "iteration": 46,
             "learn": [
              0.5391390774,
              1.076387617
             ],
             "passed_time": 1.213434541,
             "remaining_time": 50.42207786,
             "test": [
              0.5389993146,
              1.084299231
             ]
            },
            {
             "iteration": 47,
             "learn": [
              0.5395846185,
              1.075361119
             ],
             "passed_time": 1.231090514,
             "remaining_time": 50.06434757,
             "test": [
              0.5389993146,
              1.083543817
             ]
            },
            {
             "iteration": 48,
             "learn": [
              0.5395160738,
              1.074323308
             ],
             "passed_time": 1.248935167,
             "remaining_time": 49.72801044,
             "test": [
              0.5372172721,
              1.082916247
             ]
            },
            {
             "iteration": 49,
             "learn": [
              0.5401672493,
              1.07357467
             ],
             "passed_time": 1.266428405,
             "remaining_time": 49.39070779,
             "test": [
              0.5368060315,
              1.082611699
             ]
            },
            {
             "iteration": 50,
             "learn": [
              0.5403386113,
              1.073009644
             ],
             "passed_time": 1.282490693,
             "remaining_time": 49.01126196,
             "test": [
              0.5377655929,
              1.082143632
             ]
            },
            {
             "iteration": 51,
             "learn": [
              0.5406127905,
              1.07252481
             ],
             "passed_time": 1.29855027,
             "remaining_time": 48.6456909,
             "test": [
              0.5377655929,
              1.081979711
             ]
            },
            {
             "iteration": 52,
             "learn": [
              0.5410240592,
              1.071909915
             ],
             "passed_time": 1.314573387,
             "remaining_time": 48.29196954,
             "test": [
              0.5377655929,
              1.081768134
             ]
            },
            {
             "iteration": 53,
             "learn": [
              0.5422578655,
              1.070911129
             ],
             "passed_time": 1.332635259,
             "remaining_time": 48.02422618,
             "test": [
              0.5370801919,
              1.081370681
             ]
            },
            {
             "iteration": 54,
             "learn": [
              0.543423127,
              1.069387212
             ],
             "passed_time": 1.350334451,
             "remaining_time": 47.7527365,
             "test": [
              0.5381768334,
              1.080040977
             ]
            },
            {
             "iteration": 55,
             "learn": [
              0.5436630338,
              1.068750495
             ],
             "passed_time": 1.366625196,
             "remaining_time": 47.44141753,
             "test": [
              0.5383139136,
              1.079706643
             ]
            },
            {
             "iteration": 56,
             "learn": [
              0.5440400302,
              1.068036197
             ],
             "passed_time": 1.383265432,
             "remaining_time": 47.15236376,
             "test": [
              0.5384509938,
              1.078707859
             ]
            },
            {
             "iteration": 57,
             "learn": [
              0.5442113921,
              1.067494867
             ],
             "passed_time": 1.400402958,
             "remaining_time": 46.88935421,
             "test": [
              0.538588074,
              1.078204919
             ]
            },
            {
             "iteration": 58,
             "learn": [
              0.5448968401,
              1.065990429
             ],
             "passed_time": 1.419312651,
             "remaining_time": 46.6929806,
             "test": [
              0.5373543523,
              1.077057341
             ]
            },
            {
             "iteration": 59,
             "learn": [
              0.5453081088,
              1.065309801
             ],
             "passed_time": 1.435779814,
             "remaining_time": 46.42354733,
             "test": [
              0.5370801919,
              1.07674041
             ]
            },
            {
             "iteration": 60,
             "learn": [
              0.5454794708,
              1.064534053
             ],
             "passed_time": 1.45299221,
             "remaining_time": 46.18609663,
             "test": [
              0.5373543523,
              1.076579434
             ]
            },
            {
             "iteration": 61,
             "learn": [
              0.5458564672,
              1.063889505
             ],
             "passed_time": 1.469131851,
             "remaining_time": 45.92221818,
             "test": [
              0.5370801919,
              1.076311298
             ]
            },
            {
             "iteration": 62,
             "learn": [
              0.5462334636,
              1.063266577
             ],
             "passed_time": 1.485844458,
             "remaining_time": 45.68382087,
             "test": [
              0.5377655929,
              1.075981047
             ]
            },
            {
             "iteration": 63,
             "learn": [
              0.5464048256,
              1.06279078
             ],
             "passed_time": 1.502101832,
             "remaining_time": 45.43858043,
             "test": [
              0.5376285127,
              1.075794168
             ]
            },
            {
             "iteration": 64,
             "learn": [
              0.5467475495,
              1.062342963
             ],
             "passed_time": 1.518947529,
             "remaining_time": 45.21789951,
             "test": [
              0.5377655929,
              1.075294508
             ]
            },
            {
             "iteration": 65,
             "learn": [
              0.5475015423,
              1.061470021
             ],
             "passed_time": 1.536613363,
             "remaining_time": 45.02742793,
             "test": [
              0.5373543523,
              1.074673029
             ]
            },
            {
             "iteration": 66,
             "learn": [
              0.5477757214,
              1.060953592
             ],
             "passed_time": 1.553400409,
             "remaining_time": 44.81676105,
             "test": [
              0.5369431117,
              1.074286621
             ]
            },
            {
             "iteration": 67,
             "learn": [
              0.5482212626,
              1.060420094
             ],
             "passed_time": 1.569374135,
             "remaining_time": 44.58868866,
             "test": [
              0.5374914325,
              1.074027253
             ]
            },
            {
             "iteration": 68,
             "learn": [
              0.5486325314,
              1.059901322
             ],
             "passed_time": 1.585554453,
             "remaining_time": 44.37254563,
             "test": [
              0.5383139136,
              1.073766011
             ]
            },
            {
             "iteration": 69,
             "learn": [
              0.5489067105,
              1.059434428
             ],
             "passed_time": 1.601391098,
             "remaining_time": 44.15264026,
             "test": [
              0.5381768334,
              1.073585156
             ]
            },
            {
             "iteration": 70,
             "learn": [
              0.5489409829,
              1.059139297
             ],
             "passed_time": 1.617586846,
             "remaining_time": 43.9482398,
             "test": [
              0.5384509938,
              1.073319831
             ]
            },
            {
             "iteration": 71,
             "learn": [
              0.5492151621,
              1.058508605
             ],
             "passed_time": 1.634623227,
             "remaining_time": 43.77157752,
             "test": [
              0.5387251542,
              1.073208587
             ]
            },
            {
             "iteration": 72,
             "learn": [
              0.5493522517,
              1.058099344
             ],
             "passed_time": 1.650306611,
             "remaining_time": 43.56357313,
             "test": [
              0.5389993146,
              1.072865886
             ]
            },
            {
             "iteration": 73,
             "learn": [
              0.5495921585,
              1.057565243
             ],
             "passed_time": 1.666279927,
             "remaining_time": 43.36831269,
             "test": [
              0.5396847156,
              1.072349426
             ]
            },
            {
             "iteration": 74,
             "learn": [
              0.5498320653,
              1.057134027
             ],
             "passed_time": 1.682053085,
             "remaining_time": 43.17269585,
             "test": [
              0.5395476354,
              1.072154448
             ]
            },
            {
             "iteration": 75,
             "learn": [
              0.5500034272,
              1.056808573
             ],
             "passed_time": 1.698390061,
             "remaining_time": 42.99608523,
             "test": [
              0.539273475,
              1.072131021
             ]
            },
            {
             "iteration": 76,
             "learn": [
              0.550243334,
              1.056492959
             ],
             "passed_time": 1.714436029,
             "remaining_time": 42.81636991,
             "test": [
              0.539273475,
              1.072063084
             ]
            },
            {
             "iteration": 77,
             "learn": [
              0.5508259648,
              1.05558039
             ],
             "passed_time": 1.732107627,
             "remaining_time": 42.68090846,
             "test": [
              0.5389993146,
              1.071908868
             ]
            },
            {
             "iteration": 78,
             "learn": [
              0.5510658715,
              1.055146697
             ],
             "passed_time": 1.748587952,
             "remaining_time": 42.51946147,
             "test": [
              0.5398217958,
              1.071497695
             ]
            },
            {
             "iteration": 79,
             "learn": [
              0.5514085955,
              1.05413874
             ],
             "passed_time": 1.765111701,
             "remaining_time": 42.36268081,
             "test": [
              0.5402330363,
              1.070767984
             ]
            },
            {
             "iteration": 80,
             "learn": [
              0.5518541367,
              1.053717631
             ],
             "passed_time": 1.782520196,
             "remaining_time": 42.23032414,
             "test": [
              0.5398217958,
              1.070557812
             ]
            },
            {
             "iteration": 81,
             "learn": [
              0.5521283159,
              1.053209905
             ],
             "passed_time": 1.799577508,
             "remaining_time": 42.09255683,
             "test": [
              0.5406442769,
              1.07020052
             ]
            },
            {
             "iteration": 82,
             "learn": [
              0.5526081294,
              1.052800242
             ],
             "passed_time": 1.815545968,
             "remaining_time": 41.93254965,
             "test": [
              0.5409184373,
              1.070002865
             ]
            },
            {
             "iteration": 83,
             "learn": [
              0.5530536706,
              1.052376188
             ],
             "passed_time": 1.831371696,
             "remaining_time": 41.77271631,
             "test": [
              0.5414667581,
              1.069994632
             ]
            },
            {
             "iteration": 84,
             "learn": [
              0.5528137638,
              1.051614765
             ],
             "passed_time": 1.849344433,
             "remaining_time": 41.66464222,
             "test": [
              0.5416038382,
              1.069727767
             ]
            },
            {
             "iteration": 85,
             "learn": [
              0.553087943,
              1.051106771
             ],
             "passed_time": 1.865232131,
             "remaining_time": 41.5122593,
             "test": [
              0.5418779986,
              1.069399324
             ]
            },
            {
             "iteration": 86,
             "learn": [
              0.5534992117,
              1.050535587
             ],
             "passed_time": 1.882931081,
             "remaining_time": 41.40284089,
             "test": [
              0.5417409184,
              1.06923808
             ]
            },
            {
             "iteration": 87,
             "learn": [
              0.5537733909,
              1.049899606
             ],
             "passed_time": 1.899797934,
             "remaining_time": 41.27742783,
             "test": [
              0.5417409184,
              1.0690508
             ]
            },
            {
             "iteration": 88,
             "learn": [
              0.5534306669,
              1.049615051
             ],
             "passed_time": 1.916424208,
             "remaining_time": 41.14928833,
             "test": [
              0.5409184373,
              1.068889356
             ]
            },
            {
             "iteration": 89,
             "learn": [
              0.5546987456,
              1.048655156
             ],
             "passed_time": 1.933248997,
             "remaining_time": 41.02783983,
             "test": [
              0.542152159,
              1.068009847
             ]
            },
            {
             "iteration": 90,
             "learn": [
              0.5549386524,
              1.048451664
             ],
             "passed_time": 1.956627963,
             "remaining_time": 41.04618441,
             "test": [
              0.5424263194,
              1.067835016
             ]
            },
            {
             "iteration": 91,
             "learn": [
              0.5546302008,
              1.04799153
             ],
             "passed_time": 1.973724887,
             "remaining_time": 40.93333788,
             "test": [
              0.5424263194,
              1.067690105
             ]
            },
            {
             "iteration": 92,
             "learn": [
              0.5548701076,
              1.047546926
             ],
             "passed_time": 1.990712661,
             "remaining_time": 40.82031231,
             "test": [
              0.5425633996,
              1.067714268
             ]
            },
            {
             "iteration": 93,
             "learn": [
              0.5557611899,
              1.046814822
             ],
             "passed_time": 2.008853647,
             "remaining_time": 40.73271331,
             "test": [
              0.5433858807,
              1.067401018
             ]
            },
            {
             "iteration": 94,
             "learn": [
              0.5558982795,
              1.046640917
             ],
             "passed_time": 2.024865486,
             "remaining_time": 40.60388158,
             "test": [
              0.5432488005,
              1.067313135
             ]
            },
            {
             "iteration": 95,
             "learn": [
              0.5560353691,
              1.04621278
             ],
             "passed_time": 2.041377333,
             "remaining_time": 40.48731711,
             "test": [
              0.5435229609,
              1.067165412
             ]
            },
            {
             "iteration": 96,
             "learn": [
              0.5562067311,
              1.045790466
             ],
             "passed_time": 2.05793637,
             "remaining_time": 40.37374136,
             "test": [
              0.5440712817,
              1.066814545
             ]
            },
            {
             "iteration": 97,
             "learn": [
              0.5573719926,
              1.043989224
             ],
             "passed_time": 2.0783623,
             "remaining_time": 40.33719484,
             "test": [
              0.5446196025,
              1.065780955
             ]
            },
            {
             "iteration": 98,
             "learn": [
              0.5593255192,
              1.04258178
             ],
             "passed_time": 2.096564085,
             "remaining_time": 40.25826592,
             "test": [
              0.5472241261,
              1.064654796
             ]
            },
            {
             "iteration": 99,
             "learn": [
              0.559394064,
              1.042308939
             ],
             "passed_time": 2.11246964,
             "remaining_time": 40.13692317,
             "test": [
              0.5470870459,
              1.064557742
             ]
            },
            {
             "iteration": 100,
             "learn": [
              0.5596682432,
              1.041979135
             ],
             "passed_time": 2.128599828,
             "remaining_time": 40.02189182,
             "test": [
              0.5472241261,
              1.064366446
             ]
            },
            {
             "iteration": 101,
             "learn": [
              0.5597025156,
              1.041721623
             ],
             "passed_time": 2.144407082,
             "remaining_time": 39.90279061,
             "test": [
              0.5473612063,
              1.064191749
             ]
            },
            {
             "iteration": 102,
             "learn": [
              0.5597710604,
              1.041247767
             ],
             "passed_time": 2.181375226,
             "remaining_time": 40.17542527,
             "test": [
              0.5479095271,
              1.064212298
             ]
            },
            {
             "iteration": 103,
             "learn": [
              0.5601137844,
              1.040897412
             ],
             "passed_time": 2.197583792,
             "remaining_time": 40.06364298,
             "test": [
              0.5480466073,
              1.063987066
             ]
            },
            {
             "iteration": 104,
             "learn": [
              0.560079512,
              1.040208416
             ],
             "passed_time": 2.214575679,
             "remaining_time": 39.96781821,
             "test": [
              0.5484578478,
              1.06322034
             ]
            },
            {
             "iteration": 105,
             "learn": [
              0.5604907807,
              1.039643524
             ],
             "passed_time": 2.231266873,
             "remaining_time": 39.86810809,
             "test": [
              0.548594928,
              1.062997518
             ]
            },
            {
             "iteration": 106,
             "learn": [
              0.5605935979,
              1.03899998
             ],
             "passed_time": 2.249377526,
             "remaining_time": 39.79506222,
             "test": [
              0.5483207676,
              1.06290187
             ]
            },
            {
             "iteration": 107,
             "learn": [
              0.5607649599,
              1.038761612
             ],
             "passed_time": 2.265460614,
             "remaining_time": 39.68751373,
             "test": [
              0.5483207676,
              1.062866127
             ]
            },
            {
             "iteration": 108,
             "learn": [
              0.5610048667,
              1.038463335
             ],
             "passed_time": 2.281206969,
             "remaining_time": 39.57580164,
             "test": [
              0.5487320082,
              1.062698191
             ]
            },
            {
             "iteration": 109,
             "learn": [
              0.5610048667,
              1.037839404
             ],
             "passed_time": 2.299224066,
             "remaining_time": 39.50484985,
             "test": [
              0.5488690884,
              1.062574832
             ]
            },
            {
             "iteration": 110,
             "learn": [
              0.5614846802,
              1.037035676
             ],
             "passed_time": 2.318076442,
             "remaining_time": 39.44906665,
             "test": [
              0.5488690884,
              1.062077515
             ]
            },
            {
             "iteration": 111,
             "learn": [
              0.5611076839,
              1.036477411
             ],
             "passed_time": 2.341102051,
             "remaining_time": 39.46429171,
             "test": [
              0.5490061686,
              1.06169867
             ]
            },
            {
             "iteration": 112,
             "learn": [
              0.5612105011,
              1.036173042
             ],
             "passed_time": 2.35909514,
             "remaining_time": 39.39480114,
             "test": [
              0.5488690884,
              1.061637158
             ]
            },
            {
             "iteration": 113,
             "learn": [
              0.5615874974,
              1.03590462
             ],
             "passed_time": 2.376565266,
             "remaining_time": 39.31756221,
             "test": [
              0.5484578478,
              1.061543785
             ]
            },
            {
             "iteration": 114,
             "learn": [
              0.5619302214,
              1.035626826
             ],
             "passed_time": 2.394428266,
             "remaining_time": 39.24780245,
             "test": [
              0.5488690884,
              1.061482742
             ]
            },
            {
             "iteration": 115,
             "learn": [
              0.5627527589,
              1.035265694
             ],
             "passed_time": 2.410740563,
             "remaining_time": 39.1537519,
             "test": [
              0.5488690884,
              1.061357844
             ]
            },
            {
             "iteration": 116,
             "learn": [
              0.5629241209,
              1.035096675
             ],
             "passed_time": 2.426726651,
             "remaining_time": 39.05578021,
             "test": [
              0.5488690884,
              1.06124071
             ]
            },
            {
             "iteration": 117,
             "learn": [
              0.5630612105,
              1.034622417
             ],
             "passed_time": 2.443783905,
             "remaining_time": 38.97628228,
             "test": [
              0.5483207676,
              1.060973778
             ]
            },
            {
             "iteration": 118,
             "learn": [
              0.5633353897,
              1.03420171
             ],
             "passed_time": 2.460679418,
             "remaining_time": 38.89527719,
             "test": [
              0.5479095271,
              1.060803097
             ]
            },
            {
             "iteration": 119,
             "learn": [
              0.5635410241,
              1.033946341
             ],
             "passed_time": 2.476680416,
             "remaining_time": 38.80132651,
             "test": [
              0.5481836875,
              1.06068757
             ]
            },
            {
             "iteration": 120,
             "learn": [
              0.5639522928,
              1.033323212
             ],
             "passed_time": 2.493945746,
             "remaining_time": 38.72829799,
             "test": [
              0.5481836875,
              1.060518361
             ]
            },
            {
             "iteration": 121,
             "learn": [
              0.564397834,
              1.033001373
             ],
             "passed_time": 2.509808391,
             "remaining_time": 38.63459146,
             "test": [
              0.5483207676,
              1.06042519
             ]
            },
            {
             "iteration": 122,
             "learn": [
              0.5655973679,
              1.031507578
             ],
             "passed_time": 2.528650485,
             "remaining_time": 38.58761756,
             "test": [
              0.5479095271,
              1.059476471
             ]
            },
            {
             "iteration": 123,
             "learn": [
              0.5658372747,
              1.030947305
             ],
             "passed_time": 2.545273348,
             "remaining_time": 38.50752259,
             "test": [
              0.549280329,
              1.059233837
             ]
            },
            {
             "iteration": 124,
             "learn": [
              0.5661457262,
              1.030656324
             ],
             "passed_time": 2.561754844,
             "remaining_time": 38.42632266,
             "test": [
              0.5491432488,
              1.059063089
             ]
            },
            {
             "iteration": 125,
             "learn": [
              0.5662828158,
              1.030496476
             ],
             "passed_time": 2.577546964,
             "remaining_time": 38.3358969,
             "test": [
              0.549280329,
              1.058907602
             ]
            },
            {
             "iteration": 126,
             "learn": [
              0.5666255398,
              1.030061913
             ],
             "passed_time": 2.593610056,
             "remaining_time": 38.2506428,
             "test": [
              0.5491432488,
              1.058552854
             ]
            },
            {
             "iteration": 127,
             "learn": [
              0.566728357,
              1.029698036
             ],
             "passed_time": 2.609281245,
             "remaining_time": 38.16073821,
             "test": [
              0.5496915696,
              1.05837809
             ]
            },
            {
             "iteration": 128,
             "learn": [
              0.5664884502,
              1.02950994
             ],
             "passed_time": 2.625422536,
             "remaining_time": 38.07880283,
             "test": [
              0.5502398903,
              1.058406269
             ]
            },
            {
             "iteration": 129,
             "learn": [
              0.566728357,
              1.028846113
             ],
             "passed_time": 2.642924526,
             "remaining_time": 38.0174528,
             "test": [
              0.5505140507,
              1.058212697
             ]
            },
            {
             "iteration": 130,
             "learn": [
              0.5665227226,
              1.028603194
             ],
             "passed_time": 2.658639463,
             "remaining_time": 37.93127601,
             "test": [
              0.5502398903,
              1.058043756
             ]
            },
            {
             "iteration": 131,
             "learn": [
              0.566556995,
              1.028132082
             ],
             "passed_time": 2.675919551,
             "remaining_time": 37.86831607,
             "test": [
              0.5501028101,
              1.05791685
             ]
            },
            {
             "iteration": 132,
             "learn": [
              0.566728357,
              1.027664853
             ],
             "passed_time": 2.692504281,
             "remaining_time": 37.79628191,
             "test": [
              0.5501028101,
              1.05750427
             ]
            },
            {
             "iteration": 133,
             "learn": [
              0.5670025362,
              1.027070776
             ],
             "passed_time": 2.709027993,
             "remaining_time": 37.72422563,
             "test": [
              0.5505140507,
              1.056943567
             ]
            },
            {
             "iteration": 134,
             "learn": [
              0.5670368086,
              1.026807507
             ],
             "passed_time": 2.724673812,
             "remaining_time": 37.64086414,
             "test": [
              0.5506511309,
              1.05685247
             ]
            },
            {
             "iteration": 135,
             "learn": [
              0.5672424429,
              1.026552473
             ],
             "passed_time": 2.740472548,
             "remaining_time": 37.56059433,
             "test": [
              0.5510623715,
              1.056628845
             ]
            },
            {
             "iteration": 136,
             "learn": [
              0.5676194393,
              1.026275817
             ],
             "passed_time": 2.756846367,
             "remaining_time": 37.489086,
             "test": [
              0.5507882111,
              1.056160309
             ]
            },
            {
             "iteration": 137,
             "learn": [
              0.5677908013,
              1.026046285
             ],
             "passed_time": 2.772740571,
             "remaining_time": 37.41190539,
             "test": [
              0.5507882111,
              1.056042573
             ]
            },
            {
             "iteration": 138,
             "learn": [
              0.5679621633,
              1.025759522
             ],
             "passed_time": 2.788388045,
             "remaining_time": 37.33230325,
             "test": [
              0.5509252913,
              1.055939294
             ]
            },
            {
             "iteration": 139,
             "learn": [
              0.5684077044,
              1.025375698
             ],
             "passed_time": 2.804633797,
             "remaining_time": 37.26156331,
             "test": [
              0.5507882111,
              1.055731197
             ]
            },
            {
             "iteration": 140,
             "learn": [
              0.568544794,
              1.025141815
             ],
             "passed_time": 2.820509568,
             "remaining_time": 37.18671834,
             "test": [
              0.5510623715,
              1.055693112
             ]
            },
            {
             "iteration": 141,
             "learn": [
              0.5686818836,
              1.024790323
             ],
             "passed_time": 2.836583864,
             "remaining_time": 37.11530154,
             "test": [
              0.5518848526,
              1.055548133
             ]
            },
            {
             "iteration": 142,
             "learn": [
              0.5690246076,
              1.024465605
             ],
             "passed_time": 2.853450958,
             "remaining_time": 37.05495405,
             "test": [
              0.5513365319,
              1.055474573
             ]
            },
            {
             "iteration": 143,
             "learn": [
              0.5690246076,
              1.024189284
             ],
             "passed_time": 2.877737958,
             "remaining_time": 37.09084479,
             "test": [
              0.5511994517,
              1.055220426
             ]
            },
            {
             "iteration": 144,
             "learn": [
              0.5696072383,
              1.023781429
             ],
             "passed_time": 2.893703553,
             "remaining_time": 37.0194489,
             "test": [
              0.5517477724,
              1.0549883
             ]
            },
            {
             "iteration": 145,
             "learn": [
              0.5703612311,
              1.023024692
             ],
             "passed_time": 2.911499916,
             "remaining_time": 36.97206058,
             "test": [
              0.5511994517,
              1.054649682
             ]
            },
            {
             "iteration": 146,
             "learn": [
              0.570532593,
              1.022732305
             ],
             "passed_time": 2.927295753,
             "remaining_time": 36.89985735,
             "test": [
              0.5510623715,
              1.054586698
             ]
            },
            {
             "iteration": 147,
             "learn": [
              0.5703269587,
              1.022507794
             ],
             "passed_time": 2.95530607,
             "remaining_time": 36.98126244,
             "test": [
              0.5513365319,
              1.054475789
             ]
            },
            {
             "iteration": 148,
             "learn": [
              0.5704983207,
              1.022306042
             ],
             "passed_time": 2.971401817,
             "remaining_time": 36.91318633,
             "test": [
              0.5511994517,
              1.054359391
             ]
            },
            {
             "iteration": 149,
             "learn": [
              0.5705668654,
              1.0220245
             ],
             "passed_time": 2.987184231,
             "remaining_time": 36.84193885,
             "test": [
              0.5507882111,
              1.054381078
             ]
            },
            {
             "iteration": 150,
             "learn": [
              0.570875317,
              1.021667853
             ],
             "passed_time": 3.004539425,
             "remaining_time": 36.79068474,
             "test": [
              0.5509252913,
              1.05437164
             ]
            },
            {
             "iteration": 151,
             "learn": [
              0.5711837686,
              1.021415696
             ],
             "passed_time": 3.020601207,
             "remaining_time": 36.72415151,
             "test": [
              0.5511994517,
              1.054339779
             ]
            },
            {
             "iteration": 152,
             "learn": [
              0.5712865858,
              1.021214748
             ],
             "passed_time": 3.036327242,
             "remaining_time": 36.65422494,
             "test": [
              0.5514736121,
              1.054147077
             ]
            },
            {
             "iteration": 153,
             "learn": [
              0.571560765,
              1.020593293
             ],
             "passed_time": 3.053945722,
             "remaining_time": 36.60768703,
             "test": [
              0.5525702536,
              1.053876264
             ]
            },
            {
             "iteration": 154,
             "learn": [
              0.5718349441,
              1.018336469
             ],
             "passed_time": 3.073578165,
             "remaining_time": 36.58549493,
             "test": [
              0.5544893763,
              1.051983513
             ]
            },
            {
             "iteration": 155,
             "learn": [
              0.5717663993,
              1.018099507
             ],
             "passed_time": 3.089133341,
             "remaining_time": 36.51514026,
             "test": [
              0.5542152159,
              1.051812029
             ]
            },
            {
             "iteration": 156,
             "learn": [
              0.5722119405,
              1.017697878
             ],
             "passed_time": 3.104874381,
             "remaining_time": 36.4476655,
             "test": [
              0.5546264565,
              1.051661026
             ]
            },
            {
             "iteration": 157,
             "learn": [
              0.5723490301,
              1.017294909
             ],
             "passed_time": 3.120867416,
             "remaining_time": 36.38378342,
             "test": [
              0.5544893763,
              1.051787933
             ]
            },
            {
             "iteration": 158,
             "learn": [
              0.5724175749,
              1.017108285
             ],
             "passed_time": 3.137227017,
             "remaining_time": 36.32474803,
             "test": [
              0.5546264565,
              1.051684587
             ]
            },
            {
             "iteration": 159,
             "learn": [
              0.573034478,
              1.016661606
             ],
             "passed_time": 3.153815755,
             "remaining_time": 36.26888119,
             "test": [
              0.5544893763,
              1.051571134
             ]
            },
            {
             "iteration": 160,
             "learn": [
              0.5729316608,
              1.016519429
             ],
             "passed_time": 3.169867464,
             "remaining_time": 36.20736811,
             "test": [
              0.5542152159,
              1.051588069
             ]
            },
            {
             "iteration": 161,
             "learn": [
              0.5731030228,
              1.016244915
             ],
             "passed_time": 3.185693645,
             "remaining_time": 36.14385753,
             "test": [
              0.5544893763,
              1.051270268
             ]
            },
            {
             "iteration": 162,
             "learn": [
              0.5734457468,
              1.015954403
             ],
             "passed_time": 3.203484789,
             "remaining_time": 36.10307704,
             "test": [
              0.5540781357,
              1.051285662
             ]
            },
            {
             "iteration": 163,
             "learn": [
              0.5736171088,
              1.015742343
             ],
             "passed_time": 3.219354419,
             "remaining_time": 36.04106532,
             "test": [
              0.5542152159,
              1.051230777
             ]
            },
            {
             "iteration": 164,
             "learn": [
              0.5737884708,
              1.015515623
             ],
             "passed_time": 3.235098604,
             "remaining_time": 35.97821781,
             "test": [
              0.5540781357,
              1.051204739
             ]
            },
            {
             "iteration": 165,
             "learn": [
              0.5739255604,
              1.015159511
             ],
             "passed_time": 3.251788095,
             "remaining_time": 35.92638172,
             "test": [
              0.5538039753,
              1.051130711
             ]
            },
            {
             "iteration": 166,
             "learn": [
              0.5741654671,
              1.014775152
             ],
             "passed_time": 3.267901744,
             "remaining_time": 35.86864608,
             "test": [
              0.5536668951,
              1.051043295
             ]
            },
            {
             "iteration": 167,
             "learn": [
              0.5747138255,
              1.014395143
             ],
             "passed_time": 3.283795054,
             "remaining_time": 35.80900321,
             "test": [
              0.5536668951,
              1.050888812
             ]
            },
            {
             "iteration": 168,
             "learn": [
              0.5745767359,
              1.014135356
             ],
             "passed_time": 3.299706356,
             "remaining_time": 35.75007301,
             "test": [
              0.5539410555,
              1.050733259
             ]
            },
            {
             "iteration": 169,
             "learn": [
              0.5746795531,
              1.013887483
             ],
             "passed_time": 3.31540177,
             "remaining_time": 35.68932494,
             "test": [
              0.5539410555,
              1.050681318
             ]
            },
            {
             "iteration": 170,
             "learn": [
              0.5753992734,
              1.013092658
             ],
             "passed_time": 3.33209056,
             "remaining_time": 35.63972885,
             "test": [
              0.5547635367,
              1.050586607
             ]
            },
            {
             "iteration": 171,
             "learn": [
              0.5760161766,
              1.012762719
             ],
             "passed_time": 3.348770515,
             "remaining_time": 35.59042152,
             "test": [
              0.5547635367,
              1.050466059
             ]
            },
            {
             "iteration": 172,
             "learn": [
              0.5761875386,
              1.012598252
             ],
             "passed_time": 3.364464898,
             "remaining_time": 35.53108306,
             "test": [
              0.5546264565,
              1.050426769
             ]
            },
            {
             "iteration": 173,
             "learn": [
              0.576221811,
              1.012321194
             ],
             "passed_time": 3.381050976,
             "remaining_time": 35.48160392,
             "test": [
              0.5553118574,
              1.05032503
             ]
            },
            {
             "iteration": 174,
             "learn": [
              0.576221811,
              1.011832411
             ],
             "passed_time": 3.396896335,
             "remaining_time": 35.42477607,
             "test": [
              0.5547635367,
              1.049814259
             ]
            },
            {
             "iteration": 175,
             "learn": [
              0.576221811,
              1.011524093
             ],
             "passed_time": 3.413959813,
             "remaining_time": 35.38103806,
             "test": [
              0.5554489376,
              1.049581263
             ]
            },
            {
             "iteration": 176,
             "learn": [
              0.5764274453,
              1.011279032
             ],
             "passed_time": 3.429760227,
             "remaining_time": 35.32459262,
             "test": [
              0.5558601782,
              1.049441371
             ]
            },
            {
             "iteration": 177,
             "learn": [
              0.5765645349,
              1.011127016
             ],
             "passed_time": 3.445468683,
             "remaining_time": 35.26766259,
             "test": [
              0.5558601782,
              1.04932156
             ]
            },
            {
             "iteration": 178,
             "learn": [
              0.5765988073,
              1.01089407
             ],
             "passed_time": 3.461548252,
             "remaining_time": 35.21496853,
             "test": [
              0.5558601782,
              1.049036824
             ]
            },
            {
             "iteration": 179,
             "learn": [
              0.5771814381,
              1.010451073
             ],
             "passed_time": 3.478821298,
             "remaining_time": 35.17474868,
             "test": [
              0.5555860178,
              1.049028391
             ]
            },
            {
             "iteration": 180,
             "learn": [
              0.577866886,
              1.009883704
             ],
             "passed_time": 3.497227171,
             "remaining_time": 35.14616699,
             "test": [
              0.5546264565,
              1.048953826
             ]
            },
            {
             "iteration": 181,
             "learn": [
              0.5780725204,
              1.009227776
             ],
             "passed_time": 3.51482356,
             "remaining_time": 35.10961116,
             "test": [
              0.5551747772,
              1.048702624
             ]
            },
            {
             "iteration": 182,
             "learn": [
              0.5783124272,
              1.008877823
             ],
             "passed_time": 3.53114031,
             "remaining_time": 35.06055707,
             "test": [
              0.5555860178,
              1.048694927
             ]
            },
            {
             "iteration": 183,
             "learn": [
              0.57820961,
              1.008658533
             ],
             "passed_time": 3.547636169,
             "remaining_time": 35.01362654,
             "test": [
              0.5551747772,
              1.048710656
             ]
            },
            {
             "iteration": 184,
             "learn": [
              0.5789293303,
              1.008273571
             ],
             "passed_time": 3.564083569,
             "remaining_time": 34.96654961,
             "test": [
              0.5555860178,
              1.048606441
             ]
            },
            {
             "iteration": 185,
             "learn": [
              0.5788950579,
              1.007942159
             ],
             "passed_time": 3.580021376,
             "remaining_time": 34.91483213,
             "test": [
              0.5558601782,
              1.048289443
             ]
            },
            {
             "iteration": 186,
             "learn": [
              0.5789636027,
              1.007668784
             ],
             "passed_time": 3.596348472,
             "remaining_time": 34.86727155,
             "test": [
              0.5558601782,
              1.048123046
             ]
            },
            {
             "iteration": 187,
             "learn": [
              0.5795462335,
              1.007083676
             ],
             "passed_time": 3.613122599,
             "remaining_time": 34.82435186,
             "test": [
              0.5562714188,
              1.047683425
             ]
            },
            {
             "iteration": 188,
             "learn": [
              0.5798204126,
              1.00647012
             ],
             "passed_time": 3.630511352,
             "remaining_time": 34.78759819,
             "test": [
              0.556408499,
              1.047929273
             ]
            },
            {
             "iteration": 189,
             "learn": [
              0.5804373158,
              1.005277748
             ],
             "passed_time": 3.64887427,
             "remaining_time": 34.76032857,
             "test": [
              0.5559972584,
              1.047008332
             ]
            },
            {
             "iteration": 190,
             "learn": [
              0.580368771,
              1.005134969
             ],
             "passed_time": 3.664734809,
             "remaining_time": 34.70945167,
             "test": [
              0.5559972584,
              1.046921184
             ]
            },
            {
             "iteration": 191,
             "learn": [
              0.5808143122,
              1.004866881
             ],
             "passed_time": 3.680430479,
             "remaining_time": 34.65738701,
             "test": [
              0.5554489376,
              1.046843943
             ]
            },
            {
             "iteration": 192,
             "learn": [
              0.5808828569,
              1.004504879
             ],
             "passed_time": 3.698391144,
             "remaining_time": 34.62690569,
             "test": [
              0.5561343386,
              1.0468833
             ]
            },
            {
             "iteration": 193,
             "learn": [
              0.5808143122,
              1.003599472
             ],
             "passed_time": 3.716938563,
             "remaining_time": 34.60201569,
             "test": [
              0.5558601782,
              1.046655658
             ]
            },
            {
             "iteration": 194,
             "learn": [
              0.5810542189,
              1.003391829
             ],
             "passed_time": 3.733541274,
             "remaining_time": 34.55918974,
             "test": [
              0.5559972584,
              1.046629219
             ]
            },
            {
             "iteration": 195,
             "learn": [
              0.5811570361,
              1.003147438
             ],
             "passed_time": 3.749456045,
             "remaining_time": 34.51029951,
             "test": [
              0.5558601782,
              1.046491805
             ]
            },
            {
             "iteration": 196,
             "learn": [
              0.5816711221,
              1.002634958
             ],
             "passed_time": 3.766494238,
             "remaining_time": 34.47202594,
             "test": [
              0.5559972584,
              1.046349972
             ]
            },
            {
             "iteration": 197,
             "learn": [
              0.5818767565,
              1.002380459
             ],
             "passed_time": 3.783164241,
             "remaining_time": 34.43061597,
             "test": [
              0.5561343386,
              1.046290602
             ]
            },
            {
             "iteration": 198,
             "learn": [
              0.5819453013,
              1.002070334
             ],
             "passed_time": 3.800151597,
             "remaining_time": 34.39232676,
             "test": [
              0.5558601782,
              1.046222263
             ]
            },
            {
             "iteration": 199,
             "learn": [
              0.5819795737,
              1.001892814
             ],
             "passed_time": 3.816829814,
             "remaining_time": 34.35146833,
             "test": [
              0.5555860178,
              1.046181165
             ]
            },
            {
             "iteration": 200,
             "learn": [
              0.5822194804,
              1.00167513
             ],
             "passed_time": 3.833069854,
             "remaining_time": 34.3069287,
             "test": [
              0.555723098,
              1.046268915
             ]
            },
            {
             "iteration": 201,
             "learn": [
              0.5824936596,
              1.001089019
             ],
             "passed_time": 3.850288546,
             "remaining_time": 34.27138022,
             "test": [
              0.5559972584,
              1.046078355
             ]
            },
            {
             "iteration": 202,
             "learn": [
              0.5829734732,
              1.000862366
             ],
             "passed_time": 3.866658276,
             "remaining_time": 34.22849716,
             "test": [
              0.5562714188,
              1.04611296
             ]
            },
            {
             "iteration": 203,
             "learn": [
              0.5828021112,
              1.000562148
             ],
             "passed_time": 3.883524275,
             "remaining_time": 34.19024313,
             "test": [
              0.5562714188,
              1.046103522
             ]
            },
            {
             "iteration": 204,
             "learn": [
              0.5833504695,
              1.000095923
             ],
             "passed_time": 3.900830342,
             "remaining_time": 34.15605105,
             "test": [
              0.556408499,
              1.0457971
             ]
            },
            {
             "iteration": 205,
             "learn": [
              0.5837617383,
              0.9995903378
             ],
             "passed_time": 3.918327359,
             "remaining_time": 34.12368583,
             "test": [
              0.5568197395,
              1.045669792
             ]
            },
            {
             "iteration": 206,
             "learn": [
              0.5836589211,
              0.999467506
             ],
             "passed_time": 3.935043477,
             "remaining_time": 34.08470026,
             "test": [
              0.5569568197,
              1.045630167
             ]
            },
            {
             "iteration": 207,
             "learn": [
              0.5839331003,
              0.9989835423
             ],
             "passed_time": 3.964726958,
             "remaining_time": 34.15764764,
             "test": [
              0.5575051405,
              1.045429835
             ]
            },
            {
             "iteration": 208,
             "learn": [
              0.5841730071,
              0.9986566827
             ],
             "passed_time": 3.981365089,
             "remaining_time": 34.11782237,
             "test": [
              0.5576422207,
              1.045238471
             ]
            },
            {
             "iteration": 209,
             "learn": [
              0.5842758243,
              0.9983341741
             ],
             "passed_time": 3.997759438,
             "remaining_time": 34.07613998,
             "test": [
              0.5576422207,
              1.045103064
             ]
            },
            {
             "iteration": 210,
             "learn": [
              0.5844471862,
              0.9981525036
             ],
             "passed_time": 4.013613775,
             "remaining_time": 34.03011869,
             "test": [
              0.5576422207,
              1.045085595
             ]
            },
            {
             "iteration": 211,
             "learn": [
              0.5848241826,
              0.9978998785
             ],
             "passed_time": 4.029337464,
             "remaining_time": 33.98328012,
             "test": [
              0.5576422207,
              1.045036064
             ]
            },
            {
             "iteration": 212,
             "learn": [
              0.5846185482,
              0.9977582372
             ],
             "passed_time": 4.048155767,
             "remaining_time": 33.96269651,
             "test": [
              0.5577793009,
              1.045082449
             ]
            },
            {
             "iteration": 213,
             "learn": [
              0.5847556378,
              0.9975290405
             ],
             "passed_time": 4.064581813,
             "remaining_time": 33.9221641,
             "test": [
              0.5579163811,
              1.044943896
             ]
            },
            {
             "iteration": 214,
             "learn": [
              0.5849269998,
              0.9971596751
             ],
             "passed_time": 4.080930889,
             "remaining_time": 33.88121692,
             "test": [
              0.5580534613,
              1.044626028
             ]
            },
            {
             "iteration": 215,
             "learn": [
              0.5851326342,
              0.9970012991
             ],
             "passed_time": 4.096926042,
             "remaining_time": 33.83757435,
             "test": [
              0.5581905415,
              1.044570072
             ]
            },
            {
             "iteration": 216,
             "learn": [
              0.5854068134,
              0.9967287934
             ],
             "passed_time": 4.113017448,
             "remaining_time": 33.79497746,
             "test": [
              0.5579163811,
              1.044373956
             ]
            },
            {
             "iteration": 217,
             "learn": [
              0.5857495373,
              0.9965067592
             ],
             "passed_time": 4.129430931,
             "remaining_time": 33.75525651,
             "test": [
              0.5580534613,
              1.044299726
             ]
            },
            {
             "iteration": 218,
             "learn": [
              0.5858523545,
              0.9963208046
             ],
             "passed_time": 4.145205626,
             "remaining_time": 33.71055351,
             "test": [
              0.5580534613,
              1.044214252
             ]
            },
            {
             "iteration": 219,
             "learn": [
              0.5859894441,
              0.9961290265
             ],
             "passed_time": 4.161076495,
             "remaining_time": 33.66689164,
             "test": [
              0.5580534613,
              1.044094307
             ]
            },
            {
             "iteration": 220,
             "learn": [
              0.5866406196,
              0.995696806
             ],
             "passed_time": 4.178292902,
             "remaining_time": 33.63431255,
             "test": [
              0.559287183,
              1.043838419
             ]
            },
            {
             "iteration": 221,
             "learn": [
              0.5866406196,
              0.9956075773
             ],
             "passed_time": 4.194103236,
             "remaining_time": 33.5906106,
             "test": [
              0.559287183,
              1.043854617
             ]
            },
            {
             "iteration": 222,
             "learn": [
              0.5868119816,
              0.9953479237
             ],
             "passed_time": 4.210081969,
             "remaining_time": 33.54850072,
             "test": [
              0.559287183,
              1.043700201
             ]
            },
            {
             "iteration": 223,
             "learn": [
              0.5875659744,
              0.9944163438
             ],
             "passed_time": 4.228087079,
             "remaining_time": 33.52269041,
             "test": [
              0.558601782,
              1.043278653
             ]
            },
            {
             "iteration": 224,
             "learn": [
              0.587531702,
              0.9942255027
             ],
             "passed_time": 4.243943368,
             "remaining_time": 33.47999768,
             "test": [
              0.5590130226,
              1.043314931
             ]
            },
            {
             "iteration": 225,
             "learn": [
              0.5879086983,
              0.994052735
             ],
             "passed_time": 4.259727498,
             "remaining_time": 33.43697603,
             "test": [
              0.5590130226,
              1.043163393
             ]
            },
            {
             "iteration": 226,
             "learn": [
              0.5877716087,
              0.9938930873
             ],
             "passed_time": 4.275914025,
             "remaining_time": 33.3973373,
             "test": [
              0.5588759424,
              1.043086018
             ]
            },
            {
             "iteration": 227,
             "learn": [
              0.5879772431,
              0.9937755436
             ],
             "passed_time": 4.291733709,
             "remaining_time": 33.35505321,
             "test": [
              0.5590130226,
              1.043100275
             ]
            },
            {
             "iteration": 228,
             "learn": [
              0.5879772431,
              0.9935229186
             ],
             "passed_time": 4.307797363,
             "remaining_time": 33.31488703,
             "test": [
              0.558601782,
              1.042978322
             ]
            },
            {
             "iteration": 229,
             "learn": [
              0.5881143327,
              0.9931386929
             ],
             "passed_time": 4.324391218,
             "remaining_time": 33.27901068,
             "test": [
              0.5584647019,
              1.042765807
             ]
            },
            {
             "iteration": 230,
             "learn": [
              0.5881143327,
              0.9929594322
             ],
             "passed_time": 4.340097201,
             "remaining_time": 33.23650194,
             "test": [
              0.5590130226,
              1.042579196
             ]
            },
            {
             "iteration": 231,
             "learn": [
              0.5883542395,
              0.9927844555
             ],
             "passed_time": 4.356029894,
             "remaining_time": 33.19595195,
             "test": [
              0.5591501028,
              1.042586157
             ]
            },
            {
             "iteration": 232,
             "learn": [
              0.5884913291,
              0.9925910039
             ],
             "passed_time": 4.37187467,
             "remaining_time": 33.15494653,
             "test": [
              0.5591501028,
              1.042507108
             ]
            },
            {
             "iteration": 233,
             "learn": [
              0.5883542395,
              0.9923485535
             ],
             "passed_time": 4.388618258,
             "remaining_time": 33.1209395,
             "test": [
              0.5596984236,
              1.04252585
             ]
            },
            {
             "iteration": 234,
             "learn": [
              0.5886626911,
              0.9920479337
             ],
             "passed_time": 4.40523798,
             "remaining_time": 33.08614908,
             "test": [
              0.559287183,
              1.042496466
             ]
            },
            {
             "iteration": 235,
             "learn": [
              0.5887997807,
              0.9917455735
             ],
             "passed_time": 4.421158373,
             "remaining_time": 33.04628547,
             "test": [
              0.559972584,
              1.042270632
             ]
            },
            {
             "iteration": 236,
             "learn": [
              0.589005415,
              0.9913592727
             ],
             "passed_time": 4.438198425,
             "remaining_time": 33.01495284,
             "test": [
              0.5598355038,
              1.041982348
             ]
            },
            {
             "iteration": 237,
             "learn": [
              0.5887655083,
              0.9910221716
             ],
             "passed_time": 4.454931127,
             "remaining_time": 32.9814649,
             "test": [
              0.559972584,
              1.041931144
             ]
            },
            {
             "iteration": 238,
             "learn": [
              0.5889368702,
              0.9905823202
             ],
             "passed_time": 4.471800194,
             "remaining_time": 32.94912193,
             "test": [
              0.5598355038,
              1.041911332
             ]
            },
            {
             "iteration": 239,
             "learn": [
              0.5892453218,
              0.9903886008
             ],
             "passed_time": 4.487922019,
             "remaining_time": 32.91142814,
             "test": [
              0.5596984236,
              1.041919832
             ]
            },
            {
             "iteration": 240,
             "learn": [
              0.5894166838,
              0.9902103442
             ],
             "passed_time": 4.503458556,
             "remaining_time": 32.8696415,
             "test": [
              0.5598355038,
              1.041817357
             ]
            },
            {
             "iteration": 241,
             "learn": [
              0.589519501,
              0.9900479519
             ],
             "passed_time": 4.518959804,
             "remaining_time": 32.82781543,
             "test": [
              0.5596984236,
              1.041744667
             ]
            },
            {
             "iteration": 242,
             "learn": [
              0.5898964974,
              0.9897898379
             ],
             "passed_time": 4.535356499,
             "remaining_time": 32.79268053,
             "test": [
              0.5601096642,
              1.041657385
             ]
            },
            {
             "iteration": 243,
             "learn": [
              0.5901021317,
              0.9894216105
             ],
             "passed_time": 4.551738536,
             "remaining_time": 32.75759372,
             "test": [
              0.5595613434,
              1.041481082
             ]
            },
            {
             "iteration": 244,
             "learn": [
              0.5900335869,
              0.9892363923
             ],
             "passed_time": 4.568021267,
             "remaining_time": 32.72194826,
             "test": [
              0.5594242632,
              1.041437709
             ]
            },
            {
             "iteration": 245,
             "learn": [
              0.5900335869,
              0.9889923353
             ],
             "passed_time": 4.584130266,
             "remaining_time": 32.68522149,
             "test": [
              0.5595613434,
              1.041314685
             ]
            },
            {
             "iteration": 246,
             "learn": [
              0.5902049489,
              0.9886504815
             ],
             "passed_time": 4.59995091,
             "remaining_time": 32.64661517,
             "test": [
              0.5596984236,
              1.041085705
             ]
            },
            {
             "iteration": 247,
             "learn": [
              0.5905819453,
              0.9883638518
             ],
             "passed_time": 4.61631642,
             "remaining_time": 32.6120418,
             "test": [
              0.559972584,
              1.041066495
             ]
            },
            {
             "iteration": 248,
             "learn": [
              0.5907533073,
              0.9882198676
             ],
             "passed_time": 4.631882511,
             "remaining_time": 32.57199308,
             "test": [
              0.559972584,
              1.041059935
             ]
            },
            {
             "iteration": 249,
             "learn": [
              0.5908218521,
              0.9880227344
             ],
             "passed_time": 4.647608229,
             "remaining_time": 32.5332576,
             "test": [
              0.5598355038,
              1.041015023
             ]
            },
            {
             "iteration": 250,
             "learn": [
              0.5910274865,
              0.9878590703
             ],
             "passed_time": 4.663564384,
             "remaining_time": 32.49631118,
             "test": [
              0.5601096642,
              1.040833231
             ]
            },
            {
             "iteration": 251,
             "learn": [
              0.5910274865,
              0.9876256565
             ],
             "passed_time": 4.679061973,
             "remaining_time": 32.45635051,
             "test": [
              0.5601096642,
              1.040752509
             ]
            },
            {
             "iteration": 252,
             "learn": [
              0.5910617589,
              0.9874069022
             ],
             "passed_time": 4.694978331,
             "remaining_time": 32.41947488,
             "test": [
              0.5602467443,
              1.040595348
             ]
            },
            {
             "iteration": 253,
             "learn": [
              0.5914387552,
              0.9870149117
             ],
             "passed_time": 4.712010714,
             "remaining_time": 32.39043585,
             "test": [
              0.5602467443,
              1.040421655
             ]
            },
            {
             "iteration": 254,
             "learn": [
              0.591678662,
              0.9868451562
             ],
             "passed_time": 4.727512023,
             "remaining_time": 32.35101365,
             "test": [
              0.5603838245,
              1.040374333
             ]
            },
            {
             "iteration": 255,
             "learn": [
              0.5919528412,
              0.9866596703
             ],
             "passed_time": 4.743793808,
             "remaining_time": 32.31709532,
             "test": [
              0.5603838245,
              1.04025325
             ]
            },
            {
             "iteration": 256,
             "learn": [
              0.5920899308,
              0.986474519
             ],
             "passed_time": 4.759779139,
             "remaining_time": 32.28130366,
             "test": [
              0.5602467443,
              1.040147629
             ]
            },
            {
             "iteration": 257,
             "learn": [
              0.592192748,
              0.9863493444
             ],
             "passed_time": 4.775502555,
             "remaining_time": 32.2438971,
             "test": [
              0.5601096642,
              1.040188057
             ]
            },
            {
             "iteration": 258,
             "learn": [
              0.5923983823,
              0.9858420862
             ],
             "passed_time": 4.791885013,
             "remaining_time": 32.21108806,
             "test": [
              0.5598355038,
              1.039855129
             ]
            },
            {
             "iteration": 259,
             "learn": [
              0.5928781959,
              0.9853894496
             ],
             "passed_time": 4.808699356,
             "remaining_time": 32.18129569,
             "test": [
              0.559972584,
              1.039667848
             ]
            },
            {
             "iteration": 260,
             "learn": [
              0.5930152855,
              0.985229601
             ],
             "passed_time": 4.824262159,
             "remaining_time": 32.14326396,
             "test": [
              0.5601096642,
              1.039633712
             ]
            },
            {
             "iteration": 261,
             "learn": [
              0.5931181027,
              0.9849922378
             ],
             "passed_time": 4.840604891,
             "remaining_time": 32.11057748,
             "test": [
              0.5602467443,
              1.03954382
             ]
            },
            {
             "iteration": 262,
             "learn": [
              0.5933237371,
              0.9844588067
             ],
             "passed_time": 4.857538447,
             "remaining_time": 32.08191742,
             "test": [
              0.5605209047,
              1.039127693
             ]
            },
            {
             "iteration": 263,
             "learn": [
              0.5932894647,
              0.9842946071
             ],
             "passed_time": 4.872981232,
             "remaining_time": 32.04354326,
             "test": [
              0.5603838245,
              1.039079769
             ]
            },
            {
             "iteration": 264,
             "learn": [
              0.5935636438,
              0.9840178843
             ],
             "passed_time": 4.88937298,
             "remaining_time": 32.01155517,
             "test": [
              0.5605209047,
              1.038962099
             ]
            },
            {
             "iteration": 265,
             "learn": [
              0.593666461,
              0.9839028174
             ],
             "passed_time": 4.904982258,
             "remaining_time": 31.97458359,
             "test": [
              0.5603838245,
              1.038911832
             ]
            },
            {
             "iteration": 266,
             "learn": [
              0.594009185,
              0.9834863944
             ],
             "passed_time": 4.921418091,
             "remaining_time": 31.9431369,
             "test": [
              0.5603838245,
              1.038897308
             ]
            },
            {
             "iteration": 267,
             "learn": [
              0.5943861814,
              0.9833558648
             ],
             "passed_time": 4.937042605,
             "remaining_time": 31.90655892,
             "test": [
              0.5602467443,
              1.038856612
             ]
            },
            {
             "iteration": 268,
             "learn": [
              0.5943176366,
              0.9832158299
             ],
             "passed_time": 4.952836514,
             "remaining_time": 31.87122679,
             "test": [
              0.5602467443,
              1.038806211
             ]
            },
            {
             "iteration": 269,
             "learn": [
              0.5945575434,
              0.9829628701
             ],
             "passed_time": 4.983790477,
             "remaining_time": 31.93317602,
             "test": [
              0.5602467443,
              1.038734458
             ]
            },
            {
             "iteration": 270,
             "learn": [
              0.5945918158,
              0.9827915082
             ],
             "passed_time": 4.999814149,
             "remaining_time": 31.89918326,
             "test": [
              0.5606579849,
              1.038560363
             ]
            },
            {
             "iteration": 271,
             "learn": [
              0.5949345397,
              0.9822807691
             ],
             "passed_time": 5.016924447,
             "remaining_time": 31.8722259,
             "test": [
              0.5603838245,
              1.038402266
             ]
            },
            {
             "iteration": 272,
             "learn": [
              0.5950373569,
              0.9820523757
             ],
             "passed_time": 5.033021203,
             "remaining_time": 31.838929,
             "test": [
              0.5605209047,
              1.038396577
             ]
            },
            {
             "iteration": 273,
             "learn": [
              0.5956885325,
              0.9817551028
             ],
             "passed_time": 5.049015317,
             "remaining_time": 31.80511108,
             "test": [
              0.5607950651,
              1.03836572
             ]
            },
            {
             "iteration": 274,
             "learn": [
              0.5956542601,
              0.9815782519
             ],
             "passed_time": 5.065439491,
             "remaining_time": 31.77412045,
             "test": [
              0.5609321453,
              1.038405881
             ]
            },
            {
             "iteration": 275,
             "learn": [
              0.5957228049,
              0.9812762934
             ],
             "passed_time": 5.08192934,
             "remaining_time": 31.74364559,
             "test": [
              0.5612063057,
              1.038194571
             ]
            },
            {
             "iteration": 276,
             "learn": [
              0.5960312564,
              0.9810430135
             ],
             "passed_time": 5.097373984,
             "remaining_time": 31.70677031,
             "test": [
              0.5610692255,
              1.03788112
             ]
            },
            {
             "iteration": 277,
             "learn": [
              0.5957570772,
              0.9808282755
             ],
             "passed_time": 5.114009192,
             "remaining_time": 31.67742384,
             "test": [
              0.5609321453,
              1.037844642
             ]
            },
            {
             "iteration": 278,
             "learn": [
              0.595825622,
              0.9806277284
             ],
             "passed_time": 5.130356378,
             "remaining_time": 31.64639185,
             "test": [
              0.5605209047,
              1.037829113
             ]
            },
            {
             "iteration": 279,
             "learn": [
              0.5959284392,
              0.9802908281
             ],
             "passed_time": 5.146781012,
             "remaining_time": 31.6159405,
             "test": [
              0.5602467443,
              1.037667
             ]
            },
            {
             "iteration": 280,
             "learn": [
              0.5960998012,
              0.9798124871
             ],
             "passed_time": 5.164121263,
             "remaining_time": 31.59119022,
             "test": [
              0.5612063057,
              1.037561512
             ]
            },
            {
             "iteration": 281,
             "learn": [
              0.5966481596,
              0.9793141986
             ],
             "passed_time": 5.18065353,
             "remaining_time": 31.56157009,
             "test": [
              0.5617546265,
              1.037518942
             ]
            },
            {
             "iteration": 282,
             "learn": [
              0.5966481596,
              0.9791257674
             ],
             "passed_time": 5.196037109,
             "remaining_time": 31.5250732,
             "test": [
              0.5616175463,
              1.037426373
             ]
            },
            {
             "iteration": 283,
             "learn": [
              0.5968880664,
              0.9788548682
             ],
             "passed_time": 5.231524106,
             "remaining_time": 31.61019495,
             "test": [
              0.5610692255,
              1.037450067
             ]
            },
            {
             "iteration": 284,
             "learn": [
              0.5971622455,
              0.9786308927
             ],
             "passed_time": 5.249644492,
             "remaining_time": 31.58996598,
             "test": [
              0.5610692255,
              1.037398328
             ]
            },
            {
             "iteration": 285,
             "learn": [
              0.5972307903,
              0.978465756
             ],
             "passed_time": 5.292900213,
             "remaining_time": 31.72038799,
             "test": [
              0.5610692255,
              1.03738213
             ]
            },
            {
             "iteration": 286,
             "learn": [
              0.5977448763,
              0.9781080378
             ],
             "passed_time": 5.34179415,
             "remaining_time": 31.88325219,
             "test": [
              0.5617546265,
              1.037079389
             ]
            },
            {
             "iteration": 287,
             "learn": [
              0.5979162383,
              0.9779344
             ],
             "passed_time": 5.378843161,
             "remaining_time": 31.97423435,
             "test": [
              0.5620287868,
              1.037101678
             ]
            },
            {
             "iteration": 288,
             "learn": [
              0.5983617794,
              0.977784726
             ],
             "passed_time": 5.414722065,
             "remaining_time": 32.05740295,
             "test": [
              0.5620287868,
              1.037099268
             ]
            },
            {
             "iteration": 289,
             "learn": [
              0.5978819659,
              0.9772171563
             ],
             "passed_time": 5.445783072,
             "remaining_time": 32.11134156,
             "test": [
              0.5616175463,
              1.036847463
             ]
            },
            {
             "iteration": 290,
             "learn": [
              0.5981904174,
              0.9767793131
             ],
             "passed_time": 5.474823537,
             "remaining_time": 32.15282964,
             "test": [
              0.5620287868,
              1.03679887
             ]
            },
            {
             "iteration": 291,
             "learn": [
              0.5982932346,
              0.976510489
             ],
             "passed_time": 5.50631387,
             "remaining_time": 32.20816469,
             "test": [
              0.5614804661,
              1.036789365
             ]
            },
            {
             "iteration": 292,
             "learn": [
              0.5986016862,
              0.9763053901
             ],
             "passed_time": 5.535214803,
             "remaining_time": 32.24782139,
             "test": [
              0.5616175463,
              1.036818883
             ]
            },
            {
             "iteration": 293,
             "learn": [
              0.5990472274,
              0.9760143425
             ],
             "passed_time": 5.56622976,
             "remaining_time": 32.29927881,
             "test": [
              0.5617546265,
              1.036820824
             ]
            },
            {
             "iteration": 294,
             "learn": [
              0.5994927685,
              0.9757637925
             ],
             "passed_time": 5.595817337,
             "remaining_time": 32.34192732,
             "test": [
              0.5617546265,
              1.03659258
             ]
            },
            {
             "iteration": 295,
             "learn": [
              0.5995613133,
              0.9756314555
             ],
             "passed_time": 5.624712219,
             "remaining_time": 32.38010007,
             "test": [
              0.5618917066,
              1.036440774
             ]
            },
            {
             "iteration": 296,
             "learn": [
              0.6001782165,
              0.9752445523
             ],
             "passed_time": 5.65495198,
             "remaining_time": 32.42553273,
             "test": [
              0.5624400274,
              1.036225917
             ]
            },
            {
             "iteration": 297,
             "learn": [
              0.600486668,
              0.9749539732
             ],
             "passed_time": 5.684717257,
             "remaining_time": 32.46774756,
             "test": [
              0.5620287868,
              1.036184887
             ]
            },
            {
             "iteration": 298,
             "learn": [
              0.600486668,
              0.9747502801
             ],
             "passed_time": 5.713827883,
             "remaining_time": 32.50575662,
             "test": [
              0.5620287868,
              1.036010525
             ]
            },
            {
             "iteration": 299,
             "learn": [
              0.6005552128,
              0.9745035456
             ],
             "passed_time": 5.742624494,
             "remaining_time": 32.5415388,
             "test": [
              0.562165867,
              1.035898745
             ]
            },
            {
             "iteration": 300,
             "learn": [
              0.600829392,
              0.9743640462
             ],
             "passed_time": 5.771411066,
             "remaining_time": 32.57683522,
             "test": [
              0.562165867,
              1.035866617
             ]
            },
            {
             "iteration": 301,
             "learn": [
              0.6010692988,
              0.9741811039
             ],
             "passed_time": 5.800593174,
             "remaining_time": 32.61393116,
             "test": [
              0.5623029472,
              1.035735695
             ]
            },
            {
             "iteration": 302,
             "learn": [
              0.601172116,
              0.9740509759
             ],
             "passed_time": 5.829705335,
             "remaining_time": 32.65019786,
             "test": [
              0.5623029472,
              1.035603903
             ]
            },
            {
             "iteration": 303,
             "learn": [
              0.6013092056,
              0.9738888514
             ],
             "passed_time": 5.860267089,
             "remaining_time": 32.69412165,
             "test": [
              0.5620287868,
              1.035663875
             ]
            },
            {
             "iteration": 304,
             "learn": [
              0.6013092056,
              0.9735656734
             ],
             "passed_time": 5.890512092,
             "remaining_time": 32.73579671,
             "test": [
              0.5623029472,
              1.035444333
             ]
            },
            {
             "iteration": 305,
             "learn": [
              0.6017890191,
              0.973237542
             ],
             "passed_time": 5.920544663,
             "remaining_time": 32.77582568,
             "test": [
              0.5617546265,
              1.035545068
             ]
            },
            {
             "iteration": 306,
             "learn": [
              0.6018918363,
              0.973079166
             ],
             "passed_time": 5.95432585,
             "remaining_time": 32.83607057,
             "test": [
              0.5618917066,
              1.035382218
             ]
            },
            {
             "iteration": 307,
             "learn": [
              0.6022345603,
              0.9728035811
             ],
             "passed_time": 5.997129103,
             "remaining_time": 32.94526767,
             "test": [
              0.5613433859,
              1.035246142
             ]
            },
            {
             "iteration": 308,
             "learn": [
              0.6022688327,
              0.9726212413
             ],
             "passed_time": 6.03298606,
             "remaining_time": 33.0154674,
             "test": [
              0.5614804661,
              1.035071646
             ]
            },
            {
             "iteration": 309,
             "learn": [
              0.6023373775,
              0.9724976063
             ],
             "passed_time": 6.060734617,
             "remaining_time": 33.04077904,
             "test": [
              0.5616175463,
              1.034930884
             ]
            },
            {
             "iteration": 310,
             "learn": [
              0.6024401947,
              0.9723424434
             ],
             "passed_time": 6.088238361,
             "remaining_time": 33.06441991,
             "test": [
              0.5614804661,
              1.034889586
             ]
            },
            {
             "iteration": 311,
             "learn": [
              0.6024059223,
              0.9721047455
             ],
             "passed_time": 6.116686535,
             "remaining_time": 33.09284253,
             "test": [
              0.5616175463,
              1.034713818
             ]
            },
            {
             "iteration": 312,
             "learn": [
              0.6023716499,
              0.9719385378
             ],
             "passed_time": 6.144166958,
             "remaining_time": 33.11568581,
             "test": [
              0.5616175463,
              1.03452714
             ]
            },
            {
             "iteration": 313,
             "learn": [
              0.6028514634,
              0.9717023126
             ],
             "passed_time": 6.173755553,
             "remaining_time": 33.14952823,
             "test": [
              0.5609321453,
              1.034596617
             ]
            },
            {
             "iteration": 314,
             "learn": [
              0.6028857358,
              0.9715928016
             ],
             "passed_time": 6.202915498,
             "remaining_time": 33.18067497,
             "test": [
              0.5613433859,
              1.034600834
             ]
            },
            {
             "iteration": 315,
             "learn": [
              0.6030228254,
              0.9710026068
             ],
             "passed_time": 6.243205218,
             "remaining_time": 33.27075186,
             "test": [
              0.5617546265,
              1.034523459
             ]
            },
            {
             "iteration": 316,
             "learn": [
              0.6035369114,
              0.9705305581
             ],
             "passed_time": 6.281724078,
             "remaining_time": 33.35060449,
             "test": [
              0.5620287868,
              1.034398427
             ]
            },
            {
             "iteration": 317,
             "learn": [
              0.6037425458,
              0.9703405204
             ],
             "passed_time": 6.317740345,
             "remaining_time": 33.41647566,
             "test": [
              0.562165867,
              1.034260142
             ]
            },
            {
             "iteration": 318,
             "learn": [
              0.6039824525,
              0.9701785297
             ],
             "passed_time": 6.360868953,
             "remaining_time": 33.51918718,
             "test": [
              0.5623029472,
              1.034115833
             ]
            },
            {
             "iteration": 319,
             "learn": [
              0.6042566317,
              0.9699584367
             ],
             "passed_time": 6.403654372,
             "remaining_time": 33.61918545,
             "test": [
              0.562165867,
              1.033796024
             ]
            },
            {
             "iteration": 320,
             "learn": [
              0.6043251765,
              0.9697503925
             ],
             "passed_time": 6.446224165,
             "remaining_time": 33.71716627,
             "test": [
              0.5625771076,
              1.033685918
             ]
            },
            {
             "iteration": 321,
             "learn": [
              0.6044622661,
              0.9694340422
             ],
             "passed_time": 6.489346363,
             "remaining_time": 33.81715279,
             "test": [
              0.562165867,
              1.033551649
             ]
            },
            {
             "iteration": 322,
             "learn": [
              0.6045993557,
              0.969155579
             ],
             "passed_time": 6.527335368,
             "remaining_time": 33.88960189,
             "test": [
              0.562165867,
              1.033522599
             ]
            },
            {
             "iteration": 323,
             "learn": [
              0.6045308109,
              0.9690273922
             ],
             "passed_time": 6.555612527,
             "remaining_time": 33.91113147,
             "test": [
              0.5624400274,
              1.033536187
             ]
            },
            {
             "iteration": 324,
             "learn": [
              0.6047707177,
              0.9688459895
             ],
             "passed_time": 6.583005565,
             "remaining_time": 33.92779791,
             "test": [
              0.5625771076,
              1.033203259
             ]
            },
            {
             "iteration": 325,
             "learn": [
              0.6047364453,
              0.9686422963
             ],
             "passed_time": 6.612178705,
             "remaining_time": 33.95333482,
             "test": [
              0.5620287868,
              1.033099244
             ]
            },
            {
             "iteration": 326,
             "learn": [
              0.604976352,
              0.9683740746
             ],
             "passed_time": 6.652644862,
             "remaining_time": 34.03631454,
             "test": [
              0.562851268,
              1.032979901
             ]
            },
            {
             "iteration": 327,
             "learn": [
              0.6050791692,
              0.9681748663
             ],
             "passed_time": 6.68772245,
             "remaining_time": 34.09107298,
             "test": [
              0.5631254284,
              1.032765981
             ]
            },
            {
             "iteration": 328,
             "learn": [
              0.6052848036,
              0.967889977
             ],
             "passed_time": 6.707899387,
             "remaining_time": 34.06960449,
             "test": [
              0.5629883482,
              1.032792487
             ]
            },
            {
             "iteration": 329,
             "learn": [
              0.605319076,
              0.9677599829
             ],
             "passed_time": 6.756008154,
             "remaining_time": 34.18949581,
             "test": [
              0.562851268,
              1.032794562
             ]
            },
            {
             "iteration": 330,
             "learn": [
              0.6055589828,
              0.967397646
             ],
             "passed_time": 6.833443332,
             "remaining_time": 34.45624448,
             "test": [
              0.562851268,
              1.032657147
             ]
            },
            {
             "iteration": 331,
             "learn": [
              0.6059702516,
              0.9671464936
             ],
             "passed_time": 6.850647302,
             "remaining_time": 34.41831235,
             "test": [
              0.5638108293,
              1.032572074
             ]
            },
            {
             "iteration": 332,
             "learn": [
              0.6062101583,
              0.966955251
             ],
             "passed_time": 6.866742205,
             "remaining_time": 34.37495272,
             "test": [
              0.5639479095,
              1.032529237
             ]
            },
            {
             "iteration": 333,
             "learn": [
              0.6062444307,
              0.9666911795
             ],
             "passed_time": 6.883879139,
             "remaining_time": 34.33695403,
             "test": [
              0.5636737491,
              1.032439077
             ]
            },
            {
             "iteration": 334,
             "learn": [
              0.6062787031,
              0.9666065025
             ],
             "passed_time": 6.899827113,
             "remaining_time": 34.29317058,
             "test": [
              0.5638108293,
              1.032425155
             ]
            },
            {
             "iteration": 335,
             "learn": [
              0.6065186099,
              0.9664696138
             ],
             "passed_time": 6.916504397,
             "remaining_time": 34.25316463,
             "test": [
              0.5639479095,
              1.032460228
             ]
            },
            {
             "iteration": 336,
             "learn": [
              0.6069984235,
              0.9658033102
             ],
             "passed_time": 6.93400635,
             "remaining_time": 34.21736665,
             "test": [
              0.5633995888,
              1.032069268
             ]
            },
            {
             "iteration": 337,
             "learn": [
              0.6068613339,
              0.9656286013
             ],
             "passed_time": 6.949826045,
             "remaining_time": 34.17340499,
             "test": [
              0.563536669,
              1.032030447
             ]
            },
            {
             "iteration": 338,
             "learn": [
              0.6071012407,
              0.9653176061
             ],
             "passed_time": 6.965623069,
             "remaining_time": 34.12949828,
             "test": [
              0.562851268,
              1.03195595
             ]
            },
            {
             "iteration": 339,
             "learn": [
              0.6076838714,
              0.9648096784
             ],
             "passed_time": 6.983885487,
             "remaining_time": 34.09779385,
             "test": [
              0.5632625086,
              1.031735135
             ]
            },
            {
             "iteration": 340,
             "learn": [
              0.6077524162,
              0.9647039829
             ],
             "passed_time": 6.999675152,
             "remaining_time": 34.05413806,
             "test": [
              0.563536669,
              1.031625632
             ]
            },
            {
             "iteration": 341,
             "learn": [
              0.6077524162,
              0.9646079265
             ],
             "passed_time": 7.028847984,
             "remaining_time": 34.07552619,
             "test": [
              0.563536669,
              1.031589287
             ]
            },
            {
             "iteration": 342,
             "learn": [
              0.607649599,
              0.9642261775
             ],
             "passed_time": 7.050311776,
             "remaining_time": 34.05937788,
             "test": [
              0.5639479095,
              1.031483465
             ]
            },
            {
             "iteration": 343,
             "learn": [
              0.6076153266,
              0.9638965734
             ],
             "passed_time": 7.066151377,
             "remaining_time": 34.01612407,
             "test": [
              0.5638108293,
              1.031340896
             ]
            },
            {
             "iteration": 344,
             "learn": [
              0.6079580506,
              0.9635808256
             ],
             "passed_time": 7.082944645,
             "remaining_time": 33.97760402,
             "test": [
              0.5633995888,
              1.031393305
             ]
            },
            {
             "iteration": 345,
             "learn": [
              0.6079237782,
              0.9634362389
             ],
             "passed_time": 7.098845909,
             "remaining_time": 33.93494547,
             "test": [
              0.5633995888,
              1.03135194
             ]
            },
            {
             "iteration": 346,
             "learn": [
              0.6079237782,
              0.9633557791
             ],
             "passed_time": 7.114548293,
             "remaining_time": 33.89149374,
             "test": [
              0.5633995888,
              1.031294444
             ]
            },
            {
             "iteration": 347,
             "learn": [
              0.6080951402,
              0.9632036953
             ],
             "passed_time": 7.13023682,
             "remaining_time": 33.84813571,
             "test": [
              0.5638108293,
              1.031237617
             ]
            },
            {
             "iteration": 348,
             "learn": [
              0.6081294126,
              0.9628586954
             ],
             "passed_time": 7.147409825,
             "remaining_time": 33.8119588,
             "test": [
              0.5638108293,
              1.031290495
             ]
            },
            {
             "iteration": 349,
             "learn": [
              0.6081979574,
              0.9626465011
             ],
             "passed_time": 7.163291797,
             "remaining_time": 33.76980419,
             "test": [
              0.5639479095,
              1.031171085
             ]
            },
            {
             "iteration": 350,
             "learn": [
              0.6083007746,
              0.9620338151
             ],
             "passed_time": 7.180068283,
             "remaining_time": 33.73200171,
             "test": [
              0.5640849897,
              1.030771357
             ]
            },
            {
             "iteration": 351,
             "learn": [
              0.6083007746,
              0.9618750375
             ],
             "passed_time": 7.196311771,
             "remaining_time": 33.69182329,
             "test": [
              0.5642220699,
              1.030734142
             ]
            },
            {
             "iteration": 352,
             "learn": [
              0.6083693194,
              0.9616668594
             ],
             "passed_time": 7.212289428,
             "remaining_time": 33.65054019,
             "test": [
              0.5642220699,
              1.030668614
             ]
            },
            {
             "iteration": 353,
             "learn": [
              0.6085406813,
              0.9614514521
             ],
             "passed_time": 7.228735975,
             "remaining_time": 33.61158027,
             "test": [
              0.5640849897,
              1.030595255
             ]
            },
            {
             "iteration": 354,
             "learn": [
              0.6090547673,
              0.9608657422
             ],
             "passed_time": 7.246007285,
             "remaining_time": 33.57656897,
             "test": [
              0.5646333105,
              1.030337292
             ]
            },
            {
             "iteration": 355,
             "learn": [
              0.6091918569,
              0.9607560973
             ],
             "passed_time": 7.262133685,
             "remaining_time": 33.53637016,
             "test": [
              0.5647703907,
              1.030266811
             ]
            },
            {
             "iteration": 356,
             "learn": [
              0.6090890397,
              0.9606150583
             ],
             "passed_time": 7.277993557,
             "remaining_time": 33.49507959,
             "test": [
              0.5647703907,
              1.030175179
             ]
            },
            {
             "iteration": 357,
             "learn": [
              0.6092946741,
              0.9601344415
             ],
             "passed_time": 7.295981714,
             "remaining_time": 33.46369267,
             "test": [
              0.5649074709,
              1.02993569
             ]
            },
            {
             "iteration": 358,
             "learn": [
              0.6093632189,
              0.9598702361
             ],
             "passed_time": 7.312479366,
             "remaining_time": 33.42556724,
             "test": [
              0.5650445511,
              1.029786227
             ]
            },
            {
             "iteration": 359,
             "learn": [
              0.6095345808,
              0.9596698229
             ],
             "passed_time": 7.329282872,
             "remaining_time": 33.38895531,
             "test": [
              0.5661411926,
              1.029795933
             ]
            },
            {
             "iteration": 360,
             "learn": [
              0.60980876,
              0.9594298492
             ],
             "passed_time": 7.346154931,
             "remaining_time": 33.35276436,
             "test": [
              0.5658670322,
              1.029789641
             ]
            },
            {
             "iteration": 361,
             "learn": [
              0.6098430324,
              0.9593072852
             ],
             "passed_time": 7.362251795,
             "remaining_time": 33.31317249,
             "test": [
              0.5658670322,
              1.029753095
             ]
            },
            {
             "iteration": 362,
             "learn": [
              0.6099115772,
              0.9591192556
             ],
             "passed_time": 7.378633397,
             "remaining_time": 33.27499413,
             "test": [
              0.565729952,
              1.029693792
             ]
            },
            {
             "iteration": 363,
             "learn": [
              0.6100829392,
              0.9589638249
             ],
             "passed_time": 7.394497914,
             "remaining_time": 33.2346115,
             "test": [
              0.5654557916,
              1.029769828
             ]
            },
            {
             "iteration": 364,
             "learn": [
              0.610322846,
              0.9587979519
             ],
             "passed_time": 7.410401377,
             "remaining_time": 33.19453767,
             "test": [
              0.5653187114,
              1.029702493
             ]
            },
            {
             "iteration": 365,
             "learn": [
              0.6108026595,
              0.9585947273
             ],
             "passed_time": 7.426523533,
             "remaining_time": 33.15557228,
             "test": [
              0.5651816313,
              1.029670231
             ]
            },
            {
             "iteration": 366,
             "learn": [
              0.6108712043,
              0.9584785225
             ],
             "passed_time": 7.442588624,
             "remaining_time": 33.11647745,
             "test": [
              0.5653187114,
              1.029672507
             ]
            },
            {
             "iteration": 367,
             "learn": [
              0.6111453835,
              0.9577402602
             ],
             "passed_time": 7.45936857,
             "remaining_time": 33.080678,
             "test": [
              0.5666895134,
              1.029153035
             ]
            },
            {
             "iteration": 368,
             "learn": [
              0.6112824731,
              0.9575484151
             ],
             "passed_time": 7.475467685,
             "remaining_time": 33.04197234,
             "test": [
              0.5669636737,
              1.029113744
             ]
            },
            {
             "iteration": 369,
             "learn": [
              0.6116251971,
              0.9571623151
             ],
             "passed_time": 7.492257693,
             "remaining_time": 33.00643254,
             "test": [
              0.5669636737,
              1.028882288
             ]
            },
            {
             "iteration": 370,
             "learn": [
              0.6116594695,
              0.9570633134
             ],
             "passed_time": 7.50784713,
             "remaining_time": 32.96572231,
             "test": [
              0.5668265936,
              1.028858928
             ]
            },
            {
             "iteration": 371,
             "learn": [
              0.6117280143,
              0.9569372017
             ],
             "passed_time": 7.524295828,
             "remaining_time": 32.92890755,
             "test": [
              0.5668265936,
              1.028861739
             ]
            },
            {
             "iteration": 372,
             "learn": [
              0.6118308314,
              0.9568475044
             ],
             "passed_time": 7.540066299,
             "remaining_time": 32.88924361,
             "test": [
              0.5671007539,
              1.028910467
             ]
            },
            {
             "iteration": 373,
             "learn": [
              0.6120021934,
              0.95667226
             ],
             "passed_time": 7.555674804,
             "remaining_time": 32.84900329,
             "test": [
              0.5671007539,
              1.028754578
             ]
            },
            {
             "iteration": 374,
             "learn": [
              0.612139283,
              0.9565116082
             ],
             "passed_time": 7.571865153,
             "remaining_time": 32.81141566,
             "test": [
              0.5671007539,
              1.028697685
             ]
            },
            {
             "iteration": 375,
             "learn": [
              0.612310645,
              0.9562805372
             ],
             "passed_time": 7.587902916,
             "remaining_time": 32.77328281,
             "test": [
              0.5672378341,
              1.028550564
             ]
            },
            {
             "iteration": 376,
             "learn": [
              0.612824731,
              0.9552022955
             ],
             "passed_time": 7.606484642,
             "remaining_time": 32.74621903,
             "test": [
              0.5668265936,
              1.027957733
             ]
            },
            {
             "iteration": 377,
             "learn": [
              0.6126876414,
              0.9550639341
             ],
             "passed_time": 7.622317978,
             "remaining_time": 32.70740677,
             "test": [
              0.5666895134,
              1.027851911
             ]
            },
            {
             "iteration": 378,
             "learn": [
              0.6127219138,
              0.9547957794
             ],
             "passed_time": 7.638479516,
             "remaining_time": 32.67011951,
             "test": [
              0.5672378341,
              1.02783096
             ]
            },
            {
             "iteration": 379,
             "learn": [
              0.6127219138,
              0.9545561403
             ],
             "passed_time": 7.655805272,
             "remaining_time": 32.63790669,
             "test": [
              0.5672378341,
              1.0277991
             ]
            },
            {
             "iteration": 380,
             "learn": [
              0.6128932758,
              0.9544236695
             ],
             "passed_time": 7.671379805,
             "remaining_time": 32.59833046,
             "test": [
              0.5671007539,
              1.027789328
             ]
            },
            {
             "iteration": 381,
             "learn": [
              0.6129960929,
              0.9540187599
             ],
             "passed_time": 7.688707169,
             "remaining_time": 32.56630419,
             "test": [
              0.5672378341,
              1.027610748
             ]
            },
            {
             "iteration": 382,
             "learn": [
              0.6133730893,
              0.9536133817
             ],
             "passed_time": 7.705446986,
             "remaining_time": 32.53187409,
             "test": [
              0.5672378341,
              1.027521057
             ]
            },
            {
             "iteration": 383,
             "learn": [
              0.6134416341,
              0.953363635
             ],
             "passed_time": 7.721729455,
             "remaining_time": 32.49561146,
             "test": [
              0.5672378341,
              1.027376481
             ]
            },
            {
             "iteration": 384,
             "learn": [
              0.6134759065,
              0.9532229307
             ],
             "passed_time": 7.737406495,
             "remaining_time": 32.45691296,
             "test": [
              0.5672378341,
              1.027336387
             ]
            },
            {
             "iteration": 385,
             "learn": [
              0.6133045445,
              0.9530341648
             ],
             "passed_time": 7.753454661,
             "remaining_time": 32.41988555,
             "test": [
              0.5675119945,
              1.027328221
             ]
            },
            {
             "iteration": 386,
             "learn": [
              0.6134416341,
              0.9528345548
             ],
             "passed_time": 7.769275767,
             "remaining_time": 32.38202019,
             "test": [
              0.5679232351,
              1.02734134
             ]
            },
            {
             "iteration": 387,
             "learn": [
              0.6135444513,
              0.9526934489
             ],
             "passed_time": 7.784922934,
             "remaining_time": 32.3435458,
             "test": [
              0.5677861549,
              1.027378355
             ]
            },
            {
             "iteration": 388,
             "learn": [
              0.6134759065,
              0.9525335334
             ],
             "passed_time": 7.801308035,
             "remaining_time": 32.30824484,
             "test": [
              0.5668265936,
              1.0273813
             ]
            },
            {
             "iteration": 389,
             "learn": [
              0.6137843581,
              0.9522859957
             ],
             "passed_time": 7.817181803,
             "remaining_time": 32.27093001,
             "test": [
              0.5669636737,
              1.027214233
             ]
            },
            {
             "iteration": 390,
             "learn": [
              0.6140585373,
              0.9520932134
             ],
             "passed_time": 7.833286152,
             "remaining_time": 32.2346737,
             "test": [
              0.5672378341,
              1.027240605
             ]
            },
            {
             "iteration": 391,
             "learn": [
              0.6142641716,
              0.9517426577
             ],
             "passed_time": 7.851601663,
             "remaining_time": 32.20759049,
             "test": [
              0.5669636737,
              1.027261221
             ]
            },
            {
             "iteration": 392,
             "learn": [
              0.6144012612,
              0.9515309988
             ],
             "passed_time": 7.867124816,
             "remaining_time": 32.16913379,
             "test": [
              0.5672378341,
              1.027056939
             ]
            },
            {
             "iteration": 393,
             "learn": [
              0.6143327164,
              0.9514011386
             ],
             "passed_time": 7.882678884,
             "remaining_time": 32.13091951,
             "test": [
              0.5669636737,
              1.02695607
             ]
            },
            {
             "iteration": 394,
             "learn": [
              0.614641168,
              0.9510661795
             ],
             "passed_time": 7.89955841,
             "remaining_time": 32.09820569,
             "test": [
              0.5677861549,
              1.026980032
             ]
            },
            {
             "iteration": 395,
             "learn": [
              0.6146068956,
              0.9508853122
             ],
             "passed_time": 7.916167374,
             "remaining_time": 32.06447593,
             "test": [
              0.5673749143,
              1.026988131
             ]
            },
            {
             "iteration": 396,
             "learn": [
              0.6148810748,
              0.9507025708
             ],
             "passed_time": 7.931979866,
             "remaining_time": 32.02761644,
             "test": [
              0.5677861549,
              1.026954531
             ]
            },
            {
             "iteration": 397,
             "learn": [
              0.61481253,
              0.9504936564
             ],
             "passed_time": 7.947893193,
             "remaining_time": 31.99126858,
             "test": [
              0.5673749143,
              1.026827892
             ]
            },
            {
             "iteration": 398,
             "learn": [
              0.6151895264,
              0.9500439651
             ],
             "passed_time": 7.965117157,
             "remaining_time": 31.96028213,
             "test": [
              0.5673749143,
              1.026791547
             ]
            },
            {
             "iteration": 399,
             "learn": [
              0.6152237988,
              0.9497043872
             ],
             "passed_time": 7.981724584,
             "remaining_time": 31.92689834,
             "test": [
              0.5680603153,
              1.026644628
             ]
            },
            {
             "iteration": 400,
             "learn": [
              0.6152580711,
              0.9493960026
             ],
             "passed_time": 7.999027099,
             "remaining_time": 31.8963699,
             "test": [
              0.5679232351,
              1.026402662
             ]
            },
            {
             "iteration": 401,
             "learn": [
              0.6153951607,
              0.9492430486
             ],
             "passed_time": 8.014573477,
             "remaining_time": 31.85892641,
             "test": [
              0.5684715559,
              1.026290147
             ]
            },
            {
             "iteration": 402,
             "learn": [
              0.6156350675,
              0.9489556826
             ],
             "passed_time": 8.032100952,
             "remaining_time": 31.82944223,
             "test": [
              0.5686086361,
              1.026123549
             ]
            },
            {
             "iteration": 403,
             "learn": [
              0.6158064295,
              0.9488376704
             ],
             "passed_time": 8.067897246,
             "remaining_time": 31.87218813,
             "test": [
              0.5686086361,
              1.026107351
             ]
            },
            {
             "iteration": 404,
             "learn": [
              0.6160120639,
              0.9487082787
             ],
             "passed_time": 8.083500288,
             "remaining_time": 31.83501965,
             "test": [
              0.5683344757,
              1.026115918
             ]
            },
            {
             "iteration": 405,
             "learn": [
              0.6160463363,
              0.9485116141
             ],
             "passed_time": 8.100049079,
             "remaining_time": 31.80167052,
             "test": [
              0.5684715559,
              1.026093897
             ]
            },
            {
             "iteration": 406,
             "learn": [
              0.6158407019,
              0.9481455956
             ],
             "passed_time": 8.117417769,
             "remaining_time": 31.77161304,
             "test": [
              0.5687457162,
              1.025748386
             ]
            },
            {
             "iteration": 407,
             "learn": [
              0.6161491535,
              0.9478872138
             ],
             "passed_time": 8.133747231,
             "remaining_time": 31.73756273,
             "test": [
              0.5684715559,
              1.025534733
             ]
            },
            {
             "iteration": 408,
             "learn": [
              0.6162519707,
              0.9476238117
             ],
             "passed_time": 8.150022886,
             "remaining_time": 31.70338976,
             "test": [
              0.5686086361,
              1.025408095
             ]
            },
            {
             "iteration": 409,
             "learn": [
              0.6165261498,
              0.9473038468
             ],
             "passed_time": 8.166416783,
             "remaining_time": 31.66976265,
             "test": [
              0.5683344757,
              1.025403811
             ]
            },
            {
             "iteration": 410,
             "learn": [
              0.6167317842,
              0.947043323
             ],
             "passed_time": 8.18283216,
             "remaining_time": 31.63630244,
             "test": [
              0.5684715559,
              1.025380652
             ]
            },
            {
             "iteration": 411,
             "learn": [
              0.616800329,
              0.9467930408
             ],
             "passed_time": 8.198574536,
             "remaining_time": 31.60033098,
             "test": [
              0.5681973955,
              1.025139289
             ]
            },
            {
             "iteration": 412,
             "learn": [
              0.6169374186,
              0.9466133115
             ],
             "passed_time": 8.217443416,
             "remaining_time": 31.57647143,
             "test": [
              0.5683344757,
              1.025129851
             ]
            },
            {
             "iteration": 413,
             "learn": [
              0.6169374186,
              0.9464846561
             ],
             "passed_time": 8.233125635,
             "remaining_time": 31.54042816,
             "test": [
              0.5681973955,
              1.025083266
             ]
            },
            {
             "iteration": 414,
             "learn": [
              0.6170745082,
              0.9461974909
             ],
             "passed_time": 8.249560885,
             "remaining_time": 31.50735904,
             "test": [
              0.5681973955,
              1.025035609
             ]
            },
            {
             "iteration": 415,
             "learn": [
              0.616971691,
              0.945721359
             ],
             "passed_time": 8.266134727,
             "remaining_time": 31.47489761,
             "test": [
              0.5680603153,
              1.024902812
             ]
            },
            {
             "iteration": 416,
             "learn": [
              0.6174172322,
              0.9451920111
             ],
             "passed_time": 8.283155421,
             "remaining_time": 31.44420871,
             "test": [
              0.5686086361,
              1.02452959
             ]
            },
            {
             "iteration": 417,
             "learn": [
              0.6176914113,
              0.9451098778
             ],
             "passed_time": 8.298667201,
             "remaining_time": 31.40787443,
             "test": [
              0.5687457162,
              1.024495521
             ]
            },
            {
             "iteration": 418,
             "learn": [
              0.6175543217,
              0.9449298139
             ],
             "passed_time": 8.315043365,
             "remaining_time": 31.3749011,
             "test": [
              0.5687457162,
              1.024376914
             ]
            },
            {
             "iteration": 419,
             "learn": [
              0.6179655905,
              0.9445206202
             ],
             "passed_time": 8.332170687,
             "remaining_time": 31.34483259,
             "test": [
              0.5690198766,
              1.024250075
             ]
            },
            {
             "iteration": 420,
             "learn": [
              0.6179998629,
              0.9443586296
             ],
             "passed_time": 8.348015288,
             "remaining_time": 31.31001458,
             "test": [
              0.5688827964,
              1.024040974
             ]
            },
            {
             "iteration": 421,
             "learn": [
              0.6180341353,
              0.9440942903
             ],
             "passed_time": 8.363682716,
             "remaining_time": 31.274624,
             "test": [
              0.5687457162,
              1.023935754
             ]
            },
            {
             "iteration": 422,
             "learn": [
              0.6178970457,
              0.9440254108
             ],
             "passed_time": 8.379489075,
             "remaining_time": 31.23984461,
             "test": [
              0.5686086361,
              1.023895193
             ]
            },
            {
             "iteration": 423,
             "learn": [
              0.6180684077,
              0.9438914004
             ],
             "passed_time": 8.394981335,
             "remaining_time": 31.20398723,
             "test": [
              0.5688827964,
              1.023853894
             ]
            },
            {
             "iteration": 424,
             "learn": [
              0.6185824937,
              0.9435221689
             ],
             "passed_time": 8.412284628,
             "remaining_time": 31.17493715,
             "test": [
              0.5684715559,
              1.023874577
             ]
            },
            {
             "iteration": 425,
             "learn": [
              0.6186167661,
              0.9434425793
             ],
             "passed_time": 8.428027635,
             "remaining_time": 31.14017723,
             "test": [
              0.5688827964,
              1.023818888
             ]
            },
            {
             "iteration": 426,
             "learn": [
              0.6188909452,
              0.9431387464
             ],
             "passed_time": 8.444302213,
             "remaining_time": 31.10746459,
             "test": [
              0.5688827964,
              1.023802222
             ]
            },
            {
             "iteration": 427,
             "learn": [
              0.6189252176,
              0.9430012552
             ],
             "passed_time": 8.460406906,
             "remaining_time": 31.0742048,
             "test": [
              0.5690198766,
              1.023808848
             ]
            },
            {
             "iteration": 428,
             "learn": [
              0.61895949,
              0.9426974893
             ],
             "passed_time": 8.476918271,
             "remaining_time": 31.04251423,
             "test": [
              0.5690198766,
              1.023485157
             ]
            },
            {
             "iteration": 429,
             "learn": [
              0.6191651244,
              0.942586104
             ],
             "passed_time": 8.492877943,
             "remaining_time": 31.00887993,
             "test": [
              0.5690198766,
              1.023472506
             ]
            },
            {
             "iteration": 430,
             "learn": [
              0.6191993968,
              0.9423940581
             ],
             "passed_time": 8.509753879,
             "remaining_time": 30.97866319,
             "test": [
              0.5694311172,
              1.023502693
             ]
            },
            {
             "iteration": 431,
             "learn": [
              0.6195078484,
              0.9420129116
             ],
             "passed_time": 8.526634777,
             "remaining_time": 30.94852623,
             "test": [
              0.5686086361,
              1.023536428
             ]
            },
            {
             "iteration": 432,
             "learn": [
              0.6198848447,
              0.9415623501
             ],
             "passed_time": 8.542807064,
             "remaining_time": 30.91588607,
             "test": [
              0.5687457162,
              1.023176392
             ]
            },
            {
             "iteration": 433,
             "learn": [
              0.6200219343,
              0.9413872395
             ],
             "passed_time": 8.560709413,
             "remaining_time": 30.88956438,
             "test": [
              0.5688827964,
              1.023058455
             ]
            },
            {
             "iteration": 434,
             "learn": [
              0.6199876619,
              0.941119955
             ],
             "passed_time": 8.5775656,
             "remaining_time": 30.85951762,
             "test": [
              0.5690198766,
              1.022898684
             ]
            },
            {
             "iteration": 435,
             "learn": [
              0.6199533895,
              0.9409852752
             ],
             "passed_time": 8.593274642,
             "remaining_time": 30.82541638,
             "test": [
              0.5690198766,
              1.022856382
             ]
            },
            {
             "iteration": 436,
             "learn": [
              0.6201247515,
              0.9408641838
             ],
             "passed_time": 8.608956496,
             "remaining_time": 30.79130207,
             "test": [
              0.5690198766,
              1.022871375
             ]
            },
            {
             "iteration": 437,
             "learn": [
              0.6200904791,
              0.9407433603
             ],
             "passed_time": 8.624769639,
             "remaining_time": 30.75774013,
             "test": [
              0.5691569568,
              1.022850425
             ]
            },
            {
             "iteration": 438,
             "learn": [
              0.6204674755,
              0.9405643004
             ],
             "passed_time": 8.641042239,
             "remaining_time": 30.72589279,
             "test": [
              0.5694311172,
              1.022915016
             ]
            },
            {
             "iteration": 439,
             "learn": [
              0.6206045651,
              0.9404403307
             ],
             "passed_time": 8.656706093,
             "remaining_time": 30.69195796,
             "test": [
              0.5694311172,
              1.022883557
             ]
            },
            {
             "iteration": 440,
             "learn": [
              0.6206045651,
              0.9402516986
             ],
             "passed_time": 8.673449146,
             "remaining_time": 30.66192113,
             "test": [
              0.5690198766,
              1.022851496
             ]
            },
            {
             "iteration": 441,
             "learn": [
              0.6207416547,
              0.9401565793
             ],
             "passed_time": 8.689201002,
             "remaining_time": 30.62845059,
             "test": [
              0.5690198766,
              1.022840318
             ]
            },
            {
             "iteration": 442,
             "learn": [
              0.6207073823,
              0.9398969258
             ],
             "passed_time": 8.705804307,
             "remaining_time": 30.59805261,
             "test": [
              0.5688827964,
              1.022814615
             ]
            },
            {
             "iteration": 443,
             "learn": [
              0.6207416547,
              0.9397937069
             ],
             "passed_time": 8.722282149,
             "remaining_time": 30.56727708,
             "test": [
              0.5691569568,
              1.022800626
             ]
            },
            {
             "iteration": 444,
             "learn": [
              0.6208444719,
              0.9396942367
             ],
             "passed_time": 8.738221365,
             "remaining_time": 30.53468365,
             "test": [
              0.5691569568,
              1.022800024
             ]
            },
            {
             "iteration": 445,
             "learn": [
              0.621461375,
              0.9391830291
             ],
             "passed_time": 8.756765451,
             "remaining_time": 30.51124106,
             "test": [
              0.5701165182,
              1.02282847
             ]
            },
            {
             "iteration": 446,
             "learn": [
              0.6218383714,
              0.938993326
             ],
             "passed_time": 8.773499589,
             "remaining_time": 30.48153213,
             "test": [
              0.5697052776,
              1.022778939
             ]
            },
            {
             "iteration": 447,
             "learn": [
              0.6219411886,
              0.9388257795
             ],
             "passed_time": 8.79020851,
             "remaining_time": 30.45179377,
             "test": [
              0.5697052776,
              1.022701966
             ]
            },
            {
             "iteration": 448,
             "learn": [
              0.6222839125,
              0.9384187278
             ],
             "passed_time": 8.807887244,
             "remaining_time": 30.42546351,
             "test": [
              0.5703906785,
              1.022367096
             ]
            },
            {
             "iteration": 449,
             "learn": [
              0.6222153677,
              0.9382011115
             ],
             "passed_time": 8.824297746,
             "remaining_time": 30.39480335,
             "test": [
              0.5705277587,
              1.022221583
             ]
            },
            {
             "iteration": 450,
             "learn": [
              0.6224210021,
              0.9380275405
             ],
             "passed_time": 8.840025415,
             "remaining_time": 30.36186112,
             "test": [
              0.5710760795,
              1.022112414
             ]
            },
            {
             "iteration": 451,
             "learn": [
              0.6223867297,
              0.9378060418
             ],
             "passed_time": 8.855903954,
             "remaining_time": 30.32951177,
             "test": [
              0.5712131597,
              1.022018506
             ]
            },
            {
             "iteration": 452,
             "learn": [
              0.6227294537,
              0.9375750378
             ],
             "passed_time": 8.871946917,
             "remaining_time": 30.29779665,
             "test": [
              0.5710760795,
              1.021895214
             ]
            },
            {
             "iteration": 453,
             "learn": [
              0.6228665433,
              0.9374214145
             ],
             "passed_time": 8.888186381,
             "remaining_time": 30.2668197,
             "test": [
              0.5706648389,
              1.021936378
             ]
            },
            {
             "iteration": 454,
             "learn": [
              0.6230379053,
              0.937187666
             ],
             "passed_time": 8.905427557,
             "remaining_time": 30.23930896,
             "test": [
              0.5709389993,
              1.021734774
             ]
            },
            {
             "iteration": 455,
             "learn": [
              0.6232435397,
              0.9370387953
             ],
             "passed_time": 8.921052318,
             "remaining_time": 30.20637013,
             "test": [
              0.5708019191,
              1.021654453
             ]
            },
            {
             "iteration": 456,
             "learn": [
              0.6232778121,
              0.9369472237
             ],
             "passed_time": 8.936647517,
             "remaining_time": 30.17340726,
             "test": [
              0.5710760795,
              1.021585713
             ]
            },
            {
             "iteration": 457,
             "learn": [
              0.6238261704,
              0.9366518921
             ],
             "passed_time": 8.953340874,
             "remaining_time": 30.14421753,
             "test": [
              0.5706648389,
              1.021497293
             ]
            },
            {
             "iteration": 458,
             "learn": [
              0.6237576256,
              0.9365504806
             ],
             "passed_time": 8.970154786,
             "remaining_time": 30.11548698,
             "test": [
              0.5705277587,
              1.021497025
             ]
            },
            {
             "iteration": 459,
             "learn": [
              0.6238947152,
              0.9363813275
             ],
             "passed_time": 8.986167154,
             "remaining_time": 30.08412482,
             "test": [
              0.5706648389,
              1.021472795
             ]
            },
            {
             "iteration": 460,
             "learn": [
              0.6242031668,
              0.9361803788
             ],
             "passed_time": 9.001887319,
             "remaining_time": 30.05185376,
             "test": [
              0.5703906785,
              1.021461684
             ]
            },
            {
             "iteration": 461,
             "learn": [
              0.6239289876,
              0.9357051171
             ],
             "passed_time": 9.019400425,
             "remaining_time": 30.02562306,
             "test": [
              0.5720356408,
              1.021182036
             ]
            },
            {
             "iteration": 462,
             "learn": [
              0.6238947152,
              0.9355595933
             ],
             "passed_time": 9.035663565,
             "remaining_time": 29.99528056,
             "test": [
              0.5720356408,
              1.021108609
             ]
            },
            {
             "iteration": 463,
             "learn": [
              0.6241003496,
              0.935420027
             ],
             "passed_time": 9.065177595,
             "remaining_time": 30.00886376,
             "test": [
              0.5717614805,
              1.021003189
             ]
            },
            {
             "iteration": 464,
             "learn": [
              0.624305984,
              0.9349725446
             ],
             "passed_time": 9.088005038,
             "remaining_time": 30.00018868,
             "test": [
              0.5720356408,
              1.020870794
             ]
            },
            {
             "iteration": 465,
             "learn": [
              0.6249571595,
              0.9346782839
             ],
             "passed_time": 9.104922392,
             "remaining_time": 29.97199775,
             "test": [
              0.5717614805,
              1.020792214
             ]
            },
            {
             "iteration": 466,
             "learn": [
              0.6248886147,
              0.9345922683
             ],
             "passed_time": 9.120781335,
             "remaining_time": 29.9403807,
             "test": [
              0.5718985607,
              1.020733714
             ]
            },
            {
             "iteration": 467,
             "learn": [
              0.6250257043,
              0.9343047684
             ],
             "passed_time": 9.138522054,
             "remaining_time": 29.914991,
             "test": [
              0.5718985607,
              1.020668319
             ]
            },
            {
             "iteration": 468,
             "learn": [
              0.6249571595,
              0.9341266456
             ],
             "passed_time": 9.154739066,
             "remaining_time": 29.88465994,
             "test": [
              0.5724468814,
              1.020669323
             ]
            },
            {
             "iteration": 469,
             "learn": [
              0.6249914319,
              0.9338858017
             ],
             "passed_time": 9.171248781,
             "remaining_time": 29.85534178,
             "test": [
              0.5725839616,
              1.020466514
             ]
            },
            {
             "iteration": 470,
             "learn": [
              0.6251285215,
              0.933791084
             ],
             "passed_time": 9.187147732,
             "remaining_time": 29.82409529,
             "test": [
              0.5725839616,
              1.020428028
             ]
            },
            {
             "iteration": 471,
             "learn": [
              0.6256426074,
              0.933483101
             ],
             "passed_time": 9.204497919,
             "remaining_time": 29.79761191,
             "test": [
              0.5716244003,
              1.020491815
             ]
            },
            {
             "iteration": 472,
             "learn": [
              0.6257111522,
              0.9333753304
             ],
             "passed_time": 9.220187005,
             "remaining_time": 29.76580456,
             "test": [
              0.5717614805,
              1.020383717
             ]
            },
            {
             "iteration": 473,
             "learn": [
              0.6260196038,
              0.9331767915
             ],
             "passed_time": 9.236685278,
             "remaining_time": 29.73667032,
             "test": [
              0.5720356408,
              1.020281242
             ]
            },
            {
             "iteration": 474,
             "learn": [
              0.626122421,
              0.9330378276
             ],
             "passed_time": 9.252013253,
             "remaining_time": 29.70383202,
             "test": [
              0.5718985607,
              1.020207883
             ]
            },
            {
             "iteration": 475,
             "learn": [
              0.6262252382,
              0.9329060931
             ],
             "passed_time": 9.267953462,
             "remaining_time": 29.67302747,
             "test": [
              0.5718985607,
              1.020179302
             ]
            },
            {
             "iteration": 476,
             "learn": [
              0.6265336898,
              0.9327414249
             ],
             "passed_time": 9.284594754,
             "remaining_time": 29.64452371,
             "test": [
              0.5720356408,
              1.020107348
             ]
            },
            {
             "iteration": 477,
             "learn": [
              0.6267735965,
              0.9325543325
             ],
             "passed_time": 9.300731538,
             "remaining_time": 29.61446318,
             "test": [
              0.572172721,
              1.020088205
             ]
            },
            {
             "iteration": 478,
             "learn": [
              0.6269792309,
              0.9324658401
             ],
             "passed_time": 9.316527214,
             "remaining_time": 29.58337765,
             "test": [
              0.5720356408,
              1.020078567
             ]
            },
            {
             "iteration": 479,
             "learn": [
              0.6269449585,
              0.9323304239
             ],
             "passed_time": 9.332125774,
             "remaining_time": 29.55173162,
             "test": [
              0.5717614805,
              1.019995234
             ]
            },
            {
             "iteration": 480,
             "learn": [
              0.6268421413,
              0.9321899874
             ],
             "passed_time": 9.347893983,
             "remaining_time": 29.52068807,
             "test": [
              0.5718985607,
              1.019999786
             ]
            },
            {
             "iteration": 481,
             "learn": [
              0.6269106861,
              0.9321239193
             ],
             "passed_time": 9.363374468,
             "remaining_time": 29.48880175,
             "test": [
              0.5720356408,
              1.020035261
             ]
            },
            {
             "iteration": 482,
             "learn": [
              0.6270477757,
              0.9320053047
             ],
             "passed_time": 9.379314525,
             "remaining_time": 29.45842678,
             "test": [
              0.572172721,
              1.019904807
             ]
            },
            {
             "iteration": 483,
             "learn": [
              0.6269792309,
              0.9317738322
             ],
             "passed_time": 9.396005023,
             "remaining_time": 29.43046201,
             "test": [
              0.5718985607,
              1.019815116
             ]
            },
            {
             "iteration": 484,
             "learn": [
              0.6270820481,
              0.9316606395
             ],
             "passed_time": 9.411106439,
             "remaining_time": 29.39757991,
             "test": [
              0.5718985607,
              1.019763644
             ]
            },
            {
             "iteration": 485,
             "learn": [
              0.6270135033,
              0.9314502525
             ],
             "passed_time": 9.427495922,
             "remaining_time": 29.36878359,
             "test": [
              0.5720356408,
              1.019679642
             ]
            },
            {
             "iteration": 486,
             "learn": [
              0.6269792309,
              0.9311388557
             ],
             "passed_time": 9.444500016,
             "remaining_time": 29.34194769,
             "test": [
              0.572172721,
              1.019724755
             ]
            },
            {
             "iteration": 487,
             "learn": [
              0.6274590445,
              0.9308798046
             ],
             "passed_time": 9.46250153,
             "remaining_time": 29.31824245,
             "test": [
              0.5720356408,
              1.0196107
             ]
            },
            {
             "iteration": 488,
             "learn": [
              0.6273904997,
              0.930689499
             ],
             "passed_time": 9.479348694,
             "remaining_time": 29.29099361,
             "test": [
              0.572172721,
              1.019596778
             ]
            },
            {
             "iteration": 489,
             "learn": [
              0.6275275893,
              0.9305641906
             ],
             "passed_time": 9.49523088,
             "remaining_time": 29.26081353,
             "test": [
              0.572172721,
              1.019609429
             ]
            },
            {
             "iteration": 490,
             "learn": [
              0.6276304065,
              0.9304464462
             ],
             "passed_time": 9.511182344,
             "remaining_time": 29.2309046,
             "test": [
              0.5720356408,
              1.019547448
             ]
            },
            {
             "iteration": 491,
             "learn": [
              0.6278017685,
              0.9301576744
             ],
             "passed_time": 9.528507507,
             "remaining_time": 29.20526285,
             "test": [
              0.5717614805,
              1.019515454
             ]
            },
            {
             "iteration": 492,
             "learn": [
              0.6276304065,
              0.929751493
             ],
             "passed_time": 9.546209428,
             "remaining_time": 29.18080651,
             "test": [
              0.572172721,
              1.019448922
             ]
            },
            {
             "iteration": 493,
             "learn": [
              0.6277674961,
              0.9296555035
             ],
             "passed_time": 9.562918933,
             "remaining_time": 29.15335205,
             "test": [
              0.5720356408,
              1.019478439
             ]
            },
            {
             "iteration": 494,
             "learn": [
              0.6275618617,
              0.929428315
             ],
             "passed_time": 9.579162852,
             "remaining_time": 29.12452544,
             "test": [
              0.572172721,
              1.019302069
             ]
            },
            {
             "iteration": 495,
             "learn": [
              0.6275961341,
              0.9293026719
             ],
             "passed_time": 9.59490159,
             "remaining_time": 29.09421772,
             "test": [
              0.5724468814,
              1.019260169
             ]
            },
            {
             "iteration": 496,
             "learn": [
              0.627938858,
              0.9291019909
             ],
             "passed_time": 9.61077127,
             "remaining_time": 29.06436463,
             "test": [
              0.5723098012,
              1.0191595
             ]
            },
            {
             "iteration": 497,
             "learn": [
              0.6279731304,
              0.9289578728
             ],
             "passed_time": 9.626414537,
             "remaining_time": 29.03388481,
             "test": [
              0.5725839616,
              1.019221548
             ]
            },
            {
             "iteration": 498,
             "learn": [
              0.6280074028,
              0.9287290778
             ],
             "passed_time": 9.64272278,
             "remaining_time": 29.00546472,
             "test": [
              0.5727210418,
              1.019037146
             ]
            },
            {
             "iteration": 499,
             "learn": [
              0.628281582,
              0.9284684871
             ],
             "passed_time": 9.659324736,
             "remaining_time": 28.97797421,
             "test": [
              0.5723098012,
              1.019020412
             ]
            },
            {
             "iteration": 500,
             "learn": [
              0.6283501268,
              0.9283738363
             ],
             "passed_time": 9.675074024,
             "remaining_time": 28.94797597,
             "test": [
              0.572172721,
              1.019028109
             ]
            },
            {
             "iteration": 501,
             "learn": [
              0.6284872164,
              0.9282604429
             ],
             "passed_time": 9.691511323,
             "remaining_time": 28.92008757,
             "test": [
              0.5727210418,
              1.018971684
             ]
            },
            {
             "iteration": 502,
             "learn": [
              0.628452944,
              0.9281385483
             ],
             "passed_time": 9.707344324,
             "remaining_time": 28.89044623,
             "test": [
              0.5717614805,
              1.019034736
             ]
            },
            {
             "iteration": 503,
             "learn": [
              0.6285900336,
              0.9280633766
             ],
             "passed_time": 9.723045938,
             "remaining_time": 28.86046969,
             "test": [
              0.5725839616,
              1.01894056
             ]
            },
            {
             "iteration": 504,
             "learn": [
              0.6286928508,
              0.9278109524
             ],
             "passed_time": 9.74000747,
             "remaining_time": 28.83427954,
             "test": [
              0.5725839616,
              1.018849196
             ]
            },
            {
             "iteration": 505,
             "learn": [
              0.6290355747,
              0.9275721166
             ],
             "passed_time": 9.756427931,
             "remaining_time": 28.80652832,
             "test": [
              0.5723098012,
              1.018938218
             ]
            },
            {
             "iteration": 506,
             "learn": [
              0.6292069367,
              0.9274335544
             ],
             "passed_time": 9.773539116,
             "remaining_time": 28.78085582,
             "test": [
              0.5727210418,
              1.018980118
             ]
            },
            {
             "iteration": 507,
             "learn": [
              0.6291726643,
              0.9272397011
             ],
             "passed_time": 9.790469451,
             "remaining_time": 28.75468587,
             "test": [
              0.5727210418,
              1.018968204
             ]
            },
            {
             "iteration": 508,
             "learn": [
              0.6292754815,
              0.9271277803
             ],
             "passed_time": 9.806929223,
             "remaining_time": 28.72717382,
             "test": [
              0.572858122,
              1.019014254
             ]
            },
            {
             "iteration": 509,
             "learn": [
              0.6293440263,
              0.9270353386
             ],
             "passed_time": 9.823529554,
             "remaining_time": 28.70011576,
             "test": [
              0.5729952022,
              1.018975299
             ]
            },
            {
             "iteration": 510,
             "learn": [
              0.6295496607,
              0.9267973061
             ],
             "passed_time": 9.840431047,
             "remaining_time": 28.67397618,
             "test": [
              0.5731322824,
              1.018861378
             ]
            },
            {
             "iteration": 511,
             "learn": [
              0.6297210227,
              0.9266623585
             ],
             "passed_time": 9.856834917,
             "remaining_time": 28.64642648,
             "test": [
              0.5729952022,
              1.018784404
             ]
            },
            {
             "iteration": 512,
             "learn": [
              0.6298581123,
              0.9264148208
             ],
             "passed_time": 9.879028151,
             "remaining_time": 28.63570148,
             "test": [
              0.5732693626,
              1.018708836
             ]
            },
            {
             "iteration": 513,
             "learn": [
              0.6299952019,
              0.9261150042
             ],
             "passed_time": 9.895252143,
             "remaining_time": 28.60767448,
             "test": [
              0.5739547635,
              1.018576374
             ]
            },
            {
             "iteration": 514,
             "learn": [
              0.6298238399,
              0.9259498006
             ],
             "passed_time": 9.911548175,
             "remaining_time": 28.57990105,
             "test": [
              0.5738176833,
              1.018492171
             ]
            },
            {
             "iteration": 515,
             "learn": [
              0.6301322915,
              0.9256466371
             ],
             "passed_time": 9.929895253,
             "remaining_time": 28.55807084,
             "test": [
              0.573543523,
              1.018508302
             ]
            },
            {
             "iteration": 516,
             "learn": [
              0.6304750154,
              0.9253534475
             ],
             "passed_time": 9.947150755,
             "remaining_time": 28.53312296,
             "test": [
              0.573543523,
              1.018374703
             ]
            },
            {
             "iteration": 517,
             "learn": [
              0.6306806498,
              0.9252714481
             ],
             "passed_time": 9.963220735,
             "remaining_time": 28.50481299,
             "test": [
              0.5736806032,
              1.018346925
             ]
            },
            {
             "iteration": 518,
             "learn": [
              0.6307491946,
              0.9251798765
             ],
             "passed_time": 9.979043169,
             "remaining_time": 28.4758438,
             "test": [
              0.5738176833,
              1.018306297
             ]
            },
            {
             "iteration": 519,
             "learn": [
              0.6308862842,
              0.9248814657
             ],
             "passed_time": 9.997497848,
             "remaining_time": 28.45441695,
             "test": [
              0.5732693626,
              1.018453551
             ]
            },
            {
             "iteration": 520,
             "learn": [
              0.6315031873,
              0.9245656509
             ],
             "passed_time": 10.0146677,
             "remaining_time": 28.42935418,
             "test": [
              0.5742289239,
              1.018300741
             ]
            },
            {
             "iteration": 521,
             "learn": [
              0.6315031873,
              0.9244391376
             ],
             "passed_time": 10.0304559,
             "remaining_time": 28.40040963,
             "test": [
              0.5743660041,
              1.018273298
             ]
            },
            {
             "iteration": 522,
             "learn": [
              0.6314689149,
              0.9243410061
             ],
             "passed_time": 10.04619944,
             "remaining_time": 28.37138923,
             "test": [
              0.5743660041,
              1.018171961
             ]
            },
            {
             "iteration": 523,
             "learn": [
              0.6316060045,
              0.9241422663
             ],
             "passed_time": 10.06246645,
             "remaining_time": 28.34389404,
             "test": [
              0.5745030843,
              1.018149538
             ]
            },
            {
             "iteration": 524,
             "learn": [
              0.6317773665,
              0.9239666203
             ],
             "passed_time": 10.10043223,
             "remaining_time": 28.37740484,
             "test": [
              0.5745030843,
              1.018013729
             ]
            },
            {
             "iteration": 525,
             "learn": [
              0.6317430941,
              0.923669816
             ],
             "passed_time": 10.12266597,
             "remaining_time": 28.36655825,
             "test": [
              0.5745030843,
              1.01813682
             ]
            },
            {
             "iteration": 526,
             "learn": [
              0.6318116389,
              0.9236052875
             ],
             "passed_time": 10.13916262,
             "remaining_time": 28.3396329,
             "test": [
              0.5746401645,
              1.018135549
             ]
            },
            {
             "iteration": 527,
             "learn": [
              0.6324628144,
              0.9232383988
             ],
             "passed_time": 10.15754891,
             "remaining_time": 28.31801515,
             "test": [
              0.5742289239,
              1.018082336
             ]
            },
            {
             "iteration": 528,
             "learn": [
              0.6326341764,
              0.9231212568
             ],
             "passed_time": 10.17400855,
             "remaining_time": 28.29105212,
             "test": [
              0.5742289239,
              1.018002351
             ]
            },
            {
             "iteration": 529,
             "learn": [
              0.6325656316,
              0.9230517749
             ],
             "passed_time": 10.19114651,
             "remaining_time": 28.26601014,
             "test": [
              0.5739547635,
              1.017992043
             ]
            },
            {
             "iteration": 530,
             "learn": [
              0.6326341764,
              0.922961676
             ],
             "passed_time": 10.20735679,
             "remaining_time": 28.23843149,
             "test": [
              0.5742289239,
              1.017953958
             ]
            },
            {
             "iteration": 531,
             "learn": [
              0.6326684488,
              0.9228834921
             ],
             "passed_time": 10.22394495,
             "remaining_time": 28.21193832,
             "test": [
              0.5742289239,
              1.017951816
             ]
            },
            {
             "iteration": 532,
             "learn": [
              0.6325656316,
              0.9227751859
             ],
             "passed_time": 10.24005377,
             "remaining_time": 28.18416301,
             "test": [
              0.5743660041,
              1.017927653
             ]
            },
            {
             "iteration": 533,
             "learn": [
              0.6328398108,
              0.9226523542
             ],
             "passed_time": 10.25711727,
             "remaining_time": 28.15905229,
             "test": [
              0.5742289239,
              1.017977318
             ]
            },
            {
             "iteration": 534,
             "learn": [
              0.6327369936,
              0.9224518741
             ],
             "passed_time": 10.27472711,
             "remaining_time": 28.13546769,
             "test": [
              0.5742289239,
              1.017931133
             ]
            },
            {
             "iteration": 535,
             "learn": [
              0.632942628,
              0.9220957624
             ],
             "passed_time": 10.29346471,
             "remaining_time": 28.11498569,
             "test": [
              0.5746401645,
              1.017825713
             ]
            },
            {
             "iteration": 536,
             "learn": [
              0.633285352,
              0.9219369848
             ],
             "passed_time": 10.31069304,
             "remaining_time": 28.09039835,
             "test": [
              0.5746401645,
              1.017761992
             ]
            },
            {
             "iteration": 537,
             "learn": [
              0.6333881692,
              0.9217808848
             ],
             "passed_time": 10.32854182,
             "remaining_time": 28.06752444,
             "test": [
              0.5743660041,
              1.017694857
             ]
            },
            {
             "iteration": 538,
             "learn": [
              0.6334909864,
              0.9216740513
             ],
             "passed_time": 10.34520608,
             "remaining_time": 28.04145841,
             "test": [
              0.5743660041,
              1.017680734
             ]
            },
            {
             "iteration": 539,
             "learn": [
              0.63311399,
              0.9215977417
             ],
             "passed_time": 10.36166557,
             "remaining_time": 28.01487358,
             "test": [
              0.5742289239,
              1.017689369
             ]
            },
            {
             "iteration": 540,
             "learn": [
              0.6332168072,
              0.9215291299
             ],
             "passed_time": 10.37813875,
             "remaining_time": 27.98836309,
             "test": [
              0.5745030843,
              1.017705366
             ]
            },
            {
             "iteration": 541,
             "learn": [
              0.6337308931,
              0.9212602389
             ],
             "passed_time": 10.39535748,
             "remaining_time": 27.96389521,
             "test": [
              0.5746401645,
              1.017618218
             ]
            },
            {
             "iteration": 542,
             "learn": [
              0.6334224416,
              0.9211584258
             ],
             "passed_time": 10.41152396,
             "remaining_time": 27.93663059,
             "test": [
              0.5747772447,
              1.017576786
             ]
            },
            {
             "iteration": 543,
             "learn": [
              0.6337994379,
              0.9210090865
             ],
             "passed_time": 10.42838035,
             "remaining_time": 27.9112533,
             "test": [
              0.5753255655,
              1.017615072
             ]
            },
            {
             "iteration": 544,
             "learn": [
              0.6346562479,
              0.9206899917
             ],
             "passed_time": 10.44564551,
             "remaining_time": 27.88699855,
             "test": [
              0.5749143249,
              1.017621498
             ]
            },
            {
             "iteration": 545,
             "learn": [
              0.634930427,
              0.9204726431
             ],
             "passed_time": 10.46209329,
             "remaining_time": 27.86059274,
             "test": [
              0.5743660041,
              1.017658847
             ]
            },
            {
             "iteration": 546,
             "learn": [
              0.6349989718,
              0.9202334727
             ],
             "passed_time": 10.48015491,
             "remaining_time": 27.83851021,
             "test": [
              0.5742289239,
              1.017639637
             ]
            },
            {
             "iteration": 547,
             "learn": [
              0.6349646994,
              0.9201575647
             ],
             "passed_time": 10.49594405,
             "remaining_time": 27.81042109,
             "test": [
              0.5742289239,
              1.017637897
             ]
            },
            {
             "iteration": 548,
             "learn": [
              0.6349646994,
              0.920001063
             ],
             "passed_time": 10.51231564,
             "remaining_time": 27.7839162,
             "test": [
              0.5739547635,
              1.017617616
             ]
            },
            {
             "iteration": 549,
             "learn": [
              0.6352046062,
              0.9198330479
             ],
             "passed_time": 10.52849112,
             "remaining_time": 27.75693113,
             "test": [
              0.5740918437,
              1.017551285
             ]
            },
            {
             "iteration": 550,
             "learn": [
              0.6352046062,
              0.9197430159
             ],
             "passed_time": 10.54530824,
             "remaining_time": 27.73167267,
             "test": [
              0.5738176833,
              1.017512932
             ]
            },
            {
             "iteration": 551,
             "learn": [
              0.6354787854,
              0.919621456
             ],
             "passed_time": 10.56217546,
             "remaining_time": 27.7065762,
             "test": [
              0.5738176833,
              1.017539303
             ]
            },
            {
             "iteration": 552,
             "learn": [
              0.6354787854,
              0.9195259351
             ],
             "passed_time": 10.57855095,
             "remaining_time": 27.68022283,
             "test": [
              0.5736806032,
              1.01742719
             ]
            },
            {
             "iteration": 553,
             "learn": [
              0.6353416958,
              0.9189641222
             ],
             "passed_time": 10.59676265,
             "remaining_time": 27.65869817,
             "test": [
              0.5739547635,
              1.017172038
             ]
            },
            {
             "iteration": 554,
             "learn": [
              0.634930427,
              0.9187726117
             ],
             "passed_time": 10.61393567,
             "remaining_time": 27.63448117,
             "test": [
              0.5739547635,
              1.017139977
             ]
            },
            {
             "iteration": 555,
             "learn": [
              0.6348618822,
              0.9185421433
             ],
             "passed_time": 10.63052846,
             "remaining_time": 27.60878255,
             "test": [
              0.573543523,
              1.017007448
             ]
            },
            {
             "iteration": 556,
             "learn": [
              0.6353074234,
              0.9182881795
             ],
             "passed_time": 10.64685387,
             "remaining_time": 27.58242394,
             "test": [
              0.5734064428,
              1.016903032
             ]
            },
            {
             "iteration": 557,
             "learn": [
              0.6356844198,
              0.9180611248
             ],
             "passed_time": 10.66381562,
             "remaining_time": 27.55774575,
             "test": [
              0.5738176833,
              1.016795469
             ]
            },
            {
             "iteration": 558,
             "learn": [
              0.6359585989,
              0.9178168001
             ],
             "passed_time": 10.68131013,
             "remaining_time": 27.5344685,
             "test": [
              0.5736806032,
              1.016832082
             ]
            },
            {
             "iteration": 559,
             "learn": [
              0.6361642333,
              0.9174987094
             ],
             "passed_time": 10.69847176,
             "remaining_time": 27.51035597,
             "test": [
              0.5743660041,
              1.016631214
             ]
            },
            {
             "iteration": 560,
             "learn": [
              0.6361985057,
              0.9173954237
             ],
             "passed_time": 10.71439505,
             "remaining_time": 27.48309175,
             "test": [
              0.5740918437,
              1.016632017
             ]
            },
            {
             "iteration": 561,
             "learn": [
              0.6365755021,
              0.9171452084
             ],
             "passed_time": 10.73200197,
             "remaining_time": 27.46017586,
             "test": [
              0.5738176833,
              1.016694801
             ]
            },
            {
             "iteration": 562,
             "learn": [
              0.6369524985,
              0.9170397137
             ],
             "passed_time": 10.74914464,
             "remaining_time": 27.43609388,
             "test": [
              0.5739547635,
              1.016685899
             ]
            },
            {
             "iteration": 563,
             "learn": [
              0.6368154089,
              0.9169034943
             ],
             "passed_time": 10.76526382,
             "remaining_time": 27.40943057,
             "test": [
              0.5739547635,
              1.016663342
             ]
            },
            {
             "iteration": 564,
             "learn": [
              0.6369524985,
              0.9166336661
             ],
             "passed_time": 10.78237261,
             "remaining_time": 27.38531804,
             "test": [
              0.5742289239,
              1.016420574
             ]
            },
            {
             "iteration": 565,
             "learn": [
              0.6373294948,
              0.9160743968
             ],
             "passed_time": 10.80097304,
             "remaining_time": 27.36500944,
             "test": [
              0.5740918437,
              1.016492862
             ]
            },
            {
             "iteration": 566,
             "learn": [
              0.6377407636,
              0.9158032968
             ],
             "passed_time": 10.81973559,
             "remaining_time": 27.34511659,
             "test": [
              0.5742289239,
              1.016566222
             ]
            },
            {
             "iteration": 567,
             "learn": [
              0.637603674,
              0.9157081106
             ],
             "passed_time": 10.83650671,
             "remaining_time": 27.32020707,
             "test": [
              0.5738176833,
              1.016514147
             ]
            },
            {
             "iteration": 568,
             "learn": [
              0.6379121256,
              0.9154852061
             ],
             "passed_time": 10.85438213,
             "remaining_time": 27.2981034,
             "test": [
              0.5738176833,
              1.016309999
             ]
            },
            {
             "iteration": 569,
             "learn": [
              0.637946398,
              0.915337808
             ],
             "passed_time": 10.87119277,
             "remaining_time": 27.27334327,
             "test": [
              0.5738176833,
              1.016215221
             ]
            },
            {
             "iteration": 570,
             "learn": [
              0.6378778532,
              0.9150679129
             ],
             "passed_time": 10.88927689,
             "remaining_time": 27.25179804,
             "test": [
              0.5740918437,
              1.016223588
             ]
            },
            {
             "iteration": 571,
             "learn": [
              0.6383576667,
              0.914845477
             ],
             "passed_time": 10.90712034,
             "remaining_time": 27.22966405,
             "test": [
              0.5736806032,
              1.016213883
             ]
            },
            {
             "iteration": 572,
             "learn": [
              0.6382548495,
              0.9145207594
             ],
             "passed_time": 10.92668627,
             "remaining_time": 27.21183475,
             "test": [
              0.573543523,
              1.015969642
             ]
            },
            {
             "iteration": 573,
             "learn": [
              0.6385290287,
              0.9138831724
             ],
             "passed_time": 10.94677148,
             "remaining_time": 27.19528944,
             "test": [
              0.5745030843,
              1.015823191
             ]
            },
            {
             "iteration": 574,
             "learn": [
              0.6385975735,
              0.9137652941
             ],
             "passed_time": 10.96487049,
             "remaining_time": 27.17380948,
             "test": [
              0.5746401645,
              1.015776337
             ]
            },
            {
             "iteration": 575,
             "learn": [
              0.6385633011,
              0.9136705095
             ],
             "passed_time": 10.98243749,
             "remaining_time": 27.15102602,
             "test": [
              0.5746401645,
              1.015744544
             ]
            },
            {
             "iteration": 576,
             "learn": [
              0.6386661183,
              0.9135601952
             ],
             "passed_time": 10.99979907,
             "remaining_time": 27.12775403,
             "test": [
              0.5746401645,
              1.01571429
             ]
            },
            {
             "iteration": 577,
             "learn": [
              0.6388374803,
              0.9132613158
             ],
             "passed_time": 11.01991881,
             "remaining_time": 27.11128815,
             "test": [
              0.573543523,
              1.015899495
             ]
            },
            {
             "iteration": 578,
             "learn": [
              0.6388717527,
              0.9131659957
             ],
             "passed_time": 11.03704245,
             "remaining_time": 27.08745651,
             "test": [
              0.5732693626,
              1.015848425
             ]
            },
            {
             "iteration": 579,
             "learn": [
              0.6388374803,
              0.9130204049
             ],
             "passed_time": 11.05468854,
             "remaining_time": 27.06492711,
             "test": [
              0.573543523,
              1.015851102
             ]
            },
            {
             "iteration": 580,
             "learn": [
              0.6388717527,
              0.9129105592
             ],
             "passed_time": 11.07170794,
             "remaining_time": 27.04088394,
             "test": [
              0.573543523,
              1.015740862
             ]
            },
            {
             "iteration": 581,
             "learn": [
              0.6392144767,
              0.9125609406
             ],
             "passed_time": 11.08872608,
             "remaining_time": 27.01686182,
             "test": [
              0.5750514051,
              1.01574026
             ]
            },
            {
             "iteration": 582,
             "learn": [
              0.6395572006,
              0.9123183563
             ],
             "passed_time": 11.15713317,
             "remaining_time": 27.11776621,
             "test": [
              0.5749143249,
              1.015767368
             ]
            },
            {
             "iteration": 583,
             "learn": [
              0.6396942902,
              0.9121762463
             ],
             "passed_time": 11.20821876,
             "remaining_time": 27.17609207,
             "test": [
              0.5749143249,
              1.015760139
             ]
            },
            {
             "iteration": 584,
             "learn": [
              0.6396257454,
              0.9120669361
             ],
             "passed_time": 11.2460009,
             "remaining_time": 27.20186543,
             "test": [
              0.5747772447,
              1.015781022
             ]
            },
            {
             "iteration": 585,
             "learn": [
              0.6396600178,
              0.9119787115
             ],
             "passed_time": 11.28219571,
             "remaining_time": 27.22359169,
             "test": [
              0.5747772447,
              1.015664156
             ]
            },
            {
             "iteration": 586,
             "learn": [
              0.6396257454,
              0.9118594944
             ],
             "passed_time": 11.30314725,
             "remaining_time": 27.20842771,
             "test": [
              0.5749143249,
              1.015572792
             ]
            },
            {
             "iteration": 587,
             "learn": [
              0.6396942902,
              0.9117701318
             ],
             "passed_time": 11.38128969,
             "remaining_time": 27.33058,
             "test": [
              0.5746401645,
              1.015581025
             ]
            },
            {
             "iteration": 588,
             "learn": [
              0.6403454658,
              0.9111796693
             ],
             "passed_time": 11.46838038,
             "remaining_time": 27.47348849,
             "test": [
              0.5747772447,
              1.015029156
             ]
            },
            {
             "iteration": 589,
             "learn": [
              0.640448283,
              0.9109880919
             ],
             "passed_time": 11.55351251,
             "remaining_time": 27.61093667,
             "test": [
              0.5746401645,
              1.01500178
             ]
            },
            {
             "iteration": 590,
             "learn": [
              0.6405168277,
              0.9107331241
             ],
             "passed_time": 11.6411732,
             "remaining_time": 27.75365996,
             "test": [
              0.5753255655,
              1.014901514
             ]
            },
            {
             "iteration": 591,
             "learn": [
              0.6406196449,
              0.9105576788
             ],
             "passed_time": 11.67331471,
             "remaining_time": 27.76355932,
             "test": [
              0.5750514051,
              1.014827084
             ]
            },
            {
             "iteration": 592,
             "learn": [
              0.6405511001,
              0.9105155077
             ],
             "passed_time": 11.69766129,
             "remaining_time": 27.75482198,
             "test": [
              0.5749143249,
              1.014727218
             ]
            },
            {
             "iteration": 593,
             "learn": [
              0.6406539173,
              0.9103340381
             ],
             "passed_time": 11.72902862,
             "remaining_time": 27.76265023,
             "test": [
              0.5750514051,
              1.014660419
             ]
            },
            {
             "iteration": 594,
             "learn": [
              0.6407567345,
              0.9101290731
             ],
             "passed_time": 11.75943313,
             "remaining_time": 27.7680732,
             "test": [
              0.5751884853,
              1.014611289
             ]
            },
            {
             "iteration": 595,
             "learn": [
              0.6406881897,
              0.9100032291
             ],
             "passed_time": 11.78845533,
             "remaining_time": 27.7701196,
             "test": [
              0.5750514051,
              1.014597702
             ]
            },
            {
             "iteration": 596,
             "learn": [
              0.6408252793,
              0.9098868234
             ],
             "passed_time": 11.82793409,
             "remaining_time": 27.79663572,
             "test": [
              0.5749143249,
              1.0145722
             ]
            },
            {
             "iteration": 597,
             "learn": [
              0.6410994585,
              0.9097053538
             ],
             "passed_time": 11.84496308,
             "remaining_time": 27.77029806,
             "test": [
              0.5753255655,
              1.014521063
             ]
            },
            {
             "iteration": 598,
             "learn": [
              0.6410994585,
              0.9095310465
             ],
             "passed_time": 11.8608597,
             "remaining_time": 27.74134297,
             "test": [
              0.5746401645,
              1.014491009
             ]
            },
            {
             "iteration": 599,
             "learn": [
              0.6413736377,
              0.9093083429
             ],
             "passed_time": 11.87753054,
             "remaining_time": 27.71423792,
             "test": [
              0.5750514051,
              1.014456405
             ]
            },
            {
             "iteration": 600,
             "learn": [
              0.6415792721,
              0.9092211892
             ],
             "passed_time": 11.8933943,
             "remaining_time": 27.68528889,
             "test": [
              0.5751884853,
              1.014476753
             ]
            },
            {
             "iteration": 601,
             "learn": [
              0.6416135445,
              0.9091115443
             ],
             "passed_time": 11.90921395,
             "remaining_time": 27.65628091,
             "test": [
              0.5753255655,
              1.014484249
             ]
            },
            {
             "iteration": 602,
             "learn": [
              0.6417849064,
              0.9086145276
             ],
             "passed_time": 11.92621585,
             "remaining_time": 27.63005562,
             "test": [
              0.575736806,
              1.014133717
             ]
            },
            {
             "iteration": 603,
             "learn": [
              0.6418191788,
              0.9084702087
             ],
             "passed_time": 11.94198175,
             "remaining_time": 27.60100417,
             "test": [
              0.575736806,
              1.01403064
             ]
            },
            {
             "iteration": 604,
             "learn": [
              0.6419562684,
              0.9083092891
             ],
             "passed_time": 11.9585992,
             "remaining_time": 27.57396013,
             "test": [
              0.5754626456,
              1.013978833
             ]
            },
            {
             "iteration": 605,
             "learn": [
              0.6418877236,
              0.9081924149
             ],
             "passed_time": 11.9742608,
             "remaining_time": 27.54475175,
             "test": [
              0.575736806,
              1.013945232
             ]
            },
            {
             "iteration": 606,
             "learn": [
              0.6419905408,
              0.908057802
             ],
             "passed_time": 11.9905091,
             "remaining_time": 27.51693439,
             "test": [
              0.5755997258,
              1.013946504
             ]
            },
            {
             "iteration": 607,
             "learn": [
              0.6420248132,
              0.9078559162
             ],
             "passed_time": 12.00780356,
             "remaining_time": 27.49155025,
             "test": [
              0.5761480466,
              1.013982046
             ]
            },
            {
             "iteration": 608,
             "learn": [
              0.6421961752,
              0.9076355554
             ],
             "passed_time": 12.02443215,
             "remaining_time": 27.46467179,
             "test": [
              0.5760109664,
              1.013714445
             ]
            },
            {
             "iteration": 609,
             "learn": [
              0.6419905408,
              0.9074629885
             ],
             "passed_time": 12.04069476,
             "remaining_time": 27.43699298,
             "test": [
              0.575736806,
              1.013666052
             ]
            },
            {
             "iteration": 610,
             "learn": [
              0.6421619028,
              0.907363719
             ],
             "passed_time": 12.05703153,
             "remaining_time": 27.40952011,
             "test": [
              0.5751884853,
              1.013709023
             ]
            },
            {
             "iteration": 611,
             "learn": [
              0.6422304476,
              0.9072894845
             ],
             "passed_time": 12.07289603,
             "remaining_time": 27.38101257,
             "test": [
              0.5753255655,
              1.01372241
             ]
            },
            {
             "iteration": 612,
             "learn": [
              0.6423332648,
              0.9071400782
             ],
             "passed_time": 12.10237749,
             "remaining_time": 27.38335658,
             "test": [
              0.5753255655,
              1.013700924
             ]
            },
            {
             "iteration": 613,
             "learn": [
              0.6423675372,
              0.9070230032
             ],
             "passed_time": 12.12257096,
             "remaining_time": 27.36463087,
             "test": [
              0.5753255655,
              1.01364711
             ]
            },
            {
             "iteration": 614,
             "learn": [
              0.6425046268,
              0.9068859806
             ],
             "passed_time": 12.13909115,
             "remaining_time": 27.33762803,
             "test": [
              0.5754626456,
              1.013672277
             ]
            },
            {
             "iteration": 615,
             "learn": [
              0.6425731716,
              0.9068129509
             ],
             "passed_time": 12.15493929,
             "remaining_time": 27.30914931,
             "test": [
              0.5755997258,
              1.013546642
             ]
            },
            {
             "iteration": 616,
             "learn": [
              0.6429158955,
              0.9066747234
             ],
             "passed_time": 12.18095053,
             "remaining_time": 27.30349203,
             "test": [
              0.575736806,
              1.013573884
             ]
            },
            {
             "iteration": 617,
             "learn": [
              0.6428473507,
              0.906603501
             ],
             "passed_time": 12.20178138,
             "remaining_time": 27.28618425,
             "test": [
              0.575736806,
              1.01356873
             ]
            },
            {
             "iteration": 618,
             "learn": [
              0.6428816231,
              0.906471231
             ],
             "passed_time": 12.21846527,
             "remaining_time": 27.25961314,
             "test": [
              0.5760109664,
              1.013500926
             ]
            },
            {
             "iteration": 619,
             "learn": [
              0.6433614367,
              0.9062191415
             ],
             "passed_time": 12.23570845,
             "remaining_time": 27.23431881,
             "test": [
              0.575736806,
              1.01344671
             ]
            },
            {
             "iteration": 620,
             "learn": [
              0.6433271643,
              0.9060228784
             ],
             "passed_time": 12.25229065,
             "remaining_time": 27.20758261,
             "test": [
              0.575736806,
              1.013312776
             ]
            },
            {
             "iteration": 621,
             "learn": [
              0.6432586195,
              0.9058853203
             ],
             "passed_time": 12.26795414,
             "remaining_time": 27.17884373,
             "test": [
              0.5754626456,
              1.013331316
             ]
            },
            {
             "iteration": 622,
             "learn": [
              0.6434642539,
              0.9057302243
             ],
             "passed_time": 12.28398272,
             "remaining_time": 27.15095379,
             "test": [
              0.5755997258,
              1.013250059
             ]
            },
            {
             "iteration": 623,
             "learn": [
              0.6432586195,
              0.9055674304
             ],
             "passed_time": 12.30072341,
             "remaining_time": 27.12467213,
             "test": [
              0.575736806,
              1.013089686
             ]
            },
            {
             "iteration": 624,
             "learn": [
              0.6441497018,
              0.9051645959
             ],
             "passed_time": 12.31874196,
             "remaining_time": 27.1012323,
             "test": [
              0.5758738862,
              1.012950531
             ]
            },
            {
             "iteration": 625,
             "learn": [
              0.644423881,
              0.9050649917
             ],
             "passed_time": 12.33567787,
             "remaining_time": 27.07543353,
             "test": [
              0.575736806,
              1.012897118
             ]
            },
            {
             "iteration": 626,
             "learn": [
              0.6445266982,
              0.9049007921
             ],
             "passed_time": 12.35213813,
             "remaining_time": 27.04862145,
             "test": [
              0.5761480466,
              1.012781456
             ]
            },
            {
             "iteration": 627,
             "learn": [
              0.6445266982,
              0.9048221396
             ],
             "passed_time": 12.36800839,
             "remaining_time": 27.02055337,
             "test": [
              0.5755997258,
              1.012746316
             ]
            },
            {
             "iteration": 628,
             "learn": [
              0.6445266982,
              0.9044417294
             ],
             "passed_time": 12.38509129,
             "remaining_time": 26.99516719,
             "test": [
              0.575736806,
              1.012393776
             ]
            },
            {
             "iteration": 629,
             "learn": [
              0.6445609706,
              0.9043270642
             ],
             "passed_time": 12.40083208,
             "remaining_time": 26.9668888,
             "test": [
              0.5758738862,
              1.012449264
             ]
            },
            {
             "iteration": 630,
             "learn": [
              0.6446295154,
              0.9040997418
             ],
             "passed_time": 12.41725207,
             "remaining_time": 26.94012375,
             "test": [
              0.5754626456,
              1.012343107
             ]
            },
            {
             "iteration": 631,
             "learn": [
              0.6442182466,
              0.9039797884
             ],
             "passed_time": 12.43293248,
             "remaining_time": 26.91179055,
             "test": [
              0.5753255655,
              1.012389961
             ]
            },
            {
             "iteration": 632,
             "learn": [
              0.6442182466,
              0.9038020673
             ],
             "passed_time": 12.44957013,
             "remaining_time": 26.88556456,
             "test": [
              0.5750514051,
              1.012263925
             ]
            },
            {
             "iteration": 633,
             "learn": [
              0.644423881,
              0.9036465027
             ],
             "passed_time": 12.46531727,
             "remaining_time": 26.85745014,
             "test": [
              0.5755997258,
              1.012266201
             ]
            },
            {
             "iteration": 634,
             "learn": [
              0.644423881,
              0.903478153
             ],
             "passed_time": 12.48188935,
             "remaining_time": 26.83114798,
             "test": [
              0.575736806,
              1.012214394
             ]
            },
            {
             "iteration": 635,
             "learn": [
              0.6444581534,
              0.9032098643
             ],
             "passed_time": 12.49985876,
             "remaining_time": 26.8078732,
             "test": [
              0.5758738862,
              1.012150539
             ]
            },
            {
             "iteration": 636,
             "learn": [
              0.6446295154,
              0.9031096577
             ],
             "passed_time": 12.51584486,
             "remaining_time": 26.78037133,
             "test": [
              0.575736806,
              1.012058104
             ]
            },
            {
             "iteration": 637,
             "learn": [
              0.6444581534,
              0.902994457
             ],
             "passed_time": 12.53241953,
             "remaining_time": 26.75416207,
             "test": [
              0.5758738862,
              1.012020621
             ]
            },
            {
             "iteration": 638,
             "learn": [
              0.6446637878,
              0.9029207579
             ],
             "passed_time": 12.54805329,
             "remaining_time": 26.72597893,
             "test": [
              0.5760109664,
              1.011976512
             ]
            },
            {
             "iteration": 639,
             "learn": [
              0.6445266982,
              0.9027364099
             ],
             "passed_time": 12.56518109,
             "remaining_time": 26.70100982,
             "test": [
              0.5755997258,
              1.011982067
             ]
            },
            {
             "iteration": 640,
             "learn": [
              0.6446295154,
              0.9026736218
             ],
             "passed_time": 12.5807695,
             "remaining_time": 26.67280149,
             "test": [
              0.575736806,
              1.011923567
             ]
            },
            {
             "iteration": 641,
             "learn": [
              0.6446295154,
              0.9025768291
             ],
             "passed_time": 12.5967417,
             "remaining_time": 26.64544427,
             "test": [
              0.5760109664,
              1.011880596
             ]
            },
            {
             "iteration": 642,
             "learn": [
              0.6446637878,
              0.9024824461
             ],
             "passed_time": 12.61243155,
             "remaining_time": 26.61752662,
             "test": [
              0.5758738862,
              1.011850542
             ]
            },
            {
             "iteration": 643,
             "learn": [
              0.6448008774,
              0.902362158
             ],
             "passed_time": 12.62825613,
             "remaining_time": 26.58993061,
             "test": [
              0.5761480466,
              1.011798535
             ]
            },
            {
             "iteration": 644,
             "learn": [
              0.6450750565,
              0.9022015062
             ],
             "passed_time": 12.64447215,
             "remaining_time": 26.56319343,
             "test": [
              0.5761480466,
              1.011860516
             ]
            },
            {
             "iteration": 645,
             "learn": [
              0.6450065118,
              0.9020759969
             ],
             "passed_time": 12.66161809,
             "remaining_time": 26.53843792,
             "test": [
              0.5758738862,
              1.011862724
             ]
            },
            {
             "iteration": 646,
             "learn": [
              0.6448008774,
              0.9020013607
             ],
             "passed_time": 12.67755559,
             "remaining_time": 26.51117886,
             "test": [
              0.5755997258,
              1.011868815
             ]
            },
            {
             "iteration": 647,
             "learn": [
              0.6452464185,
              0.9017775861
             ],
             "passed_time": 12.6945038,
             "remaining_time": 26.48606349,
             "test": [
              0.5758738862,
              1.011732271
             ]
            },
            {
             "iteration": 648,
             "learn": [
              0.6452121461,
              0.9016374173
             ],
             "passed_time": 12.71026935,
             "remaining_time": 26.45851139,
             "test": [
              0.5760109664,
              1.011759111
             ]
            },
            {
             "iteration": 649,
             "learn": [
              0.6451778737,
              0.9015613085
             ],
             "passed_time": 12.72722024,
             "remaining_time": 26.43345743,
             "test": [
              0.5761480466,
              1.011773033
             ]
            },
            {
             "iteration": 650,
             "learn": [
              0.6452121461,
              0.901466457
             ],
             "passed_time": 12.74327715,
             "remaining_time": 26.40657584,
             "test": [
              0.5761480466,
              1.011803622
             ]
            },
            {
             "iteration": 651,
             "learn": [
              0.6451778737,
              0.9012569402
             ],
             "passed_time": 12.76011494,
             "remaining_time": 26.38134192,
             "test": [
              0.5758738862,
              1.011846526
             ]
            },
            {
             "iteration": 652,
             "learn": [
              0.6451093289,
              0.9011836427
             ],
             "passed_time": 12.77592013,
             "remaining_time": 26.3540037,
             "test": [
              0.575736806,
              1.011866138
             ]
            },
            {
             "iteration": 653,
             "learn": [
              0.6453835081,
              0.9010235264
             ],
             "passed_time": 12.79163901,
             "remaining_time": 26.32652311,
             "test": [
              0.5760109664,
              1.011857637
             ]
            },
            {
             "iteration": 654,
             "learn": [
              0.6457605045,
              0.9009070538
             ],
             "passed_time": 12.80824308,
             "remaining_time": 26.3008961,
             "test": [
              0.5758738862,
              1.0118316
             ]
            },
            {
             "iteration": 655,
             "learn": [
              0.6455548701,
              0.9006947925
             ],
             "passed_time": 12.82504233,
             "remaining_time": 26.27569648,
             "test": [
              0.5758738862,
              1.011677452
             ]
            },
            {
             "iteration": 656,
             "learn": [
              0.6460346837,
              0.9004631192
             ],
             "passed_time": 12.84293658,
             "remaining_time": 26.25276077,
             "test": [
              0.5762851268,
              1.01152317
             ]
            },
            {
             "iteration": 657,
             "learn": [
              0.6461375009,
              0.9003976535
             ],
             "passed_time": 12.85870855,
             "remaining_time": 26.22551197,
             "test": [
              0.5762851268,
              1.011529796
             ]
            },
            {
             "iteration": 658,
             "learn": [
              0.6462060457,
              0.9001946297
             ],
             "passed_time": 12.8756959,
             "remaining_time": 26.20077118,
             "test": [
              0.5761480466,
              1.011367549
             ]
            },
            {
             "iteration": 659,
             "learn": [
              0.6463088628,
              0.899977482
             ],
             "passed_time": 12.89335242,
             "remaining_time": 26.17741249,
             "test": [
              0.5762851268,
              1.011332141
             ]
            },
            {
             "iteration": 660,
             "learn": [
              0.64641168,
              0.8998480233
             ],
             "passed_time": 12.90878946,
             "remaining_time": 26.14957501,
             "test": [
              0.576422207,
              1.011305635
             ]
            },
            {
             "iteration": 661,
             "learn": [
              0.6465144972,
              0.8996740508
             ],
             "passed_time": 12.92557427,
             "remaining_time": 26.12449905,
             "test": [
              0.576422207,
              1.011227591
             ]
            },
            {
             "iteration": 662,
             "learn": [
              0.646754404,
              0.8994971329
             ],
             "passed_time": 12.94269719,
             "remaining_time": 26.10012992,
             "test": [
              0.5765592872,
              1.011179398
             ]
            },
            {
             "iteration": 663,
             "learn": [
              0.6467886764,
              0.8994261114
             ],
             "passed_time": 12.95900564,
             "remaining_time": 26.07414387,
             "test": [
              0.5765592872,
              1.011131407
             ]
            },
            {
             "iteration": 664,
             "learn": [
              0.6468914936,
              0.8993031458
             ],
             "passed_time": 12.97592883,
             "remaining_time": 26.04942103,
             "test": [
              0.577107608,
              1.011068757
             ]
            },
            {
             "iteration": 665,
             "learn": [
              0.6468914936,
              0.8991965131
             ],
             "passed_time": 12.99228138,
             "remaining_time": 26.02357861,
             "test": [
              0.5769705278,
              1.010989708
             ]
            },
            {
             "iteration": 666,
             "learn": [
              0.6470285832,
              0.8990016558
             ],
             "passed_time": 13.01015314,
             "remaining_time": 26.00080081,
             "test": [
              0.5772446881,
              1.010959923
             ]
            },
            {
             "iteration": 667,
             "learn": [
              0.647097128,
              0.8989017169
             ],
             "passed_time": 13.02611546,
             "remaining_time": 25.97423023,
             "test": [
              0.5772446881,
              1.010941717
             ]
            },
            {
             "iteration": 668,
             "learn": [
              0.6474398519,
              0.8986075902
             ],
             "passed_time": 13.04294344,
             "remaining_time": 25.94941362,
             "test": [
              0.5775188485,
              1.010767355
             ]
            },
            {
             "iteration": 669,
             "learn": [
              0.6473370348,
              0.8985060448
             ],
             "passed_time": 13.05878635,
             "remaining_time": 25.92266545,
             "test": [
              0.5775188485,
              1.010697476
             ]
            },
            {
             "iteration": 670,
             "learn": [
              0.6476112139,
              0.8983878318
             ],
             "passed_time": 13.07508779,
             "remaining_time": 25.89685794,
             "test": [
              0.5775188485,
              1.010593996
             ]
            },
            {
             "iteration": 671,
             "learn": [
              0.64726849,
              0.8982876921
             ],
             "passed_time": 13.09368409,
             "remaining_time": 25.87561379,
             "test": [
              0.5773817683,
              1.010563876
             ]
            },
            {
             "iteration": 672,
             "learn": [
              0.6474741243,
              0.8981274419
             ],
             "passed_time": 13.11032821,
             "remaining_time": 25.85052828,
             "test": [
              0.5772446881,
              1.010592457
             ]
            },
            {
             "iteration": 673,
             "learn": [
              0.6477140311,
              0.8980113709
             ],
             "passed_time": 13.12657408,
             "remaining_time": 25.82468433,
             "test": [
              0.5772446881,
              1.010556714
             ]
            },
            {
             "iteration": 674,
             "learn": [
              0.6479539379,
              0.8978493134
             ],
             "passed_time": 13.14334162,
             "remaining_time": 25.79989282,
             "test": [
              0.5772446881,
              1.010445671
             ]
            },
            {
             "iteration": 675,
             "learn": [
              0.6479196655,
              0.8976457541
             ],
             "passed_time": 13.16058942,
             "remaining_time": 25.77606567,
             "test": [
              0.5773817683,
              1.010397412
             ]
            },
            {
             "iteration": 676,
             "learn": [
              0.6480224827,
              0.8975420667
             ],
             "passed_time": 13.17704544,
             "remaining_time": 25.75071066,
             "test": [
              0.5772446881,
              1.010344936
             ]
            },
            {
             "iteration": 677,
             "learn": [
              0.6480910275,
              0.8974906581
             ],
             "passed_time": 13.21581852,
             "remaining_time": 25.76889688,
             "test": [
              0.5772446881,
              1.010313812
             ]
            },
            {
             "iteration": 678,
             "learn": [
              0.6480224827,
              0.8974095289
             ],
             "passed_time": 13.23822809,
             "remaining_time": 25.75507998,
             "test": [
              0.5775188485,
              1.010311402
             ]
            },
            {
             "iteration": 679,
             "learn": [
              0.6480910275,
              0.8970913713
             ],
             "passed_time": 13.25637407,
             "remaining_time": 25.73296143,
             "test": [
              0.5777930089,
              1.01007767
             ]
            },
            {
             "iteration": 680,
             "learn": [
              0.6484680239,
              0.8969230215
             ],
             "passed_time": 13.27322159,
             "remaining_time": 25.70833962,
             "test": [
              0.5779300891,
              1.010044136
             ]
            },
            {
             "iteration": 681,
             "learn": [
              0.6484337515,
              0.8968493894
             ],
             "passed_time": 13.28931403,
             "remaining_time": 25.68228136,
             "test": [
              0.5780671693,
              1.010041726
             ]
            },
            {
             "iteration": 682,
             "learn": [
              0.6484337515,
              0.8966721369
             ],
             "passed_time": 13.30679587,
             "remaining_time": 25.65893143,
             "test": [
              0.5782042495,
              1.010003909
             ]
            },
            {
             "iteration": 683,
             "learn": [
              0.6487764754,
              0.8962170235
             ],
             "passed_time": 13.32475263,
             "remaining_time": 25.63651237,
             "test": [
              0.5782042495,
              1.010110668
             ]
            },
            {
             "iteration": 684,
             "learn": [
              0.649084927,
              0.8959988717
             ],
             "passed_time": 13.3413553,
             "remaining_time": 25.61150689,
             "test": [
              0.5780671693,
              1.010071512
             ]
            },
            {
             "iteration": 685,
             "learn": [
              0.6491534718,
              0.8959018112
             ],
             "passed_time": 13.35727156,
             "remaining_time": 25.58521111,
             "test": [
              0.5782042495,
              1.010092395
             ]
            },
            {
             "iteration": 686,
             "learn": [
              0.6493933786,
              0.8955910168
             ],
             "passed_time": 13.37418639,
             "remaining_time": 25.56085404,
             "test": [
              0.5776559287,
              1.010037577
             ]
            },
            {
             "iteration": 687,
             "learn": [
              0.6493591062,
              0.8954692561
             ],
             "passed_time": 13.39007765,
             "remaining_time": 25.53456668,
             "test": [
              0.5776559287,
              1.009929947
             ]
            },
            {
             "iteration": 688,
             "learn": [
              0.6494961958,
              0.8953687817
             ],
             "passed_time": 13.4071179,
             "remaining_time": 25.51049575,
             "test": [
              0.5777930089,
              1.009919104
             ]
            },
            {
             "iteration": 689,
             "learn": [
              0.6496332854,
              0.895084361
             ],
             "passed_time": 13.42465272,
             "remaining_time": 25.48738414,
             "test": [
              0.5773817683,
              1.009808128
             ]
            },
            {
             "iteration": 690,
             "learn": [
              0.6499417369,
              0.8948335433
             ],
             "passed_time": 13.44231517,
             "remaining_time": 25.46453047,
             "test": [
              0.5772446881,
              1.009802974
             ]
            },
            {
             "iteration": 691,
             "learn": [
              0.6499760093,
              0.8947560957
             ],
             "passed_time": 13.4582452,
             "remaining_time": 25.43841722,
             "test": [
              0.5772446881,
              1.009777338
             ]
            },
            {
             "iteration": 692,
             "learn": [
              0.6499074645,
              0.8946944455
             ],
             "passed_time": 13.47431555,
             "remaining_time": 25.41259802,
             "test": [
              0.5772446881,
              1.009776602
             ]
            },
            {
             "iteration": 693,
             "learn": [
              0.6502501885,
              0.8943299666
             ],
             "passed_time": 13.49166366,
             "remaining_time": 25.38921144,
             "test": [
              0.5773817683,
              1.009459939
             ]
            },
            {
             "iteration": 694,
             "learn": [
              0.6501816437,
              0.8941866518
             ],
             "passed_time": 13.50861249,
             "remaining_time": 25.36509252,
             "test": [
              0.5775188485,
              1.00931824
             ]
            },
            {
             "iteration": 695,
             "learn": [
              0.6502501885,
              0.8941138899
             ],
             "passed_time": 13.52590631,
             "remaining_time": 25.34164057,
             "test": [
              0.5775188485,
              1.009344679
             ]
            },
            {
             "iteration": 696,
             "learn": [
              0.6502844609,
              0.8940361745
             ],
             "passed_time": 13.54216864,
             "remaining_time": 25.31627796,
             "test": [
              0.5773817683,
              1.009311948
             ]
            },
            {
             "iteration": 697,
             "learn": [
              0.6504215505,
              0.8939566518
             ],
             "passed_time": 13.55828464,
             "remaining_time": 25.29066849,
             "test": [
              0.5773817683,
              1.009287317
             ]
            },
            {
             "iteration": 698,
             "learn": [
              0.6505586401,
              0.8934770391
             ],
             "passed_time": 13.57641183,
             "remaining_time": 25.26882946,
             "test": [
              0.5777930089,
              1.009704113
             ]
            },
            {
             "iteration": 699,
             "learn": [
              0.6504558229,
              0.8933920944
             ],
             "passed_time": 13.59222793,
             "remaining_time": 25.24270901,
             "test": [
              0.5776559287,
              1.009612347
             ]
            },
            {
             "iteration": 700,
             "learn": [
              0.6513126328,
              0.8928464805
             ],
             "passed_time": 13.61073627,
             "remaining_time": 25.22160687,
             "test": [
              0.5773817683,
              1.009553044
             ]
            },
            {
             "iteration": 701,
             "learn": [
              0.65141545,
              0.8927695015
             ],
             "passed_time": 13.62688924,
             "remaining_time": 25.19615702,
             "test": [
              0.5773817683,
              1.009463888
             ]
            },
            {
             "iteration": 702,
             "learn": [
              0.6514497224,
              0.8925178806
             ],
             "passed_time": 13.64509848,
             "remaining_time": 25.17452735,
             "test": [
              0.5783413297,
              1.009397088
             ]
            },
            {
             "iteration": 703,
             "learn": [
              0.6512783604,
              0.892110762
             ],
             "passed_time": 13.66182543,
             "remaining_time": 25.15017863,
             "test": [
              0.5782042495,
              1.009269713
             ]
            },
            {
             "iteration": 704,
             "learn": [
              0.6514839948,
              0.89196979
             ],
             "passed_time": 13.67877468,
             "remaining_time": 25.12625987,
             "test": [
              0.5779300891,
              1.009283769
             ]
            },
            {
             "iteration": 705,
             "learn": [
              0.6515182672,
              0.8917996998
             ],
             "passed_time": 13.69613507,
             "remaining_time": 25.10311443,
             "test": [
              0.5783413297,
              1.009178951
             ]
            },
            {
             "iteration": 706,
             "learn": [
              0.6516553568,
              0.8916310153
             ],
             "passed_time": 13.71320535,
             "remaining_time": 25.07945477,
             "test": [
              0.5783413297,
              1.009200839
             ]
            },
            {
             "iteration": 707,
             "learn": [
              0.6515525396,
              0.8913810009
             ],
             "passed_time": 13.73024309,
             "remaining_time": 25.05575433,
             "test": [
              0.5788896504,
              1.009210745
             ]
            },
            {
             "iteration": 708,
             "learn": [
              0.6514839948,
              0.8911394876
             ],
             "passed_time": 13.74748185,
             "remaining_time": 25.03243874,
             "test": [
              0.5780671693,
              1.009161348
             ]
            },
            {
             "iteration": 709,
             "learn": [
              0.651586812,
              0.891004607
             ],
             "passed_time": 13.76447601,
             "remaining_time": 25.00869585,
             "test": [
              0.5780671693,
              1.009147961
             ]
            },
            {
             "iteration": 710,
             "learn": [
              0.6515182672,
              0.8908720022
             ],
             "passed_time": 13.78108639,
             "remaining_time": 24.98427617,
             "test": [
              0.5788896504,
              1.009207532
             ]
            },
            {
             "iteration": 711,
             "learn": [
              0.6515182672,
              0.8907602153
             ],
             "passed_time": 13.79752883,
             "remaining_time": 24.95957463,
             "test": [
              0.5788896504,
              1.009238723
             ]
            },
            {
             "iteration": 712,
             "learn": [
              0.6521008979,
              0.8905109372
             ],
             "passed_time": 13.81837942,
             "remaining_time": 24.94285317,
             "test": [
              0.5786154901,
              1.009100639
             ]
            },
            {
             "iteration": 713,
             "learn": [
              0.6521694427,
              0.8903281287
             ],
             "passed_time": 13.83449838,
             "remaining_time": 24.91759792,
             "test": [
              0.5788896504,
              1.008991671
             ]
            },
            {
             "iteration": 714,
             "learn": [
              0.6522722599,
              0.890229127
             ],
             "passed_time": 13.85067542,
             "remaining_time": 24.89247262,
             "test": [
              0.5790267306,
              1.008958472
             ]
            },
            {
             "iteration": 715,
             "learn": [
              0.6524436219,
              0.8901263098
             ],
             "passed_time": 13.86664395,
             "remaining_time": 24.86699837,
             "test": [
              0.579300891,
              1.008929757
             ]
            },
            {
             "iteration": 716,
             "learn": [
              0.6524093495,
              0.8898938332
             ],
             "passed_time": 13.88350723,
             "remaining_time": 24.84315171,
             "test": [
              0.5788896504,
              1.009070653
             ]
            },
            {
             "iteration": 717,
             "learn": [
              0.6524778943,
              0.8897345201
             ],
             "passed_time": 13.90044351,
             "remaining_time": 24.81945485,
             "test": [
              0.5791638108,
              1.009127078
             ]
            },
            {
             "iteration": 718,
             "learn": [
              0.6526835287,
              0.8895041186
             ],
             "passed_time": 13.91855076,
             "remaining_time": 24.79786303,
             "test": [
              0.5791638108,
              1.009150103
             ]
            },
            {
             "iteration": 719,
             "learn": [
              0.6526492563,
              0.8890670116
             ],
             "passed_time": 13.93614868,
             "remaining_time": 24.77537544,
             "test": [
              0.5791638108,
              1.009093276
             ]
            },
            {
             "iteration": 720,
             "learn": [
              0.6526835287,
              0.8889431758
             ],
             "passed_time": 13.95222595,
             "remaining_time": 24.75020388,
             "test": [
              0.5791638108,
              1.009010211
             ]
            },
            {
             "iteration": 721,
             "learn": [
              0.6528206183,
              0.8888288453
             ],
             "passed_time": 13.96786189,
             "remaining_time": 24.7242763,
             "test": [
              0.579300891,
              1.008964964
             ]
            },
            {
             "iteration": 722,
             "learn": [
              0.6529919803,
              0.8887023989
             ],
             "passed_time": 13.98545552,
             "remaining_time": 24.701835,
             "test": [
              0.579300891,
              1.008941136
             ]
            },
            {
             "iteration": 723,
             "learn": [
              0.6528891631,
              0.8884177773
             ],
             "passed_time": 14.00244033,
             "remaining_time": 24.67833406,
             "test": [
              0.5786154901,
              1.008882368
             ]
            },
            {
             "iteration": 724,
             "learn": [
              0.6528891631,
              0.8883058565
             ],
             "passed_time": 14.01904725,
             "remaining_time": 24.65418654,
             "test": [
              0.5787525703,
              1.00882929
             ]
            },
            {
             "iteration": 725,
             "learn": [
              0.6532661594,
              0.8881059119
             ],
             "passed_time": 14.0365885,
             "remaining_time": 24.63169938,
             "test": [
              0.5787525703,
              1.008821525
             ]
            },
            {
             "iteration": 726,
             "learn": [
              0.6532661594,
              0.8879854899
             ],
             "passed_time": 14.05283571,
             "remaining_time": 24.60695992,
             "test": [
              0.5787525703,
              1.008825274
             ]
            },
            {
             "iteration": 727,
             "learn": [
              0.6533347042,
              0.8877969917
             ],
             "passed_time": 14.06952838,
             "remaining_time": 24.58302211,
             "test": [
              0.5790267306,
              1.008913961
             ]
            },
            {
             "iteration": 728,
             "learn": [
              0.6533347042,
              0.8877174021
             ],
             "passed_time": 14.0850309,
             "remaining_time": 24.55702918,
             "test": [
              0.5790267306,
              1.008920253
             ]
            },
            {
             "iteration": 729,
             "learn": [
              0.653403249,
              0.8876374109
             ],
             "passed_time": 14.10095486,
             "remaining_time": 24.53179818,
             "test": [
              0.5787525703,
              1.008914563
             ]
            },
            {
             "iteration": 730,
             "learn": [
              0.6533689766,
              0.8872640961
             ],
             "passed_time": 14.11883359,
             "remaining_time": 24.50998608,
             "test": [
              0.579300891,
              1.008833573
             ]
            },
            {
             "iteration": 731,
             "learn": [
              0.6531633422,
              0.8872145618
             ],
             "passed_time": 14.13470939,
             "remaining_time": 24.48471518,
             "test": [
              0.579300891,
              1.008811218
             ]
            },
            {
             "iteration": 732,
             "learn": [
              0.653231887,
              0.8869937994
             ],
             "passed_time": 14.15261205,
             "remaining_time": 24.46297334,
             "test": [
              0.579300891,
              1.008721928
             ]
            },
            {
             "iteration": 733,
             "learn": [
              0.653917335,
              0.8867569718
             ],
             "passed_time": 14.16961518,
             "remaining_time": 24.43969049,
             "test": [
              0.579300891,
              1.008633576
             ]
            },
            {
             "iteration": 734,
             "learn": [
              0.6541229694,
              0.8866441138
             ],
             "passed_time": 14.18632984,
             "remaining_time": 24.41592823,
             "test": [
              0.5790267306,
              1.008658676
             ]
            },
            {
             "iteration": 735,
             "learn": [
              0.6541572418,
              0.8865750335
             ],
             "passed_time": 14.20244241,
             "remaining_time": 24.39115109,
             "test": [
              0.5791638108,
              1.008673535
             ]
            },
            {
             "iteration": 736,
             "learn": [
              0.6543286037,
              0.8863957059
             ],
             "passed_time": 14.23226638,
             "remaining_time": 24.38989477,
             "test": [
              0.5794379712,
              1.00865051
             ]
            },
            {
             "iteration": 737,
             "learn": [
              0.6543971485,
              0.8863251529
             ],
             "passed_time": 14.25541162,
             "remaining_time": 24.37714019,
             "test": [
              0.5795750514,
              1.008567512
             ]
            },
            {
             "iteration": 738,
             "learn": [
              0.6544999657,
              0.8862489772
             ],
             "passed_time": 14.27726954,
             "remaining_time": 24.36216089,
             "test": [
              0.5795750514,
              1.008559145
             ]
            },
            {
             "iteration": 739,
             "learn": [
              0.6547056001,
              0.8861187153
             ],
             "passed_time": 14.29450341,
             "remaining_time": 24.33928959,
             "test": [
              0.5797121316,
              1.008564232
             ]
            },
            {
             "iteration": 740,
             "learn": [
              0.6548769621,
              0.8859206449
             ],
             "passed_time": 14.31134282,
             "remaining_time": 24.3157633,
             "test": [
              0.5794379712,
              1.008490471
             ]
            },
            {
             "iteration": 741,
             "learn": [
              0.6553567757,
              0.8857067772
             ],
             "passed_time": 14.32806848,
             "remaining_time": 24.2920622,
             "test": [
              0.5790267306,
              1.008477955
             ]
            },
            {
             "iteration": 742,
             "learn": [
              0.6552539585,
              0.8856477376
             ],
             "passed_time": 14.34401541,
             "remaining_time": 24.2670624,
             "test": [
              0.5791638108,
              1.008450445
             ]
            },
            {
             "iteration": 743,
             "learn": [
              0.6554938652,
              0.8855315327
             ],
             "passed_time": 14.36065906,
             "remaining_time": 24.24326314,
             "test": [
              0.5790267306,
              1.008448236
             ]
            },
            {
             "iteration": 744,
             "learn": [
              0.6556994996,
              0.8854042161
             ],
             "passed_time": 14.37827641,
             "remaining_time": 24.22112335,
             "test": [
              0.5797121316,
              1.008483042
             ]
            },
            {
             "iteration": 745,
             "learn": [
              0.6558023168,
              0.8853507325
             ],
             "passed_time": 14.39421252,
             "remaining_time": 24.19616958,
             "test": [
              0.5795750514,
              1.008439736
             ]
            },
            {
             "iteration": 746,
             "learn": [
              0.6558708616,
              0.8851252174
             ],
             "passed_time": 14.41124631,
             "remaining_time": 24.17308116,
             "test": [
              0.579986292,
              1.008361959
             ]
            },
            {
             "iteration": 747,
             "learn": [
              0.6558023168,
              0.8849740039
             ],
             "passed_time": 14.42847853,
             "remaining_time": 24.15034107,
             "test": [
              0.5798492118,
              1.008249376
             ]
            },
            {
             "iteration": 748,
             "learn": [
              0.656076496,
              0.8847855726
             ],
             "passed_time": 14.44597433,
             "remaining_time": 24.12805592,
             "test": [
              0.5798492118,
              1.008255132
             ]
            },
            {
             "iteration": 749,
             "learn": [
              0.6563506752,
              0.8846381745
             ],
             "passed_time": 14.46280678,
             "remaining_time": 24.10467796,
             "test": [
              0.5798492118,
              1.008172202
             ]
            },
            {
             "iteration": 750,
             "learn": [
              0.6563506752,
              0.884459851
             ],
             "passed_time": 14.47961374,
             "remaining_time": 24.08127505,
             "test": [
              0.5794379712,
              1.008028696
             ]
            },
            {
             "iteration": 751,
             "learn": [
              0.65641922,
              0.8843986694
             ],
             "passed_time": 14.4958063,
             "remaining_time": 24.05687002,
             "test": [
              0.5795750514,
              1.008060757
             ]
            },
            {
             "iteration": 752,
             "learn": [
              0.6565220372,
              0.8843109802
             ],
             "passed_time": 14.51284439,
             "remaining_time": 24.03388705,
             "test": [
              0.579986292,
              1.007986394
             ]
            },
            {
             "iteration": 753,
             "learn": [
              0.6565905819,
              0.8842436403
             ],
             "passed_time": 14.52886855,
             "remaining_time": 24.00924431,
             "test": [
              0.5801233722,
              1.007982846
             ]
            },
            {
             "iteration": 754,
             "learn": [
              0.6564534924,
              0.8840565478
             ],
             "passed_time": 14.54526186,
             "remaining_time": 23.98523313,
             "test": [
              0.579986292,
              1.007915042
             ]
            },
            {
             "iteration": 755,
             "learn": [
              0.6565563095,
              0.8839770921
             ],
             "passed_time": 14.56182666,
             "remaining_time": 23.9615243,
             "test": [
              0.5802604524,
              1.007919125
             ]
            },
            {
             "iteration": 756,
             "learn": [
              0.6565220372,
              0.8838387976
             ],
             "passed_time": 14.57818692,
             "remaining_time": 23.93749847,
             "test": [
              0.5803975326,
              1.007853932
             ]
            },
            {
             "iteration": 757,
             "learn": [
              0.6566248543,
              0.8836573949
             ],
             "passed_time": 14.59567353,
             "remaining_time": 23.91533843,
             "test": [
              0.5803975326,
              1.007716986
             ]
            },
            {
             "iteration": 758,
             "learn": [
              0.6571732127,
              0.8833161436
             ],
             "passed_time": 14.61250924,
             "remaining_time": 23.89212643,
             "test": [
              0.5802604524,
              1.007619932
             ]
            },
            {
             "iteration": 759,
             "learn": [
              0.6575159367,
              0.8831658672
             ],
             "passed_time": 14.62935667,
             "remaining_time": 23.86895035,
             "test": [
              0.5803975326,
              1.007594497
             ]
            },
            {
             "iteration": 760,
             "learn": [
              0.6574473919,
              0.8830261
             ],
             "passed_time": 14.64717674,
             "remaining_time": 23.84737448,
             "test": [
              0.5802604524,
              1.007613439
             ]
            },
            {
             "iteration": 761,
             "learn": [
              0.657721571,
              0.8828062078
             ],
             "passed_time": 14.66545419,
             "remaining_time": 23.82655155,
             "test": [
              0.5803975326,
              1.00755601
             ]
            },
            {
             "iteration": 762,
             "learn": [
              0.6576872986,
              0.8826746072
             ],
             "passed_time": 14.68248938,
             "remaining_time": 23.80372132,
             "test": [
              0.5808087731,
              1.007581512
             ]
            },
            {
             "iteration": 763,
             "learn": [
              0.6578243882,
              0.8825443453
             ],
             "passed_time": 14.7000065,
             "remaining_time": 23.78168591,
             "test": [
              0.5806716929,
              1.007522209
             ]
            },
            {
             "iteration": 764,
             "learn": [
              0.6579957502,
              0.8823976166
             ],
             "passed_time": 14.71711636,
             "remaining_time": 23.75900484,
             "test": [
              0.5806716929,
              1.007629369
             ]
            },
            {
             "iteration": 765,
             "learn": [
              0.6581671122,
              0.8822996189
             ],
             "passed_time": 14.73318587,
             "remaining_time": 23.73466235,
             "test": [
              0.5806716929,
              1.00763613
             ]
            },
            {
             "iteration": 766,
             "learn": [
              0.6581328398,
              0.8822078466
             ],
             "passed_time": 14.74921758,
             "remaining_time": 23.71028067,
             "test": [
              0.5805346127,
              1.007592556
             ]
            },
            {
             "iteration": 767,
             "learn": [
              0.6582013846,
              0.8821244415
             ],
             "passed_time": 14.76521249,
             "remaining_time": 23.6858617,
             "test": [
              0.5808087731,
              1.007499183
             ]
            },
            {
             "iteration": 768,
             "learn": [
              0.6580985674,
              0.8819230911
             ],
             "passed_time": 14.78316076,
             "remaining_time": 23.66459154,
             "test": [
              0.5810829335,
              1.007486198
             ]
            },
            {
             "iteration": 769,
             "learn": [
              0.6580300226,
              0.8817821191
             ],
             "passed_time": 14.80002019,
             "remaining_time": 23.64159069,
             "test": [
              0.5810829335,
              1.007373415
             ]
            },
            {
             "iteration": 770,
             "learn": [
              0.6582699294,
              0.8816551372
             ],
             "passed_time": 14.81673031,
             "remaining_time": 23.61836777,
             "test": [
              0.5805346127,
              1.007366856
             ]
            },
            {
             "iteration": 771,
             "learn": [
              0.6583384742,
              0.8815706611
             ],
             "passed_time": 14.83294445,
             "remaining_time": 23.59437278,
             "test": [
              0.5809458533,
              1.007382786
             ]
            },
            {
             "iteration": 772,
             "learn": [
              0.6583384742,
              0.8812855041
             ],
             "passed_time": 14.85035464,
             "remaining_time": 23.57229644,
             "test": [
              0.5803975326,
              1.007367926
             ]
            },
            {
             "iteration": 773,
             "learn": [
              0.6583384742,
              0.8810861619
             ],
             "passed_time": 14.86710079,
             "remaining_time": 23.54918031,
             "test": [
              0.5810829335,
              1.007408421
             ]
            },
            {
             "iteration": 774,
             "learn": [
              0.6585441086,
              0.8809832108
             ],
             "passed_time": 14.88401759,
             "remaining_time": 23.52635038,
             "test": [
              0.5812200137,
              1.007419198
             ]
            },
            {
             "iteration": 775,
             "learn": [
              0.6584755638,
              0.8808900997
             ],
             "passed_time": 14.90011937,
             "remaining_time": 23.50225015,
             "test": [
              0.5812200137,
              1.007418194
             ]
            },
            {
             "iteration": 776,
             "learn": [
              0.6585098362,
              0.880782329
             ],
             "passed_time": 14.91699809,
             "remaining_time": 23.47939339,
             "test": [
              0.5812200137,
              1.00736806
             ]
            },
            {
             "iteration": 777,
             "learn": [
              0.6587840154,
              0.8806291743
             ],
             "passed_time": 14.93406092,
             "remaining_time": 23.45684118,
             "test": [
              0.5812200137,
              1.007241756
             ]
            },
            {
             "iteration": 778,
             "learn": [
              0.658749743,
              0.880500452
             ],
             "passed_time": 14.95045291,
             "remaining_time": 23.43325161,
             "test": [
              0.5809458533,
              1.007180646
             ]
            },
            {
             "iteration": 779,
             "learn": [
              0.6588182878,
              0.880454867
             ],
             "passed_time": 14.96760729,
             "remaining_time": 23.41087294,
             "test": [
              0.5812200137,
              1.007193631
             ]
            },
            {
             "iteration": 780,
             "learn": [
              0.6588868325,
              0.880344218
             ],
             "passed_time": 14.98433221,
             "remaining_time": 23.38783734,
             "test": [
              0.5813570939,
              1.007140084
             ]
            },
            {
             "iteration": 781,
             "learn": [
              0.6589211049,
              0.880196753
             ],
             "passed_time": 15.00084157,
             "remaining_time": 23.36448213,
             "test": [
              0.5810829335,
              1.006859297
             ]
            },
            {
             "iteration": 782,
             "learn": [
              0.6588525601,
              0.8801200417
             ],
             "passed_time": 15.01756131,
             "remaining_time": 23.34147141,
             "test": [
              0.5813570939,
              1.006802805
             ]
            },
            {
             "iteration": 783,
             "learn": [
              0.6592295565,
              0.8798820762
             ],
             "passed_time": 15.0344725,
             "remaining_time": 23.31877367,
             "test": [
              0.5823166552,
              1.006827437
             ]
            },
            {
             "iteration": 784,
             "learn": [
              0.6592981013,
              0.8796975943
             ],
             "passed_time": 15.05133199,
             "remaining_time": 23.29601066,
             "test": [
              0.5825908156,
              1.006814586
             ]
            },
            {
             "iteration": 785,
             "learn": [
              0.6590581945,
              0.8795564215
             ],
             "passed_time": 15.06847624,
             "remaining_time": 23.27370248,
             "test": [
              0.5824537354,
              1.0068348
             ]
            },
            {
             "iteration": 786,
             "learn": [
              0.6592981013,
              0.8794106968
             ],
             "passed_time": 15.08530296,
             "remaining_time": 23.25091802,
             "test": [
              0.5814941741,
              1.006762377
             ]
            },
            {
             "iteration": 787,
             "learn": [
              0.6594694633,
              0.8792485723
             ],
             "passed_time": 15.10237259,
             "remaining_time": 23.22852231,
             "test": [
              0.5814941741,
              1.006834465
             ]
            },
            {
             "iteration": 788,
             "learn": [
              0.6594009185,
              0.8791820357
             ],
             "passed_time": 15.11839501,
             "remaining_time": 23.20453276,
             "test": [
              0.5813570939,
              1.006782457
             ]
            },
            {
             "iteration": 789,
             "learn": [
              0.6595722805,
              0.8790555224
             ],
             "passed_time": 15.13420102,
             "remaining_time": 23.18023195,
             "test": [
              0.5817683345,
              1.006685538
             ]
            },
            {
             "iteration": 790,
             "learn": [
              0.6597093701,
              0.8788721115
             ],
             "passed_time": 15.1514952,
             "remaining_time": 23.15822718,
             "test": [
              0.5819054147,
              1.006581656
             ]
            },
            {
             "iteration": 791,
             "learn": [
              0.6597093701,
              0.8786800656
             ],
             "passed_time": 15.16856134,
             "remaining_time": 23.13588648,
             "test": [
              0.5819054147,
              1.00644558
             ]
            },
            {
             "iteration": 792,
             "learn": [
              0.6598121873,
              0.8785967944
             ],
             "passed_time": 15.18436132,
             "remaining_time": 23.11163192,
             "test": [
              0.5819054147,
              1.006421149
             ]
            },
            {
             "iteration": 793,
             "learn": [
              0.6597436425,
              0.8785332699
             ],
             "passed_time": 15.2000066,
             "remaining_time": 23.08716368,
             "test": [
              0.5817683345,
              1.006364122
             ]
            },
            {
             "iteration": 794,
             "learn": [
              0.6596065529,
              0.8783941722
             ],
             "passed_time": 15.21686336,
             "remaining_time": 23.0645539,
             "test": [
              0.5819054147,
              1.006360708
             ]
            },
            {
             "iteration": 795,
             "learn": [
              0.6595722805,
              0.8778765385
             ],
             "passed_time": 15.23496443,
             "remaining_time": 23.04384067,
             "test": [
              0.5813570939,
              1.006241968
             ]
            },
            {
             "iteration": 796,
             "learn": [
              0.6597436425,
              0.8776392423
             ],
             "passed_time": 15.25197045,
             "remaining_time": 23.02148112,
             "test": [
              0.5819054147,
              1.006075169
             ]
            },
            {
             "iteration": 797,
             "learn": [
              0.6598464597,
              0.877474708
             ],
             "passed_time": 15.28018173,
             "remaining_time": 23.01601309,
             "test": [
              0.5817683345,
              1.006244846
             ]
            },
            {
             "iteration": 798,
             "learn": [
              0.6598121873,
              0.8773285148
             ],
             "passed_time": 15.30147546,
             "remaining_time": 23.00009015,
             "test": [
              0.5813570939,
              1.006207832
             ]
            },
            {
             "iteration": 799,
             "learn": [
              0.660052094,
              0.8771760295
             ],
             "passed_time": 15.32365309,
             "remaining_time": 22.98547964,
             "test": [
              0.5816312543,
              1.006129519
             ]
            },
            {
             "iteration": 800,
             "learn": [
              0.660052094,
              0.8770689282
             ],
             "passed_time": 15.33990262,
             "remaining_time": 22.96197657,
             "test": [
              0.5816312543,
              1.006040029
             ]
            },
            {
             "iteration": 801,
             "learn": [
              0.6601891836,
              0.8769078747
             ],
             "passed_time": 15.356318,
             "remaining_time": 22.93873936,
             "test": [
              0.5820424949,
              1.005993644
             ]
            },
            {
             "iteration": 802,
             "learn": [
              0.6603262732,
              0.8768303602
             ],
             "passed_time": 15.37244743,
             "remaining_time": 22.91509287,
             "test": [
              0.5820424949,
              1.005966737
             ]
            },
            {
             "iteration": 803,
             "learn": [
              0.660052094,
              0.8765958085
             ],
             "passed_time": 15.38990831,
             "remaining_time": 22.8934457,
             "test": [
              0.5819054147,
              1.005741839
             ]
            },
            {
             "iteration": 804,
             "learn": [
              0.6601549112,
              0.8764768592
             ],
             "passed_time": 15.40602517,
             "remaining_time": 22.86981377,
             "test": [
              0.5819054147,
              1.005726177
             ]
            },
            {
             "iteration": 805,
             "learn": [
              0.6603262732,
              0.8763688208
             ],
             "passed_time": 15.42303001,
             "remaining_time": 22.84751591,
             "test": [
              0.5819054147,
              1.005704223
             ]
            },
            {
             "iteration": 806,
             "learn": [
              0.6600863664,
              0.8761389548
             ],
             "passed_time": 15.44013948,
             "remaining_time": 22.82538587,
             "test": [
              0.5817683345,
              1.005636151
             ]
            },
            {
             "iteration": 807,
             "learn": [
              0.660394818,
              0.876055148
             ],
             "passed_time": 15.45739687,
             "remaining_time": 22.80348648,
             "test": [
              0.5821795751,
              1.005648869
             ]
            },
            {
             "iteration": 808,
             "learn": [
              0.6602920008,
              0.8759687307
             ],
             "passed_time": 15.47365544,
             "remaining_time": 22.78012809,
             "test": [
              0.5821795751,
              1.005581935
             ]
            },
            {
             "iteration": 809,
             "learn": [
              0.6605319076,
              0.8756801598
             ],
             "passed_time": 15.49117192,
             "remaining_time": 22.75863529,
             "test": [
              0.5827278958,
              1.005392981
             ]
            },
            {
             "iteration": 810,
             "learn": [
              0.6608060868,
              0.8755606081
             ],
             "passed_time": 15.50805812,
             "remaining_time": 22.73622824,
             "test": [
              0.5830020562,
              1.005324575
             ]
            },
            {
             "iteration": 811,
             "learn": [
              0.6608403592,
              0.8754518334
             ],
             "passed_time": 15.52388436,
             "remaining_time": 22.71228402,
             "test": [
              0.5831391364,
              1.005241979
             ]
            },
            {
             "iteration": 812,
             "learn": [
              0.661080266,
              0.8752045634
             ],
             "passed_time": 15.54449554,
             "remaining_time": 22.69534589,
             "test": [
              0.5831391364,
              1.005176919
             ]
            },
            {
             "iteration": 813,
             "learn": [
              0.6611488107,
              0.875110582
             ],
             "passed_time": 15.56081269,
             "remaining_time": 22.67214232,
             "test": [
              0.5830020562,
              1.005199007
             ]
            },
            {
             "iteration": 814,
             "learn": [
              0.6611488107,
              0.8750147264
             ],
             "passed_time": 15.57713833,
             "remaining_time": 22.648968,
             "test": [
              0.5831391364,
              1.005135086
             ]
            },
            {
             "iteration": 815,
             "learn": [
              0.6611488107,
              0.8749612427
             ],
             "passed_time": 15.59315405,
             "remaining_time": 22.62536078,
             "test": [
              0.5831391364,
              1.005112931
             ]
            },
            {
             "iteration": 816,
             "learn": [
              0.6613201727,
              0.8748072847
             ],
             "passed_time": 15.60911464,
             "remaining_time": 22.60169231,
             "test": [
              0.5830020562,
              1.005068487
             ]
            },
            {
             "iteration": 817,
             "learn": [
              0.6613544451,
              0.8747497847
             ],
             "passed_time": 15.6251397,
             "remaining_time": 22.57813585,
             "test": [
              0.5827278958,
              1.005059785
             ]
            },
            {
             "iteration": 818,
             "learn": [
              0.6615600795,
              0.874578155
             ],
             "passed_time": 15.64195715,
             "remaining_time": 22.55574041,
             "test": [
              0.583550377,
              1.004994993
             ]
            },
            {
             "iteration": 819,
             "learn": [
              0.6614229899,
              0.8744688448
             ],
             "passed_time": 15.65913391,
             "remaining_time": 22.53387562,
             "test": [
              0.5842357779,
              1.00496233
             ]
            },
            {
             "iteration": 820,
             "learn": [
              0.6613201727,
              0.8743702447
             ],
             "passed_time": 15.67584373,
             "remaining_time": 22.51135171,
             "test": [
              0.5840986977,
              1.004803161
             ]
            },
            {
             "iteration": 821,
             "learn": [
              0.6615600795,
              0.8742124043
             ],
             "passed_time": 15.69176343,
             "remaining_time": 22.48770964,
             "test": [
              0.5838245374,
              1.004782278
             ]
            },
            {
             "iteration": 822,
             "learn": [
              0.6614915347,
              0.8739949887
             ],
             "passed_time": 15.70866763,
             "remaining_time": 22.46549429,
             "test": [
              0.5845099383,
              1.004756576
             ]
            },
            {
             "iteration": 823,
             "learn": [
              0.6619713483,
              0.8738453147
             ],
             "passed_time": 15.72564147,
             "remaining_time": 22.44339123,
             "test": [
              0.5842357779,
              1.00474426
             ]
            },
            {
             "iteration": 824,
             "learn": [
              0.6621084379,
              0.8737119737
             ],
             "passed_time": 15.74166486,
             "remaining_time": 22.41994692,
             "test": [
              0.5842357779,
              1.004652694
             ]
            },
            {
             "iteration": 825,
             "learn": [
              0.6624511618,
              0.8736138422
             ],
             "passed_time": 15.75928144,
             "remaining_time": 22.39878501,
             "test": [
              0.5840986977,
              1.004620566
             ]
            },
            {
             "iteration": 826,
             "learn": [
              0.6624168894,
              0.8735228731
             ],
             "passed_time": 15.77594849,
             "remaining_time": 22.37628486,
             "test": [
              0.5839616175,
              1.004609857
             ]
            },
            {
             "iteration": 827,
             "learn": [
              0.6623483446,
              0.873445961
             ],
             "passed_time": 15.79197381,
             "remaining_time": 22.35289047,
             "test": [
              0.5840986977,
              1.004591182
             ]
            },
            {
             "iteration": 828,
             "learn": [
              0.662382617,
              0.8733273464
             ],
             "passed_time": 15.80832907,
             "remaining_time": 22.32997991,
             "test": [
              0.5839616175,
              1.004579938
             ]
            },
            {
             "iteration": 829,
             "learn": [
              0.6622112551,
              0.8732541828
             ],
             "passed_time": 15.8249007,
             "remaining_time": 22.30739015,
             "test": [
              0.5839616175,
              1.004561464
             ]
            },
            {
             "iteration": 830,
             "learn": [
              0.6623483446,
              0.8731660251
             ],
             "passed_time": 15.84064543,
             "remaining_time": 22.28365163,
             "test": [
              0.5840986977,
              1.004470836
             ]
            },
            {
             "iteration": 831,
             "learn": [
              0.6624854342,
              0.8730769303
             ],
             "passed_time": 15.85769391,
             "remaining_time": 22.2617626,
             "test": [
              0.5845099383,
              1.004465548
             ]
            },
            {
             "iteration": 832,
             "learn": [
              0.6624854342,
              0.8730036329
             ],
             "passed_time": 15.87364493,
             "remaining_time": 22.2383477,
             "test": [
              0.5842357779,
              1.004489711
             ]
            },
            {
             "iteration": 833,
             "learn": [
              0.6625882514,
              0.8727970614
             ],
             "passed_time": 15.89057605,
             "remaining_time": 22.21632096,
             "test": [
              0.5843728581,
              1.004497341
             ]
            },
            {
             "iteration": 834,
             "learn": [
              0.6625882514,
              0.8727153297
             ],
             "passed_time": 15.90690282,
             "remaining_time": 22.19346322,
             "test": [
              0.5845099383,
              1.004441385
             ]
            },
            {
             "iteration": 835,
             "learn": [
              0.6626910686,
              0.8726035428
             ],
             "passed_time": 15.92353755,
             "remaining_time": 22.17104989,
             "test": [
              0.5842357779,
              1.004393059
             ]
            },
            {
             "iteration": 836,
             "learn": [
              0.6625197066,
              0.8724838572
             ],
             "passed_time": 15.93949,
             "remaining_time": 22.14770236,
             "test": [
              0.5842357779,
              1.004311199
             ]
            },
            {
             "iteration": 837,
             "learn": [
              0.662725341,
              0.8723935574
             ],
             "passed_time": 15.95620311,
             "remaining_time": 22.12542722,
             "test": [
              0.5842357779,
              1.004310463
             ]
            },
            {
             "iteration": 838,
             "learn": [
              0.6628281582,
              0.8723371954
             ],
             "passed_time": 15.97258417,
             "remaining_time": 22.10270587,
             "test": [
              0.5840986977,
              1.004292926
             ]
            },
            {
             "iteration": 839,
             "learn": [
              0.6625882514,
              0.8722462263
             ],
             "passed_time": 15.98953556,
             "remaining_time": 22.08078721,
             "test": [
              0.5843728581,
              1.004259392
             ]
            },
            {
             "iteration": 840,
             "learn": [
              0.6626910686,
              0.8721709877
             ],
             "passed_time": 16.00544192,
             "remaining_time": 22.05744017,
             "test": [
              0.5843728581,
              1.004144199
             ]
            },
            {
             "iteration": 841,
             "learn": [
              0.6627938858,
              0.87210994
             ],
             "passed_time": 16.02219044,
             "remaining_time": 22.03526904,
             "test": [
              0.5846470185,
              1.004107051
             ]
            },
            {
             "iteration": 842,
             "learn": [
              0.6629309754,
              0.8719022305
             ],
             "passed_time": 16.0399847,
             "remaining_time": 22.01454602,
             "test": [
              0.5845099383,
              1.003937575
             ]
            },
            {
             "iteration": 843,
             "learn": [
              0.6629652478,
              0.8717472684
             ],
             "passed_time": 16.05712748,
             "remaining_time": 21.99293764,
             "test": [
              0.5845099383,
              1.003842596
             ]
            },
            {
             "iteration": 844,
             "learn": [
              0.6639248749,
              0.8713960433
             ],
             "passed_time": 16.07461312,
             "remaining_time": 21.97180847,
             "test": [
              0.5846470185,
              1.00349762
             ]
            },
            {
             "iteration": 845,
             "learn": [
              0.6635821509,
              0.8712544019
             ],
             "passed_time": 16.09181615,
             "remaining_time": 21.95030241,
             "test": [
              0.5845099383,
              1.003409334
             ]
            },
            {
             "iteration": 846,
             "learn": [
              0.6634450613,
              0.8711488402
             ],
             "passed_time": 16.10777754,
             "remaining_time": 21.9271163,
             "test": [
              0.5845099383,
              1.003384703
             ]
            },
            {
             "iteration": 847,
             "learn": [
              0.6634793337,
              0.8710138257
             ],
             "passed_time": 16.12396467,
             "remaining_time": 21.90425389,
             "test": [
              0.5840986977,
              1.003414488
             ]
            },
            {
             "iteration": 848,
             "learn": [
              0.6636164233,
              0.8709092012
             ],
             "passed_time": 16.14062099,
             "remaining_time": 21.8820433,
             "test": [
              0.5839616175,
              1.003439856
             ]
            },
            {
             "iteration": 849,
             "learn": [
              0.6636849681,
              0.8707753916
             ],
             "passed_time": 16.15731186,
             "remaining_time": 21.85989252,
             "test": [
              0.5843728581,
              1.003404515
             ]
            },
            {
             "iteration": 850,
             "learn": [
              0.6636849681,
              0.8704894982
             ],
             "passed_time": 16.17406497,
             "remaining_time": 21.83783861,
             "test": [
              0.5839616175,
              1.003342534
             ]
            },
            {
             "iteration": 851,
             "learn": [
              0.6636849681,
              0.8704200832
             ],
             "passed_time": 16.1900507,
             "remaining_time": 21.81476315,
             "test": [
              0.5838245374,
              1.003352039
             ]
            },
            {
             "iteration": 852,
             "learn": [
              0.6639248749,
              0.870325968
             ],
             "passed_time": 16.20707492,
             "remaining_time": 21.79310075,
             "test": [
              0.5836874572,
              1.003342334
             ]
            },
            {
             "iteration": 853,
             "learn": [
              0.6644046885,
              0.8700346526
             ],
             "passed_time": 16.22452999,
             "remaining_time": 21.77202736,
             "test": [
              0.5839616175,
              1.003196217
             ]
            },
            {
             "iteration": 854,
             "learn": [
              0.6645075057,
              0.8699564018
             ],
             "passed_time": 16.24083961,
             "remaining_time": 21.74942848,
             "test": [
              0.5839616175,
              1.003185173
             ]
            },
            {
             "iteration": 855,
             "learn": [
              0.6644732333,
              0.8698057237
             ],
             "passed_time": 16.25773188,
             "remaining_time": 21.72762298,
             "test": [
              0.5840986977,
              1.003200903
             ]
            },
            {
             "iteration": 856,
             "learn": [
              0.6645075057,
              0.8695960061
             ],
             "passed_time": 16.27483944,
             "remaining_time": 21.70611608,
             "test": [
              0.5843728581,
              1.003245012
             ]
            },
            {
             "iteration": 857,
             "learn": [
              0.6647816848,
              0.8694185527
             ],
             "passed_time": 16.2919165,
             "remaining_time": 21.68457884,
             "test": [
              0.5846470185,
              1.003110074
             ]
            },
            {
             "iteration": 858,
             "learn": [
              0.6647474124,
              0.8692265737
             ],
             "passed_time": 16.32100329,
             "remaining_time": 21.67900437,
             "test": [
              0.5847840987,
              1.003076272
             ]
            },
            {
             "iteration": 859,
             "learn": [
              0.6649873192,
              0.8691234219
             ],
             "passed_time": 16.34190446,
             "remaining_time": 21.66252452,
             "test": [
              0.5847840987,
              1.003070315
             ]
            },
            {
             "iteration": 860,
             "learn": [
              0.665055864,
              0.868957348
             ],
             "passed_time": 16.36260988,
             "remaining_time": 21.64577544,
             "test": [
              0.5847840987,
              1.003029553
             ]
            },
            {
             "iteration": 861,
             "learn": [
              0.6651586812,
              0.8687986374
             ],
             "passed_time": 16.38474307,
             "remaining_time": 21.63090211,
             "test": [
              0.5842357779,
              1.003071453
             ]
            },
            {
             "iteration": 862,
             "learn": [
              0.6653643156,
              0.8686901973
             ],
             "passed_time": 16.4053482,
             "remaining_time": 21.61399873,
             "test": [
              0.5843728581,
              1.003042471
             ]
            },
            {
             "iteration": 863,
             "learn": [
              0.6652957708,
              0.8685774064
             ],
             "passed_time": 16.42242692,
             "remaining_time": 21.59245021,
             "test": [
              0.5838245374,
              1.003051841
             ]
            },
            {
             "iteration": 864,
             "learn": [
              0.6655014052,
              0.8684724471
             ],
             "passed_time": 16.43856616,
             "remaining_time": 21.5696793,
             "test": [
              0.5839616175,
              1.003036915
             ]
            },
            {
             "iteration": 865,
             "learn": [
              0.6655356776,
              0.8684199675
             ],
             "passed_time": 16.45416454,
             "remaining_time": 21.54621546,
             "test": [
              0.5840986977,
              1.003037652
             ]
            },
            {
             "iteration": 866,
             "learn": [
              0.6655014052,
              0.8683154099
             ],
             "passed_time": 16.47040131,
             "remaining_time": 21.52360402,
             "test": [
              0.5840986977,
              1.002969446
             ]
            },
            {
             "iteration": 867,
             "learn": [
              0.6659469463,
              0.8682076393
             ],
             "passed_time": 16.48732108,
             "remaining_time": 21.501898,
             "test": [
              0.5842357779,
              1.002857265
             ]
            },
            {
             "iteration": 868,
             "learn": [
              0.6657413119,
              0.867999796
             ],
             "passed_time": 16.50505341,
             "remaining_time": 21.48126054,
             "test": [
              0.5850582591,
              1.002826944
             ]
            },
            {
             "iteration": 869,
             "learn": [
              0.6658441291,
              0.8679170603
             ],
             "passed_time": 16.52088772,
             "remaining_time": 21.45816451,
             "test": [
              0.5846470185,
              1.002854722
             ]
            },
            {
             "iteration": 870,
             "learn": [
              0.6657070396,
              0.8677817111
             ],
             "passed_time": 16.53702296,
             "remaining_time": 21.43547522,
             "test": [
              0.5846470185,
              1.00282835
             ]
            },
            {
             "iteration": 871,
             "learn": [
              0.6654671328,
              0.8675856489
             ],
             "passed_time": 16.55361714,
             "remaining_time": 21.41339465,
             "test": [
              0.5845099383,
              1.002715901
             ]
            },
            {
             "iteration": 872,
             "learn": [
              0.6658784015,
              0.867436979
             ],
             "passed_time": 16.56971244,
             "remaining_time": 21.39068261,
             "test": [
              0.5847840987,
              1.002524471
             ]
            },
            {
             "iteration": 873,
             "learn": [
              0.6660154911,
              0.8673158876
             ],
             "passed_time": 16.58641033,
             "remaining_time": 21.36876205,
             "test": [
              0.5846470185,
              1.002482771
             ]
            },
            {
             "iteration": 874,
             "learn": [
              0.6660840359,
              0.8671125291
             ],
             "passed_time": 16.60313533,
             "remaining_time": 21.34688828,
             "test": [
              0.5843728581,
              1.00241731
             ]
            },
            {
             "iteration": 875,
             "learn": [
              0.6660497635,
              0.8670351485
             ],
             "passed_time": 16.61960535,
             "remaining_time": 21.3246991,
             "test": [
              0.5846470185,
              1.002382438
             ]
            },
            {
             "iteration": 876,
             "learn": [
              0.6659126739,
              0.8669393598
             ],
             "passed_time": 16.63595741,
             "remaining_time": 21.30237191,
             "test": [
              0.5845099383,
              1.002378355
             ]
            },
            {
             "iteration": 877,
             "learn": [
              0.6662211255,
              0.866645233
             ],
             "passed_time": 16.65303106,
             "remaining_time": 21.28098047,
             "test": [
              0.5846470185,
              1.002275143
             ]
            },
            {
             "iteration": 878,
             "learn": [
              0.6663582151,
              0.8665071394
             ],
             "passed_time": 16.66921539,
             "remaining_time": 21.25846467,
             "test": [
              0.5846470185,
              1.002301247
             ]
            },
            {
             "iteration": 879,
             "learn": [
              0.6664267599,
              0.8664128233
             ],
             "passed_time": 16.68594326,
             "remaining_time": 21.23665505,
             "test": [
              0.5843728581,
              1.002236188
             ]
            },
            {
             "iteration": 880,
             "learn": [
              0.6663582151,
              0.8662231872
             ],
             "passed_time": 16.70265878,
             "remaining_time": 21.21484129,
             "test": [
              0.5842357779,
              1.002199642
             ]
            },
            {
             "iteration": 881,
             "learn": [
              0.6663239427,
              0.8660624015
             ],
             "passed_time": 16.71950028,
             "remaining_time": 21.19319877,
             "test": [
              0.5840986977,
              1.002131972
             ]
            },
            {
             "iteration": 882,
             "learn": [
              0.6664610323,
              0.8659699597
             ],
             "passed_time": 16.73520392,
             "remaining_time": 21.17012772,
             "test": [
              0.5842357779,
              1.002165305
             ]
            },
            {
             "iteration": 883,
             "learn": [
              0.6669751182,
              0.8658272473
             ],
             "passed_time": 16.75180666,
             "remaining_time": 21.1482084,
             "test": [
              0.5836874572,
              1.002121932
             ]
            },
            {
             "iteration": 884,
             "learn": [
              0.6671807526,
              0.8655673929
             ],
             "passed_time": 16.76967175,
             "remaining_time": 21.12789153,
             "test": [
              0.5831391364,
              1.001979229
             ]
            },
            {
             "iteration": 885,
             "learn": [
              0.6672492974,
              0.8654461008
             ],
             "passed_time": 16.78710316,
             "remaining_time": 21.1070349,
             "test": [
              0.5834132968,
              1.001982977
             ]
            },
            {
             "iteration": 886,
             "learn": [
              0.6674892042,
              0.8653394681
             ],
             "passed_time": 16.80394809,
             "remaining_time": 21.08545008,
             "test": [
              0.5832762166,
              1.001977087
             ]
            },
            {
             "iteration": 887,
             "learn": [
              0.6678319282,
              0.8652391276
             ],
             "passed_time": 16.82052796,
             "remaining_time": 21.06354402,
             "test": [
              0.5827278958,
              1.001965976
             ]
            },
            {
             "iteration": 888,
             "learn": [
              0.6679690178,
              0.8650455421
             ],
             "passed_time": 16.83648932,
             "remaining_time": 21.04087697,
             "test": [
              0.582864976,
              1.001906271
             ]
            },
            {
             "iteration": 889,
             "learn": [
              0.6680032902,
              0.8648161447
             ],
             "passed_time": 16.85373767,
             "remaining_time": 21.01983013,
             "test": [
              0.5838245374,
              1.001850181
             ]
            },
            {
             "iteration": 890,
             "learn": [
              0.6681061073,
              0.8647278531
             ],
             "passed_time": 16.86988329,
             "remaining_time": 20.99741927,
             "test": [
              0.583550377,
              1.001885455
             ]
            },
            {
             "iteration": 891,
             "learn": [
              0.6682089245,
              0.8646420382
             ],
             "passed_time": 16.88589008,
             "remaining_time": 20.97485,
             "test": [
              0.5836874572,
              1.001849712
             ]
            },
            {
             "iteration": 892,
             "learn": [
              0.6685516485,
              0.8644027339
             ],
             "passed_time": 16.90276768,
             "remaining_time": 20.95337494,
             "test": [
              0.5836874572,
              1.001793488
             ]
            },
            {
             "iteration": 893,
             "learn": [
              0.6685516485,
              0.8642272886
             ],
             "passed_time": 16.92027162,
             "remaining_time": 20.93268502,
             "test": [
              0.5838245374,
              1.001793153
             ]
            },
            {
             "iteration": 894,
             "learn": [
              0.6686201933,
              0.86415861
             ],
             "passed_time": 16.93586156,
             "remaining_time": 20.90963913,
             "test": [
              0.5838245374,
              1.001779164
             ]
            },
            {
             "iteration": 895,
             "learn": [
              0.6686544657,
              0.8641067328
             ],
             "passed_time": 16.95195194,
             "remaining_time": 20.8872265,
             "test": [
              0.5838245374,
              1.00179322
             ]
            },
            {
             "iteration": 896,
             "learn": [
              0.6688943725,
              0.8639239913
             ],
             "passed_time": 16.96868742,
             "remaining_time": 20.86562121,
             "test": [
              0.583550377,
              1.001820529
             ]
            },
            {
             "iteration": 897,
             "learn": [
              0.6689286449,
              0.8638488866
             ],
             "passed_time": 16.9846801,
             "remaining_time": 20.84311522,
             "test": [
              0.583550377,
              1.001800784
             ]
            },
            {
             "iteration": 898,
             "learn": [
              0.6688601001,
              0.8636008133
             ],
             "passed_time": 17.00141465,
             "remaining_time": 20.8215323,
             "test": [
              0.583550377,
              1.001786125
             ]
            },
            {
             "iteration": 899,
             "learn": [
              0.6688258277,
              0.8635570357
             ],
             "passed_time": 17.01720902,
             "remaining_time": 20.79881102,
             "test": [
              0.583550377,
              1.001757411
             ]
            },
            {
             "iteration": 900,
             "learn": [
              0.6688943725,
              0.8634165323
             ],
             "passed_time": 17.03332152,
             "remaining_time": 20.77649317,
             "test": [
              0.5839616175,
              1.00169282
             ]
            },
            {
             "iteration": 901,
             "learn": [
              0.669202824,
              0.8631616982
             ],
             "passed_time": 17.04952646,
             "remaining_time": 20.75430161,
             "test": [
              0.582864976,
              1.001614708
             ]
            },
            {
             "iteration": 902,
             "learn": [
              0.6692713688,
              0.8630383979
             ],
             "passed_time": 17.06521007,
             "remaining_time": 20.73148997,
             "test": [
              0.582864976,
              1.001561764
             ]
            },
            {
             "iteration": 903,
             "learn": [
              0.6693056412,
              0.8629798269
             ],
             "passed_time": 17.08098912,
             "remaining_time": 20.70880982,
             "test": [
              0.5827278958,
              1.001526289
             ]
            },
            {
             "iteration": 904,
             "learn": [
              0.6693056412,
              0.8628944137
             ],
             "passed_time": 17.09664936,
             "remaining_time": 20.68600116,
             "test": [
              0.5825908156,
              1.001532715
             ]
            },
            {
             "iteration": 905,
             "learn": [
              0.669374186,
              0.8626682293
             ],
             "passed_time": 17.11391656,
             "remaining_time": 20.66514869,
             "test": [
              0.5834132968,
              1.001406076
             ]
            },
            {
             "iteration": 906,
             "learn": [
              0.6696826376,
              0.8624682846
             ],
             "passed_time": 17.13148277,
             "remaining_time": 20.64466447,
             "test": [
              0.5840986977,
              1.00128419
             ]
            },
            {
             "iteration": 907,
             "learn": [
              0.6694084584,
              0.8623483982
             ],
             "passed_time": 17.14783238,
             "remaining_time": 20.62272352,
             "test": [
              0.5842357779,
              1.001233588
             ]
            },
            {
             "iteration": 908,
             "learn": [
              0.6694770032,
              0.8621603686
             ],
             "passed_time": 17.16574386,
             "remaining_time": 20.60266948,
             "test": [
              0.5845099383,
              1.001362636
             ]
            },
            {
             "iteration": 909,
             "learn": [
              0.669545548,
              0.8620802435
             ],
             "passed_time": 17.18164809,
             "remaining_time": 20.58021584,
             "test": [
              0.5843728581,
              1.001317857
             ]
            },
            {
             "iteration": 910,
             "learn": [
              0.669545548,
              0.861988605
             ],
             "passed_time": 17.19804805,
             "remaining_time": 20.55836918,
             "test": [
              0.5842357779,
              1.00130601
             ]
            },
            {
             "iteration": 911,
             "learn": [
              0.6696483652,
              0.861931038
             ],
             "passed_time": 17.21359041,
             "remaining_time": 20.53551136,
             "test": [
              0.5845099383,
              1.001281245
             ]
            },
            {
             "iteration": 912,
             "learn": [
              0.6697854548,
              0.8618728687
             ],
             "passed_time": 17.2296998,
             "remaining_time": 20.51334467,
             "test": [
              0.5840986977,
              1.001220268
             ]
            },
            {
             "iteration": 913,
             "learn": [
              0.6697854548,
              0.861693541
             ],
             "passed_time": 17.24938068,
             "remaining_time": 20.49543482,
             "test": [
              0.5842357779,
              1.0011698
             ]
            },
            {
             "iteration": 914,
             "learn": [
              0.6698539996,
              0.8615772693
             ],
             "passed_time": 17.26598928,
             "remaining_time": 20.473878,
             "test": [
              0.5843728581,
              1.001112773
             ]
            },
            {
             "iteration": 915,
             "learn": [
              0.670059634,
              0.8614479445
             ],
             "passed_time": 17.28276729,
             "remaining_time": 20.45253247,
             "test": [
              0.5845099383,
              1.000994969
             ]
            },
            {
             "iteration": 916,
             "learn": [
              0.6698539996,
              0.8613265854
             ],
             "passed_time": 17.29894512,
             "remaining_time": 20.43048807,
             "test": [
              0.5839616175,
              1.00097335
             ]
            },
            {
             "iteration": 917,
             "learn": [
              0.670230996,
              0.8611931774
             ],
             "passed_time": 17.3156883,
             "remaining_time": 20.40912281,
             "test": [
              0.5843728581,
              1.000991087
             ]
            },
            {
             "iteration": 918,
             "learn": [
              0.6701624512,
              0.8611064924
             ],
             "passed_time": 17.33129732,
             "remaining_time": 20.38643352,
             "test": [
              0.5843728581,
              1.000955211
             ]
            },
            {
             "iteration": 919,
             "learn": [
              0.6703680855,
              0.8608638411
             ],
             "passed_time": 17.35839418,
             "remaining_time": 20.37724534,
             "test": [
              0.5839616175,
              1.001017994
             ]
            },
            {
             "iteration": 920,
             "learn": [
              0.6706422647,
              0.8607029884
             ],
             "passed_time": 17.37925792,
             "remaining_time": 20.36071584,
             "test": [
              0.5843728581,
              1.000992024
             ]
            },
            {
             "iteration": 921,
             "learn": [
              0.6707793543,
              0.860543006
             ],
             "passed_time": 17.4025815,
             "remaining_time": 20.34705299,
             "test": [
              0.5842357779,
              1.000886804
             ]
            },
            {
             "iteration": 922,
             "learn": [
              0.6708136267,
              0.8604685706
             ],
             "passed_time": 17.41905679,
             "remaining_time": 20.32537829,
             "test": [
              0.5838245374,
              1.00090153
             ]
            },
            {
             "iteration": 923,
             "learn": [
              0.6704023579,
              0.8601868943
             ],
             "passed_time": 17.43589793,
             "remaining_time": 20.30414089,
             "test": [
              0.5842357779,
              1.000905947
             ]
            },
            {
             "iteration": 924,
             "learn": [
              0.6704023579,
              0.8601287919
             ],
             "passed_time": 17.45246627,
             "remaining_time": 20.28259594,
             "test": [
              0.5842357779,
              1.000896175
             ]
            },
            {
             "iteration": 925,
             "learn": [
              0.6704023579,
              0.860038693
             ],
             "passed_time": 17.46931534,
             "remaining_time": 20.26138733,
             "test": [
              0.5839616175,
              1.000872012
             ]
            },
            {
             "iteration": 926,
             "learn": [
              0.6707108095,
              0.8598172612
             ],
             "passed_time": 17.48601996,
             "remaining_time": 20.24002094,
             "test": [
              0.5838245374,
              1.000810634
             ]
            },
            {
             "iteration": 927,
             "learn": [
              0.6709507163,
              0.8596713357
             ],
             "passed_time": 17.50280607,
             "remaining_time": 20.21875874,
             "test": [
              0.583550377,
              1.000788613
             ]
            },
            {
             "iteration": 928,
             "learn": [
              0.6707793543,
              0.8594687805
             ],
             "passed_time": 17.51999037,
             "remaining_time": 20.19796522,
             "test": [
              0.5836874572,
              1.000802535
             ]
            },
            {
             "iteration": 929,
             "learn": [
              0.6707450819,
              0.8593643568
             ],
             "passed_time": 17.53561497,
             "remaining_time": 20.17538497,
             "test": [
              0.5840986977,
              1.000697583
             ]
            },
            {
             "iteration": 930,
             "learn": [
              0.6711220783,
              0.8592420606
             ],
             "passed_time": 17.55220677,
             "remaining_time": 20.15393022,
             "test": [
              0.5845099383,
              1.000498121
             ]
            },
            {
             "iteration": 931,
             "learn": [
              0.6715676194,
              0.8590555705
             ],
             "passed_time": 17.56902249,
             "remaining_time": 20.13274252,
             "test": [
              0.5840986977,
              1.000468804
             ]
            },
            {
             "iteration": 932,
             "learn": [
              0.6713277127,
              0.858940169
             ],
             "passed_time": 17.58579848,
             "remaining_time": 20.11151874,
             "test": [
              0.5843728581,
              1.000430919
             ]
            },
            {
             "iteration": 933,
             "learn": [
              0.6713619851,
              0.8588531492
             ],
             "passed_time": 17.60194764,
             "remaining_time": 20.08958906,
             "test": [
              0.5846470185,
              1.000382861
             ]
            },
            {
             "iteration": 934,
             "learn": [
              0.6714305299,
              0.8587649246
             ],
             "passed_time": 17.61747445,
             "remaining_time": 20.06696288,
             "test": [
              0.5843728581,
              1.000309301
             ]
            },
            {
             "iteration": 935,
             "learn": [
              0.6714648022,
              0.8586713448
             ],
             "passed_time": 17.63303143,
             "remaining_time": 20.04438616,
             "test": [
              0.5843728581,
              1.000263986
             ]
            },
            {
             "iteration": 936,
             "learn": [
              0.6714990746,
              0.8584880009
             ],
             "passed_time": 17.6494302,
             "remaining_time": 20.0227794,
             "test": [
              0.5847840987,
              1.000134403
             ]
            },
            {
             "iteration": 937,
             "learn": [
              0.671533347,
              0.8583702565
             ],
             "passed_time": 17.66602228,
             "remaining_time": 20.00140262,
             "test": [
              0.5845099383,
              1.000060374
             ]
            },
            {
             "iteration": 938,
             "learn": [
              0.6714990746,
              0.8581825616
             ],
             "passed_time": 17.68296784,
             "remaining_time": 19.98043544,
             "test": [
              0.5839616175,
              0.9998792516
             ]
            },
            {
             "iteration": 939,
             "learn": [
              0.6714648022,
              0.8581237898
             ],
             "passed_time": 17.698918,
             "remaining_time": 19.95835434,
             "test": [
              0.5839616175,
              0.9998626521
             ]
            },
            {
             "iteration": 940,
             "learn": [
              0.6714305299,
              0.8580531699
             ],
             "passed_time": 17.71476139,
             "remaining_time": 19.93616611,
             "test": [
              0.5839616175,
              0.9998265079
             ]
            },
            {
             "iteration": 941,
             "learn": [
              0.6713962575,
              0.8579130681
             ],
             "passed_time": 17.73160889,
             "remaining_time": 19.91511912,
             "test": [
              0.5836874572,
              0.9997200164
             ]
            },
            {
             "iteration": 942,
             "learn": [
              0.6714305299,
              0.8578423812
             ],
             "passed_time": 17.74760754,
             "remaining_time": 19.89312955,
             "test": [
              0.583550377,
              0.9997147286
             ]
            },
            {
             "iteration": 943,
             "learn": [
              0.6714990746,
              0.857743982
             ],
             "passed_time": 17.76338774,
             "remaining_time": 19.87090832,
             "test": [
              0.5834132968,
              0.9996738321
             ]
            },
            {
             "iteration": 944,
             "learn": [
              0.6718075262,
              0.857628982
             ],
             "passed_time": 17.78004431,
             "remaining_time": 19.84967909,
             "test": [
              0.5840986977,
              0.9996858133
             ]
            },
            {
             "iteration": 945,
             "learn": [
              0.6718075262,
              0.857567198
             ],
             "passed_time": 17.7958094,
             "remaining_time": 19.82746628,
             "test": [
              0.5840986977,
              0.9996424402
             ]
            },
            {
             "iteration": 946,
             "learn": [
              0.6719103434,
              0.8574613686
             ],
             "passed_time": 17.81213626,
             "remaining_time": 19.80589174,
             "test": [
              0.5840986977,
              0.9996009414
             ]
            },
            {
             "iteration": 947,
             "learn": [
              0.6719446158,
              0.8573594216
             ],
             "passed_time": 17.8283025,
             "remaining_time": 19.78415003,
             "test": [
              0.5840986977,
              0.999575105
             ]
            },
            {
             "iteration": 948,
             "learn": [
              0.6721502502,
              0.8571592761
             ],
             "passed_time": 17.84508504,
             "remaining_time": 19.76310261,
             "test": [
              0.5836874572,
              0.9995753058
             ]
            },
            {
             "iteration": 949,
             "learn": [
              0.6721845226,
              0.8570085311
             ],
             "passed_time": 17.86207072,
             "remaining_time": 19.74228869,
             "test": [
              0.5838245374,
              0.999566002
             ]
            },
            {
             "iteration": 950,
             "learn": [
              0.6722873398,
              0.8568979491
             ],
             "passed_time": 17.87811856,
             "remaining_time": 19.72044834,
             "test": [
              0.5836874572,
              0.999485213
             ]
            },
            {
             "iteration": 951,
             "learn": [
              0.6722530674,
              0.8567202949
             ],
             "passed_time": 17.89466121,
             "remaining_time": 19.69916486,
             "test": [
              0.5843728581,
              0.9993999395
             ]
            },
            {
             "iteration": 952,
             "learn": [
              0.6722530674,
              0.8566528881
             ],
             "passed_time": 17.9104929,
             "remaining_time": 19.67711025,
             "test": [
              0.5843728581,
              0.9994008766
             ]
            },
            {
             "iteration": 953,
             "learn": [
              0.6721502502,
              0.856526107
             ],
             "passed_time": 17.92688855,
             "remaining_time": 19.65568703,
             "test": [
              0.5845099383,
              0.9993226311
             ]
            },
            {
             "iteration": 954,
             "learn": [
              0.6720817054,
              0.8563165233
             ],
             "passed_time": 17.94407988,
             "remaining_time": 19.635145,
             "test": [
              0.5847840987,
              0.9992047609
             ]
            },
            {
             "iteration": 955,
             "learn": [
              0.6721845226,
              0.8562434267
             ],
             "passed_time": 17.96007301,
             "remaining_time": 19.61330148,
             "test": [
              0.5849211789,
              0.9991338112
             ]
            },
            {
             "iteration": 956,
             "learn": [
              0.6721845226,
              0.8561264855
             ],
             "passed_time": 17.97562893,
             "remaining_time": 19.5909937,
             "test": [
              0.5849211789,
              0.9990361549
             ]
            },
            {
             "iteration": 957,
             "learn": [
              0.6723558846,
              0.8560810344
             ],
             "passed_time": 17.99159501,
             "remaining_time": 19.56914614,
             "test": [
              0.5850582591,
              0.9990333437
             ]
            },
            {
             "iteration": 958,
             "learn": [
              0.6728699705,
              0.855910141
             ],
             "passed_time": 18.00860092,
             "remaining_time": 19.54843959,
             "test": [
              0.5845099383,
              0.9990601841
             ]
            },
            {
             "iteration": 959,
             "learn": [
              0.6728699705,
              0.8557808832
             ],
             "passed_time": 18.02529611,
             "remaining_time": 19.52740412,
             "test": [
              0.5849211789,
              0.9990162756
             ]
            },
            {
             "iteration": 960,
             "learn": [
              0.6728699705,
              0.8555832145
             ],
             "passed_time": 18.0413368,
             "remaining_time": 19.50567006,
             "test": [
              0.5847840987,
              0.9989064374
             ]
            },
            {
             "iteration": 961,
             "learn": [
              0.6733497841,
              0.8554022134
             ],
             "passed_time": 18.05932161,
             "remaining_time": 19.48604556,
             "test": [
              0.5850582591,
              0.9988487406
             ]
            },
            {
             "iteration": 962,
             "learn": [
              0.6735211461,
              0.855240959
             ],
             "passed_time": 18.07657688,
             "remaining_time": 19.46563886,
             "test": [
              0.5846470185,
              0.9988374957
             ]
            },
            {
             "iteration": 963,
             "learn": [
              0.6735211461,
              0.8551837268
             ],
             "passed_time": 18.09229824,
             "remaining_time": 19.44359022,
             "test": [
              0.5846470185,
              0.9988747108
             ]
            },
            {
             "iteration": 964,
             "learn": [
              0.6737267805,
              0.8549803683
             ],
             "passed_time": 18.10899973,
             "remaining_time": 19.42260593,
             "test": [
              0.5845099383,
              0.9987789957
             ]
            },
            {
             "iteration": 965,
             "learn": [
              0.6736239633,
              0.8548335727
             ],
             "passed_time": 18.12549181,
             "remaining_time": 19.40140634,
             "test": [
              0.5847840987,
              0.9987451272
             ]
            },
            {
             "iteration": 966,
             "learn": [
              0.6737267805,
              0.854763823
             ],
             "passed_time": 18.14124354,
             "remaining_time": 19.37942562,
             "test": [
              0.5847840987,
              0.9987061049
             ]
            },
            {
             "iteration": 967,
             "learn": [
              0.6736925081,
              0.8546103336
             ],
             "passed_time": 18.15737583,
             "remaining_time": 19.35786349,
             "test": [
              0.5846470185,
              0.9986016214
             ]
            },
            {
             "iteration": 968,
             "learn": [
              0.6736925081,
              0.854498145
             ],
             "passed_time": 18.17373442,
             "remaining_time": 19.33655334,
             "test": [
              0.5845099383,
              0.9986128663
             ]
            },
            {
             "iteration": 969,
             "learn": [
              0.6738295976,
              0.8544184885
             ],
             "passed_time": 18.19025704,
             "remaining_time": 19.31542758,
             "test": [
              0.5845099383,
              0.9986433211
             ]
            },
            {
             "iteration": 970,
             "learn": [
              0.6739324148,
              0.8542751736
             ],
             "passed_time": 18.20628862,
             "remaining_time": 19.29379092,
             "test": [
              0.5846470185,
              0.9985522243
             ]
            },
            {
             "iteration": 971,
             "learn": [
              0.674206594,
              0.8541716201
             ],
             "passed_time": 18.22314266,
             "remaining_time": 19.27303566,
             "test": [
              0.5851953393,
              0.9985610596
             ]
            },
            {
             "iteration": 972,
             "learn": [
              0.6743094112,
              0.8540585614
             ],
             "passed_time": 18.23980777,
             "remaining_time": 19.25208899,
             "test": [
              0.5850582591,
              0.998649479
             ]
            },
            {
             "iteration": 973,
             "learn": [
              0.6744465008,
              0.8538820451
             ],
             "passed_time": 18.25588723,
             "remaining_time": 19.23053418,
             "test": [
              0.5849211789,
              0.9985021579
             ]
            },
            {
             "iteration": 974,
             "learn": [
              0.6744807732,
              0.8537561342
             ],
             "passed_time": 18.27393744,
             "remaining_time": 19.21106244,
             "test": [
              0.5849211789,
              0.9985370973
             ]
            },
            {
             "iteration": 975,
             "learn": [
              0.6748234972,
              0.8536343066
             ],
             "passed_time": 18.29081573,
             "remaining_time": 19.19036404,
             "test": [
              0.5847840987,
              0.9985755173
             ]
            },
            {
             "iteration": 976,
             "learn": [
              0.67472068,
              0.8535272723
             ],
             "passed_time": 18.30746293,
             "remaining_time": 19.1694315,
             "test": [
              0.5845099383,
              0.9985170842
             ]
            },
            {
             "iteration": 977,
             "learn": [
              0.6748920419,
              0.8533360965
             ],
             "passed_time": 18.32407092,
             "remaining_time": 19.14846675,
             "test": [
              0.5845099383,
              0.9984500835
             ]
            },
            {
             "iteration": 978,
             "learn": [
              0.6749605867,
              0.8532126624
             ],
             "passed_time": 18.34098412,
             "remaining_time": 19.12782919,
             "test": [
              0.5847840987,
              0.9984262551
             ]
            },
            {
             "iteration": 979,
             "learn": [
              0.6749948591,
              0.8530510064
             ],
             "passed_time": 18.35752353,
             "remaining_time": 19.1068102,
             "test": [
              0.5849211789,
              0.9983612625
             ]
            },
            {
             "iteration": 980,
             "learn": [
              0.6749605867,
              0.852925698
             ],
             "passed_time": 18.37391513,
             "remaining_time": 19.08564681,
             "test": [
              0.5850582591,
              0.9983459347
             ]
            },
            {
             "iteration": 981,
             "learn": [
              0.6749263143,
              0.8527188587
             ],
             "passed_time": 18.40705506,
             "remaining_time": 19.08185545,
             "test": [
              0.5850582591,
              0.9983500177
             ]
            },
            {
             "iteration": 982,
             "learn": [
              0.6747549524,
              0.8525843797
             ],
             "passed_time": 18.42998297,
             "remaining_time": 19.06743914,
             "test": [
              0.5854694997,
              0.9982829501
             ]
            },
            {
             "iteration": 983,
             "learn": [
              0.6748577696,
              0.8524855119
             ],
             "passed_time": 18.45384463,
             "remaining_time": 19.05396966,
             "test": [
              0.5854694997,
              0.9981665524
             ]
            },
            {
             "iteration": 984,
             "learn": [
              0.6748234972,
              0.8524215858
             ],
             "passed_time": 18.46979765,
             "remaining_time": 19.03232956,
             "test": [
              0.5856065798,
              0.9982456011
             ]
            },
            {
             "iteration": 985,
             "learn": [
              0.6748234972,
              0.8523146854
             ],
             "passed_time": 18.48618744,
             "remaining_time": 19.01115017,
             "test": [
              0.5861549006,
              0.9981623356
             ]
            },
            {
             "iteration": 986,
             "learn": [
              0.6748234972,
              0.8522492198
             ],
             "passed_time": 18.50206548,
             "remaining_time": 18.98945525,
             "test": [
              0.5862919808,
              0.9981737143
             ]
            },
            {
             "iteration": 987,
             "learn": [
              0.6746864076,
              0.8521970079
             ],
             "passed_time": 18.51881488,
             "remaining_time": 18.96866464,
             "test": [
              0.5861549006,
              0.9981819472
             ]
            },
            {
             "iteration": 988,
             "learn": [
              0.6746864076,
              0.8520973368
             ],
             "passed_time": 18.53654362,
             "remaining_time": 18.94888332,
             "test": [
              0.5861549006,
              0.9981674895
             ]
            },
            {
             "iteration": 989,
             "learn": [
              0.6748577696,
              0.8520115889
             ],
             "passed_time": 18.55290013,
             "remaining_time": 18.92770619,
             "test": [
              0.5861549006,
              0.9981379048
             ]
            },
            {
             "iteration": 990,
             "learn": [
              0.6749948591,
              0.8518511378
             ],
             "passed_time": 18.56913787,
             "remaining_time": 18.90641787,
             "test": [
              0.5858807402,
              0.9981725765
             ]
            },
            {
             "iteration": 991,
             "learn": [
              0.6749605867,
              0.8517799155
             ],
             "passed_time": 18.58571966,
             "remaining_time": 18.88548933,
             "test": [
              0.5860178204,
              0.9982193631
             ]
            },
            {
             "iteration": 992,
             "learn": [
              0.6751319487,
              0.8516824534
             ],
             "passed_time": 18.60166112,
             "remaining_time": 18.86392019,
             "test": [
              0.5861549006,
              0.9981628041
             ]
            },
            {
             "iteration": 993,
             "learn": [
              0.6753033107,
              0.8516112311
             ],
             "passed_time": 18.61749828,
             "remaining_time": 18.84225681,
             "test": [
              0.5862919808,
              0.9981589889
             ]
            },
            {
             "iteration": 994,
             "learn": [
              0.6754061279,
              0.8515096188
             ],
             "passed_time": 18.63329647,
             "remaining_time": 18.82056578,
             "test": [
              0.5862919808,
              0.9981537012
             ]
            },
            {
             "iteration": 995,
             "learn": [
              0.6754061279,
              0.8513877242
             ],
             "passed_time": 18.64985904,
             "remaining_time": 18.7996571,
             "test": [
              0.5865661412,
              0.9981409168
             ]
            },
            {
             "iteration": 996,
             "learn": [
              0.6754404003,
              0.85132179
             ],
             "passed_time": 18.66573493,
             "remaining_time": 18.77806634,
             "test": [
              0.5862919808,
              0.9981315461
             ]
            },
            {
             "iteration": 997,
             "learn": [
              0.6757488519,
              0.8511754629
             ],
             "passed_time": 18.68240453,
             "remaining_time": 18.7572839,
             "test": [
              0.5856065798,
              0.9980565804
             ]
            },
            {
             "iteration": 998,
             "learn": [
              0.6757145795,
              0.8510641445
             ],
             "passed_time": 18.69883099,
             "remaining_time": 18.73626609,
             "test": [
              0.5854694997,
              0.9980005569
             ]
            },
            {
             "iteration": 999,
             "learn": [
              0.6757145795,
              0.8510049042
             ],
             "passed_time": 18.71468789,
             "remaining_time": 18.71468789,
             "test": [
              0.5854694997,
              0.9979861661
             ]
            },
            {
             "iteration": 1000,
             "learn": [
              0.6758516691,
              0.850924846
             ],
             "passed_time": 18.73092947,
             "remaining_time": 18.69350504,
             "test": [
              0.5854694997,
              0.9979652159
             ]
            },
            {
             "iteration": 1001,
             "learn": [
              0.6760230311,
              0.8508587779
             ],
             "passed_time": 18.74743566,
             "remaining_time": 18.6725956,
             "test": [
              0.5851953393,
              0.997922713
             ]
            },
            {
             "iteration": 1002,
             "learn": [
              0.6760573034,
              0.8506437722
             ],
             "passed_time": 18.7632219,
             "remaining_time": 18.6509793,
             "test": [
              0.5856065798,
              0.9977237861
             ]
            },
            {
             "iteration": 1003,
             "learn": [
              0.6762972102,
              0.8505806494
             ],
             "passed_time": 18.77910399,
             "remaining_time": 18.62946969,
             "test": [
              0.5854694997,
              0.9976955401
             ]
            },
            {
             "iteration": 1004,
             "learn": [
              0.6762972102,
              0.8504384055
             ],
             "passed_time": 18.79589422,
             "remaining_time": 18.60887039,
             "test": [
              0.5853324195,
              0.9976601991
             ]
            },
            {
             "iteration": 1005,
             "learn": [
              0.6764342998,
              0.850316444
             ],
             "passed_time": 18.81273107,
             "remaining_time": 18.58832474,
             "test": [
              0.5851953393,
              0.9977361019
             ]
            },
            {
             "iteration": 1006,
             "learn": [
              0.6764685722,
              0.8501958212
             ],
             "passed_time": 18.82964246,
             "remaining_time": 18.56785995,
             "test": [
              0.5850582591,
              0.9978480819
             ]
            },
            {
             "iteration": 1007,
             "learn": [
              0.6766056618,
              0.8500990954
             ],
             "passed_time": 18.84614529,
             "remaining_time": 18.54700013,
             "test": [
              0.58574366,
              0.99778744
             ]
            },
            {
             "iteration": 1008,
             "learn": [
              0.6765713894,
              0.8499592614
             ],
             "passed_time": 18.86242556,
             "remaining_time": 18.52593035,
             "test": [
              0.5856065798,
              0.9976377763
             ]
            },
            {
             "iteration": 1009,
             "learn": [
              0.6765713894,
              0.8498822823
             ],
             "passed_time": 18.87876477,
             "remaining_time": 18.50492784,
             "test": [
              0.5854694997,
              0.9976733181
             ]
            },
            {
             "iteration": 1010,
             "learn": [
              0.6767770238,
              0.8495769769
             ],
             "passed_time": 18.89580096,
             "remaining_time": 18.48461637,
             "test": [
              0.58574366,
              0.9974858368
             ]
            },
            {
             "iteration": 1011,
             "learn": [
              0.6769141134,
              0.8494732225
             ],
             "passed_time": 18.91340422,
             "remaining_time": 18.46486499,
             "test": [
              0.58574366,
              0.9975002276
             ]
            },
            {
             "iteration": 1012,
             "learn": [
              0.6769826582,
              0.8493596952
             ],
             "passed_time": 18.92994244,
             "remaining_time": 18.44408015,
             "test": [
              0.5860178204,
              0.9974696389
             ]
            },
            {
             "iteration": 1013,
             "learn": [
              0.6768455686,
              0.8492177192
             ],
             "passed_time": 18.94974524,
             "remaining_time": 18.42647811,
             "test": [
              0.5865661412,
              0.9974439363
             ]
            },
            {
             "iteration": 1014,
             "learn": [
              0.6771197478,
              0.8491197885
             ],
             "passed_time": 18.96593903,
             "remaining_time": 18.4053694,
             "test": [
              0.5865661412,
              0.997467497
             ]
            },
            {
             "iteration": 1015,
             "learn": [
              0.6771882925,
              0.8489577309
             ],
             "passed_time": 18.98322584,
             "remaining_time": 18.38532897,
             "test": [
              0.5854694997,
              0.9975709765
             ]
            },
            {
             "iteration": 1016,
             "learn": [
              0.6772568373,
              0.8488797478
             ],
             "passed_time": 18.99949507,
             "remaining_time": 18.36431038,
             "test": [
              0.5853324195,
              0.9975313517
             ]
            },
            {
             "iteration": 1017,
             "learn": [
              0.6773596545,
              0.8488065843
             ],
             "passed_time": 19.01531875,
             "remaining_time": 18.34287133,
             "test": [
              0.5853324195,
              0.9975161578
             ]
            },
            {
             "iteration": 1018,
             "learn": [
              0.6773939269,
              0.8486751844
             ],
             "passed_time": 19.0312686,
             "remaining_time": 18.32156477,
             "test": [
              0.5856065798,
              0.9975762642
             ]
            },
            {
             "iteration": 1019,
             "learn": [
              0.6774281993,
              0.8485998789
             ],
             "passed_time": 19.04691775,
             "remaining_time": 18.2999798,
             "test": [
              0.5856065798,
              0.997576465
             ]
            },
            {
             "iteration": 1020,
             "learn": [
              0.6774967441,
              0.8485134616
             ],
             "passed_time": 19.06314083,
             "remaining_time": 18.27895678,
             "test": [
              0.5856065798,
              0.9976085263
             ]
            },
            {
             "iteration": 1021,
             "learn": [
              0.6773939269,
              0.8483078941
             ],
             "passed_time": 19.0801776,
             "remaining_time": 18.25872182,
             "test": [
              0.58574366,
              0.9974709776
             ]
            },
            {
             "iteration": 1022,
             "learn": [
              0.6776338337,
              0.8481771637
             ],
             "passed_time": 19.09681504,
             "remaining_time": 18.23811172,
             "test": [
              0.5854694997,
              0.9974456766
             ]
            },
            {
             "iteration": 1023,
             "learn": [
              0.6777366509,
              0.8481061421
             ],
             "passed_time": 19.11246916,
             "remaining_time": 18.21657217,
             "test": [
              0.5854694997,
              0.9974834942
             ]
            },
            {
             "iteration": 1024,
             "learn": [
              0.6777366509,
              0.8480321084
             ],
             "passed_time": 19.1308796,
             "remaining_time": 18.19766596,
             "test": [
              0.5856065798,
              0.9974374438
             ]
            },
            {
             "iteration": 1025,
             "learn": [
              0.6778737405,
              0.8477434036
             ],
             "passed_time": 19.14837078,
             "remaining_time": 18.17788805,
             "test": [
              0.5860178204,
              0.9974498265
             ]
            },
            {
             "iteration": 1026,
             "learn": [
              0.6778394681,
              0.8476639479
             ],
             "passed_time": 19.16428822,
             "remaining_time": 18.1566236,
             "test": [
              0.5860178204,
              0.9973394529
             ]
            },
            {
             "iteration": 1027,
             "learn": [
              0.6778394681,
              0.8475236453
             ],
             "passed_time": 19.18055477,
             "remaining_time": 18.13569964,
             "test": [
              0.58574366,
              0.9974005633
             ]
            },
            {
             "iteration": 1028,
             "learn": [
              0.6780108301,
              0.8473776529
             ],
             "passed_time": 19.19745569,
             "remaining_time": 18.11538336,
             "test": [
              0.5856065798,
              0.997311006
             ]
            },
            {
             "iteration": 1029,
             "learn": [
              0.6780793749,
              0.8472893613
             ],
             "passed_time": 19.21376197,
             "remaining_time": 18.0945137,
             "test": [
              0.5856065798,
              0.9973108052
             ]
            },
            {
             "iteration": 1030,
             "learn": [
              0.6781479197,
              0.8471483893
             ],
             "passed_time": 19.23004814,
             "remaining_time": 18.07363399,
             "test": [
              0.58574366,
              0.9972588647
             ]
            },
            {
             "iteration": 1031,
             "learn": [
              0.6779422853,
              0.8470723474
             ],
             "passed_time": 19.24617422,
             "remaining_time": 18.05261303,
             "test": [
              0.5854694997,
              0.9972536439
             ]
            },
            {
             "iteration": 1032,
             "learn": [
              0.6779422853,
              0.8469137706
             ],
             "passed_time": 19.2632573,
             "remaining_time": 18.03249739,
             "test": [
              0.5853324195,
              0.9971194418
             ]
            },
            {
             "iteration": 1033,
             "learn": [
              0.6779422853,
              0.846806
             ],
             "passed_time": 19.27972358,
             "remaining_time": 18.0118114,
             "test": [
              0.5853324195,
              0.9970977553
             ]
            },
            {
             "iteration": 1034,
             "learn": [
              0.6780451025,
              0.8466308895
             ],
             "passed_time": 19.29549367,
             "remaining_time": 17.99048443,
             "test": [
              0.5851953393,
              0.9970005007
             ]
            },
            {
             "iteration": 1035,
             "learn": [
              0.6781136473,
              0.8463810089
             ],
             "passed_time": 19.31297835,
             "remaining_time": 17.97076364,
             "test": [
              0.58574366,
              0.9970719858
             ]
            },
            {
             "iteration": 1036,
             "learn": [
              0.6780451025,
              0.8462821411
             ],
             "passed_time": 19.32976141,
             "remaining_time": 17.9503956,
             "test": [
              0.58574366,
              0.9970723874
             ]
            },
            {
             "iteration": 1037,
             "learn": [
              0.6782850093,
              0.8461133228
             ],
             "passed_time": 19.34576258,
             "remaining_time": 17.92930983,
             "test": [
              0.5862919808,
              0.9969796174
             ]
            },
            {
             "iteration": 1038,
             "learn": [
              0.6782850093,
              0.8459469142
             ],
             "passed_time": 19.36271888,
             "remaining_time": 17.90911727,
             "test": [
              0.586429061,
              0.9969827632
             ]
            },
            {
             "iteration": 1039,
             "learn": [
              0.6785591884,
              0.8456246064
             ],
             "passed_time": 19.38088249,
             "remaining_time": 17.89004538,
             "test": [
              0.5861549006,
              0.9969543164
             ]
            },
            {
             "iteration": 1040,
             "learn": [
              0.6785934608,
              0.8452046357
             ],
             "passed_time": 19.39766718,
             "remaining_time": 17.86970492,
             "test": [
              0.5865661412,
              0.9965720581
             ]
            },
            {
             "iteration": 1041,
             "learn": [
              0.6790047296,
              0.8449704186
             ],
             "passed_time": 19.41543513,
             "remaining_time": 17.85027529,
             "test": [
              0.5867032214,
              0.996537855
             ]
            },
            {
             "iteration": 1042,
             "learn": [
              0.6791418192,
              0.8448818593
             ],
             "passed_time": 19.43145323,
             "remaining_time": 17.82924328,
             "test": [
              0.5868403016,
              0.9966157658
             ]
            },
            {
             "iteration": 1043,
             "learn": [
              0.6791760916,
              0.8446675229
             ],
             "passed_time": 19.46091953,
             "remaining_time": 17.8205355,
             "test": [
              0.587114462,
              0.9966182424
             ]
            },
            {
             "iteration": 1044,
             "learn": [
              0.6787990952,
              0.8443267402
             ],
             "passed_time": 19.48979794,
             "remaining_time": 17.81125075,
             "test": [
              0.5872515422,
              0.9966394604
             ]
            },
            {
             "iteration": 1045,
             "learn": [
              0.67886764,
              0.8441212397
             ],
             "passed_time": 19.5160588,
             "remaining_time": 17.7995412,
             "test": [
              0.5872515422,
              0.9967683746
             ]
            },
            {
             "iteration": 1046,
             "learn": [
              0.6789361848,
              0.8440466035
             ],
             "passed_time": 19.53206351,
             "remaining_time": 17.7784685,
             "test": [
              0.5872515422,
              0.9967612127
             ]
            },
            {
             "iteration": 1047,
             "learn": [
              0.6790732744,
              0.8439273864
             ],
             "passed_time": 19.54991528,
             "remaining_time": 17.75908335,
             "test": [
              0.5872515422,
              0.9968247997
             ]
            },
            {
             "iteration": 1048,
             "learn": [
              0.6789704572,
              0.8438255064
             ],
             "passed_time": 19.56648311,
             "remaining_time": 17.73853712,
             "test": [
              0.5873886223,
              0.9968135549
             ]
            },
            {
             "iteration": 1049,
             "learn": [
              0.6791760916,
              0.8437327299
             ],
             "passed_time": 19.58253666,
             "remaining_time": 17.71753317,
             "test": [
              0.5872515422,
              0.9967980263
             ]
            },
            {
             "iteration": 1050,
             "learn": [
              0.6792446364,
              0.8435878086
             ],
             "passed_time": 19.59981216,
             "remaining_time": 17.697642,
             "test": [
              0.5873886223,
              0.9968046527
             ]
            },
            {
             "iteration": 1051,
             "learn": [
              0.679210364,
              0.8434930909
             ],
             "passed_time": 19.61642062,
             "remaining_time": 17.67715471,
             "test": [
              0.587114462,
              0.9967072642
             ]
            },
            {
             "iteration": 1052,
             "learn": [
              0.6792789088,
              0.8433711963
             ],
             "passed_time": 19.63369166,
             "remaining_time": 17.65727066,
             "test": [
              0.587114462,
              0.9967502356
             ]
            },
            {
             "iteration": 1053,
             "learn": [
              0.679381726,
              0.8431614117
             ],
             "passed_time": 19.65160677,
             "remaining_time": 17.63796964,
             "test": [
              0.5869773818,
              0.996664092
             ]
            },
            {
             "iteration": 1054,
             "learn": [
              0.679381726,
              0.8429347587
             ],
             "passed_time": 19.6701109,
             "remaining_time": 17.61919887,
             "test": [
              0.5872515422,
              0.9966602767
             ]
            },
            {
             "iteration": 1055,
             "learn": [
              0.6797929947,
              0.842627579
             ],
             "passed_time": 19.68902931,
             "remaining_time": 17.60079893,
             "test": [
              0.5867032214,
              0.996537855
             ]
            },
            {
             "iteration": 1056,
             "learn": [
              0.6798958119,
              0.8424919621
             ],
             "passed_time": 19.70609036,
             "remaining_time": 17.58074097,
             "test": [
              0.5867032214,
              0.9963638274
             ]
            },
            {
             "iteration": 1057,
             "learn": [
              0.6800329015,
              0.8424127741
             ],
             "passed_time": 19.72200073,
             "remaining_time": 17.55966417,
             "test": [
              0.5865661412,
              0.9963203205
             ]
            },
            {
             "iteration": 1058,
             "learn": [
              0.6801357187,
              0.8423570814
             ],
             "passed_time": 19.73812194,
             "remaining_time": 17.53878446,
             "test": [
              0.5867032214,
              0.9963256752
             ]
            },
            {
             "iteration": 1059,
             "learn": [
              0.6804098979,
              0.8421794272
             ],
             "passed_time": 19.75537769,
             "remaining_time": 17.51891984,
             "test": [
              0.5869773818,
              0.9963326363
             ]
            },
            {
             "iteration": 1060,
             "learn": [
              0.6804441703,
              0.8420726607
             ],
             "passed_time": 19.77569364,
             "remaining_time": 17.50176845,
             "test": [
              0.587114462,
              0.9962969607
             ]
            },
            {
             "iteration": 1061,
             "learn": [
              0.6803413531,
              0.8419413278
             ],
             "passed_time": 19.79107325,
             "remaining_time": 17.48025114,
             "test": [
              0.5872515422,
              0.9961508444
             ]
            },
            {
             "iteration": 1062,
             "learn": [
              0.6807183494,
              0.8415139269
             ],
             "passed_time": 19.80830358,
             "remaining_time": 17.46037672,
             "test": [
              0.5876627827,
              0.9961529863
             ]
            },
            {
             "iteration": 1063,
             "learn": [
              0.680855439,
              0.841390158
             ],
             "passed_time": 19.82519958,
             "remaining_time": 17.44021316,
             "test": [
              0.5875257025,
              0.9960659725
             ]
            },
            {
             "iteration": 1064,
             "learn": [
              0.6808897114,
              0.8412685981
             ],
             "passed_time": 19.84167288,
             "remaining_time": 17.41968464,
             "test": [
              0.5875257025,
              0.996109948
             ]
            },
            {
             "iteration": 1065,
             "learn": [
              0.6809582562,
              0.8411792355
             ],
             "passed_time": 19.85728077,
             "remaining_time": 17.39840547,
             "test": [
              0.5876627827,
              0.9960455577
             ]
            },
            {
             "iteration": 1066,
             "learn": [
              0.6810610734,
              0.8411145062
             ],
             "passed_time": 19.87345655,
             "remaining_time": 17.37763352,
             "test": [
              0.5876627827,
              0.996000913
             ]
            },
            {
             "iteration": 1067,
             "learn": [
              0.6811296182,
              0.8409782868
             ],
             "passed_time": 19.89012267,
             "remaining_time": 17.35729806,
             "test": [
              0.5877998629,
              0.9960335766
             ]
            },
            {
             "iteration": 1068,
             "learn": [
              0.6811638906,
              0.8407865087
             ],
             "passed_time": 19.90705127,
             "remaining_time": 17.33719807,
             "test": [
              0.5875257025,
              0.9960796939
             ]
            },
            {
             "iteration": 1069,
             "learn": [
              0.6814037974,
              0.8406665553
             ],
             "passed_time": 19.92268288,
             "remaining_time": 17.31597671,
             "test": [
              0.5875257025,
              0.9959977671
             ]
            },
            {
             "iteration": 1070,
             "learn": [
              0.681369525,
              0.840625656
             ],
             "passed_time": 19.93848166,
             "remaining_time": 17.2949108,
             "test": [
              0.5875257025,
              0.9960001767
             ]
            },
            {
             "iteration": 1071,
             "learn": [
              0.6814380698,
              0.8405253825
             ],
             "passed_time": 19.95524923,
             "remaining_time": 17.27469336,
             "test": [
              0.5876627827,
              0.9959972316
             ]
            },
            {
             "iteration": 1072,
             "learn": [
              0.681712249,
              0.8404850856
             ],
             "passed_time": 19.97154291,
             "remaining_time": 17.25407295,
             "test": [
              0.5877998629,
              0.9960043935
             ]
            },
            {
             "iteration": 1073,
             "learn": [
              0.6816779766,
              0.8402957172
             ],
             "passed_time": 19.98819154,
             "remaining_time": 17.23376663,
             "test": [
              0.5879369431,
              0.996004929
             ]
            },
            {
             "iteration": 1074,
             "learn": [
              0.6816779766,
              0.8401045415
             ],
             "passed_time": 20.00497529,
             "remaining_time": 17.21358339,
             "test": [
              0.5872515422,
              0.9960140989
             ]
            },
            {
             "iteration": 1075,
             "learn": [
              0.6819521557,
              0.8399197249
             ],
             "passed_time": 20.02123568,
             "remaining_time": 17.19295703,
             "test": [
              0.5873886223,
              0.9959993066
             ]
            },
            {
             "iteration": 1076,
             "learn": [
              0.6820207005,
              0.8397939479
             ],
             "passed_time": 20.03813369,
             "remaining_time": 17.17288524,
             "test": [
              0.5873886223,
              0.9959974994
             ]
            },
            {
             "iteration": 1077,
             "learn": [
              0.6818836109,
              0.8395980196
             ],
             "passed_time": 20.05468544,
             "remaining_time": 17.15252317,
             "test": [
              0.5873886223,
              0.9959698557
             ]
            },
            {
             "iteration": 1078,
             "learn": [
              0.6819521557,
              0.8394908514
             ],
             "passed_time": 20.07101035,
             "remaining_time": 17.13197454,
             "test": [
              0.5872515422,
              0.9960103506
             ]
            },
            {
             "iteration": 1079,
             "learn": [
              0.6822606073,
              0.8393686891
             ],
             "passed_time": 20.08737931,
             "remaining_time": 17.11147127,
             "test": [
              0.5873886223,
              0.995978691
             ]
            },
            {
             "iteration": 1080,
             "learn": [
              0.6823291521,
              0.8392957263
             ],
             "passed_time": 20.10383753,
             "remaining_time": 17.09105152,
             "test": [
              0.5875257025,
              0.9960351161
             ]
            },
            {
             "iteration": 1081,
             "learn": [
              0.6824662417,
              0.8391696146
             ],
             "passed_time": 20.12054631,
             "remaining_time": 17.07085167,
             "test": [
              0.5877998629,
              0.9959900028
             ]
            },
            {
             "iteration": 1082,
             "learn": [
              0.6827061485,
              0.8390605722
             ],
             "passed_time": 20.13685838,
             "remaining_time": 17.05032238,
             "test": [
              0.5877998629,
              0.9959604181
             ]
            },
            {
             "iteration": 1083,
             "learn": [
              0.6827061485,
              0.8390342654
             ],
             "passed_time": 20.15264533,
             "remaining_time": 17.02935712,
             "test": [
              0.5877998629,
              0.9959687179
             ]
            },
            {
             "iteration": 1084,
             "learn": [
              0.6825690589,
              0.8389829238
             ],
             "passed_time": 20.16832215,
             "remaining_time": 17.00830854,
             "test": [
              0.5877998629,
              0.9959833094
             ]
            },
            {
             "iteration": 1085,
             "learn": [
              0.6824662417,
              0.8389065472
             ],
             "passed_time": 20.18493176,
             "remaining_time": 16.98805491,
             "test": [
              0.5877998629,
              0.9959488386
             ]
            },
            {
             "iteration": 1086,
             "learn": [
              0.6825005141,
              0.8388608284
             ],
             "passed_time": 20.20071699,
             "remaining_time": 16.96711556,
             "test": [
              0.5880740233,
              0.9959249432
             ]
            },
            {
             "iteration": 1087,
             "learn": [
              0.6823976969,
              0.8386936166
             ],
             "passed_time": 20.21753759,
             "remaining_time": 16.94705357,
             "test": [
              0.5883481837,
              0.9958233379
             ]
            },
            {
             "iteration": 1088,
             "learn": [
              0.6824319693,
              0.8385829676
             ],
             "passed_time": 20.23297335,
             "remaining_time": 16.92583905,
             "test": [
              0.5886223441,
              0.995800045
             ]
            },
            {
             "iteration": 1089,
             "learn": [
              0.6824662417,
              0.8384169607
             ],
             "passed_time": 20.24979709,
             "remaining_time": 16.9057939,
             "test": [
              0.5888965045,
              0.9956489087
             ]
            },
            {
             "iteration": 1090,
             "learn": [
              0.6823634245,
              0.8382834857
             ],
             "passed_time": 20.26733412,
             "remaining_time": 16.88634896,
             "test": [
              0.5888965045,
              0.9954788971
             ]
            },
            {
             "iteration": 1091,
             "learn": [
              0.6825690589,
              0.8380617192
             ],
             "passed_time": 20.28422722,
             "remaining_time": 16.86637208,
             "test": [
              0.5886223441,
              0.9956087485
             ]
            },
            {
             "iteration": 1092,
             "learn": [
              0.6828432381,
              0.8378203398
             ],
             "passed_time": 20.30126149,
             "remaining_time": 16.84651799,
             "test": [
              0.5879369431,
              0.9954728731
             ]
            },
            {
             "iteration": 1093,
             "learn": [
              0.6829803276,
              0.8376230058
             ],
             "passed_time": 20.31784958,
             "remaining_time": 16.82629956,
             "test": [
              0.5884852639,
              0.9952392745
             ]
            },
            {
             "iteration": 1094,
             "learn": [
              0.6830831448,
              0.8374411345
             ],
             "passed_time": 20.33427687,
             "remaining_time": 16.80595485,
             "test": [
              0.5886223441,
              0.9951975749
             ]
            },
            {
             "iteration": 1095,
             "learn": [
              0.6833915964,
              0.8372433988
             ],
             "passed_time": 20.35182546,
             "remaining_time": 16.78654216,
             "test": [
              0.5884852639,
              0.9951258889
             ]
            },
            {
             "iteration": 1096,
             "learn": [
              0.6835629584,
              0.8368095719
             ],
             "passed_time": 20.36959531,
             "remaining_time": 16.76731501,
             "test": [
              0.5882111035,
              0.9951910154
             ]
            },
            {
             "iteration": 1097,
             "learn": [
              0.6835629584,
              0.8367318565
             ],
             "passed_time": 20.38524619,
             "remaining_time": 16.74634978,
             "test": [
              0.5883481837,
              0.995156009
             ]
            },
            {
             "iteration": 1098,
             "learn": [
              0.6837343204,
              0.8366414229
             ],
             "passed_time": 20.40135917,
             "remaining_time": 16.72577308,
             "test": [
              0.5882111035,
              0.9950758225
             ]
            },
            {
             "iteration": 1099,
             "learn": [
              0.6836315032,
              0.8364861261
             ],
             "passed_time": 20.41768717,
             "remaining_time": 16.70538041,
             "test": [
              0.5884852639,
              0.9950212046
             ]
            },
            {
             "iteration": 1100,
             "learn": [
              0.683700048,
              0.8363695866
             ],
             "passed_time": 20.43439972,
             "remaining_time": 16.68530913,
             "test": [
              0.5883481837,
              0.9950977098
             ]
            },
            {
             "iteration": 1101,
             "learn": [
              0.6835972308,
              0.8362859137
             ],
             "passed_time": 20.45036525,
             "remaining_time": 16.6646352,
             "test": [
              0.5887594243,
              0.9950370679
             ]
            },
            {
             "iteration": 1102,
             "learn": [
              0.6834258688,
              0.8361772729
             ],
             "passed_time": 20.46732788,
             "remaining_time": 16.6447807,
             "test": [
              0.5888965045,
              0.9950501199
             ]
            },
            {
             "iteration": 1103,
             "learn": [
              0.6834944136,
              0.8360895838
             ],
             "passed_time": 20.48309267,
             "remaining_time": 16.62395927,
             "test": [
              0.5887594243,
              0.9951248849
             ]
            },
            {
             "iteration": 1104,
             "learn": [
              0.6838028652,
              0.8360024971
             ],
             "passed_time": 20.51661976,
             "remaining_time": 16.61753365,
             "test": [
              0.5887594243,
              0.9951687264
             ]
            },
            {
             "iteration": 1105,
             "learn": [
              0.6840084996,
              0.8359348225
             ],
             "passed_time": 20.54257046,
             "remaining_time": 16.60493489,
             "test": [
              0.5884852639,
              0.9951396103
             ]
            },
            {
             "iteration": 1106,
             "learn": [
              0.6840770443,
              0.8358118569
             ],
             "passed_time": 20.56809906,
             "remaining_time": 16.59197151,
             "test": [
              0.5887594243,
              0.995107616
             ]
            },
            {
             "iteration": 1107,
             "learn": [
              0.6842484063,
              0.8357111817
             ],
             "passed_time": 20.5848149,
             "remaining_time": 16.5718907,
             "test": [
              0.5887594243,
              0.995080374
             ]
            },
            {
             "iteration": 1108,
             "learn": [
              0.6843854959,
              0.8356293162
             ],
             "passed_time": 20.60064764,
             "remaining_time": 16.55110645,
             "test": [
              0.5888965045,
              0.9950220747
             ]
            },
            {
             "iteration": 1109,
             "learn": [
              0.6845225855,
              0.8354839932
             ],
             "passed_time": 20.61718893,
             "remaining_time": 16.53089923,
             "test": [
              0.5887594243,
              0.9950715387
             ]
            },
            {
             "iteration": 1110,
             "learn": [
              0.6844883131,
              0.8353667843
             ],
             "passed_time": 20.63618673,
             "remaining_time": 16.51266427,
             "test": [
              0.5887594243,
              0.994946105
             ]
            },
            {
             "iteration": 1111,
             "learn": [
              0.6846939475,
              0.8351667058
             ],
             "passed_time": 20.65384301,
             "remaining_time": 16.49335665,
             "test": [
              0.5884852639,
              0.9949997189
             ]
            },
            {
             "iteration": 1112,
             "learn": [
              0.6846939475,
              0.8350978263
             ],
             "passed_time": 20.67033277,
             "remaining_time": 16.47312235,
             "test": [
              0.5883481837,
              0.995009692
             ]
            },
            {
             "iteration": 1113,
             "learn": [
              0.6848310371,
              0.8348878409
             ],
             "passed_time": 20.68764743,
             "remaining_time": 16.45355082,
             "test": [
              0.5884852639,
              0.9950525965
             ]
            },
            {
             "iteration": 1114,
             "learn": [
              0.6850023991,
              0.8347557717
             ],
             "passed_time": 20.70423209,
             "remaining_time": 16.43340395,
             "test": [
              0.5886223441,
              0.9950021954
             ]
            },
            {
             "iteration": 1115,
             "learn": [
              0.6854822126,
              0.8345431088
             ],
             "passed_time": 20.72122637,
             "remaining_time": 16.41358791,
             "test": [
              0.5886223441,
              0.9950076171
             ]
            },
            {
             "iteration": 1116,
             "learn": [
              0.6852423058,
              0.8344572939
             ],
             "passed_time": 20.7384486,
             "remaining_time": 16.39395713,
             "test": [
              0.5886223441,
              0.9950136411
             ]
            },
            {
             "iteration": 1117,
             "learn": [
              0.6852765782,
              0.8342561444
             ],
             "passed_time": 20.75522592,
             "remaining_time": 16.37397966,
             "test": [
              0.5882111035,
              0.9949270289
             ]
            },
            {
             "iteration": 1118,
             "learn": [
              0.6853793954,
              0.834116712
             ],
             "passed_time": 20.77247905,
             "remaining_time": 16.35438253,
             "test": [
              0.5883481837,
              0.9948797737
             ]
            },
            {
             "iteration": 1119,
             "learn": [
              0.6855507574,
              0.8339092703
             ],
             "passed_time": 20.79056519,
             "remaining_time": 16.33544408,
             "test": [
              0.5884852639,
              0.9948567485
             ]
            },
            {
             "iteration": 1120,
             "learn": [
              0.6854479402,
              0.8338062522
             ],
             "passed_time": 20.80793725,
             "remaining_time": 16.31594723,
             "test": [
              0.5882111035,
              0.9949730793
             ]
            },
            {
             "iteration": 1121,
             "learn": [
              0.6854479402,
              0.8335781935
             ],
             "passed_time": 20.8246273,
             "remaining_time": 16.29592047,
             "test": [
              0.5886223441,
              0.9947444338
             ]
            },
            {
             "iteration": 1122,
             "learn": [
              0.6854822126,
              0.8334277163
             ],
             "passed_time": 20.84158488,
             "remaining_time": 16.27610859,
             "test": [
              0.5886223441,
              0.9946568176
             ]
            },
            {
             "iteration": 1123,
             "learn": [
              0.6855850298,
              0.8333562262
             ],
             "passed_time": 20.8585146,
             "remaining_time": 16.25628006,
             "test": [
              0.5888965045,
              0.9947051437
             ]
            },
            {
             "iteration": 1124,
             "learn": [
              0.6859620262,
              0.8331844626
             ],
             "passed_time": 20.87660927,
             "remaining_time": 16.23736277,
             "test": [
              0.589307745,
              0.9945826551
             ]
            },
            {
             "iteration": 1125,
             "learn": [
              0.685859209,
              0.8330865319
             ],
             "passed_time": 20.89364766,
             "remaining_time": 16.21762705,
             "test": [
              0.5890335846,
              0.9945439005
             ]
            },
            {
             "iteration": 1126,
             "learn": [
              0.6856193022,
              0.8329742764
             ],
             "passed_time": 20.910472,
             "remaining_time": 16.19773031,
             "test": [
              0.5891706648,
              0.9946385447
             ]
            },
            {
             "iteration": 1127,
             "learn": [
              0.6858934814,
              0.8328462235
             ],
             "passed_time": 20.92739616,
             "remaining_time": 16.17791618,
             "test": [
              0.5890335846,
              0.9946176614
             ]
            },
            {
             "iteration": 1128,
             "learn": [
              0.6858934814,
              0.8327227893
             ],
             "passed_time": 20.94445308,
             "remaining_time": 16.1582096,
             "test": [
              0.5902673064,
              0.9945522002
             ]
            },
            {
             "iteration": 1129,
             "learn": [
              0.6857906642,
              0.8325788051
             ],
             "passed_time": 20.96494543,
             "remaining_time": 16.14115268,
             "test": [
              0.5898560658,
              0.9944293769
             ]
            },
            {
             "iteration": 1130,
             "learn": [
              0.6861676606,
              0.8324810752
             ],
             "passed_time": 20.98179922,
             "remaining_time": 16.12129401,
             "test": [
              0.5894448252,
              0.9944147854
             ]
            },
            {
             "iteration": 1131,
             "learn": [
              0.6863047502,
              0.8324060374
             ],
             "passed_time": 20.9974934,
             "remaining_time": 16.10055148,
             "test": [
              0.5894448252,
              0.994354612
             ]
            },
            {
             "iteration": 1132,
             "learn": [
              0.6864075673,
              0.8323025508
             ],
             "passed_time": 21.01298382,
             "remaining_time": 16.07966193,
             "test": [
              0.5894448252,
              0.9943912917
             ]
            },
            {
             "iteration": 1133,
             "learn": [
              0.6861676606,
              0.8321789828
             ],
             "passed_time": 21.02972909,
             "remaining_time": 16.0597402,
             "test": [
              0.5898560658,
              0.9943700067
             ]
            },
            {
             "iteration": 1134,
             "learn": [
              0.6861333882,
              0.83208875
             ],
             "passed_time": 21.04650726,
             "remaining_time": 16.03984915,
             "test": [
              0.5898560658,
              0.9944611035
             ]
            },
            {
             "iteration": 1135,
             "learn": [
              0.686201933,
              0.831970537
             ],
             "passed_time": 21.06262569,
             "remaining_time": 16.01946179,
             "test": [
              0.5897189856,
              0.9943973157
             ]
            },
            {
             "iteration": 1136,
             "learn": [
              0.6861676606,
              0.8318768903
             ],
             "passed_time": 21.07936599,
             "remaining_time": 15.99955396,
             "test": [
              0.5897189856,
              0.9944625091
             ]
            },
            {
             "iteration": 1137,
             "learn": [
              0.6862362054,
              0.8318112908
             ],
             "passed_time": 21.09486117,
             "remaining_time": 15.97870855,
             "test": [
              0.5897189856,
              0.9943881458
             ]
            },
            {
             "iteration": 1138,
             "learn": [
              0.6862704778,
              0.8316806273
             ],
             "passed_time": 21.11089847,
             "remaining_time": 15.95828234,
             "test": [
              0.5891706648,
              0.9943700737
             ]
            },
            {
             "iteration": 1139,
             "learn": [
              0.6862362054,
              0.8315901268
             ],
             "passed_time": 21.12721959,
             "remaining_time": 15.93807794,
             "test": [
              0.589307745,
              0.9942850679
             ]
            },
            {
             "iteration": 1140,
             "learn": [
              0.686201933,
              0.831445674
             ],
             "passed_time": 21.14372382,
             "remaining_time": 15.91801819,
             "test": [
              0.5895819054,
              0.9941552165
             ]
            },
            {
             "iteration": 1141,
             "learn": [
              0.6865103845,
              0.8313227084
             ],
             "passed_time": 21.16000882,
             "remaining_time": 15.89779997,
             "test": [
              0.5902673064,
              0.9940742268
             ]
            },
            {
             "iteration": 1142,
             "learn": [
              0.6865103845,
              0.83109639
             ],
             "passed_time": 21.17724101,
             "remaining_time": 15.87829882,
             "test": [
              0.5905414668,
              0.9940163291
             ]
            },
            {
             "iteration": 1143,
             "learn": [
              0.6864761121,
              0.8310074291
             ],
             "passed_time": 21.19343444,
             "remaining_time": 15.85802437,
             "test": [
              0.5902673064,
              0.994036677
             ]
            },
            {
             "iteration": 1144,
             "learn": [
              0.6865789293,
              0.8309040094
             ],
             "passed_time": 21.20927352,
             "remaining_time": 15.83749245,
             "test": [
              0.5906785469,
              0.9939285791
             ]
            },
            {
             "iteration": 1145,
             "learn": [
              0.6865446569,
              0.8307443617
             ],
             "passed_time": 21.22576493,
             "remaining_time": 15.81745484,
             "test": [
              0.5905414668,
              0.9938414314
             ]
            },
            {
             "iteration": 1146,
             "learn": [
              0.6866132017,
              0.8305258751
             ],
             "passed_time": 21.2421778,
             "remaining_time": 15.79736501,
             "test": [
              0.5901302262,
              0.9938617793
             ]
            },
            {
             "iteration": 1147,
             "learn": [
              0.6869559257,
              0.8304275428
             ],
             "passed_time": 21.2591424,
             "remaining_time": 15.77769105,
             "test": [
              0.5905414668,
              0.9938451797
             ]
            },
            {
             "iteration": 1148,
             "learn": [
              0.6869559257,
              0.8303782762
             ],
             "passed_time": 21.27474555,
             "remaining_time": 15.75701345,
             "test": [
              0.5904043866,
              0.9937987947
             ]
            },
            {
             "iteration": 1149,
             "learn": [
              0.6869559257,
              0.830326466
             ],
             "passed_time": 21.29040561,
             "remaining_time": 15.73638675,
             "test": [
              0.5902673064,
              0.9937905618
             ]
            },
            {
             "iteration": 1150,
             "learn": [
              0.6869901981,
              0.8302379736
             ],
             "passed_time": 21.30732269,
             "remaining_time": 15.71669588,
             "test": [
              0.5902673064,
              0.9937528781
             ]
            },
            {
             "iteration": 1151,
             "learn": [
              0.6872643773,
              0.8301072431
             ],
             "passed_time": 21.32366573,
             "remaining_time": 15.69658727,
             "test": [
              0.5906785469,
              0.9937542838
             ]
            },
            {
             "iteration": 1152,
             "learn": [
              0.6873671945,
              0.8299995395
             ],
             "passed_time": 21.33918624,
             "remaining_time": 15.67588096,
             "test": [
              0.5905414668,
              0.9937043512
             ]
            },
            {
             "iteration": 1153,
             "learn": [
              0.6874700117,
              0.8298672025
             ],
             "passed_time": 21.35508411,
             "remaining_time": 15.65546028,
             "test": [
              0.5904043866,
              0.9936568952
             ]
            },
            {
             "iteration": 1154,
             "learn": [
              0.6871958325,
              0.8297923655
             ],
             "passed_time": 21.37206271,
             "remaining_time": 15.63583809,
             "test": [
              0.5905414668,
              0.9936002024
             ]
            },
            {
             "iteration": 1155,
             "learn": [
              0.687504284,
              0.8296869377
             ],
             "passed_time": 21.38846298,
             "remaining_time": 15.61579823,
             "test": [
              0.5904043866,
              0.9935032155
             ]
            },
            {
             "iteration": 1156,
             "learn": [
              0.6876071012,
              0.8296220076
             ],
             "passed_time": 21.40505222,
             "remaining_time": 15.59590235,
             "test": [
              0.5905414668,
              0.9934406325
             ]
            },
            {
             "iteration": 1157,
             "learn": [
              0.6874700117,
              0.8292488267
             ],
             "passed_time": 21.42524129,
             "remaining_time": 15.57862968,
             "test": [
              0.5898560658,
              0.9935497344
             ]
            },
            {
             "iteration": 1158,
             "learn": [
              0.6875385564,
              0.8291404536
             ],
             "passed_time": 21.44883795,
             "remaining_time": 15.56382461,
             "test": [
              0.5901302262,
              0.993555223
             ]
            },
            {
             "iteration": 1159,
             "learn": [
              0.687504284,
              0.8290828198
             ],
             "passed_time": 21.46447659,
             "remaining_time": 15.54324167,
             "test": [
              0.5901302262,
              0.993587485
             ]
            },
            {
             "iteration": 1160,
             "learn": [
              0.6877441908,
              0.8289577791
             ],
             "passed_time": 21.48180601,
             "remaining_time": 15.5238891,
             "test": [
              0.589993146,
              0.9936264404
             ]
            },
            {
             "iteration": 1161,
             "learn": [
              0.6877441908,
              0.828893853
             ],
             "passed_time": 21.49805898,
             "remaining_time": 15.5037637,
             "test": [
              0.5901302262,
              0.9935675388
             ]
            },
            {
             "iteration": 1162,
             "learn": [
              0.6875385564,
              0.8287202821
             ],
             "passed_time": 21.51509328,
             "remaining_time": 15.48420729,
             "test": [
              0.5904043866,
              0.9935459861
             ]
            },
            {
             "iteration": 1163,
             "learn": [
              0.6874700117,
              0.8286276395
             ],
             "passed_time": 21.53053725,
             "remaining_time": 15.463513,
             "test": [
              0.5902673064,
              0.9934982624
             ]
            },
            {
             "iteration": 1164,
             "learn": [
              0.687504284,
              0.8285266297
             ],
             "passed_time": 21.54653925,
             "remaining_time": 15.4432277,
             "test": [
              0.5898560658,
              0.9935097081
             ]
            },
            {
             "iteration": 1165,
             "learn": [
              0.6877441908,
              0.8283238736
             ],
             "passed_time": 21.58543917,
             "remaining_time": 15.43932784,
             "test": [
              0.5902673064,
              0.9934352778
             ]
            },
            {
             "iteration": 1166,
             "learn": [
              0.687675646,
              0.82826055
             ],
             "passed_time": 21.60995252,
             "remaining_time": 15.42509893,
             "test": [
              0.5904043866,
              0.9934315964
             ]
            },
            {
             "iteration": 1167,
             "learn": [
              0.6877784632,
              0.828153181
             ],
             "passed_time": 21.62753608,
             "remaining_time": 15.40591611,
             "test": [
              0.5901302262,
              0.9933789866
             ]
            },
            {
             "iteration": 1168,
             "learn": [
              0.6880526424,
              0.8280774738
             ],
             "passed_time": 21.64461475,
             "remaining_time": 15.38637712,
             "test": [
              0.5902673064,
              0.9933692812
             ]
            },
            {
             "iteration": 1169,
             "learn": [
              0.6880869148,
              0.8279693685
             ],
             "passed_time": 21.66159312,
             "remaining_time": 15.36677119,
             "test": [
              0.5905414668,
              0.9932811295
             ]
            },
            {
             "iteration": 1170,
             "learn": [
              0.6882582768,
              0.8278204308
             ],
             "passed_time": 21.67842498,
             "remaining_time": 15.34706602,
             "test": [
              0.5902673064,
              0.9932905672
             ]
            },
            {
             "iteration": 1171,
             "learn": [
              0.6882240044,
              0.8277019501
             ],
             "passed_time": 21.695556,
             "remaining_time": 15.3275771,
             "test": [
              0.5904043866,
              0.993280661
             ]
            },
            {
             "iteration": 1172,
             "learn": [
              0.6881211872,
              0.8276200177
             ],
             "passed_time": 21.71272013,
             "remaining_time": 15.30811556,
             "test": [
              0.5904043866,
              0.9932469264
             ]
            },
            {
             "iteration": 1173,
             "learn": [
              0.688189732,
              0.8275421684
             ],
             "passed_time": 21.7292188,
             "remaining_time": 15.28818972,
             "test": [
              0.5901302262,
              0.9931866192
             ]
            },
            {
             "iteration": 1174,
             "learn": [
              0.6880869148,
              0.8273280998
             ],
             "passed_time": 21.7468075,
             "remaining_time": 15.26903505,
             "test": [
              0.5904043866,
              0.9931738348
             ]
            },
            {
             "iteration": 1175,
             "learn": [
              0.6881211872,
              0.8272242786
             ],
             "passed_time": 21.76378742,
             "remaining_time": 15.24945649,
             "test": [
              0.5905414668,
              0.9932414378
             ]
            },
            {
             "iteration": 1176,
             "learn": [
              0.6882240044,
              0.8270067961
             ],
             "passed_time": 21.78092593,
             "remaining_time": 15.22999324,
             "test": [
              0.5901302262,
              0.9930211591
             ]
            },
            {
             "iteration": 1177,
             "learn": [
              0.6884296388,
              0.8267811472
             ],
             "passed_time": 21.7979647,
             "remaining_time": 15.21046433,
             "test": [
              0.5908156271,
              0.9929702225
             ]
            },
            {
             "iteration": 1178,
             "learn": [
              0.6888409075,
              0.8265146659
             ],
             "passed_time": 21.81506476,
             "remaining_time": 15.19098233,
             "test": [
              0.5910897875,
              0.9929460595
             ]
            },
            {
             "iteration": 1179,
             "learn": [
              0.6888409075,
              0.8263190723
             ],
             "passed_time": 21.83237444,
             "remaining_time": 15.17165004,
             "test": [
              0.5910897875,
              0.992855699
             ]
            },
            {
             "iteration": 1180,
             "learn": [
              0.6889437247,
              0.8262507952
             ],
             "passed_time": 21.84840234,
             "remaining_time": 15.15143227,
             "test": [
              0.5906785469,
              0.9928521515
             ]
            },
            {
             "iteration": 1181,
             "learn": [
              0.6888409075,
              0.8261586212
             ],
             "passed_time": 21.8654616,
             "remaining_time": 15.13193535,
             "test": [
              0.5908156271,
              0.9928755783
             ]
            },
            {
             "iteration": 1182,
             "learn": [
              0.6890122695,
              0.8261011212
             ],
             "passed_time": 21.88171715,
             "remaining_time": 15.1118875,
             "test": [
              0.5908156271,
              0.9928631286
             ]
            },
            {
             "iteration": 1183,
             "learn": [
              0.6891150867,
              0.82602441
             ],
             "passed_time": 21.89865274,
             "remaining_time": 15.09231472,
             "test": [
              0.5908156271,
              0.9928611206
             ]
            },
            {
             "iteration": 1184,
             "learn": [
              0.6893892659,
              0.8257454112
             ],
             "passed_time": 21.9161396,
             "remaining_time": 15.07312555,
             "test": [
              0.5908156271,
              0.9928675463
             ]
            },
            {
             "iteration": 1185,
             "learn": [
              0.6893207211,
              0.8255859643
             ],
             "passed_time": 21.95528403,
             "remaining_time": 15.06880371,
             "test": [
              0.5913639479,
              0.9928901699
             ]
            },
            {
             "iteration": 1186,
             "learn": [
              0.6894920831,
              0.825522306
             ],
             "passed_time": 21.9745575,
             "remaining_time": 15.05081318,
             "test": [
              0.5910897875,
              0.9929204908
             ]
            },
            {
             "iteration": 1187,
             "learn": [
              0.6892864487,
              0.825434483
             ],
             "passed_time": 22.0068622,
             "remaining_time": 15.04172736,
             "test": [
              0.5912268677,
              0.9928915085
             ]
            },
            {
             "iteration": 1188,
             "learn": [
              0.6893549935,
              0.825332469
             ],
             "passed_time": 22.05230686,
             "remaining_time": 15.04156507,
             "test": [
              0.5910897875,
              0.9928754444
             ]
            },
            {
             "iteration": 1189,
             "learn": [
              0.6895949003,
              0.8251825273
             ],
             "passed_time": 22.09205573,
             "remaining_time": 15.0374497,
             "test": [
              0.5909527073,
              0.9928410405
             ]
            },
            {
             "iteration": 1190,
             "learn": [
              0.6896977175,
              0.8251094976
             ],
             "passed_time": 22.1408196,
             "remaining_time": 15.03939804,
             "test": [
              0.5908156271,
              0.9928352842
             ]
            },
            {
             "iteration": 1191,
             "learn": [
              0.6895606279,
              0.8250661216
             ],
             "passed_time": 22.17683488,
             "remaining_time": 15.03261962,
             "test": [
              0.5909527073,
              0.9928565691
             ]
            },
            {
             "iteration": 1192,
             "learn": [
              0.6896977175,
              0.8248595501
             ],
             "passed_time": 22.2062553,
             "remaining_time": 15.02133112,
             "test": [
              0.5909527073,
              0.9928392333
             ]
            },
            {
             "iteration": 1193,
             "learn": [
              0.689834807,
              0.8247768144
             ],
             "passed_time": 22.23704731,
             "remaining_time": 15.01093813,
             "test": [
              0.5909527073,
              0.9928467968
             ]
            },
            {
             "iteration": 1194,
             "learn": [
              0.689834807,
              0.8246944803
             ],
             "passed_time": 22.26549058,
             "remaining_time": 14.9989288,
             "test": [
              0.5904043866,
              0.9928116566
             ]
            },
            {
             "iteration": 1195,
             "learn": [
              0.6900404414,
              0.8243706329
             ],
             "passed_time": 22.29244279,
             "remaining_time": 14.98588964,
             "test": [
              0.5908156271,
              0.9926302663
             ]
            },
            {
             "iteration": 1196,
             "learn": [
              0.690177531,
              0.8242973355
             ],
             "passed_time": 22.31046782,
             "remaining_time": 14.96683848,
             "test": [
              0.5912268677,
              0.9926486731
             ]
            },
            {
             "iteration": 1197,
             "learn": [
              0.6901432586,
              0.8242270503
             ],
             "passed_time": 22.32976671,
             "remaining_time": 14.94864182,
             "test": [
              0.5909527073,
              0.9926405072
             ]
            },
            {
             "iteration": 1198,
             "learn": [
              0.690348893,
              0.8241734328
             ],
             "passed_time": 22.34747632,
             "remaining_time": 14.92938159,
             "test": [
              0.5908156271,
              0.9926465982
             ]
            },
            {
             "iteration": 1199,
             "learn": [
              0.690348893,
              0.8240985958
             ],
             "passed_time": 22.36745837,
             "remaining_time": 14.91163891,
             "test": [
              0.5909527073,
              0.9925662108
             ]
            },
            {
             "iteration": 1200,
             "learn": [
              0.690348893,
              0.8240281767
             ],
             "passed_time": 22.38585596,
             "remaining_time": 14.89283839,
             "test": [
              0.5906785469,
              0.9925916456
             ]
            },
            {
             "iteration": 1201,
             "learn": [
              0.6903146206,
              0.8238167857
             ],
             "passed_time": 22.4037508,
             "remaining_time": 14.87370477,
             "test": [
              0.5909527073,
              0.992521566
             ]
            },
            {
             "iteration": 1202,
             "learn": [
              0.6903146206,
              0.8236964976
             ],
             "passed_time": 22.43469935,
             "remaining_time": 14.86322143,
             "test": [
              0.5906785469,
              0.9924093852
             ]
            },
            {
             "iteration": 1203,
             "learn": [
              0.6903831654,
              0.8233976851
             ],
             "passed_time": 22.45661067,
             "remaining_time": 14.84672931,
             "test": [
              0.5910897875,
              0.9922663479
             ]
            },
            {
             "iteration": 1204,
             "learn": [
              0.6904174378,
              0.8232923912
             ],
             "passed_time": 22.47804043,
             "remaining_time": 14.82991049,
             "test": [
              0.5915010281,
              0.9922812741
             ]
            },
            {
             "iteration": 1205,
             "learn": [
              0.6905545274,
              0.8231816753
             ],
             "passed_time": 22.50705704,
             "remaining_time": 14.81807901,
             "test": [
              0.5915010281,
              0.9923342186
             ]
            },
            {
             "iteration": 1206,
             "learn": [
              0.6905545274,
              0.8231103191
             ],
             "passed_time": 22.53540715,
             "remaining_time": 14.80578117,
             "test": [
              0.5915010281,
              0.9922849554
             ]
            },
            {
             "iteration": 1207,
             "learn": [
              0.6908287066,
              0.8228886195
             ],
             "passed_time": 22.56733388,
             "remaining_time": 14.79580168,
             "test": [
              0.5913639479,
              0.9921248501
             ]
            },
            {
             "iteration": 1208,
             "learn": [
              0.6913085201,
              0.822648445
             ],
             "passed_time": 22.61163002,
             "remaining_time": 14.7938787,
             "test": [
              0.5913639479,
              0.9921822122
             ]
            },
            {
             "iteration": 1209,
             "learn": [
              0.6912057029,
              0.822547569
             ],
             "passed_time": 22.64667758,
             "remaining_time": 14.78584735,
             "test": [
              0.5908156271,
              0.9921152116
             ]
            },
            {
             "iteration": 1210,
             "learn": [
              0.6913427925,
              0.8224941523
             ],
             "passed_time": 22.68160925,
             "remaining_time": 14.77769587,
             "test": [
              0.5908156271,
              0.9921147431
             ]
            },
            {
             "iteration": 1211,
             "learn": [
              0.6913085201,
              0.8224357152
             ],
             "passed_time": 22.72141848,
             "remaining_time": 14.77267142,
             "test": [
              0.5906785469,
              0.9921090537
             ]
            },
            {
             "iteration": 1212,
             "learn": [
              0.6914456097,
              0.8222863089
             ],
             "passed_time": 22.75153625,
             "remaining_time": 14.76130175,
             "test": [
              0.5912268677,
              0.9920176892
             ]
            },
            {
             "iteration": 1213,
             "learn": [
              0.6915141545,
              0.8222150197
             ],
             "passed_time": 22.77762811,
             "remaining_time": 14.74729464,
             "test": [
              0.5916381083,
              0.991936164
             ]
            },
            {
             "iteration": 1214,
             "learn": [
              0.6915141545,
              0.8220977438
             ],
             "passed_time": 22.79533636,
             "remaining_time": 14.72785106,
             "test": [
              0.5916381083,
              0.9919346245
             ]
            },
            {
             "iteration": 1215,
             "learn": [
              0.6917883337,
              0.8217706834
             ],
             "passed_time": 22.81915148,
             "remaining_time": 14.71234766,
             "test": [
              0.5915010281,
              0.9919991486
             ]
            },
            {
             "iteration": 1216,
             "learn": [
              0.6918226061,
              0.8217228895
             ],
             "passed_time": 22.84719337,
             "remaining_time": 14.69955005,
             "test": [
              0.5916381083,
              0.9920157482
             ]
            },
            {
             "iteration": 1217,
             "learn": [
              0.6918911509,
              0.8215580205
             ],
             "passed_time": 22.88926713,
             "remaining_time": 14.69573637,
             "test": [
              0.5917751885,
              0.9919562441
             ]
            },
            {
             "iteration": 1218,
             "learn": [
              0.6919939681,
              0.8214786317
             ],
             "passed_time": 22.9190521,
             "remaining_time": 14.68398662,
             "test": [
              0.5921864291,
              0.9919612641
             ]
            },
            {
             "iteration": 1219,
             "learn": [
              0.6922338748,
              0.8213177121
             ],
             "passed_time": 22.93726972,
             "remaining_time": 14.66481179,
             "test": [
              0.5916381083,
              0.9919352939
             ]
            },
            {
             "iteration": 1220,
             "learn": [
              0.6921996024,
              0.8211764723
             ],
             "passed_time": 22.95499459,
             "remaining_time": 14.64532415,
             "test": [
              0.5917751885,
              0.9919265256
             ]
            },
            {
             "iteration": 1221,
             "learn": [
              0.6923709644,
              0.8208490772
             ],
             "passed_time": 22.97411026,
             "remaining_time": 14.62672487,
             "test": [
              0.5925976696,
              0.9916552433
             ]
            },
            {
             "iteration": 1222,
             "learn": [
              0.6924052368,
              0.8207518159
             ],
             "passed_time": 22.99136269,
             "remaining_time": 14.60694097,
             "test": [
              0.5927347498,
              0.9916213079
             ]
            },
            {
             "iteration": 1223,
             "learn": [
              0.692336692,
              0.8206874213
             ],
             "passed_time": 23.00719081,
             "remaining_time": 14.58625823,
             "test": [
              0.5925976696,
              0.9916047753
             ]
            },
            {
             "iteration": 1224,
             "learn": [
              0.6925423264,
              0.820566263
             ],
             "passed_time": 23.02451365,
             "remaining_time": 14.56652904,
             "test": [
              0.5930089102,
              0.991523317
             ]
            },
            {
             "iteration": 1225,
             "learn": [
              0.6925765988,
              0.8204947729
             ],
             "passed_time": 23.04030662,
             "remaining_time": 14.54583795,
             "test": [
              0.5930089102,
              0.9914856334
             ]
            },
            {
             "iteration": 1226,
             "learn": [
              0.692679416,
              0.820265911
             ],
             "passed_time": 23.05825165,
             "remaining_time": 14.52651062,
             "test": [
              0.5931459904,
              0.9913757952
             ]
            },
            {
             "iteration": 1227,
             "learn": [
              0.692679416,
              0.8201531869
             ],
             "passed_time": 23.07482296,
             "remaining_time": 14.50632193,
             "test": [
              0.5931459904,
              0.9913711098
             ]
            },
            {
             "iteration": 1228,
             "learn": [
              0.6929193228,
              0.8200651631
             ],
             "passed_time": 23.09152198,
             "remaining_time": 14.48621924,
             "test": [
              0.5930089102,
              0.991364885
             ]
            },
            {
             "iteration": 1229,
             "learn": [
              0.6927136884,
              0.8200165659
             ],
             "passed_time": 23.10818775,
             "remaining_time": 14.46610127,
             "test": [
              0.5930089102,
              0.9913529039
             ]
            },
            {
             "iteration": 1230,
             "learn": [
              0.6929878676,
              0.8199553174
             ],
             "passed_time": 23.12386813,
             "remaining_time": 14.44537335,
             "test": [
              0.5932830706,
              0.9912983529
             ]
            },
            {
             "iteration": 1231,
             "learn": [
              0.6930906848,
              0.8198447353
             ],
             "passed_time": 23.14069325,
             "remaining_time": 14.42536722,
             "test": [
              0.5932830706,
              0.9913091962
             ]
            },
            {
             "iteration": 1232,
             "learn": [
              0.6930564124,
              0.8197216358
             ],
             "passed_time": 23.15768736,
             "remaining_time": 14.40547137,
             "test": [
              0.5927347498,
              0.9913311504
             ]
            },
            {
             "iteration": 1233,
             "learn": [
              0.6929535952,
              0.8195916417
             ],
             "passed_time": 23.17520504,
             "remaining_time": 14.38590524,
             "test": [
              0.5924605894,
              0.9912621418
             ]
            },
            {
             "iteration": 1234,
             "learn": [
              0.6930564124,
              0.819436278
             ],
             "passed_time": 23.19290719,
             "remaining_time": 14.36645668,
             "test": [
              0.5930089102,
              0.9912098666
             ]
            },
            {
             "iteration": 1235,
             "learn": [
              0.693193502,
              0.8191620988
             ],
             "passed_time": 23.20987991,
             "remaining_time": 14.34656007,
             "test": [
              0.5930089102,
              0.9911292115
             ]
            },
            {
             "iteration": 1236,
             "learn": [
              0.6935704983,
              0.8189735337
             ],
             "passed_time": 23.22708191,
             "remaining_time": 14.32680962,
             "test": [
              0.5924605894,
              0.9910213813
             ]
            },
            {
             "iteration": 1237,
             "learn": [
              0.6934334087,
              0.8189231292
             ],
             "passed_time": 23.24312281,
             "remaining_time": 14.30634861,
             "test": [
              0.5924605894,
              0.9910225192
             ]
            },
            {
             "iteration": 1238,
             "learn": [
              0.6934334087,
              0.8188753352
             ],
             "passed_time": 23.25978661,
             "remaining_time": 14.28627733,
             "test": [
              0.5924605894,
              0.9910043132
             ]
            },
            {
             "iteration": 1239,
             "learn": [
              0.6933991363,
              0.818803979
             ],
             "passed_time": 23.27563162,
             "remaining_time": 14.2657097,
             "test": [
              0.5925976696,
              0.9910150895
             ]
            },
            {
             "iteration": 1240,
             "learn": [
              0.6937075879,
              0.818707521
             ],
             "passed_time": 23.29220173,
             "remaining_time": 14.24559316,
             "test": [
              0.5925976696,
              0.9910383155
             ]
            },
            {
             "iteration": 1241,
             "learn": [
              0.6937761327,
              0.8185985455
             ],
             "passed_time": 23.30988527,
             "remaining_time": 14.22616186,
             "test": [
              0.5923235093,
              0.9911268019
             ]
            },
            {
             "iteration": 1242,
             "learn": [
              0.6938789499,
              0.8185208301
             ],
             "passed_time": 23.32689299,
             "remaining_time": 14.2063218,
             "test": [
              0.5923235093,
              0.9911484884
             ]
            },
            {
             "iteration": 1243,
             "learn": [
              0.6940160395,
              0.818335478
             ],
             "passed_time": 23.34363268,
             "remaining_time": 14.1863234,
             "test": [
              0.5919122687,
              0.9910574586
             ]
            },
            {
             "iteration": 1244,
             "learn": [
              0.6941531291,
              0.818246584
             ],
             "passed_time": 23.35948351,
             "remaining_time": 14.16579121,
             "test": [
              0.5925976696,
              0.9910568562
             ]
            },
            {
             "iteration": 1245,
             "learn": [
              0.6943587635,
              0.8181162552
             ],
             "passed_time": 23.37648491,
             "remaining_time": 14.14596278,
             "test": [
              0.5920493489,
              0.9910114751
             ]
            },
            {
             "iteration": 1246,
             "learn": [
              0.6945301254,
              0.8180406819
             ],
             "passed_time": 23.39305589,
             "remaining_time": 14.12587898,
             "test": [
              0.5923235093,
              0.9909911273
             ]
            },
            {
             "iteration": 1247,
             "learn": [
              0.694495853,
              0.8179814415
             ],
             "passed_time": 23.40905604,
             "remaining_time": 14.10545684,
             "test": [
              0.5921864291,
              0.9910039116
             ]
            },
            {
             "iteration": 1248,
             "learn": [
              0.6944615806,
              0.8178116191
             ],
             "passed_time": 23.42570181,
             "remaining_time": 14.08542999,
             "test": [
              0.5923235093,
              0.9909312886
             ]
            },
            {
             "iteration": 1249,
             "learn": [
              0.6944273082,
              0.8177462204
             ],
             "passed_time": 23.44155489,
             "remaining_time": 14.06493294,
             "test": [
              0.5925976696,
              0.9909626135
             ]
            },
            {
             "iteration": 1250,
             "learn": [
              0.6945301254,
              0.8176751989
             ],
             "passed_time": 23.45839182,
             "remaining_time": 14.04503236,
             "test": [
              0.5925976696,
              0.9909581959
             ]
            },
            {
             "iteration": 1251,
             "learn": [
              0.6945643978,
              0.8175808829
             ],
             "passed_time": 23.47500946,
             "remaining_time": 14.02500565,
             "test": [
              0.5923235093,
              0.9909960134
             ]
            },
            {
             "iteration": 1252,
             "learn": [
              0.6944273082,
              0.8175466105
             ],
             "passed_time": 23.49076793,
             "remaining_time": 14.00447218,
             "test": [
              0.5921864291,
              0.9909951433
             ]
            },
            {
             "iteration": 1253,
             "learn": [
              0.6944615806,
              0.8174588544
             ],
             "passed_time": 23.5079444,
             "remaining_time": 13.98478989,
             "test": [
              0.5925976696,
              0.9908948097
             ]
            },
            {
             "iteration": 1254,
             "learn": [
              0.6945986702,
              0.8173762525
             ],
             "passed_time": 23.52474823,
             "remaining_time": 13.96489038,
             "test": [
              0.59287183,
              0.9908903251
             ]
            },
            {
             "iteration": 1255,
             "learn": [
              0.6945301254,
              0.8172540902
             ],
             "passed_time": 23.54160086,
             "remaining_time": 13.94502472,
             "test": [
              0.5927347498,
              0.9908819584
             ]
            },
            {
             "iteration": 1256,
             "learn": [
              0.6946329426,
              0.8171837381
             ],
             "passed_time": 23.55689787,
             "remaining_time": 13.92424433,
             "test": [
              0.5925976696,
              0.9908640871
             ]
            },
            {
             "iteration": 1257,
             "learn": [
              0.6947700322,
              0.8170921665
             ],
             "passed_time": 23.57281517,
             "remaining_time": 13.90383852,
             "test": [
              0.5925976696,
              0.9908247971
             ]
            },
            {
             "iteration": 1258,
             "learn": [
              0.6949071218,
              0.8170333947
             ],
             "passed_time": 23.58927428,
             "remaining_time": 13.88375873,
             "test": [
              0.5927347498,
              0.9908180368
             ]
            },
            {
             "iteration": 1259,
             "learn": [
              0.6949413942,
              0.8169813837
             ],
             "passed_time": 23.60508951,
             "remaining_time": 13.86330654,
             "test": [
              0.59287183,
              0.9907241957
             ]
            },
            {
             "iteration": 1260,
             "learn": [
              0.6949756666,
              0.816891017
             ],
             "passed_time": 23.62170704,
             "remaining_time": 13.84333188,
             "test": [
              0.5925976696,
              0.9906462849
             ]
            },
            {
             "iteration": 1261,
             "learn": [
              0.6949756666,
              0.8167779582
             ],
             "passed_time": 23.63835294,
             "remaining_time": 13.82337913,
             "test": [
              0.5925976696,
              0.9906503679
             ]
            },
            {
             "iteration": 1262,
             "learn": [
              0.694838577,
              0.8165910666
             ],
             "passed_time": 23.65515098,
             "remaining_time": 13.8035204,
             "test": [
              0.5930089102,
              0.9906307563
             ]
            },
            {
             "iteration": 1263,
             "learn": [
              0.694838577,
              0.8164981563
             ],
             "passed_time": 23.67167764,
             "remaining_time": 13.7835085,
             "test": [
              0.5932830706,
              0.9905643581
             ]
            },
            {
             "iteration": 1264,
             "learn": [
              0.6949413942,
              0.8164130108
             ],
             "passed_time": 23.69662374,
             "remaining_time": 13.76839403,
             "test": [
              0.5934201508,
              0.9905227253
             ]
            },
            {
             "iteration": 1265,
             "learn": [
              0.6952841182,
              0.8161355516
             ],
             "passed_time": 23.71363868,
             "remaining_time": 13.74866571,
             "test": [
              0.5931459904,
              0.9904942785
             ]
            },
            {
             "iteration": 1266,
             "learn": [
              0.6952155734,
              0.816051611
             ],
             "passed_time": 23.72923789,
             "remaining_time": 13.72812263,
             "test": [
              0.5930089102,
              0.9905513729
             ]
            },
            {
             "iteration": 1267,
             "learn": [
              0.6952155734,
              0.815968139
             ],
             "passed_time": 23.75112869,
             "remaining_time": 13.7112194,
             "test": [
              0.5931459904,
              0.9905066612
             ]
            },
            {
             "iteration": 1268,
             "learn": [
              0.6951127562,
              0.8158256274
             ],
             "passed_time": 23.77877452,
             "remaining_time": 13.69762347,
             "test": [
              0.5939684716,
              0.9904407985
             ]
            },
            {
             "iteration": 1269,
             "learn": [
              0.695181301,
              0.8157643789
             ],
             "passed_time": 23.79472569,
             "remaining_time": 13.67728327,
             "test": [
              0.5941055517,
              0.9904486297
             ]
            },
            {
             "iteration": 1270,
             "learn": [
              0.695524025,
              0.81550506
             ],
             "passed_time": 23.81243423,
             "remaining_time": 13.65795795,
             "test": [
              0.5941055517,
              0.9903075335
             ]
            },
            {
             "iteration": 1271,
             "learn": [
              0.6951470286,
              0.8152759972
             ],
             "passed_time": 23.83017633,
             "remaining_time": 13.63865438,
             "test": [
              0.593557231,
              0.9902460215
             ]
            },
            {
             "iteration": 1272,
             "learn": [
              0.6951127562,
              0.8149824729
             ],
             "passed_time": 23.84803129,
             "remaining_time": 13.61941771,
             "test": [
              0.5934201508,
              0.9902005066
             ]
            },
            {
             "iteration": 1273,
             "learn": [
              0.6953869354,
              0.8149224292
             ],
             "passed_time": 23.86367744,
             "remaining_time": 13.59892451,
             "test": [
              0.5936943112,
              0.9901903996
             ]
            },
            {
             "iteration": 1274,
             "learn": [
              0.6952498458,
              0.8148420364
             ],
             "passed_time": 23.88024038,
             "remaining_time": 13.57896022,
             "test": [
              0.5936943112,
              0.990277815
             ]
            },
            {
             "iteration": 1275,
             "learn": [
              0.6952841182,
              0.8147608403
             ],
             "passed_time": 23.89703763,
             "remaining_time": 13.5591342,
             "test": [
              0.5938313914,
              0.9902513762
             ]
            },
            {
             "iteration": 1276,
             "learn": [
              0.6952155734,
              0.8146609014
             ],
             "passed_time": 23.91397397,
             "remaining_time": 13.53939168,
             "test": [
              0.5939684716,
              0.9902191811
             ]
            },
            {
             "iteration": 1277,
             "learn": [
              0.695524025,
              0.81458004
             ],
             "passed_time": 23.93029847,
             "remaining_time": 13.5193079,
             "test": [
              0.593557231,
              0.9901046575
             ]
            },
            {
             "iteration": 1278,
             "learn": [
              0.6955925697,
              0.8144161751
             ],
             "passed_time": 23.94753391,
             "remaining_time": 13.49974351,
             "test": [
              0.5945167923,
              0.9900864516
             ]
            },
            {
             "iteration": 1279,
             "learn": [
              0.6957639317,
              0.8143189138
             ],
             "passed_time": 23.96322537,
             "remaining_time": 13.47931427,
             "test": [
              0.5945167923,
              0.9900717931
             ]
            },
            {
             "iteration": 1280,
             "learn": [
              0.6960723833,
              0.8142732619
             ],
             "passed_time": 23.97887448,
             "remaining_time": 13.45886866,
             "test": [
              0.5943797121,
              0.9900825025
             ]
            },
            {
             "iteration": 1281,
             "learn": [
              0.6963122901,
              0.814019298
             ],
             "passed_time": 23.99575383,
             "remaining_time": 13.43911954,
             "test": [
              0.5936943112,
              0.9900579378
             ]
            },
            {
             "iteration": 1282,
             "learn": [
              0.6965179245,
              0.8139008173
             ],
             "passed_time": 24.01208334,
             "remaining_time": 13.41906762,
             "test": [
              0.593557231,
              0.9900081391
             ]
            },
            {
             "iteration": 1283,
             "learn": [
              0.6962094729,
              0.8138517515
             ],
             "passed_time": 24.02784968,
             "remaining_time": 13.39870745,
             "test": [
              0.593557231,
              0.9899987015
             ]
            },
            {
             "iteration": 1284,
             "learn": [
              0.6964493797,
              0.8136497318
             ],
             "passed_time": 24.04451772,
             "remaining_time": 13.37885616,
             "test": [
              0.5932830706,
              0.9899763456
             ]
            },
            {
             "iteration": 1285,
             "learn": [
              0.6963808349,
              0.8135671969
             ],
             "passed_time": 24.06090905,
             "remaining_time": 13.35885619,
             "test": [
              0.5934201508,
              0.9900167066
             ]
            },
            {
             "iteration": 1286,
             "learn": [
              0.6964493797,
              0.8134539374
             ],
             "passed_time": 24.07786111,
             "remaining_time": 13.33917247,
             "test": [
              0.593557231,
              0.9900352473
             ]
            },
            {
             "iteration": 1287,
             "learn": [
              0.6966550141,
              0.8133232738
             ],
             "passed_time": 24.09479733,
             "remaining_time": 13.31948424,
             "test": [
              0.593557231,
              0.9898958913
             ]
            },
            {
             "iteration": 1288,
             "learn": [
              0.6965864693,
              0.8132321709
             ],
             "passed_time": 24.11118391,
             "remaining_time": 13.2994971,
             "test": [
              0.5936943112,
              0.9898585423
             ]
            },
            {
             "iteration": 1289,
             "learn": [
              0.6964151073,
              0.8130920021
             ],
             "passed_time": 24.1275802,
             "remaining_time": 13.27952089,
             "test": [
              0.593557231,
              0.9898181144
             ]
            },
            {
             "iteration": 1290,
             "learn": [
              0.6964493797,
              0.8130136843
             ],
             "passed_time": 24.14360016,
             "remaining_time": 13.25934354,
             "test": [
              0.593557231,
              0.9898021842
             ]
            },
            {
             "iteration": 1291,
             "learn": [
              0.6964836521,
              0.812918565
             ],
             "passed_time": 24.15960039,
             "remaining_time": 13.23916182,
             "test": [
              0.593557231,
              0.9897824387
             ]
            },
            {
             "iteration": 1292,
             "learn": [
              0.6965521969,
              0.8128516268
             ],
             "passed_time": 24.17579384,
             "remaining_time": 13.21909222,
             "test": [
              0.5938313914,
              0.9898086767
             ]
            },
            {
             "iteration": 1293,
             "learn": [
              0.6965521969,
              0.8127836844
             ],
             "passed_time": 24.19187678,
             "remaining_time": 13.19896832,
             "test": [
              0.5938313914,
              0.989758945
             ]
            },
            {
             "iteration": 1294,
             "learn": [
              0.6965521969,
              0.8127095837
             ],
             "passed_time": 24.20749213,
             "remaining_time": 13.1785961,
             "test": [
              0.5936943112,
              0.9897436841
             ]
            },
            {
             "iteration": 1295,
             "learn": [
              0.6966550141,
              0.8125983993
             ],
             "passed_time": 24.22507407,
             "remaining_time": 13.1592995,
             "test": [
              0.593557231,
              0.989633846
             ]
            },
            {
             "iteration": 1296,
             "learn": [
              0.6967235588,
              0.8124864115
             ],
             "passed_time": 24.24198453,
             "remaining_time": 13.13964158,
             "test": [
              0.59287183,
              0.989597501
             ]
            },
            {
             "iteration": 1297,
             "learn": [
              0.6968949208,
              0.8123953085
             ],
             "passed_time": 24.25765591,
             "remaining_time": 13.11931776,
             "test": [
              0.59287183,
              0.9895337132
             ]
            },
            {
             "iteration": 1298,
             "learn": [
              0.6967578312,
              0.8122665862
             ],
             "passed_time": 24.2744346,
             "remaining_time": 13.09959866,
             "test": [
              0.5932830706,
              0.9893688555
             ]
            },
            {
             "iteration": 1299,
             "learn": [
              0.6967578312,
              0.8121805705
             ],
             "passed_time": 24.29063567,
             "remaining_time": 13.07957305,
             "test": [
              0.5938313914,
              0.9893651072
             ]
            },
            {
             "iteration": 1300,
             "learn": [
              0.6966892864,
              0.8121185188
             ],
             "passed_time": 24.30624965,
             "remaining_time": 13.0592379,
             "test": [
              0.5938313914,
              0.9893756158
             ]
            },
            {
             "iteration": 1301,
             "learn": [
              0.6969291932,
              0.8120521829
             ],
             "passed_time": 24.32240195,
             "remaining_time": 13.03919859,
             "test": [
              0.5936943112,
              0.9893706627
             ]
            },
            {
             "iteration": 1302,
             "learn": [
              0.6968949208,
              0.8119939466
             ],
             "passed_time": 24.33891555,
             "remaining_time": 13.01935851,
             "test": [
              0.593557231,
              0.9893877977
             ]
            },
            {
             "iteration": 1303,
             "learn": [
              0.6970662828,
              0.811850431
             ],
             "passed_time": 24.35587487,
             "remaining_time": 12.99976143,
             "test": [
              0.5931459904,
              0.9893088829
             ]
            },
            {
             "iteration": 1304,
             "learn": [
              0.6967921036,
              0.81162264
             ],
             "passed_time": 24.37402008,
             "remaining_time": 12.98079997,
             "test": [
              0.59287183,
              0.9891088181
             ]
            },
            {
             "iteration": 1305,
             "learn": [
              0.6968606484,
              0.8115626633
             ],
             "passed_time": 24.38984498,
             "remaining_time": 12.96060675,
             "test": [
              0.5927347498,
              0.9890598227
             ]
            },
            {
             "iteration": 1306,
             "learn": [
              0.6967578312,
              0.8114251052
             ],
             "passed_time": 24.40574424,
             "remaining_time": 12.94045965,
             "test": [
              0.5927347498,
              0.9888847911
             ]
            },
            {
             "iteration": 1307,
             "learn": [
              0.6969634656,
              0.8113440429
             ],
             "passed_time": 24.42161874,
             "remaining_time": 12.92030594,
             "test": [
              0.5927347498,
              0.9888242161
             ]
            },
            {
             "iteration": 1308,
             "learn": [
              0.6973061896,
              0.8112118398
             ],
             "passed_time": 24.43826566,
             "remaining_time": 12.90056652,
             "test": [
              0.59287183,
              0.9887684603
             ]
            },
            {
             "iteration": 1309,
             "learn": [
              0.697511824,
              0.8110780972
             ],
             "passed_time": 24.45512426,
             "remaining_time": 12.88094331,
             "test": [
              0.5930089102,
              0.9886719419
             ]
            },
            {
             "iteration": 1310,
             "learn": [
              0.697511824,
              0.8110224714
             ],
             "passed_time": 24.47076585,
             "remaining_time": 12.86068472,
             "test": [
              0.59287183,
              0.9886963058
             ]
            },
            {
             "iteration": 1311,
             "learn": [
              0.697511824,
              0.8109790954
             ],
             "passed_time": 24.48652659,
             "remaining_time": 12.84049565,
             "test": [
              0.59287183,
              0.9886558778
             ]
            },
            {
             "iteration": 1312,
             "learn": [
              0.697511824,
              0.8109254779
             ],
             "passed_time": 24.50317615,
             "remaining_time": 12.82077838,
             "test": [
              0.5925976696,
              0.9886663864
             ]
            },
            {
             "iteration": 1313,
             "learn": [
              0.6975460964,
              0.8107476898
             ],
             "passed_time": 24.52311463,
             "remaining_time": 12.80278283,
             "test": [
              0.593557231,
              0.9886695993
             ]
            },
            {
             "iteration": 1314,
             "learn": [
              0.6975803688,
              0.8106334931
             ],
             "passed_time": 24.5397124,
             "remaining_time": 12.7830441,
             "test": [
              0.5930089102,
              0.9888175227
             ]
            },
            {
             "iteration": 1315,
             "learn": [
              0.6975460964,
              0.8105576521
             ],
             "passed_time": 24.55623741,
             "remaining_time": 12.76327233,
             "test": [
              0.5931459904,
              0.9888003877
             ]
            },
            {
             "iteration": 1316,
             "learn": [
              0.6975803688,
              0.8104499484
             ],
             "passed_time": 24.57227237,
             "remaining_time": 12.74325135,
             "test": [
              0.59287183,
              0.9887938282
             ]
            },
            {
             "iteration": 1317,
             "learn": [
              0.6976146412,
              0.8104075764
             ],
             "passed_time": 24.5883008,
             "remaining_time": 12.72323304,
             "test": [
              0.5927347498,
              0.9888178574
             ]
            },
            {
             "iteration": 1318,
             "learn": [
              0.6978202756,
              0.8101691423
             ],
             "passed_time": 24.60589683,
             "remaining_time": 12.70403013,
             "test": [
              0.59287183,
              0.9887251542
             ]
            },
            {
             "iteration": 1319,
             "learn": [
              0.6979916375,
              0.8100175271
             ],
             "passed_time": 24.62270647,
             "remaining_time": 12.68442455,
             "test": [
              0.59287183,
              0.9886651816
             ]
            },
            {
             "iteration": 1320,
             "learn": [
              0.6980259099,
              0.8098838514
             ],
             "passed_time": 24.63917761,
             "remaining_time": 12.6646492,
             "test": [
              0.5930089102,
              0.9885381415
             ]
            },
            {
             "iteration": 1321,
             "learn": [
              0.6980259099,
              0.8097691192
             ],
             "passed_time": 24.65588113,
             "remaining_time": 12.64499804,
             "test": [
              0.59287183,
              0.9884500568
             ]
            },
            {
             "iteration": 1322,
             "learn": [
              0.6984371787,
              0.8096502368
             ],
             "passed_time": 24.67233476,
             "remaining_time": 12.62522345,
             "test": [
              0.5931459904,
              0.9883967106
             ]
            },
            {
             "iteration": 1323,
             "learn": [
              0.6983000891,
              0.809492731
             ],
             "passed_time": 24.68901321,
             "remaining_time": 12.60556868,
             "test": [
              0.593557231,
              0.9883442346
             ]
            },
            {
             "iteration": 1324,
             "learn": [
              0.6982658167,
              0.8094198353
             ],
             "passed_time": 24.70537409,
             "remaining_time": 12.58575661,
             "test": [
              0.5930089102,
              0.9883363364
             ]
            },
            {
             "iteration": 1325,
             "learn": [
              0.6983686339,
              0.8093253184
             ],
             "passed_time": 24.72206975,
             "remaining_time": 12.56611992,
             "test": [
              0.5931459904,
              0.988335801
             ]
            },
            {
             "iteration": 1326,
             "learn": [
              0.6984371787,
              0.8092480716
             ],
             "passed_time": 24.73797474,
             "remaining_time": 12.54608666,
             "test": [
              0.5931459904,
              0.9883500578
             ]
            },
            {
             "iteration": 1327,
             "learn": [
              0.6983000891,
              0.8090919046
             ],
             "passed_time": 24.76722591,
             "remaining_time": 12.53281311,
             "test": [
              0.5931459904,
              0.9883774337
             ]
            },
            {
             "iteration": 1328,
             "learn": [
              0.6984371787,
              0.8090402283
             ],
             "passed_time": 24.78322607,
             "remaining_time": 12.5128252,
             "test": [
              0.5931459904,
              0.9883777014
             ]
            },
            {
             "iteration": 1329,
             "learn": [
              0.6984371787,
              0.8089186684
             ],
             "passed_time": 24.81401961,
             "remaining_time": 12.50029559,
             "test": [
              0.5930089102,
              0.9883967106
             ]
            },
            {
             "iteration": 1330,
             "learn": [
              0.6985057235,
              0.8088110986
             ],
             "passed_time": 24.83844121,
             "remaining_time": 12.48453582,
             "test": [
              0.5930089102,
              0.9883634446
             ]
            },
            {
             "iteration": 1331,
             "learn": [
              0.6984714511,
              0.808731509
             ],
             "passed_time": 24.854682,
             "remaining_time": 12.46466034,
             "test": [
              0.59287183,
              0.9882809823
             ]
            },
            {
             "iteration": 1332,
             "learn": [
              0.6986085407,
              0.808627353
             ],
             "passed_time": 24.8714721,
             "remaining_time": 12.44506519,
             "test": [
              0.5931459904,
              0.9882569531
             ]
            },
            {
             "iteration": 1333,
             "learn": [
              0.6987456303,
              0.8085586074
             ],
             "passed_time": 24.88788196,
             "remaining_time": 12.42528439,
             "test": [
              0.5932830706,
              0.9882644496
             ]
            },
            {
             "iteration": 1334,
             "learn": [
              0.6986770855,
              0.8085017768
             ],
             "passed_time": 24.90402923,
             "remaining_time": 12.40537785,
             "test": [
              0.5931459904,
              0.9882032053
             ]
            },
            {
             "iteration": 1335,
             "learn": [
              0.6987799027,
              0.8084381854
             ],
             "passed_time": 24.92004174,
             "remaining_time": 12.38540997,
             "test": [
              0.5932830706,
              0.988221679
             ]
            },
            {
             "iteration": 1336,
             "learn": [
              0.6989169923,
              0.8083637501
             ],
             "passed_time": 24.93696856,
             "remaining_time": 12.36590139,
             "test": [
              0.593557231,
              0.9882096979
             ]
            },
            {
             "iteration": 1337,
             "learn": [
              0.6988141751,
              0.8082494195
             ],
             "passed_time": 24.9532095,
             "remaining_time": 12.34605731,
             "test": [
              0.5932830706,
              0.988225695
             ]
            },
            {
             "iteration": 1338,
             "learn": [
              0.6986770855,
              0.8081812094
             ],
             "passed_time": 24.97043944,
             "remaining_time": 12.32670685,
             "test": [
              0.5938313914,
              0.9881615726
             ]
            },
            {
             "iteration": 1339,
             "learn": [
              0.6988484475,
              0.8081273241
             ],
             "passed_time": 24.9862287,
             "remaining_time": 12.30664996,
             "test": [
              0.5938313914,
              0.9881455754
             ]
            },
            {
             "iteration": 1340,
             "learn": [
              0.699156899,
              0.8080377607
             ],
             "passed_time": 25.00286089,
             "remaining_time": 12.28701367,
             "test": [
              0.593557231,
              0.9880566875
             ]
            },
            {
             "iteration": 1341,
             "learn": [
              0.699156899,
              0.8079321321
             ],
             "passed_time": 25.01969965,
             "remaining_time": 12.26748314,
             "test": [
              0.5938313914,
              0.9880643179
             ]
            },
            {
             "iteration": 1342,
             "learn": [
              0.6992254438,
              0.8078009331
             ],
             "passed_time": 25.03669496,
             "remaining_time": 12.2480332,
             "test": [
              0.5934201508,
              0.9881042773
             ]
            },
            {
             "iteration": 1343,
             "learn": [
              0.6992597162,
              0.8076204675
             ],
             "passed_time": 25.05390936,
             "remaining_time": 12.22869386,
             "test": [
              0.593557231,
              0.9880772361
             ]
            },
            {
             "iteration": 1344,
             "learn": [
              0.699328261,
              0.8073338378
             ],
             "passed_time": 25.0711125,
             "remaining_time": 12.20935219,
             "test": [
              0.593557231,
              0.9878872114
             ]
            },
            {
             "iteration": 1345,
             "learn": [
              0.6999451642,
              0.8071083897
             ],
             "passed_time": 25.08956102,
             "remaining_time": 12.1906188,
             "test": [
              0.5939684716,
              0.9877242279
             ]
            },
            {
             "iteration": 1346,
             "learn": [
              0.6998766194,
              0.8070377028
             ],
             "passed_time": 25.10655068,
             "remaining_time": 12.17117862,
             "test": [
              0.5938313914,
              0.987671618
             ]
            },
            {
             "iteration": 1347,
             "learn": [
              0.7001165261,
              0.8069319404
             ],
             "passed_time": 25.12382243,
             "remaining_time": 12.1518785,
             "test": [
              0.5936943112,
              0.9875926362
             ]
            },
            {
             "iteration": 1348,
             "learn": [
              0.7001165261,
              0.8068934509
             ],
             "passed_time": 25.13999225,
             "remaining_time": 12.13204963,
             "test": [
              0.5938313914,
              0.9875900927
             ]
            },
            {
             "iteration": 1349,
             "learn": [
              0.7000479814,
              0.8067546878
             ],
             "passed_time": 25.15726553,
             "remaining_time": 12.11275748,
             "test": [
              0.5941055517,
              0.9876159961
             ]
            },
            {
             "iteration": 1350,
             "learn": [
              0.7003564329,
              0.806584196
             ],
             "passed_time": 25.17441838,
             "remaining_time": 12.09341046,
             "test": [
              0.5942426319,
              0.9875160641
             ]
            },
            {
             "iteration": 1351,
             "learn": [
              0.7003564329,
              0.8064412159
             ],
             "passed_time": 25.19165974,
             "remaining_time": 12.07410911,
             "test": [
              0.5942426319,
              0.9875540824
             ]
            },
            {
             "iteration": 1352,
             "learn": [
              0.7002878881,
              0.8063690564
             ],
             "passed_time": 25.20854427,
             "remaining_time": 12.05464016,
             "test": [
              0.5941055517,
              0.9874946453
             ]
            },
            {
             "iteration": 1353,
             "learn": [
              0.7002878881,
              0.8061869174
             ],
             "passed_time": 25.22609247,
             "remaining_time": 12.03549168,
             "test": [
              0.5939684716,
              0.9874651275
             ]
            },
            {
             "iteration": 1354,
             "learn": [
              0.7001850709,
              0.8060042428
             ],
             "passed_time": 25.24368933,
             "remaining_time": 12.01636872,
             "test": [
              0.5943797121,
              0.9874643243
             ]
            },
            {
             "iteration": 1355,
             "learn": [
              0.7003564329,
              0.8058375665
             ],
             "passed_time": 25.26084459,
             "remaining_time": 11.99703829,
             "test": [
              0.5950651131,
              0.9874704822
             ]
            },
            {
             "iteration": 1356,
             "learn": [
              0.7003907053,
              0.8057974035
             ],
             "passed_time": 25.27701311,
             "remaining_time": 11.9772435,
             "test": [
              0.5952021933,
              0.9874492643
             ]
            },
            {
             "iteration": 1357,
             "learn": [
              0.7003564329,
              0.8057190188
             ],
             "passed_time": 25.29374432,
             "remaining_time": 11.95772007,
             "test": [
              0.5950651131,
              0.9874286487
             ]
            },
            {
             "iteration": 1358,
             "learn": [
              0.7003221605,
              0.8056477965
             ],
             "passed_time": 25.31020006,
             "remaining_time": 11.93807082,
             "test": [
              0.5950651131,
              0.9874153958
             ]
            },
            {
             "iteration": 1359,
             "learn": [
              0.7003221605,
              0.8055868157
             ],
             "passed_time": 25.32706433,
             "remaining_time": 11.91861851,
             "test": [
              0.5946538725,
              0.9873695462
             ]
            },
            {
             "iteration": 1360,
             "learn": [
              0.7003907053,
              0.8055223542
             ],
             "passed_time": 25.34401449,
             "remaining_time": 11.89921033,
             "test": [
              0.5946538725,
              0.9873246337
             ]
            },
            {
             "iteration": 1361,
             "learn": [
              0.7003907053,
              0.8054540102
             ],
             "passed_time": 25.36082347,
             "remaining_time": 11.87973963,
             "test": [
              0.5946538725,
              0.9872935096
             ]
            },
            {
             "iteration": 1362,
             "learn": [
              0.7010076085,
              0.8051335097
             ],
             "passed_time": 25.37869499,
             "remaining_time": 11.86076941,
             "test": [
              0.5956134339,
              0.9873753695
             ]
            },
            {
             "iteration": 1363,
             "learn": [
              0.7015559668,
              0.8047403812
             ],
             "passed_time": 25.3965733,
             "remaining_time": 11.84180397,
             "test": [
              0.5949280329,
              0.9873256377
             ]
            },
            {
             "iteration": 1364,
             "learn": [
              0.701487422,
              0.8046773254
             ],
             "passed_time": 25.41276961,
             "remaining_time": 11.82205766,
             "test": [
              0.5949280329,
              0.9873134558
             ]
            },
            {
             "iteration": 1365,
             "learn": [
              0.7015902392,
              0.8045938534
             ],
             "passed_time": 25.42876543,
             "remaining_time": 11.80222349,
             "test": [
              0.5949280329,
              0.9872485301
             ]
            },
            {
             "iteration": 1366,
             "learn": [
              0.7016245116,
              0.8044893627
             ],
             "passed_time": 25.44547901,
             "remaining_time": 11.78272729,
             "test": [
              0.5947909527,
              0.9871915026
             ]
            },
            {
             "iteration": 1367,
             "learn": [
              0.701658784,
              0.8043896247
             ],
             "passed_time": 25.46291566,
             "remaining_time": 11.76356922,
             "test": [
              0.5946538725,
              0.9871834037
             ]
            },
            {
             "iteration": 1368,
             "learn": [
              0.7016245116,
              0.8043160595
             ],
             "passed_time": 25.47920872,
             "remaining_time": 11.74388656,
             "test": [
              0.5949280329,
              0.987152815
             ]
            },
            {
             "iteration": 1369,
             "learn": [
              0.7014531496,
              0.8042254251
             ],
             "passed_time": 25.49587024,
             "remaining_time": 11.72437828,
             "test": [
              0.5950651131,
              0.9870682108
             ]
            },
            {
             "iteration": 1370,
             "learn": [
              0.7016245116,
              0.8041467726
             ],
             "passed_time": 25.51266746,
             "remaining_time": 11.70493642,
             "test": [
              0.5950651131,
              0.9870439808
             ]
            },
            {
             "iteration": 1371,
             "learn": [
              0.701658784,
              0.8040952301
             ],
             "passed_time": 25.5286831,
             "remaining_time": 11.68514066,
             "test": [
              0.5950651131,
              0.9870983309
             ]
            },
            {
             "iteration": 1372,
             "learn": [
              0.7017616012,
              0.8040106871
             ],
             "passed_time": 25.5450951,
             "remaining_time": 11.66553141,
             "test": [
              0.5950651131,
              0.9870880232
             ]
            },
            {
             "iteration": 1373,
             "learn": [
              0.7019672356,
              0.8039622238
             ],
             "passed_time": 25.56090276,
             "remaining_time": 11.64565148,
             "test": [
              0.5950651131,
              0.9870787194
             ]
            },
            {
             "iteration": 1374,
             "learn": [
              0.7021385976,
              0.8037085947
             ],
             "passed_time": 25.57853282,
             "remaining_time": 11.62660583,
             "test": [
              0.5954763537,
              0.9868905018
             ]
            },
            {
             "iteration": 1375,
             "learn": [
              0.7022071424,
              0.8036335569
             ],
             "passed_time": 25.59525001,
             "remaining_time": 11.60714826,
             "test": [
              0.5960246744,
              0.9868841431
             ]
            },
            {
             "iteration": 1376,
             "learn": [
              0.7019672356,
              0.8034668805
             ],
             "passed_time": 25.61203703,
             "remaining_time": 11.58772627,
             "test": [
              0.5952021933,
              0.9867927117
             ]
            },
            {
             "iteration": 1377,
             "learn": [
              0.70217287,
              0.8033113829
             ],
             "passed_time": 25.62917421,
             "remaining_time": 11.56846615,
             "test": [
              0.5952021933,
              0.9868421088
             ]
            },
            {
             "iteration": 1378,
             "learn": [
              0.7024470491,
              0.8032185395
             ],
             "passed_time": 25.64610538,
             "remaining_time": 11.54911635,
             "test": [
              0.5953392735,
              0.9867431139
             ]
            },
            {
             "iteration": 1379,
             "learn": [
              0.7023099596,
              0.8030809814
             ],
             "passed_time": 25.66260784,
             "remaining_time": 11.52957744,
             "test": [
              0.5956134339,
              0.9867706236
             ]
            },
            {
             "iteration": 1380,
             "learn": [
              0.7023785044,
              0.8030278324
             ],
             "passed_time": 25.67860773,
             "remaining_time": 11.50981766,
             "test": [
              0.5953392735,
              0.9867666076
             ]
            },
            {
             "iteration": 1381,
             "learn": [
              0.7024470491,
              0.8029378674
             ],
             "passed_time": 25.69534188,
             "remaining_time": 11.49039166,
             "test": [
              0.5954763537,
              0.986755095
             ]
            },
            {
             "iteration": 1382,
             "learn": [
              0.7024470491,
              0.8028855216
             ],
             "passed_time": 25.71197884,
             "remaining_time": 11.47092621,
             "test": [
              0.5957505141,
              0.9867453227
             ]
            },
            {
             "iteration": 1383,
             "learn": [
              0.7028925903,
              0.8026326958
             ],
             "passed_time": 25.73056608,
             "remaining_time": 11.45233288,
             "test": [
              0.5953392735,
              0.9867816677
             ]
            },
            {
             "iteration": 1384,
             "learn": [
              0.7028240455,
              0.8025615404
             ],
             "passed_time": 25.74733554,
             "remaining_time": 11.43293239,
             "test": [
              0.5956134339,
              0.9866967958
             ]
            },
            {
             "iteration": 1385,
             "learn": [
              0.7030296799,
              0.8024825532
             ],
             "passed_time": 25.7642626,
             "remaining_time": 11.41360551,
             "test": [
              0.5956134339,
              0.9866848816
             ]
            },
            {
             "iteration": 1386,
             "learn": [
              0.7033381315,
              0.8020259672
             ],
             "passed_time": 25.78247494,
             "remaining_time": 11.39485014,
             "test": [
              0.5953392735,
              0.9865573059
             ]
            },
            {
             "iteration": 1387,
             "learn": [
              0.7033038591,
              0.8019747595
             ],
             "passed_time": 25.79867312,
             "remaining_time": 11.37520746,
             "test": [
              0.5950651131,
              0.9865531561
             ]
            },
            {
             "iteration": 1388,
             "learn": [
              0.7035780382,
              0.8018687292
             ],
             "passed_time": 25.81554972,
             "remaining_time": 11.35586816,
             "test": [
              0.5950651131,
              0.9864667447
             ]
            },
            {
             "iteration": 1389,
             "learn": [
              0.703646583,
              0.801738869
             ],
             "passed_time": 25.85406661,
             "remaining_time": 11.34602923,
             "test": [
              0.5947909527,
              0.9865253786
             ]
            },
            {
             "iteration": 1390,
             "learn": [
              0.703646583,
              0.8016809674
             ],
             "passed_time": 25.87473624,
             "remaining_time": 11.32833528,
             "test": [
              0.5949280329,
              0.9865014163
             ]
            },
            {
             "iteration": 1391,
             "learn": [
              0.7039207622,
              0.8014077253
             ],
             "passed_time": 25.89655584,
             "remaining_time": 11.31113933,
             "test": [
              0.5953392735,
              0.9864302658
             ]
            },
            {
             "iteration": 1392,
             "learn": [
              0.7039207622,
              0.8013634122
             ],
             "passed_time": 25.92307658,
             "remaining_time": 11.29598527,
             "test": [
              0.5954763537,
              0.9864178161
             ]
            },
            {
             "iteration": 1393,
             "learn": [
              0.7039207622,
              0.8013134093
             ],
             "passed_time": 25.93926171,
             "remaining_time": 11.27632181,
             "test": [
              0.5952021933,
              0.9863789277
             ]
            },
            {
             "iteration": 1394,
             "learn": [
              0.7037836726,
              0.8012108599
             ],
             "passed_time": 25.95620485,
             "remaining_time": 11.25699207,
             "test": [
              0.5952021933,
              0.9863838808
             ]
            },
            {
             "iteration": 1395,
             "learn": [
              0.7040578518,
              0.8010661393
             ],
             "passed_time": 25.97352254,
             "remaining_time": 11.23782781,
             "test": [
              0.5953392735,
              0.9862508166
             ]
            },
            {
             "iteration": 1396,
             "learn": [
              0.7041263966,
              0.801008974
             ],
             "passed_time": 25.98951939,
             "remaining_time": 11.21809606,
             "test": [
              0.5952021933,
              0.9862956622
             ]
            },
            {
             "iteration": 1397,
             "learn": [
              0.704332031,
              0.8009061568
             ],
             "passed_time": 26.00621637,
             "remaining_time": 11.19867114,
             "test": [
              0.5954763537,
              0.9862439224
             ]
            },
            {
             "iteration": 1398,
             "learn": [
              0.7041263966,
              0.800856087
             ],
             "passed_time": 26.02312839,
             "remaining_time": 11.1793425,
             "test": [
              0.5954763537,
              0.9862283938
             ]
            },
            {
             "iteration": 1399,
             "learn": [
              0.7040235794,
              0.80075414
             ],
             "passed_time": 26.04011283,
             "remaining_time": 11.16004835,
             "test": [
              0.5954763537,
              0.9861536958
             ]
            },
            {
             "iteration": 1400,
             "learn": [
              0.7040235794,
              0.8007067477
             ],
             "passed_time": 26.05611384,
             "remaining_time": 11.14033704,
             "test": [
              0.5954763537,
              0.9861463331
             ]
            },
            {
             "iteration": 1401,
             "learn": [
              0.7042634862,
              0.8005948938
             ],
             "passed_time": 26.07332354,
             "remaining_time": 11.12114656,
             "test": [
              0.5953392735,
              0.9861648068
             ]
            },
            {
             "iteration": 1402,
             "learn": [
              0.7045719378,
              0.8003871174
             ],
             "passed_time": 26.09139632,
             "remaining_time": 11.10232616,
             "test": [
              0.5960246744,
              0.9859287317
             ]
            },
            {
             "iteration": 1403,
             "learn": [
              0.7046062102,
              0.8003483602
             ],
             "passed_time": 26.10752761,
             "remaining_time": 11.08268266,
             "test": [
              0.5958875942,
              0.9859155458
             ]
            },
            {
             "iteration": 1404,
             "learn": [
              0.7044005758,
              0.8001831565
             ],
             "passed_time": 26.12534964,
             "remaining_time": 11.06376017,
             "test": [
              0.5958875942,
              0.985970833
             ]
            },
            {
             "iteration": 1405,
             "learn": [
              0.7044691206,
              0.8001248533
             ],
             "passed_time": 26.14221652,
             "remaining_time": 11.04443571,
             "test": [
              0.5957505141,
              0.9859743135
             ]
            },
            {
             "iteration": 1406,
             "learn": [
              0.7045719378,
              0.8000794022
             ],
             "passed_time": 26.15832,
             "remaining_time": 11.02479301,
             "test": [
              0.5957505141,
              0.985993055
             ]
            },
            {
             "iteration": 1407,
             "learn": [
              0.7047432997,
              0.7998691491
             ],
             "passed_time": 26.17530297,
             "remaining_time": 11.00552511,
             "test": [
              0.5962988348,
              0.9860563742
             ]
            },
            {
             "iteration": 1408,
             "learn": [
              0.7045719378,
              0.7996603686
             ],
             "passed_time": 26.19239897,
             "remaining_time": 10.98630787,
             "test": [
              0.5960246744,
              0.98597177
             ]
            },
            {
             "iteration": 1409,
             "learn": [
              0.7047432997,
              0.7996006596
             ],
             "passed_time": 26.20885371,
             "remaining_time": 10.96682531,
             "test": [
              0.5960246744,
              0.9860268565
             ]
            },
            {
             "iteration": 1410,
             "learn": [
              0.7048803893,
              0.7994944955
             ],
             "passed_time": 26.22572563,
             "remaining_time": 10.94752119,
             "test": [
              0.5962988348,
              0.985974849
             ]
            },
            {
             "iteration": 1411,
             "learn": [
              0.7051545685,
              0.7993668442
             ],
             "passed_time": 26.2435963,
             "remaining_time": 10.92863642,
             "test": [
              0.5965729952,
              0.9859034308
             ]
            },
            {
             "iteration": 1412,
             "learn": [
              0.7051888409,
              0.7992550573
             ],
             "passed_time": 26.26432955,
             "remaining_time": 10.91094228,
             "test": [
              0.596435915,
              0.9859293341
             ]
            },
            {
             "iteration": 1413,
             "learn": [
              0.7052231133,
              0.7991075254
             ],
             "passed_time": 26.28115721,
             "remaining_time": 10.89162527,
             "test": [
              0.5968471556,
              0.985905238
             ]
            },
            {
             "iteration": 1414,
             "learn": [
              0.7051545685,
              0.7989966756
             ],
             "passed_time": 26.29737849,
             "remaining_time": 10.87206107,
             "test": [
              0.596435915,
              0.9858346899
             ]
            },
            {
             "iteration": 1415,
             "learn": [
              0.7050174789,
              0.7989472751
             ],
             "passed_time": 26.31429496,
             "remaining_time": 10.85278832,
             "test": [
              0.5969842358,
              0.9858265909
             ]
            },
            {
             "iteration": 1416,
             "learn": [
              0.7050860237,
              0.7988893735
             ],
             "passed_time": 26.33035978,
             "remaining_time": 10.83316849,
             "test": [
              0.5969842358,
              0.98579212
             ]
            },
            {
             "iteration": 1417,
             "learn": [
              0.7051545685,
              0.7987036198
             ],
             "passed_time": 26.34695424,
             "remaining_time": 10.81377106,
             "test": [
              0.5968471556,
              0.9857402464
             ]
            },
            {
             "iteration": 1418,
             "learn": [
              0.7051202961,
              0.7986669376
             ],
             "passed_time": 26.36370167,
             "remaining_time": 10.79444022,
             "test": [
              0.5968471556,
              0.9857167527
             ]
            },
            {
             "iteration": 1419,
             "learn": [
              0.7053602029,
              0.7985402904
             ],
             "passed_time": 26.3810699,
             "remaining_time": 10.77536658,
             "test": [
              0.596435915,
              0.9857571137
             ]
            },
            {
             "iteration": 1420,
             "learn": [
              0.7055658373,
              0.7984458405
             ],
             "passed_time": 26.39757047,
             "remaining_time": 10.7559418,
             "test": [
              0.5962988348,
              0.9858006206
             ]
            },
            {
             "iteration": 1421,
             "learn": [
              0.7058742888,
              0.7982700606
             ],
             "passed_time": 26.41449934,
             "remaining_time": 10.73669523,
             "test": [
              0.5958875942,
              0.9855782669
             ]
            },
            {
             "iteration": 1422,
             "learn": [
              0.7056686545,
              0.7981905379
             ],
             "passed_time": 26.43338979,
             "remaining_time": 10.7182473,
             "test": [
              0.5960246744,
              0.9855440638
             ]
            },
            {
             "iteration": 1423,
             "learn": [
              0.7056686545,
              0.7981365857
             ],
             "passed_time": 26.45564281,
             "remaining_time": 10.70115889,
             "test": [
              0.5960246744,
              0.9855848933
             ]
            },
            {
             "iteration": 1424,
             "learn": [
              0.7058057441,
              0.7980044495
             ],
             "passed_time": 26.47222451,
             "remaining_time": 10.6817748,
             "test": [
              0.5962988348,
              0.9855352955
             ]
            },
            {
             "iteration": 1425,
             "learn": [
              0.7058057441,
              0.797917162
             ],
             "passed_time": 26.48914272,
             "remaining_time": 10.6625301,
             "test": [
              0.5965729952,
              0.985533756
             ]
            },
            {
             "iteration": 1426,
             "learn": [
              0.7057371993,
              0.7978498221
             ],
             "passed_time": 26.5049335,
             "remaining_time": 10.64283594,
             "test": [
              0.596435915,
              0.9855895787
             ]
            },
            {
             "iteration": 1427,
             "learn": [
              0.705977106,
              0.7977636056
             ],
             "passed_time": 26.52048208,
             "remaining_time": 10.62305024,
             "test": [
              0.5962988348,
              0.9855952681
             ]
            },
            {
             "iteration": 1428,
             "learn": [
              0.7058742888,
              0.7976577762
             ],
             "passed_time": 26.5378012,
             "remaining_time": 10.60397795,
             "test": [
              0.5960246744,
              0.9855500878
             ]
            },
            {
             "iteration": 1429,
             "learn": [
              0.7061827404,
              0.7975980003
             ],
             "passed_time": 26.55349365,
             "remaining_time": 10.58425971,
             "test": [
              0.5961617546,
              0.9855758573
             ]
            },
            {
             "iteration": 1430,
             "learn": [
              0.7061141956,
              0.7975052239
             ],
             "passed_time": 26.5698918,
             "remaining_time": 10.5648277,
             "test": [
              0.5957505141,
              0.9855668212
             ]
            },
            {
             "iteration": 1431,
             "learn": [
              0.7061827404,
              0.7974479916
             ],
             "passed_time": 26.58601118,
             "remaining_time": 10.54528935,
             "test": [
              0.5957505141,
              0.9855767274
             ]
            },
            {
             "iteration": 1432,
             "learn": [
              0.7060799232,
              0.7972951046
             ],
             "passed_time": 26.60293668,
             "remaining_time": 10.52607474,
             "test": [
              0.5957505141,
              0.9855102623
             ]
            },
            {
             "iteration": 1433,
             "learn": [
              0.706491192,
              0.7970524534
             ],
             "passed_time": 26.62056679,
             "remaining_time": 10.50714142,
             "test": [
              0.5961617546,
              0.9855416542
             ]
            },
            {
             "iteration": 1434,
             "learn": [
              0.7065597368,
              0.7968448108
             ],
             "passed_time": 26.63832799,
             "remaining_time": 10.48826154,
             "test": [
              0.5967100754,
              0.9856795376
             ]
            },
            {
             "iteration": 1435,
             "learn": [
              0.7064226472,
              0.7966351602
             ],
             "passed_time": 26.65634168,
             "remaining_time": 10.46948239,
             "test": [
              0.5962988348,
              0.9856450667
             ]
            },
            {
             "iteration": 1436,
             "learn": [
              0.7063541024,
              0.7965586497
             ],
             "passed_time": 26.67299384,
             "remaining_time": 10.45017087,
             "test": [
              0.5961617546,
              0.9855957366
             ]
            },
            {
             "iteration": 1437,
             "learn": [
              0.70631983,
              0.7963844094
             ],
             "passed_time": 26.68925527,
             "remaining_time": 10.43071033,
             "test": [
              0.5965729952,
              0.9854143463
             ]
            },
            {
             "iteration": 1438,
             "learn": [
              0.7063541024,
              0.7963474595
             ],
             "passed_time": 26.70530796,
             "remaining_time": 10.41117287,
             "test": [
              0.5967100754,
              0.9854119367
             ]
            },
            {
             "iteration": 1439,
             "learn": [
              0.7063883748,
              0.7963048867
             ],
             "passed_time": 26.72228509,
             "remaining_time": 10.39199976,
             "test": [
              0.5965729952,
              0.985399554
             ]
            },
            {
             "iteration": 1440,
             "learn": [
              0.706491192,
              0.7962372121
             ],
             "passed_time": 26.73796925,
             "remaining_time": 10.37232811,
             "test": [
              0.5962988348,
              0.9853804779
             ]
            },
            {
             "iteration": 1441,
             "learn": [
              0.7065940092,
              0.7961475818
             ],
             "passed_time": 26.75357334,
             "remaining_time": 10.35263102,
             "test": [
              0.596435915,
              0.9853619372
             ]
            },
            {
             "iteration": 1442,
             "learn": [
              0.7066282816,
              0.7960277622
             ],
             "passed_time": 26.77092754,
             "remaining_time": 10.33361513,
             "test": [
              0.5962988348,
              0.9854253904
             ]
            },
            {
             "iteration": 1443,
             "learn": [
              0.7066282816,
              0.7958094096
             ],
             "passed_time": 26.78854759,
             "remaining_time": 10.31470392,
             "test": [
              0.5962988348,
              0.9853051105
             ]
            },
            {
             "iteration": 1444,
             "learn": [
              0.7067653712,
              0.7957552565
             ],
             "passed_time": 26.80461009,
             "remaining_time": 10.29519626,
             "test": [
              0.596435915,
              0.9852506934
             ]
            },
            {
             "iteration": 1445,
             "learn": [
              0.706833916,
              0.7956247938
             ],
             "passed_time": 26.8217216,
             "remaining_time": 10.27609527,
             "test": [
              0.5961617546,
              0.985257186
             ]
            },
            {
             "iteration": 1446,
             "learn": [
              0.7069710056,
              0.7955778032
             ],
             "passed_time": 26.8376602,
             "remaining_time": 10.25654878,
             "test": [
              0.5962988348,
              0.9852664898
             ]
            },
            {
             "iteration": 1447,
             "learn": [
              0.7070052779,
              0.7955119359
             ],
             "passed_time": 26.85356432,
             "remaining_time": 10.23699413,
             "test": [
              0.596435915,
              0.9852165573
             ]
            },
            {
             "iteration": 1448,
             "learn": [
              0.7069367332,
              0.7953419796
             ],
             "passed_time": 26.87047628,
             "remaining_time": 10.21782776,
             "test": [
              0.5965729952,
              0.985051298
             ]
            },
            {
             "iteration": 1449,
             "learn": [
              0.7070052779,
              0.7952508766
             ],
             "passed_time": 26.88759357,
             "remaining_time": 10.19874239,
             "test": [
              0.5968471556,
              0.985034163
             ]
            },
            {
             "iteration": 1450,
             "learn": [
              0.7070738227,
              0.7951298522
             ],
             "passed_time": 26.91706644,
             "remaining_time": 10.18433458,
             "test": [
              0.596435915,
              0.9850527705
             ]
            },
            {
             "iteration": 1451,
             "learn": [
              0.7071423675,
              0.795091028
             ],
             "passed_time": 26.94294641,
             "remaining_time": 10.16855002,
             "test": [
              0.596435915,
              0.9850416595
             ]
            },
            {
             "iteration": 1452,
             "learn": [
              0.7074165467,
              0.794992361
             ],
             "passed_time": 26.991939,
             "remaining_time": 10.1614526,
             "test": [
              0.5967100754,
              0.9851164245
             ]
            },
            {
             "iteration": 1453,
             "learn": [
              0.7073822743,
              0.7949216742
             ],
             "passed_time": 27.00848256,
             "remaining_time": 10.14211243,
             "test": [
              0.5968471556,
              0.9851462769
             ]
            },
            {
             "iteration": 1454,
             "learn": [
              0.7074508191,
              0.7948540665
             ],
             "passed_time": 27.02656416,
             "remaining_time": 10.12335221,
             "test": [
              0.5967100754,
              0.9851140148
             ]
            },
            {
             "iteration": 1455,
             "learn": [
              0.7074850915,
              0.7947742092
             ],
             "passed_time": 27.04445328,
             "remaining_time": 10.10452101,
             "test": [
              0.5962988348,
              0.9851011636
             ]
            },
            {
             "iteration": 1456,
             "learn": [
              0.7075193639,
              0.7946996399
             ],
             "passed_time": 27.0625498,
             "remaining_time": 10.08576839,
             "test": [
              0.5967100754,
              0.9850919267
             ]
            },
            {
             "iteration": 1457,
             "learn": [
              0.7075536363,
              0.7945978268
             ],
             "passed_time": 27.07954325,
             "remaining_time": 10.06660661,
             "test": [
              0.5968471556,
              0.9850595978
             ]
            },
            {
             "iteration": 1458,
             "learn": [
              0.7075879087,
              0.794456587
             ],
             "passed_time": 27.09730603,
             "remaining_time": 10.04773308,
             "test": [
              0.5965729952,
              0.9850043775
             ]
            },
            {
             "iteration": 1459,
             "learn": [
              0.7076221811,
              0.794357987
             ],
             "passed_time": 27.11473276,
             "remaining_time": 10.02873677,
             "test": [
              0.5962988348,
              0.9849587287
             ]
            },
            {
             "iteration": 1460,
             "learn": [
              0.7075536363,
              0.7943098583
             ],
             "passed_time": 27.13077535,
             "remaining_time": 10.00923197,
             "test": [
              0.5961617546,
              0.9849405227
             ]
            },
            {
             "iteration": 1461,
             "learn": [
              0.7075879087,
              0.7942480743
             ],
             "passed_time": 27.14701488,
             "remaining_time": 9.989804382,
             "test": [
              0.5962988348,
              0.9848893854
             ]
            },
            {
             "iteration": 1462,
             "learn": [
              0.7074508191,
              0.7941870936
             ],
             "passed_time": 27.16360491,
             "remaining_time": 9.9705098,
             "test": [
              0.5962988348,
              0.984874593
             ]
            },
            {
             "iteration": 1463,
             "learn": [
              0.7074165467,
              0.7941346809
             ],
             "passed_time": 27.17999772,
             "remaining_time": 9.951146705,
             "test": [
              0.5967100754,
              0.9848411262
             ]
            },
            {
             "iteration": 1464,
             "learn": [
              0.7076564535,
              0.7940460546
             ],
             "passed_time": 27.19694413,
             "remaining_time": 9.931989834,
             "test": [
              0.5969842358,
              0.9848021708
             ]
            },
            {
             "iteration": 1465,
             "learn": [
              0.7076564535,
              0.7939904958
             ],
             "passed_time": 27.21312866,
             "remaining_time": 9.91255846,
             "test": [
              0.597121316,
              0.9847993596
             ]
            },
            {
             "iteration": 1466,
             "learn": [
              0.7077935431,
              0.7938444365
             ],
             "passed_time": 27.22948429,
             "remaining_time": 9.89319368,
             "test": [
              0.597121316,
              0.9847620106
             ]
            },
            {
             "iteration": 1467,
             "learn": [
              0.7079649051,
              0.7937211362
             ],
             "passed_time": 27.24691714,
             "remaining_time": 9.874223379,
             "test": [
              0.5969842358,
              0.984711074
             ]
            },
            {
             "iteration": 1468,
             "learn": [
              0.7081019947,
              0.7936134995
             ],
             "passed_time": 27.26378464,
             "remaining_time": 9.855050814,
             "test": [
              0.5968471556,
              0.9846674333
             ]
            },
            {
             "iteration": 1469,
             "learn": [
              0.7082733566,
              0.7934982318
             ],
             "passed_time": 27.28082613,
             "remaining_time": 9.835944114,
             "test": [
              0.5969842358,
              0.9847308864
             ]
            },
            {
             "iteration": 1470,
             "learn": [
              0.7082733566,
              0.7934420036
             ],
             "passed_time": 27.29763793,
             "remaining_time": 9.816757624,
             "test": [
              0.5973954764,
              0.9846367107
             ]
            },
            {
             "iteration": 1471,
             "learn": [
              0.7081705394,
              0.79335157
             ],
             "passed_time": 27.31366555,
             "remaining_time": 9.797293076,
             "test": [
              0.5972583962,
              0.9845867782
             ]
            },
            {
             "iteration": 1472,
             "learn": [
              0.708307629,
              0.793244201
             ],
             "passed_time": 27.33082633,
             "remaining_time": 9.778238614,
             "test": [
              0.5973954764,
              0.9846395889
             ]
            },
            {
             "iteration": 1473,
             "learn": [
              0.7082733566,
              0.7931946667
             ],
             "passed_time": 27.34684613,
             "remaining_time": 9.758779555,
             "test": [
              0.5973954764,
              0.9846499636
             ]
            },
            {
             "iteration": 1474,
             "learn": [
              0.708307629,
              0.7929769165
             ],
             "passed_time": 27.36419944,
             "remaining_time": 9.739799801,
             "test": [
              0.5972583962,
              0.9845185058
             ]
            },
            {
             "iteration": 1475,
             "learn": [
              0.708478991,
              0.7927869456
             ],
             "passed_time": 27.3816136,
             "remaining_time": 9.720843851,
             "test": [
              0.5975325565,
              0.9843662986
             ]
            },
            {
             "iteration": 1476,
             "learn": [
              0.7085132634,
              0.7926234824
             ],
             "passed_time": 27.3997602,
             "remaining_time": 9.702149347,
             "test": [
              0.5976696367,
              0.9843079994
             ]
            },
            {
             "iteration": 1477,
             "learn": [
              0.708478991,
              0.7925689277
             ],
             "passed_time": 27.41586856,
             "remaining_time": 9.682735716,
             "test": [
              0.5975325565,
              0.9842994988
             ]
            },
            {
             "iteration": 1478,
             "learn": [
              0.7087188978,
              0.7923128218
             ],
             "passed_time": 27.43360235,
             "remaining_time": 9.663899137,
             "test": [
              0.5973954764,
              0.9844483593
             ]
            },
            {
             "iteration": 1479,
             "learn": [
              0.7088559874,
              0.7922386542
             ],
             "passed_time": 27.44947509,
             "remaining_time": 9.644410165,
             "test": [
              0.5973954764,
              0.9844497649
             ]
            },
            {
             "iteration": 1480,
             "learn": [
              0.7089245322,
              0.7921458778
             ],
             "passed_time": 27.46631538,
             "remaining_time": 9.625265147,
             "test": [
              0.5976696367,
              0.9844023089
             ]
            },
            {
             "iteration": 1481,
             "learn": [
              0.7089588046,
              0.7920705053
             ],
             "passed_time": 27.48343947,
             "remaining_time": 9.606222433,
             "test": [
              0.5975325565,
              0.9844116127
             ]
            },
            {
             "iteration": 1482,
             "learn": [
              0.7090616218,
              0.7920208371
             ],
             "passed_time": 27.5003342,
             "remaining_time": 9.587102349,
             "test": [
              0.5975325565,
              0.9844237947
             ]
            },
            {
             "iteration": 1483,
             "learn": [
              0.7092672562,
              0.7917822691
             ],
             "passed_time": 27.51842661,
             "remaining_time": 9.568401704,
             "test": [
              0.5975325565,
              0.9843529119
             ]
            },
            {
             "iteration": 1484,
             "learn": [
              0.7094728905,
              0.7915353338
             ],
             "passed_time": 27.53551317,
             "remaining_time": 9.549353051,
             "test": [
              0.5982179575,
              0.9842142253
             ]
            },
            {
             "iteration": 1485,
             "learn": [
              0.7094386181,
              0.7914747546
             ],
             "passed_time": 27.55257668,
             "remaining_time": 9.530299069,
             "test": [
              0.5976696367,
              0.9842399278
             ]
            },
            {
             "iteration": 1486,
             "learn": [
              0.7096442525,
              0.791342016
             ],
             "passed_time": 27.5698147,
             "remaining_time": 9.511307964,
             "test": [
              0.5979437971,
              0.9841562607
             ]
            },
            {
             "iteration": 1487,
             "learn": [
              0.7095414353,
              0.7912691872
             ],
             "passed_time": 27.58655758,
             "remaining_time": 9.492148846,
             "test": [
              0.5976696367,
              0.9841495673
             ]
            },
            {
             "iteration": 1488,
             "learn": [
              0.7097470697,
              0.7910670336
             ],
             "passed_time": 27.60359164,
             "remaining_time": 9.473092901,
             "test": [
              0.5976696367,
              0.9842337699
             ]
            },
            {
             "iteration": 1489,
             "learn": [
              0.7098498869,
              0.7908303399
             ],
             "passed_time": 27.62105038,
             "remaining_time": 9.454185029,
             "test": [
              0.5978067169,
              0.9841264083
             ]
            },
            {
             "iteration": 1490,
             "learn": [
              0.7099527041,
              0.7907368271
             ],
             "passed_time": 27.6378186,
             "remaining_time": 9.435043371,
             "test": [
              0.5973954764,
              0.9841433425
             ]
            },
            {
             "iteration": 1491,
             "learn": [
              0.7101240661,
              0.7905375518
             ],
             "passed_time": 27.65490189,
             "remaining_time": 9.416012172,
             "test": [
              0.5967100754,
              0.98406918
             ]
            },
            {
             "iteration": 1492,
             "learn": [
              0.7101240661,
              0.7904311869
             ],
             "passed_time": 27.67106362,
             "remaining_time": 9.396670632,
             "test": [
              0.5969842358,
              0.9840032503
             ]
            },
            {
             "iteration": 1493,
             "learn": [
              0.7102611557,
              0.7903206718
             ],
             "passed_time": 27.68837832,
             "remaining_time": 9.377723849,
             "test": [
              0.5969842358,
              0.9839891273
             ]
            },
            {
             "iteration": 1494,
             "learn": [
              0.7102268833,
              0.7901830467
             ],
             "passed_time": 27.70565039,
             "remaining_time": 9.358764848,
             "test": [
              0.597121316,
              0.9839365843
             ]
            },
            {
             "iteration": 1495,
             "learn": [
              0.7107409692,
              0.7900291556
             ],
             "passed_time": 27.72284671,
             "remaining_time": 9.339782581,
             "test": [
              0.5972583962,
              0.984035847
             ]
            },
            {
             "iteration": 1496,
             "learn": [
              0.7105696072,
              0.7899207156
             ],
             "passed_time": 27.74003963,
             "remaining_time": 9.320801558,
             "test": [
              0.5969842358,
              0.9840268779
             ]
            },
            {
             "iteration": 1497,
             "learn": [
              0.7107752416,
              0.7897987541
             ],
             "passed_time": 27.75769471,
             "remaining_time": 9.301977801,
             "test": [
              0.597121316,
              0.984164092
             ]
            },
            {
             "iteration": 1498,
             "learn": [
              0.710980876,
              0.7896222379
             ],
             "passed_time": 27.77538806,
             "remaining_time": 9.283168392,
             "test": [
              0.5975325565,
              0.9841820302
             ]
            },
            {
             "iteration": 1499,
             "learn": [
              0.7110494208,
              0.7895632652
             ],
             "passed_time": 27.79186698,
             "remaining_time": 9.263955659,
             "test": [
              0.5976696367,
              0.9841513076
             ]
            },
            {
             "iteration": 1500,
             "learn": [
              0.7110836932,
              0.7894911727
             ],
             "passed_time": 27.80783928,
             "remaining_time": 9.24457815,
             "test": [
              0.5976696367,
              0.9841457521
             ]
            },
            {
             "iteration": 1501,
             "learn": [
              0.7110836932,
              0.7894430441
             ],
             "passed_time": 27.82393951,
             "remaining_time": 9.225247587,
             "test": [
              0.5975325565,
              0.9841397281
             ]
            },
            {
             "iteration": 1502,
             "learn": [
              0.7111179656,
              0.7893619149
             ],
             "passed_time": 27.84084979,
             "remaining_time": 9.206189186,
             "test": [
              0.5975325565,
              0.984228616
             ]
            },
            {
             "iteration": 1503,
             "learn": [
              0.711152238,
              0.7892271012
             ],
             "passed_time": 27.85677639,
             "remaining_time": 9.186809236,
             "test": [
              0.5978067169,
              0.9840940124
             ]
            },
            {
             "iteration": 1504,
             "learn": [
              0.711152238,
              0.7891516618
             ],
             "passed_time": 27.87426999,
             "remaining_time": 9.167949264,
             "test": [
              0.5975325565,
              0.9840939454
             ]
            },
            {
             "iteration": 1505,
             "learn": [
              0.7111865104,
              0.7890988475
             ],
             "passed_time": 27.89143294,
             "remaining_time": 9.14898265,
             "test": [
              0.5976696367,
              0.9839931433
             ]
            },
            {
             "iteration": 1506,
             "learn": [
              0.7113236,
              0.788938865
             ],
             "passed_time": 27.90852084,
             "remaining_time": 9.129993877,
             "test": [
              0.5980808773,
              0.9840092074
             ]
            },
            {
             "iteration": 1507,
             "learn": [
              0.7113578724,
              0.7888869209
             ],
             "passed_time": 27.92485453,
             "remaining_time": 9.110761557,
             "test": [
              0.5980808773,
              0.9839689803
             ]
            },
            {
             "iteration": 1508,
             "learn": [
              0.7112893276,
              0.7888502387
             ],
             "passed_time": 27.94075982,
             "remaining_time": 9.091393686,
             "test": [
              0.5980808773,
              0.9839786856
             ]
            },
            {
             "iteration": 1509,
             "learn": [
              0.711494962,
              0.7887604076
             ],
             "passed_time": 27.95808621,
             "remaining_time": 9.072491551,
             "test": [
              0.5979437971,
              0.9839055271
             ]
            },
            {
             "iteration": 1510,
             "learn": [
              0.7113236,
              0.7884232395
             ],
             "passed_time": 27.98923492,
             "remaining_time": 9.058064775,
             "test": [
              0.5980808773,
              0.9838604138
             ]
            },
            {
             "iteration": 1511,
             "learn": [
              0.7114264172,
              0.7881912314
             ],
             "passed_time": 28.00749643,
             "remaining_time": 9.03945652,
             "test": [
              0.5979437971,
              0.9839395964
             ]
            },
            {
             "iteration": 1512,
             "learn": [
              0.7114264172,
              0.7881079602
             ],
             "passed_time": 28.0266817,
             "remaining_time": 9.021146061,
             "test": [
              0.5983550377,
              0.9838045242
             ]
            },
            {
             "iteration": 1513,
             "learn": [
              0.7114264172,
              0.7880156523
             ],
             "passed_time": 28.04737186,
             "remaining_time": 9.003317518,
             "test": [
              0.5978067169,
              0.9839118189
             ]
            },
            {
             "iteration": 1514,
             "learn": [
              0.7115635068,
              0.7879212693
             ],
             "passed_time": 28.07579558,
             "remaining_time": 8.987960963,
             "test": [
              0.5979437971,
              0.9838615517
             ]
            },
            {
             "iteration": 1515,
             "learn": [
              0.7115977791,
              0.7878559376
             ],
             "passed_time": 28.09140934,
             "remaining_time": 8.968497441,
             "test": [
              0.5980808773,
              0.9838295574
             ]
            },
            {
             "iteration": 1516,
             "learn": [
              0.7118719583,
              0.7877780214
             ],
             "passed_time": 28.1080849,
             "remaining_time": 8.949377065,
             "test": [
              0.5979437971,
              0.9838495036
             ]
            },
            {
             "iteration": 1517,
             "learn": [
              0.7118719583,
              0.7876688451
             ],
             "passed_time": 28.12554755,
             "remaining_time": 8.930509827,
             "test": [
              0.5979437971,
              0.9838442828
             ]
            },
            {
             "iteration": 1518,
             "learn": [
              0.7118034135,
              0.7875944097
             ],
             "passed_time": 28.1424614,
             "remaining_time": 8.911470659,
             "test": [
              0.5978067169,
              0.9838740683
             ]
            },
            {
             "iteration": 1519,
             "learn": [
              0.7119062307,
              0.7875375791
             ],
             "passed_time": 28.15948579,
             "remaining_time": 8.892469196,
             "test": [
              0.5978067169,
              0.9838574687
             ]
            },
            {
             "iteration": 1520,
             "learn": [
              0.7121461375,
              0.7874263947
             ],
             "passed_time": 28.17686046,
             "remaining_time": 8.873580645,
             "test": [
              0.5976696367,
              0.9839124882
             ]
            },
            {
             "iteration": 1521,
             "learn": [
              0.7120775927,
              0.7873917876
             ],
             "passed_time": 28.19356333,
             "remaining_time": 8.854483095,
             "test": [
              0.5975325565,
              0.9839199179
             ]
            },
            {
             "iteration": 1522,
             "learn": [
              0.7121118651,
              0.7872901753
             ],
             "passed_time": 28.21040198,
             "remaining_time": 8.835431219,
             "test": [
              0.5975325565,
              0.9838639613
             ]
            },
            {
             "iteration": 1523,
             "learn": [
              0.7122489547,
              0.787155964
             ],
             "passed_time": 28.22781371,
             "remaining_time": 8.816561237,
             "test": [
              0.5978067169,
              0.9837655688
             ]
            },
            {
             "iteration": 1524,
             "learn": [
              0.7123860443,
              0.787056226
             ],
             "passed_time": 28.24469982,
             "remaining_time": 8.797529452,
             "test": [
              0.5976696367,
              0.9837695179
             ]
            },
            {
             "iteration": 1525,
             "learn": [
              0.7122832271,
              0.7869915636
             ],
             "passed_time": 28.26039896,
             "remaining_time": 8.778131787,
             "test": [
              0.5979437971,
              0.983726948
             ]
            },
            {
             "iteration": 1526,
             "learn": [
              0.7122489547,
              0.7869453762
             ],
             "passed_time": 28.27645038,
             "remaining_time": 8.758848089,
             "test": [
              0.5983550377,
              0.9837011116
             ]
            },
            {
             "iteration": 1527,
             "learn": [
              0.7123517719,
              0.7868977162
             ],
             "passed_time": 28.29236861,
             "remaining_time": 8.739527476,
             "test": [
              0.5984921179,
              0.9836616208
             ]
            },
            {
             "iteration": 1528,
             "learn": [
              0.7124545891,
              0.786840417
             ],
             "passed_time": 28.30935495,
             "remaining_time": 8.720540341,
             "test": [
              0.5983550377,
              0.98369569
             ]
            },
            {
             "iteration": 1529,
             "learn": [
              0.7125574063,
              0.7867692616
             ],
             "passed_time": 28.32565705,
             "remaining_time": 8.70134563,
             "test": [
              0.5984921179,
              0.9837445516
             ]
            },
            {
             "iteration": 1530,
             "learn": [
              0.7130372198,
              0.7865909381
             ],
             "passed_time": 28.34324277,
             "remaining_time": 8.682547917,
             "test": [
              0.5984921179,
              0.9836829726
             ]
            },
            {
             "iteration": 1531,
             "learn": [
              0.7132771266,
              0.7863961477
             ],
             "passed_time": 28.36025573,
             "remaining_time": 8.663576816,
             "test": [
              0.5984921179,
              0.9835985692
             ]
            },
            {
             "iteration": 1532,
             "learn": [
              0.7133799438,
              0.7863402542
             ],
             "passed_time": 28.37638215,
             "remaining_time": 8.644338201,
             "test": [
              0.5984921179,
              0.9835616888
             ]
            },
            {
             "iteration": 1533,
             "learn": [
              0.713311399,
              0.7862558451
             ],
             "passed_time": 28.3923332,
             "remaining_time": 8.625050373,
             "test": [
              0.5984921179,
              0.9835950887
             ]
            },
            {
             "iteration": 1534,
             "learn": [
              0.7133456714,
              0.7862160168
             ],
             "passed_time": 28.4091518,
             "remaining_time": 8.606029697,
             "test": [
              0.5983550377,
              0.9836205904
             ]
            },
            {
             "iteration": 1535,
             "learn": [
              0.7130714922,
              0.7860988748
             ],
             "passed_time": 28.42693458,
             "remaining_time": 8.587303155,
             "test": [
              0.5980808773,
              0.9836680464
             ]
            },
            {
             "iteration": 1536,
             "learn": [
              0.713482761,
              0.7860153358
             ],
             "passed_time": 28.44295282,
             "remaining_time": 8.568046295,
             "test": [
              0.5983550377,
              0.9836741374
             ]
            },
            {
             "iteration": 1537,
             "learn": [
              0.713482761,
              0.7859818667
             ],
             "passed_time": 28.45878689,
             "remaining_time": 8.548738325,
             "test": [
              0.5983550377,
              0.9836722632
             ]
            },
            {
             "iteration": 1538,
             "learn": [
              0.7134142162,
              0.7858648586
             ],
             "passed_time": 28.47572388,
             "remaining_time": 8.529765242,
             "test": [
              0.5983550377,
              0.983664365
             ]
            },
            {
             "iteration": 1539,
             "learn": [
              0.7134142162,
              0.7858398237
             ],
             "passed_time": 28.49143535,
             "remaining_time": 8.510428741,
             "test": [
              0.5982179575,
              0.9836743382
             ]
            },
            {
             "iteration": 1540,
             "learn": [
              0.7132771266,
              0.785757021
             ],
             "passed_time": 28.50898273,
             "remaining_time": 8.491643786,
             "test": [
              0.5982179575,
              0.9836344457
             ]
            },
            {
             "iteration": 1541,
             "learn": [
              0.7132428542,
              0.7856646462
             ],
             "passed_time": 28.52571212,
             "remaining_time": 8.472617478,
             "test": [
              0.5980808773,
              0.9837719275
             ]
            },
            {
             "iteration": 1542,
             "learn": [
              0.7133456714,
              0.7855795007
             ],
             "passed_time": 28.54137266,
             "remaining_time": 8.453277579,
             "test": [
              0.5983550377,
              0.983757269
             ]
            },
            {
             "iteration": 1543,
             "learn": [
              0.7134142162,
              0.7855215991
             ],
             "passed_time": 28.55802206,
             "remaining_time": 8.434234494,
             "test": [
              0.5984921179,
              0.983745154
             ]
            },
            {
             "iteration": 1544,
             "learn": [
              0.713482761,
              0.7853591399
             ],
             "passed_time": 28.57692176,
             "remaining_time": 8.415857217,
             "test": [
              0.5983550377,
              0.9836608845
             ]
            },
            {
             "iteration": 1545,
             "learn": [
              0.713654123,
              0.7852322919
             ],
             "passed_time": 28.59756556,
             "remaining_time": 8.397991439,
             "test": [
              0.5987662783,
              0.9836637626
             ]
            },
            {
             "iteration": 1546,
             "learn": [
              0.7135513058,
              0.7850603275
             ],
             "passed_time": 28.61431385,
             "remaining_time": 8.378981367,
             "test": [
              0.5984921179,
              0.9836475647
             ]
            },
            {
             "iteration": 1547,
             "learn": [
              0.713654123,
              0.7849431855
             ],
             "passed_time": 28.63032665,
             "remaining_time": 8.359759462,
             "test": [
              0.5983550377,
              0.9835464279
             ]
            },
            {
             "iteration": 1548,
             "learn": [
              0.7136883954,
              0.7848538898
             ],
             "passed_time": 28.64629234,
             "remaining_time": 8.340527981,
             "test": [
              0.5984921179,
              0.9834852505
             ]
            },
            {
             "iteration": 1549,
             "learn": [
              0.7138597574,
              0.7847331332
             ],
             "passed_time": 28.66246122,
             "remaining_time": 8.321359709,
             "test": [
              0.5982179575,
              0.9835299622
             ]
            },
            {
             "iteration": 1550,
             "learn": [
              0.713825485,
              0.7846013317
             ],
             "passed_time": 28.67966439,
             "remaining_time": 8.302494722,
             "test": [
              0.5976696367,
              0.9835367894
             ]
            },
            {
             "iteration": 1551,
             "learn": [
              0.7139283021,
              0.7844823154
             ],
             "passed_time": 28.6961838,
             "remaining_time": 8.283434499,
             "test": [
              0.5979437971,
              0.9834027213
             ]
            },
            {
             "iteration": 1552,
             "learn": [
              0.7140653917,
              0.784419862
             ],
             "passed_time": 28.71158174,
             "remaining_time": 8.264054757,
             "test": [
              0.5979437971,
              0.9833807001
             ]
            },
            {
             "iteration": 1553,
             "learn": [
              0.7140653917,
              0.7843470332
             ],
             "passed_time": 28.72836811,
             "remaining_time": 8.245078621,
             "test": [
              0.5980808773,
              0.983473604
             ]
            },
            {
             "iteration": 1554,
             "learn": [
              0.7143395709,
              0.7842228627
             ],
             "passed_time": 28.74604675,
             "remaining_time": 8.226360647,
             "test": [
              0.5980808773,
              0.9834997751
             ]
            },
            {
             "iteration": 1555,
             "learn": [
              0.7143052985,
              0.7840895886
             ],
             "passed_time": 28.76298666,
             "remaining_time": 8.207433213,
             "test": [
              0.5984921179,
              0.9834273529
             ]
            },
            {
             "iteration": 1556,
             "learn": [
              0.7143395709,
              0.7840104006
             ],
             "passed_time": 28.77966851,
             "remaining_time": 8.188434906,
             "test": [
              0.5989033585,
              0.9834323729
             ]
            },
            {
             "iteration": 1557,
             "learn": [
              0.7143738433,
              0.783826655
             ],
             "passed_time": 28.79779187,
             "remaining_time": 8.169848528,
             "test": [
              0.5982179575,
              0.9834699227
             ]
            },
            {
             "iteration": 1558,
             "learn": [
              0.7143738433,
              0.7837403047
             ],
             "passed_time": 28.81451577,
             "remaining_time": 8.150866873,
             "test": [
              0.5980808773,
              0.9834551303
             ]
            },
            {
             "iteration": 1559,
             "learn": [
              0.7143738433,
              0.7836881597
             ],
             "passed_time": 28.83022147,
             "remaining_time": 8.131600927,
             "test": [
              0.5980808773,
              0.9834128282
             ]
            },
            {
             "iteration": 1560,
             "learn": [
              0.7145794777,
              0.7834884159
             ],
             "passed_time": 28.84770315,
             "remaining_time": 8.112839002,
             "test": [
              0.5980808773,
              0.9832894695
             ]
            },
            {
             "iteration": 1561,
             "learn": [
              0.7145794777,
              0.7834517338
             ],
             "passed_time": 28.8637168,
             "remaining_time": 8.093667067,
             "test": [
              0.5980808773,
              0.9832740747
             ]
            },
            {
             "iteration": 1562,
             "learn": [
              0.7145452053,
              0.7833598944
             ],
             "passed_time": 28.8800834,
             "remaining_time": 8.074597854,
             "test": [
              0.5979437971,
              0.9833184517
             ]
            },
            {
             "iteration": 1563,
             "learn": [
              0.7145794777,
              0.7832685906
             ],
             "passed_time": 28.89604098,
             "remaining_time": 8.055418073,
             "test": [
              0.5983550377,
              0.9833031239
             ]
            },
            {
             "iteration": 1564,
             "learn": [
              0.7146137501,
              0.7831871268
             ],
             "passed_time": 28.91283593,
             "remaining_time": 8.036475163,
             "test": [
              0.5978067169,
              0.9833193888
             ]
            },
            {
             "iteration": 1565,
             "learn": [
              0.7145794777,
              0.7831317688
             ],
             "passed_time": 28.92860533,
             "remaining_time": 8.017250776,
             "test": [
              0.5979437971,
              0.9833167115
             ]
            },
            {
             "iteration": 1566,
             "learn": [
              0.7150250188,
              0.7829763381
             ],
             "passed_time": 28.9469307,
             "remaining_time": 7.998737073,
             "test": [
              0.5978067169,
              0.9832504471
             ]
            },
            {
             "iteration": 1567,
             "learn": [
              0.7149564741,
              0.7828381106
             ],
             "passed_time": 28.96417989,
             "remaining_time": 7.979927113,
             "test": [
              0.5979437971,
              0.9832457618
             ]
            },
            {
             "iteration": 1568,
             "learn": [
              0.7150250188,
              0.782787773
             ],
             "passed_time": 28.98037311,
             "remaining_time": 7.960829069,
             "test": [
              0.5980808773,
              0.9832161101
             ]
            },
            {
             "iteration": 1569,
             "learn": [
              0.7151963808,
              0.7827392428
             ],
             "passed_time": 28.99635051,
             "remaining_time": 7.941675617,
             "test": [
              0.5979437971,
              0.9831831118
             ]
            },
            {
             "iteration": 1570,
             "learn": [
              0.7152306532,
              0.7825916439
             ],
             "passed_time": 29.01378142,
             "remaining_time": 7.922923125,
             "test": [
              0.5979437971,
              0.9831603544
             ]
            },
            {
             "iteration": 1571,
             "learn": [
              0.7151963808,
              0.7824968593
             ],
             "passed_time": 29.0300325,
             "remaining_time": 7.903851088,
             "test": [
              0.5979437971,
              0.983124411
             ]
            },
            {
             "iteration": 1572,
             "learn": [
              0.715127836,
              0.7824479274
             ],
             "passed_time": 29.05072311,
             "remaining_time": 7.885987775,
             "test": [
              0.5978067169,
              0.9831671816
             ]
            },
            {
             "iteration": 1573,
             "learn": [
              0.7150250188,
              0.7824056224
             ],
             "passed_time": 29.07938348,
             "remaining_time": 7.870277867,
             "test": [
              0.5980808773,
              0.9831527909
             ]
            },
            {
             "iteration": 1574,
             "learn": [
              0.7151621084,
              0.7823370107
             ],
             "passed_time": 29.09968723,
             "remaining_time": 7.852296554,
             "test": [
              0.5980808773,
              0.9831440226
             ]
            },
            {
             "iteration": 1575,
             "learn": [
              0.7151963808,
              0.782197779
             ],
             "passed_time": 29.11671631,
             "remaining_time": 7.833431291,
             "test": [
              0.5984921179,
              0.9830847862
             ]
            },
            {
             "iteration": 1576,
             "learn": [
              0.7152306532,
              0.7821072116
             ],
             "passed_time": 29.13255929,
             "remaining_time": 7.81425021,
             "test": [
              0.5979437971,
              0.9831208635
             ]
            },
            {
             "iteration": 1577,
             "learn": [
              0.715299198,
              0.7820461638
             ],
             "passed_time": 29.16363477,
             "remaining_time": 7.799146941,
             "test": [
              0.5978067169,
              0.9830526581
             ]
            },
            {
             "iteration": 1578,
             "learn": [
              0.7154020152,
              0.7818325638
             ],
             "passed_time": 29.18125797,
             "remaining_time": 7.780436735,
             "test": [
              0.5982179575,
              0.9828927535
             ]
            },
            {
             "iteration": 1579,
             "learn": [
              0.7154362876,
              0.7817613415
             ],
             "passed_time": 29.20380219,
             "remaining_time": 7.763036026,
             "test": [
              0.5980808773,
              0.9829211334
             ]
            },
            {
             "iteration": 1580,
             "learn": [
              0.715641922,
              0.7815827502
             ],
             "passed_time": 29.22196549,
             "remaining_time": 7.744467766,
             "test": [
              0.5978067169,
              0.9828652437
             ]
            },
            {
             "iteration": 1581,
             "learn": [
              0.7153334704,
              0.7814597846
             ],
             "passed_time": 29.24686902,
             "remaining_time": 7.727680941,
             "test": [
              0.5982179575,
              0.9828298358
             ]
            },
            {
             "iteration": 1582,
             "learn": [
              0.7154362876,
              0.7813631926
             ],
             "passed_time": 29.29577885,
             "remaining_time": 7.717207696,
             "test": [
              0.5982179575,
              0.982868055
             ]
            },
            {
             "iteration": 1583,
             "learn": [
              0.715641922,
              0.7812864814
             ],
             "passed_time": 29.31447404,
             "remaining_time": 7.698750757,
             "test": [
              0.5978067169,
              0.9829198616
             ]
            },
            {
             "iteration": 1584,
             "learn": [
              0.7156076496,
              0.7812172672
             ],
             "passed_time": 29.33145367,
             "remaining_time": 7.679844337,
             "test": [
              0.5979437971,
              0.9828930212
             ]
            },
            {
             "iteration": 1585,
             "learn": [
              0.7159503736,
              0.7811380123
             ],
             "passed_time": 29.34857128,
             "remaining_time": 7.660976362,
             "test": [
              0.5986291981,
              0.9827964359
             ]
            },
            {
             "iteration": 1586,
             "learn": [
              0.716156008,
              0.7810293045
             ],
             "passed_time": 29.36602147,
             "remaining_time": 7.642197145,
             "test": [
              0.5986291981,
              0.9828225401
             ]
            },
            {
             "iteration": 1587,
             "learn": [
              0.7164644595,
              0.7807389263
             ],
             "passed_time": 29.38247817,
             "remaining_time": 7.623161843,
             "test": [
              0.5983550377,
              0.9826646435
             ]
            },
            {
             "iteration": 1588,
             "learn": [
              0.7165330043,
              0.7806439409
             ],
             "passed_time": 29.39856517,
             "remaining_time": 7.604034163,
             "test": [
              0.5983550377,
              0.9826266251
             ]
            },
            {
             "iteration": 1589,
             "learn": [
              0.7157447392,
              0.7803986121
             ],
             "passed_time": 29.41584659,
             "remaining_time": 7.585218303,
             "test": [
              0.5976696367,
              0.9824903482
             ]
            },
            {
             "iteration": 1590,
             "learn": [
              0.7159503736,
              0.780309718
             ],
             "passed_time": 29.43280867,
             "remaining_time": 7.56632228,
             "test": [
              0.5975325565,
              0.9824873361
             ]
            },
            {
             "iteration": 1591,
             "learn": [
              0.715984646,
              0.7801330679
             ],
             "passed_time": 29.44976294,
             "remaining_time": 7.547426683,
             "test": [
              0.5975325565,
              0.9823019968
             ]
            },
            {
             "iteration": 1592,
             "learn": [
              0.7159503736,
              0.7800392874
             ],
             "passed_time": 29.46683791,
             "remaining_time": 7.528564364,
             "test": [
              0.5976696367,
              0.9822509933
             ]
            },
            {
             "iteration": 1593,
             "learn": [
              0.7160874632,
              0.7799653206
             ],
             "passed_time": 29.48402011,
             "remaining_time": 7.509731596,
             "test": [
              0.5976696367,
              0.9822134435
             ]
            },
            {
             "iteration": 1594,
             "learn": [
              0.7164301871,
              0.7798158474
             ],
             "passed_time": 29.50166188,
             "remaining_time": 7.491017594,
             "test": [
              0.5973954764,
              0.9822862673
             ]
            },
            {
             "iteration": 1595,
             "learn": [
              0.7166358215,
              0.7796950239
             ],
             "passed_time": 29.51866348,
             "remaining_time": 7.472142886,
             "test": [
              0.5976696367,
              0.9822534029
             ]
            },
            {
             "iteration": 1596,
             "learn": [
              0.7167386387,
              0.7796136939
             ],
             "passed_time": 29.53664712,
             "remaining_time": 7.45351834,
             "test": [
              0.5976696367,
              0.9821708737
             ]
            },
            {
             "iteration": 1597,
             "learn": [
              0.7167729111,
              0.7795120816
             ],
             "passed_time": 29.5544585,
             "remaining_time": 7.434851262,
             "test": [
              0.5979437971,
              0.9821131768
             ]
            },
            {
             "iteration": 1598,
             "learn": [
              0.7168071835,
              0.7794502975
             ],
             "passed_time": 29.57130471,
             "remaining_time": 7.415943209,
             "test": [
              0.5978067169,
              0.9820637798
             ]
            },
            {
             "iteration": 1599,
             "learn": [
              0.7170470903,
              0.7792322796
             ],
             "passed_time": 29.58765152,
             "remaining_time": 7.396912879,
             "test": [
              0.5980808773,
              0.9818689358
             ]
            },
            {
             "iteration": 1600,
             "learn": [
              0.7169785455,
              0.7791377627
             ],
             "passed_time": 29.60385253,
             "remaining_time": 7.377849569,
             "test": [
              0.5980808773,
              0.9818719478
             ]
            },
            {
             "iteration": 1601,
             "learn": [
              0.7170470903,
              0.7790577045
             ],
             "passed_time": 29.62014009,
             "remaining_time": 7.358811332,
             "test": [
              0.5980808773,
              0.9818372092
             ]
            },
            {
             "iteration": 1602,
             "learn": [
              0.7170470903,
              0.7788534089
             ],
             "passed_time": 29.63751622,
             "remaining_time": 7.340046126,
             "test": [
              0.5982179575,
              0.981811239
             ]
            },
            {
             "iteration": 1603,
             "learn": [
              0.7168414559,
              0.7788194712
             ],
             "passed_time": 29.65438647,
             "remaining_time": 7.321157757,
             "test": [
              0.5980808773,
              0.9818003288
             ]
            },
            {
             "iteration": 1604,
             "learn": [
              0.7168414559,
              0.778757888
             ],
             "passed_time": 29.66996326,
             "remaining_time": 7.301953576,
             "test": [
              0.5979437971,
              0.9817568219
             ]
            },
            {
             "iteration": 1605,
             "learn": [
              0.7168414559,
              0.7786710021
             ],
             "passed_time": 29.68680563,
             "remaining_time": 7.283064395,
             "test": [
              0.5976696367,
              0.9817484552
             ]
            },
            {
             "iteration": 1606,
             "learn": [
              0.7170813627,
              0.7785675825
             ],
             "passed_time": 29.70400127,
             "remaining_time": 7.264264155,
             "test": [
              0.5979437971,
              0.9817550147
             ]
            },
            {
             "iteration": 1607,
             "learn": [
              0.7168757283,
              0.7784489679
             ],
             "passed_time": 29.72021073,
             "remaining_time": 7.245225501,
             "test": [
              0.5979437971,
              0.9817226857
             ]
            },
            {
             "iteration": 1608,
             "learn": [
              0.7170813627,
              0.7783290814
             ],
             "passed_time": 29.73687679,
             "remaining_time": 7.22630132,
             "test": [
              0.5982179575,
              0.9816133161
             ]
            },
            {
             "iteration": 1609,
             "learn": [
              0.7171841799,
              0.7782558509
             ],
             "passed_time": 29.75327761,
             "remaining_time": 7.207315693,
             "test": [
              0.5979437971,
              0.9816060203
             ]
            },
            {
             "iteration": 1610,
             "learn": [
              0.7174240866,
              0.7782055134
             ],
             "passed_time": 29.76878757,
             "remaining_time": 7.188118165,
             "test": [
              0.5972583962,
              0.9815740929
             ]
            },
            {
             "iteration": 1611,
             "learn": [
              0.7174240866,
              0.7781213719
             ],
             "passed_time": 29.78461322,
             "remaining_time": 7.169001197,
             "test": [
              0.5973954764,
              0.9815485242
             ]
            },
            {
             "iteration": 1612,
             "learn": [
              0.717629721,
              0.7779990757
             ],
             "passed_time": 29.80128412,
             "remaining_time": 7.150091107,
             "test": [
              0.5973954764,
              0.9815776404
             ]
            },
            {
             "iteration": 1613,
             "learn": [
              0.717629721,
              0.7779377603
             ],
             "passed_time": 29.81936049,
             "remaining_time": 7.131519918,
             "test": [
              0.5972583962,
              0.9815671987
             ]
            },
            {
             "iteration": 1614,
             "learn": [
              0.7177325382,
              0.7778759093
             ],
             "passed_time": 29.8361573,
             "remaining_time": 7.11264431,
             "test": [
              0.597121316,
              0.9815753647
             ]
            },
            {
             "iteration": 1615,
             "learn": [
              0.7179039002,
              0.7777815933
             ],
             "passed_time": 29.85321076,
             "remaining_time": 7.09383226,
             "test": [
              0.5976696367,
              0.9815426341
             ]
            },
            {
             "iteration": 1616,
             "learn": [
              0.7180752622,
              0.7776789769
             ],
             "passed_time": 29.86924624,
             "remaining_time": 7.074781268,
             "test": [
              0.5976696367,
              0.9814858074
             ]
            },
            {
             "iteration": 1617,
             "learn": [
              0.7179381726,
              0.777592091
             ],
             "passed_time": 29.88613423,
             "remaining_time": 7.055935274,
             "test": [
              0.5976696367,
              0.9814790471
             ]
            },
            {
             "iteration": 1618,
             "learn": [
              0.7180067174,
              0.7774807057
             ],
             "passed_time": 29.90275117,
             "remaining_time": 7.037027916,
             "test": [
              0.5983550377,
              0.9813716854
             ]
            },
            {
             "iteration": 1619,
             "learn": [
              0.7180752622,
              0.7774059357
             ],
             "passed_time": 29.91847856,
             "remaining_time": 7.017914724,
             "test": [
              0.5982179575,
              0.9813830642
             ]
            },
            {
             "iteration": 1620,
             "learn": [
              0.7181095346,
              0.7773505108
             ],
             "passed_time": 29.93505149,
             "remaining_time": 6.999003403,
             "test": [
              0.5982179575,
              0.9813958485
             ]
            },
            {
             "iteration": 1621,
             "learn": [
              0.7181095346,
              0.7771492274
             ],
             "passed_time": 29.95212267,
             "remaining_time": 6.980211078,
             "test": [
              0.5979437971,
              0.9814335991
             ]
            },
            {
             "iteration": 1622,
             "learn": [
              0.7182808966,
              0.7768032234
             ],
             "passed_time": 29.97006159,
             "remaining_time": 6.961622439,
             "test": [
              0.5976696367,
              0.981391297
             ]
            },
            {
             "iteration": 1623,
             "learn": [
              0.7182123518,
              0.7766307904
             ],
             "passed_time": 29.98642798,
             "remaining_time": 6.942670517,
             "test": [
              0.5972583962,
              0.9814124481
             ]
            },
            {
             "iteration": 1624,
             "learn": [
              0.7185208033,
              0.7764805809
             ],
             "passed_time": 30.00434251,
             "remaining_time": 6.924079041,
             "test": [
              0.5973954764,
              0.9814414973
             ]
            },
            {
             "iteration": 1625,
             "learn": [
              0.7185550757,
              0.776417659
             ],
             "passed_time": 30.02119485,
             "remaining_time": 6.905244081,
             "test": [
              0.5973954764,
              0.9814210825
             ]
            },
            {
             "iteration": 1626,
             "learn": [
              0.7185550757,
              0.7763496497
             ],
             "passed_time": 30.0373733,
             "remaining_time": 6.886257062,
             "test": [
              0.5975325565,
              0.9814197438
             ]
            },
            {
             "iteration": 1627,
             "learn": [
              0.7184179862,
              0.7763147748
             ],
             "passed_time": 30.05396844,
             "remaining_time": 6.867368711,
             "test": [
              0.5975325565,
              0.9814247639
             ]
            },
            {
             "iteration": 1628,
             "learn": [
              0.7184179862,
              0.7761864542
             ],
             "passed_time": 30.07058479,
             "remaining_time": 6.848488004,
             "test": [
              0.5968471556,
              0.9814594355
             ]
            },
            {
             "iteration": 1629,
             "learn": [
              0.7184522586,
              0.77614435
             ],
             "passed_time": 30.08633249,
             "remaining_time": 6.829412897,
             "test": [
              0.5968471556,
              0.9814520728
             ]
            },
            {
             "iteration": 1630,
             "learn": [
              0.7184865309,
              0.7760968907
             ],
             "passed_time": 30.10308767,
             "remaining_time": 6.810569804,
             "test": [
              0.596435915,
              0.981436745
             ]
            },
            {
             "iteration": 1631,
             "learn": [
              0.7187264377,
              0.7757999526
             ],
             "passed_time": 30.11980956,
             "remaining_time": 6.791721762,
             "test": [
              0.5967100754,
              0.9811442448
             ]
            },
            {
             "iteration": 1632,
             "learn": [
              0.7185550757,
              0.7756473333
             ],
             "passed_time": 30.13675345,
             "remaining_time": 6.77292622,
             "test": [
              0.5968471556,
              0.9811303895
             ]
            },
            {
             "iteration": 1633,
             "learn": [
              0.7186578929,
              0.7756103834
             ],
             "passed_time": 30.161036,
             "remaining_time": 6.755776729,
             "test": [
              0.5967100754,
              0.9811376183
             ]
            },
            {
             "iteration": 1634,
             "learn": [
              0.7185893481,
              0.7755458549
             ],
             "passed_time": 30.18196937,
             "remaining_time": 6.737870839,
             "test": [
              0.5968471556,
              0.9811105771
             ]
            },
            {
             "iteration": 1635,
             "learn": [
              0.7187264377,
              0.7753791786
             ],
             "passed_time": 30.19880333,
             "remaining_time": 6.719049152,
             "test": [
              0.5969842358,
              0.9810817956
             ]
            },
            {
             "iteration": 1636,
             "learn": [
              0.7188635273,
              0.7753080901
             ],
             "passed_time": 30.21828578,
             "remaining_time": 6.700817188,
             "test": [
              0.5969842358,
              0.9810004712
             ]
            },
            {
             "iteration": 1637,
             "learn": [
              0.7189320721,
              0.7752459714
             ],
             "passed_time": 30.24762832,
             "remaining_time": 6.68476279,
             "test": [
              0.5969842358,
              0.9809492669
             ]
            },
            {
             "iteration": 1638,
             "learn": [
              0.7189663445,
              0.7751994493
             ],
             "passed_time": 30.26363354,
             "remaining_time": 6.66575455,
             "test": [
              0.5969842358,
              0.9809343407
             ]
            },
            {
             "iteration": 1639,
             "learn": [
              0.7190006169,
              0.7750800314
             ],
             "passed_time": 30.28040284,
             "remaining_time": 6.646917696,
             "test": [
              0.5972583962,
              0.9808824671
             ]
            },
            {
             "iteration": 1640,
             "learn": [
              0.7189320721,
              0.7749912043
             ],
             "passed_time": 30.29683422,
             "remaining_time": 6.628009436,
             "test": [
              0.5972583962,
              0.9808712223
             ]
            },
            {
             "iteration": 1641,
             "learn": [
              0.7189320721,
              0.774872255
             ],
             "passed_time": 30.31396181,
             "remaining_time": 6.609255985,
             "test": [
              0.5967100754,
              0.9808601782
             ]
            },
            {
             "iteration": 1642,
             "learn": [
              0.7191719789,
              0.7747934686
             ],
             "passed_time": 30.33084771,
             "remaining_time": 6.590451998,
             "test": [
              0.5968471556,
              0.980802816
             ]
            },
            {
             "iteration": 1643,
             "learn": [
              0.7191719789,
              0.7747000228
             ],
             "passed_time": 30.34711604,
             "remaining_time": 6.571516613,
             "test": [
              0.5968471556,
              0.980750407
             ]
            },
            {
             "iteration": 1644,
             "learn": [
              0.7190348893,
              0.7746394437
             ],
             "passed_time": 30.36377989,
             "remaining_time": 6.552669825,
             "test": [
              0.5972583962,
              0.9807476627
             ]
            },
            {
             "iteration": 1645,
             "learn": [
              0.7194461581,
              0.7744856195
             ],
             "passed_time": 30.3809641,
             "remaining_time": 6.533937602,
             "test": [
              0.5972583962,
              0.9806662713
             ]
            },
            {
             "iteration": 1646,
             "learn": [
              0.7193776133,
              0.7744288559
             ],
             "passed_time": 30.397571,
             "remaining_time": 6.515083523,
             "test": [
              0.5972583962,
              0.9806643302
             ]
            },
            {
             "iteration": 1647,
             "learn": [
              0.7193433409,
              0.7743183408
             ],
             "passed_time": 30.41394428,
             "remaining_time": 6.496182274,
             "test": [
              0.5973954764,
              0.9806622553
             ]
            },
            {
             "iteration": 1648,
             "learn": [
              0.7194461581,
              0.7741657884
             ],
             "passed_time": 30.43021602,
             "remaining_time": 6.477262476,
             "test": [
              0.5973954764,
              0.9807275826
             ]
            },
            {
             "iteration": 1649,
             "learn": [
              0.7194804305,
              0.7741289724
             ],
             "passed_time": 30.44628406,
             "remaining_time": 6.458302679,
             "test": [
              0.5972583962,
              0.9807335397
             ]
            },
            {
             "iteration": 1650,
             "learn": [
              0.7195147029,
              0.774069732
             ],
             "passed_time": 30.46235933,
             "remaining_time": 6.439347913,
             "test": [
              0.5972583962,
              0.9807239012
             ]
            },
            {
             "iteration": 1651,
             "learn": [
              0.7197203372,
              0.7739148368
             ],
             "passed_time": 30.48049928,
             "remaining_time": 6.420831568,
             "test": [
              0.5972583962,
              0.9807405008
             ]
            },
            {
             "iteration": 1652,
             "learn": [
              0.7197546096,
              0.7738157013
             ],
             "passed_time": 30.49771447,
             "remaining_time": 6.402121549,
             "test": [
              0.5979437971,
              0.9806533531
             ]
            },
            {
             "iteration": 1653,
             "learn": [
              0.719788882,
              0.7737835039
             ],
             "passed_time": 30.51446308,
             "remaining_time": 6.383315736,
             "test": [
              0.5980808773,
              0.9806753074
             ]
            },
            {
             "iteration": 1654,
             "learn": [
              0.7199945164,
              0.7736962164
             ],
             "passed_time": 30.53124278,
             "remaining_time": 6.364518888,
             "test": [
              0.5976696367,
              0.9806844103
             ]
            },
            {
             "iteration": 1655,
             "learn": [
              0.7200287888,
              0.7736011641
             ],
             "passed_time": 30.54832163,
             "remaining_time": 6.345786619,
             "test": [
              0.5980808773,
              0.98061915
             ]
            },
            {
             "iteration": 1656,
             "learn": [
              0.719960244,
              0.7735208382
             ],
             "passed_time": 30.5651728,
             "remaining_time": 6.327009217,
             "test": [
              0.5979437971,
              0.9806568337
             ]
            },
            {
             "iteration": 1657,
             "learn": [
              0.7200287888,
              0.773482014
             ],
             "passed_time": 30.58106263,
             "remaining_time": 6.308035837,
             "test": [
              0.5979437971,
              0.9806667398
             ]
            },
            {
             "iteration": 1658,
             "learn": [
              0.7200973336,
              0.7733786613
             ],
             "passed_time": 30.59702826,
             "remaining_time": 6.289081758,
             "test": [
              0.5976696367,
              0.9806955883
             ]
            },
            {
             "iteration": 1659,
             "learn": [
              0.720131606,
              0.7731103057
             ],
             "passed_time": 30.61448556,
             "remaining_time": 6.270436802,
             "test": [
              0.5983550377,
              0.9806142638
             ]
            },
            {
             "iteration": 1660,
             "learn": [
              0.720131606,
              0.7730191358
             ],
             "passed_time": 30.63086384,
             "remaining_time": 6.251573053,
             "test": [
              0.5983550377,
              0.9805466608
             ]
            },
            {
             "iteration": 1661,
             "learn": [
              0.7200630612,
              0.7728982453
             ],
             "passed_time": 30.64766063,
             "remaining_time": 6.232797409,
             "test": [
              0.5983550377,
              0.9805143988
             ]
            },
            {
             "iteration": 1662,
             "learn": [
              0.7203715128,
              0.7726977651
             ],
             "passed_time": 30.66469447,
             "remaining_time": 6.21407218,
             "test": [
              0.5987662783,
              0.9803715623
             ]
            },
            {
             "iteration": 1663,
             "learn": [
              0.7204057852,
              0.7726193804
             ],
             "passed_time": 30.68162476,
             "remaining_time": 6.195328076,
             "test": [
              0.5990404387,
              0.9803671447
             ]
            },
            {
             "iteration": 1664,
             "learn": [
              0.7204400576,
              0.7725624829
             ],
             "passed_time": 30.69731777,
             "remaining_time": 6.176337208,
             "test": [
              0.5989033585,
              0.9803954576
             ]
            },
            {
             "iteration": 1665,
             "learn": [
              0.720645692,
              0.7724296773
             ],
             "passed_time": 30.71355627,
             "remaining_time": 6.15745966,
             "test": [
              0.5984921179,
              0.980413195
             ]
            },
            {
             "iteration": 1666,
             "learn": [
              0.7204057852,
              0.7723438625
             ],
             "passed_time": 30.73044288,
             "remaining_time": 6.138714744,
             "test": [
              0.5989033585,
              0.9803288586
             ]
            },
            {
             "iteration": 1667,
             "learn": [
              0.72047433,
              0.7722562403
             ],
             "passed_time": 30.74711975,
             "remaining_time": 6.119930309,
             "test": [
              0.5987662783,
              0.9803336778
             ]
            },
            {
             "iteration": 1668,
             "learn": [
              0.72047433,
              0.7722158095
             ],
             "passed_time": 30.76356587,
             "remaining_time": 6.101102638,
             "test": [
              0.5986291981,
              0.9803504112
             ]
            },
            {
             "iteration": 1669,
             "learn": [
              0.7207142368,
              0.7720707543
             ],
             "passed_time": 30.78046854,
             "remaining_time": 6.082368035,
             "test": [
              0.5983550377,
              0.9803526201
             ]
            },
            {
             "iteration": 1670,
             "learn": [
              0.7207827815,
              0.7719175326
             ],
             "passed_time": 30.7985552,
             "remaining_time": 6.063868738,
             "test": [
              0.5987662783,
              0.9804129942
             ]
            },
            {
             "iteration": 1671,
             "learn": [
              0.7207485092,
              0.7718470466
             ],
             "passed_time": 30.81514694,
             "remaining_time": 6.045076672,
             "test": [
              0.5987662783,
              0.9803715623
             ]
            },
            {
             "iteration": 1672,
             "learn": [
              0.7208170539,
              0.7717559436
             ],
             "passed_time": 30.83185697,
             "remaining_time": 6.026310358,
             "test": [
              0.5987662783,
              0.98037685
             ]
            },
            {
             "iteration": 1673,
             "learn": [
              0.7209884159,
              0.771693691
             ],
             "passed_time": 30.84835447,
             "remaining_time": 6.007505113,
             "test": [
              0.5990404387,
              0.9803999422
             ]
            },
            {
             "iteration": 1674,
             "learn": [
              0.7211597779,
              0.7716139675
             ],
             "passed_time": 30.86475717,
             "remaining_time": 5.988684228,
             "test": [
              0.5987662783,
              0.9804217626
             ]
            },
            {
             "iteration": 1675,
             "learn": [
              0.7211255055,
              0.7715491043
             ],
             "passed_time": 30.88123114,
             "remaining_time": 5.969880006,
             "test": [
              0.5989033585,
              0.9804171441
             ]
            },
            {
             "iteration": 1676,
             "learn": [
              0.7211597779,
              0.7714791538
             ],
             "passed_time": 30.89727495,
             "remaining_time": 5.950995712,
             "test": [
              0.5990404387,
              0.9803453912
             ]
            },
            {
             "iteration": 1677,
             "learn": [
              0.7211597779,
              0.7714407982
             ],
             "passed_time": 30.91337693,
             "remaining_time": 5.932125967,
             "test": [
              0.5990404387,
              0.9803328077
             ]
            },
            {
             "iteration": 1678,
             "learn": [
              0.7213311399,
              0.7714032458
             ],
             "passed_time": 30.92965858,
             "remaining_time": 5.913293868,
             "test": [
              0.5991775188,
              0.9803179484
             ]
            },
            {
             "iteration": 1679,
             "learn": [
              0.7212283227,
              0.7712354316
             ],
             "passed_time": 30.94706704,
             "remaining_time": 5.894679436,
             "test": [
              0.5983550377,
              0.9800920472
             ]
            },
            {
             "iteration": 1680,
             "learn": [
              0.7212283227,
              0.7711012872
             ],
             "passed_time": 30.96418567,
             "remaining_time": 5.876011439,
             "test": [
              0.5982179575,
              0.9801178167
             ]
            },
            {
             "iteration": 1681,
             "learn": [
              0.7213996847,
              0.771027789
             ],
             "passed_time": 30.98038287,
             "remaining_time": 5.857171078,
             "test": [
              0.5982179575,
              0.9800459299
             ]
            },
            {
             "iteration": 1682,
             "learn": [
              0.7215367743,
              0.7709298583
             ],
             "passed_time": 30.99649993,
             "remaining_time": 5.838318762,
             "test": [
              0.5982179575,
              0.9800241764
             ]
            },
            {
             "iteration": 1683,
             "learn": [
              0.7215710467,
              0.7707835982
             ],
             "passed_time": 31.01328012,
             "remaining_time": 5.819594132,
             "test": [
              0.5984921179,
              0.979867217
             ]
            },
            {
             "iteration": 1684,
             "learn": [
              0.7216053191,
              0.7706866716
             ],
             "passed_time": 31.02967217,
             "remaining_time": 5.800799249,
             "test": [
              0.5983550377,
              0.979900483
             ]
            },
            {
             "iteration": 1685,
             "learn": [
              0.7217424087,
              0.7706143113
             ],
             "passed_time": 31.04620486,
             "remaining_time": 5.782033409,
             "test": [
              0.5983550377,
              0.979844928
             ]
            },
            {
             "iteration": 1686,
             "learn": [
              0.7219823154,
              0.7703853155
             ],
             "passed_time": 31.06348489,
             "remaining_time": 5.763408875,
             "test": [
              0.5980808773,
              0.9798365613
             ]
            },
            {
             "iteration": 1687,
             "learn": [
              0.7221879498,
              0.7702504348
             ],
             "passed_time": 31.08046695,
             "remaining_time": 5.744730858,
             "test": [
              0.5984921179,
              0.9796820114
             ]
            },
            {
             "iteration": 1688,
             "learn": [
              0.7219823154,
              0.7702056531
             ],
             "passed_time": 31.09634679,
             "remaining_time": 5.725851895,
             "test": [
              0.5987662783,
              0.9796810744
             ]
            },
            {
             "iteration": 1689,
             "learn": [
              0.7220508602,
              0.7701538429
             ],
             "passed_time": 31.11278907,
             "remaining_time": 5.707079653,
             "test": [
              0.5984921179,
              0.9797028947
             ]
            },
            {
             "iteration": 1690,
             "learn": [
              0.722290767,
              0.77005618
             ],
             "passed_time": 31.12981612,
             "remaining_time": 5.688417021,
             "test": [
              0.5982179575,
              0.9797304714
             ]
            },
            {
             "iteration": 1691,
             "learn": [
              0.7222222222,
              0.7699265875
             ],
             "passed_time": 31.14663639,
             "remaining_time": 5.669718682,
             "test": [
              0.5982179575,
              0.979756174
             ]
            },
            {
             "iteration": 1692,
             "learn": [
              0.7220165878,
              0.7698502109
             ],
             "passed_time": 31.16315585,
             "remaining_time": 5.650968013,
             "test": [
              0.5980808773,
              0.979716817
             ]
            },
            {
             "iteration": 1693,
             "learn": [
              0.7222564946,
              0.7697929787
             ],
             "passed_time": 31.18053398,
             "remaining_time": 5.632375088,
             "test": [
              0.5980808773,
              0.9796509542
             ]
            },
            {
             "iteration": 1694,
             "learn": [
              0.7222222222,
              0.7696275072
             ],
             "passed_time": 31.19741891,
             "remaining_time": 5.613694848,
             "test": [
              0.5980808773,
              0.9796105932
             ]
            },
            {
             "iteration": 1695,
             "learn": [
              0.7221879498,
              0.7695802488
             ],
             "passed_time": 31.21315042,
             "remaining_time": 5.59480998,
             "test": [
              0.5986291981,
              0.9796362957
             ]
            },
            {
             "iteration": 1696,
             "learn": [
              0.7222564946,
              0.7694214043
             ],
             "passed_time": 31.23933262,
             "remaining_time": 5.577794804,
             "test": [
              0.5980808773,
              0.9796295354
             ]
            },
            {
             "iteration": 1697,
             "learn": [
              0.7220851326,
              0.7693351209
             ],
             "passed_time": 31.26054923,
             "remaining_time": 5.559885669,
             "test": [
              0.5979437971,
              0.9795854261
             ]
            },
            {
             "iteration": 1698,
             "learn": [
              0.7223935842,
              0.7692543933
             ],
             "passed_time": 31.27760281,
             "remaining_time": 5.541235107,
             "test": [
              0.5976696367,
              0.9795466046
             ]
            },
            {
             "iteration": 1699,
             "learn": [
              0.722633491,
              0.7691823008
             ],
             "passed_time": 31.2999,
             "remaining_time": 5.523511764,
             "test": [
              0.5979437971,
              0.9794937939
             ]
            },
            {
             "iteration": 1700,
             "learn": [
              0.7225306738,
              0.7690782118
             ],
             "passed_time": 31.32815017,
             "remaining_time": 5.506829454,
             "test": [
              0.5978067169,
              0.9795062436
             ]
            },
            {
             "iteration": 1701,
             "learn": [
              0.7225992186,
              0.7690189714
             ],
             "passed_time": 31.3442668,
             "remaining_time": 5.488009111,
             "test": [
              0.5978067169,
              0.9795638065
             ]
            },
            {
             "iteration": 1702,
             "learn": [
              0.7227705806,
              0.768933692
             ],
             "passed_time": 31.36048386,
             "remaining_time": 5.469209457,
             "test": [
              0.5978067169,
              0.9795519593
             ]
            },
            {
             "iteration": 1703,
             "learn": [
              0.7228391254,
              0.7688456012
             ],
             "passed_time": 31.37634193,
             "remaining_time": 5.450350476,
             "test": [
              0.5973954764,
              0.9796002185
             ]
            },
            {
             "iteration": 1704,
             "learn": [
              0.7230104874,
              0.7686833429
             ],
             "passed_time": 31.39295285,
             "remaining_time": 5.431625273,
             "test": [
              0.5975325565,
              0.9795538334
             ]
            },
            {
             "iteration": 1705,
             "learn": [
              0.7228391254,
              0.7685203482
             ],
             "passed_time": 31.41062764,
             "remaining_time": 5.413085888,
             "test": [
              0.597121316,
              0.9795322808
             ]
            },
            {
             "iteration": 1706,
             "learn": [
              0.7229076702,
              0.7684265007
             ],
             "passed_time": 31.42749556,
             "remaining_time": 5.394409021,
             "test": [
              0.5969842358,
              0.9795375685
             ]
            },
            {
             "iteration": 1707,
             "learn": [
              0.7228733978,
              0.7683864716
             ],
             "passed_time": 31.44314588,
             "remaining_time": 5.37552611,
             "test": [
              0.5968471556,
              0.9795083185
             ]
            },
            {
             "iteration": 1708,
             "learn": [
              0.7232503941,
              0.7681997808
             ],
             "passed_time": 31.46074877,
             "remaining_time": 5.356979457,
             "test": [
              0.597121316,
              0.9794097921
             ]
            },
            {
             "iteration": 1709,
             "learn": [
              0.7234903009,
              0.7680823041
             ],
             "passed_time": 31.47860843,
             "remaining_time": 5.338477453,
             "test": [
              0.5967100754,
              0.9794037681
             ]
            },
            {
             "iteration": 1710,
             "learn": [
              0.7234560285,
              0.7680438146
             ],
             "passed_time": 31.49477563,
             "remaining_time": 5.319690332,
             "test": [
              0.5967100754,
              0.9793931256
             ]
            },
            {
             "iteration": 1711,
             "learn": [
              0.7234560285,
              0.7679681074
             ],
             "passed_time": 31.51106182,
             "remaining_time": 5.300926288,
             "test": [
              0.5968471556,
              0.9794244506
             ]
            },
            {
             "iteration": 1712,
             "learn": [
              0.7240386593,
              0.7678506977
             ],
             "passed_time": 31.53093942,
             "remaining_time": 5.28276685,
             "test": [
              0.596435915,
              0.9793482801
             ]
            },
            {
             "iteration": 1713,
             "learn": [
              0.7239701145,
              0.7678085265
             ],
             "passed_time": 31.5656922,
             "remaining_time": 5.267087497,
             "test": [
              0.596435915,
              0.9793225106
             ]
            },
            {
             "iteration": 1714,
             "learn": [
              0.7238330249,
              0.7676016203
             ],
             "passed_time": 31.58950896,
             "remaining_time": 5.249568544,
             "test": [
              0.5967100754,
              0.979305978
             ]
            },
            {
             "iteration": 1715,
             "learn": [
              0.7237644801,
              0.7675497432
             ],
             "passed_time": 31.60771159,
             "remaining_time": 5.231113107,
             "test": [
              0.5969842358,
              0.9792816811
             ]
            },
            {
             "iteration": 1716,
             "learn": [
              0.7238672973,
              0.7674762449
             ],
             "passed_time": 31.62596279,
             "remaining_time": 5.21266597,
             "test": [
              0.5969842358,
              0.979234292
             ]
            },
            {
             "iteration": 1717,
             "learn": [
              0.7239358421,
              0.7674016757
             ],
             "passed_time": 31.64293062,
             "remaining_time": 5.194008402,
             "test": [
              0.5969842358,
              0.9792013606
             ]
            },
            {
             "iteration": 1718,
             "learn": [
              0.7239358421,
              0.7673657299
             ],
             "passed_time": 31.6594293,
             "remaining_time": 5.175276109,
             "test": [
              0.5969842358,
              0.9792174247
             ]
            },
            {
             "iteration": 1719,
             "learn": [
              0.7239358421,
              0.7672898888
             ],
             "passed_time": 31.67548745,
             "remaining_time": 5.156474702,
             "test": [
              0.5968471556,
              0.9791939979
             ]
            },
            {
             "iteration": 1720,
             "learn": [
              0.7240043869,
              0.7672060151
             ],
             "passed_time": 31.69261279,
             "remaining_time": 5.137849487,
             "test": [
              0.5968471556,
              0.9791089921
             ]
            },
            {
             "iteration": 1721,
             "learn": [
              0.7240729317,
              0.7671313789
             ],
             "passed_time": 31.70873312,
             "remaining_time": 5.119063767,
             "test": [
              0.5975325565,
              0.9790842936
             ]
            },
            {
             "iteration": 1722,
             "learn": [
              0.724449928,
              0.7670794348
             ],
             "passed_time": 31.72489454,
             "remaining_time": 5.100287747,
             "test": [
              0.5976696367,
              0.9790658868
             ]
            },
            {
             "iteration": 1723,
             "learn": [
              0.7245184728,
              0.7669938208
             ],
             "passed_time": 31.7418493,
             "remaining_time": 5.081641767,
             "test": [
              0.5978067169,
              0.9789935315
             ]
            },
            {
             "iteration": 1724,
             "learn": [
              0.7246898348,
              0.7668889285
             ],
             "passed_time": 31.75801747,
             "remaining_time": 5.06287235,
             "test": [
              0.5980808773,
              0.9790023668
             ]
            },
            {
             "iteration": 1725,
             "learn": [
              0.72462129,
              0.7668061259
             ],
             "passed_time": 31.77482714,
             "remaining_time": 5.044207785,
             "test": [
              0.5983550377,
              0.9789963427
             ]
            },
            {
             "iteration": 1726,
             "learn": [
              0.72462129,
              0.766720311
             ],
             "passed_time": 31.79206467,
             "remaining_time": 5.025613002,
             "test": [
              0.5983550377,
              0.9789351654
             ]
            },
            {
             "iteration": 1727,
             "learn": [
              0.7245527452,
              0.7666384455
             ],
             "passed_time": 31.80955489,
             "remaining_time": 5.007059566,
             "test": [
              0.5984921179,
              0.9788876424
             ]
            },
            {
             "iteration": 1728,
             "learn": [
              0.7245870176,
              0.7665547057
             ],
             "passed_time": 31.82619864,
             "remaining_time": 4.988374685,
             "test": [
              0.5984921179,
              0.9789035057
             ]
            },
            {
             "iteration": 1729,
             "learn": [
              0.7243813832,
              0.7664798687
             ],
             "passed_time": 31.84321267,
             "remaining_time": 4.969749954,
             "test": [
              0.5982179575,
              0.978892127
             ]
            },
            {
             "iteration": 1730,
             "learn": [
              0.7247583796,
              0.7663608525
             ],
             "passed_time": 31.86010835,
             "remaining_time": 4.951108692,
             "test": [
              0.5982179575,
              0.9788158226
             ]
            },
            {
             "iteration": 1731,
             "learn": [
              0.7246898348,
              0.7662384893
             ],
             "passed_time": 31.87728884,
             "remaining_time": 4.932513516,
             "test": [
              0.5982179575,
              0.9787224501
             ]
            },
            {
             "iteration": 1732,
             "learn": [
              0.7249982864,
              0.7660747583
             ],
             "passed_time": 31.89529121,
             "remaining_time": 4.914046597,
             "test": [
              0.5982179575,
              0.9787233202
             ]
            },
            {
             "iteration": 1733,
             "learn": [
              0.7250325588,
              0.7658325087
             ],
             "passed_time": 31.91303764,
             "remaining_time": 4.895540954,
             "test": [
              0.5979437971,
              0.9787158906
             ]
            },
            {
             "iteration": 1734,
             "learn": [
              0.7250325588,
              0.7657436816
             ],
             "passed_time": 31.92977519,
             "remaining_time": 4.87688209,
             "test": [
              0.5978067169,
              0.9786386491
             ]
            },
            {
             "iteration": 1735,
             "learn": [
              0.7256151895,
              0.7655228522
             ],
             "passed_time": 31.94784792,
             "remaining_time": 4.858428485,
             "test": [
              0.5979437971,
              0.9784667634
             ]
            },
            {
             "iteration": 1736,
             "learn": [
              0.7256837343,
              0.7654505589
             ],
             "passed_time": 31.96481461,
             "remaining_time": 4.839807853,
             "test": [
              0.5979437971,
              0.9784766027
             ]
            },
            {
             "iteration": 1737,
             "learn": [
              0.7257180067,
              0.7653738476
             ],
             "passed_time": 31.98173502,
             "remaining_time": 4.821182149,
             "test": [
              0.5982179575,
              0.9784240597
             ]
            },
            {
             "iteration": 1738,
             "learn": [
              0.7255123723,
              0.7652804018
             ],
             "passed_time": 31.99903381,
             "remaining_time": 4.802615195,
             "test": [
              0.5983550377,
              0.9784444745
             ]
            },
            {
             "iteration": 1739,
             "learn": [
              0.7256494619,
              0.7650811935
             ],
             "passed_time": 32.01703898,
             "remaining_time": 4.78415525,
             "test": [
              0.5987662783,
              0.9783758675
             ]
            },
            {
             "iteration": 1740,
             "learn": [
              0.7250668312,
              0.7648375381
             ],
             "passed_time": 32.03513884,
             "remaining_time": 4.765709913,
             "test": [
              0.5984921179,
              0.9781997649
             ]
            },
            {
             "iteration": 1741,
             "learn": [
              0.7251011036,
              0.7647602914
             ],
             "passed_time": 32.05201224,
             "remaining_time": 4.747083329,
             "test": [
              0.5984921179,
              0.9781409302
             ]
            },
            {
             "iteration": 1742,
             "learn": [
              0.7250325588,
              0.7647141709
             ],
             "passed_time": 32.0691015,
             "remaining_time": 4.728490583,
             "test": [
              0.5986291981,
              0.978107798
             ]
            },
            {
             "iteration": 1743,
             "learn": [
              0.7252039208,
              0.7646248752
             ],
             "passed_time": 32.08571144,
             "remaining_time": 4.709829202,
             "test": [
              0.5984921179,
              0.9780903953
             ]
            },
            {
             "iteration": 1744,
             "learn": [
              0.7252039208,
              0.7645785539
             ],
             "passed_time": 32.10264698,
             "remaining_time": 4.691217753,
             "test": [
              0.5986291981,
              0.9780842374
             ]
            },
            {
             "iteration": 1745,
             "learn": [
              0.7248611968,
              0.7644691768
             ],
             "passed_time": 32.1202839,
             "remaining_time": 4.672710257,
             "test": [
              0.5982179575,
              0.9781313587
             ]
            },
            {
             "iteration": 1746,
             "learn": [
              0.7248954692,
              0.7644097356
             ],
             "passed_time": 32.13592292,
             "remaining_time": 4.653914424,
             "test": [
              0.5982179575,
              0.9781541831
             ]
            },
            {
             "iteration": 1747,
             "learn": [
              0.7252381932,
              0.7641730419
             ],
             "passed_time": 32.1540404,
             "remaining_time": 4.635479508,
             "test": [
              0.5980808773,
              0.9781042506
             ]
            },
            {
             "iteration": 1748,
             "learn": [
              0.7252381932,
              0.7641333475
             ],
             "passed_time": 32.17026675,
             "remaining_time": 4.616773559,
             "test": [
              0.5980808773,
              0.9781127511
             ]
            },
            {
             "iteration": 1749,
             "learn": [
              0.7251011036,
              0.7638105042
             ],
             "passed_time": 32.18845165,
             "remaining_time": 4.598350236,
             "test": [
              0.5980808773,
              0.9778774123
             ]
            },
            {
             "iteration": 1750,
             "learn": [
              0.7252381932,
              0.7637364035
             ],
             "passed_time": 32.20538077,
             "remaining_time": 4.579748608,
             "test": [
              0.5979437971,
              0.9778614821
             ]
            },
            {
             "iteration": 1751,
             "learn": [
              0.7252381932,
              0.7636351259
             ],
             "passed_time": 32.22223268,
             "remaining_time": 4.561137959,
             "test": [
              0.5986291981,
              0.9778126874
             ]
            },
            {
             "iteration": 1752,
             "learn": [
              0.725306738,
              0.7635282255
             ],
             "passed_time": 32.23933294,
             "remaining_time": 4.542564311,
             "test": [
              0.5987662783,
              0.9777923396
             ]
            },
            {
             "iteration": 1753,
             "learn": [
              0.7253752827,
              0.7634122214
             ],
             "passed_time": 32.25675699,
             "remaining_time": 4.524037753,
             "test": [
              0.5990404387,
              0.9777928081
             ]
            },
            {
             "iteration": 1754,
             "learn": [
              0.7254095551,
              0.7632274049
             ],
             "passed_time": 32.2751255,
             "remaining_time": 4.5056443,
             "test": [
              0.5986291981,
              0.977894882
             ]
            },
            {
             "iteration": 1755,
             "learn": [
              0.7254095551,
              0.7631355655
             ],
             "passed_time": 32.29203446,
             "remaining_time": 4.487048069,
             "test": [
              0.5986291981,
              0.9778972247
             ]
            },
            {
             "iteration": 1756,
             "learn": [
              0.7255123723,
              0.7630318781
             ],
             "passed_time": 32.31772327,
             "remaining_time": 4.469668045,
             "test": [
              0.5986291981,
              0.9779570634
             ]
            },
            {
             "iteration": 1757,
             "learn": [
              0.7255466447,
              0.7629815406
             ],
             "passed_time": 32.33484571,
             "remaining_time": 4.451099353,
             "test": [
              0.5989033585,
              0.9779495668
             ]
            },
            {
             "iteration": 1758,
             "learn": [
              0.7259579135,
              0.7628334062
             ],
             "passed_time": 32.35273628,
             "remaining_time": 4.432637545,
             "test": [
              0.5987662783,
              0.9780219221
             ]
            },
            {
             "iteration": 1759,
             "learn": [
              0.7258893687,
              0.7627726262
             ],
             "passed_time": 32.37657638,
             "remaining_time": 4.414987688,
             "test": [
              0.5984921179,
              0.9779401292
             ]
            },
            {
             "iteration": 1760,
             "learn": [
              0.7259236411,
              0.7627028096
             ],
             "passed_time": 32.4257891,
             "remaining_time": 4.400774329,
             "test": [
              0.5986291981,
              0.9779625519
             ]
            },
            {
             "iteration": 1761,
             "learn": [
              0.7261292755,
              0.762617731
             ],
             "passed_time": 32.44300046,
             "remaining_time": 4.382198701,
             "test": [
              0.5986291981,
              0.9779792184
             ]
            },
            {
             "iteration": 1762,
             "learn": [
              0.7261635479,
              0.7624740815
             ],
             "passed_time": 32.46109861,
             "remaining_time": 4.363743829,
             "test": [
              0.5986291981,
              0.9778582023
             ]
            },
            {
             "iteration": 1763,
             "learn": [
              0.7261635479,
              0.7623491747
             ],
             "passed_time": 32.47850289,
             "remaining_time": 4.345196532,
             "test": [
              0.5983550377,
              0.977803986
             ]
            },
            {
             "iteration": 1764,
             "learn": [
              0.7262320927,
              0.7623105513
             ],
             "passed_time": 32.4947267,
             "remaining_time": 4.326493356,
             "test": [
              0.5983550377,
              0.9778035175
             ]
            },
            {
             "iteration": 1765,
             "learn": [
              0.7262320927,
              0.7622618202
             ],
             "passed_time": 32.51163978,
             "remaining_time": 4.30788432,
             "test": [
              0.5982179575,
              0.977768712
             ]
            },
            {
             "iteration": 1766,
             "learn": [
              0.7263349099,
              0.762115627
             ],
             "passed_time": 32.55329845,
             "remaining_time": 4.292540203,
             "test": [
              0.5983550377,
              0.9777567978
             ]
            },
            {
             "iteration": 1767,
             "learn": [
              0.726609089,
              0.7619029641
             ],
             "passed_time": 32.60339144,
             "remaining_time": 4.278273085,
             "test": [
              0.5983550377,
              0.9777285518
             ]
            },
            {
             "iteration": 1768,
             "learn": [
              0.726609089,
              0.7618097191
             ],
             "passed_time": 32.63934887,
             "remaining_time": 4.262119609,
             "test": [
              0.5984921179,
              0.9777143618
             ]
            },
            {
             "iteration": 1769,
             "learn": [
              0.7266776338,
              0.7617336772
             ],
             "passed_time": 32.69821071,
             "remaining_time": 4.248920036,
             "test": [
              0.5983550377,
              0.977687923
             ]
            },
            {
             "iteration": 1770,
             "learn": [
              0.7265748166,
              0.7616271784
             ],
             "passed_time": 32.7308438,
             "remaining_time": 4.232277374,
             "test": [
              0.5982179575,
              0.9775891289
             ]
            },
            {
             "iteration": 1771,
             "learn": [
              0.7264377271,
              0.7615338665
             ],
             "passed_time": 32.74926576,
             "remaining_time": 4.213788146,
             "test": [
              0.5979437971,
              0.9774547261
             ]
            },
            {
             "iteration": 1772,
             "learn": [
              0.726780451,
              0.7613973793
             ],
             "passed_time": 32.76859646,
             "remaining_time": 4.195415339,
             "test": [
              0.5979437971,
              0.9773842449
             ]
            },
            {
             "iteration": 1773,
             "learn": [
              0.726780451,
              0.7613307088
             ],
             "passed_time": 32.7978567,
             "remaining_time": 4.178306434,
             "test": [
              0.5980808773,
              0.9773009124
             ]
            },
            {
             "iteration": 1774,
             "learn": [
              0.7268147234,
              0.7612789655
             ],
             "passed_time": 32.8293073,
             "remaining_time": 4.161461488,
             "test": [
              0.5979437971,
              0.9773219296
             ]
            },
            {
             "iteration": 1775,
             "learn": [
              0.7268832682,
              0.7612295651
             ],
             "passed_time": 32.86056619,
             "remaining_time": 4.144575916,
             "test": [
              0.5980808773,
              0.9773344462
             ]
            },
            {
             "iteration": 1776,
             "learn": [
              0.7268489958,
              0.7611588113
             ],
             "passed_time": 32.89083671,
             "remaining_time": 4.127550133,
             "test": [
              0.5980808773,
              0.9773561327
             ]
            },
            {
             "iteration": 1777,
             "learn": [
              0.726951813,
              0.7610983661
             ],
             "passed_time": 32.92102325,
             "remaining_time": 4.110498966,
             "test": [
              0.5978067169,
              0.9773654365
             ]
            },
            {
             "iteration": 1778,
             "learn": [
              0.7270889026,
              0.7610462211
             ],
             "passed_time": 32.94982455,
             "remaining_time": 4.093260947,
             "test": [
              0.5978067169,
              0.9773179136
             ]
            },
            {
             "iteration": 1779,
             "learn": [
              0.7269175406,
              0.7609643556
             ],
             "passed_time": 32.98260906,
             "remaining_time": 4.076502243,
             "test": [
              0.5982179575,
              0.9772753438
             ]
            },
            {
             "iteration": 1780,
             "learn": [
              0.7270546302,
              0.7608138784
             ],
             "passed_time": 33.0032187,
             "remaining_time": 4.058228464,
             "test": [
              0.5982179575,
              0.9771806326
             ]
            },
            {
             "iteration": 1781,
             "learn": [
              0.7269860854,
              0.7607195624
             ],
             "passed_time": 33.0210093,
             "remaining_time": 4.039607199,
             "test": [
              0.5983550377,
              0.9771827745
             ]
            },
            {
             "iteration": 1782,
             "learn": [
              0.7271574474,
              0.7605972661
             ],
             "passed_time": 33.03801197,
             "remaining_time": 4.020890968,
             "test": [
              0.5984921179,
              0.9771939524
             ]
            },
            {
             "iteration": 1783,
             "learn": [
              0.7270889026,
              0.7604564949
             ],
             "passed_time": 33.05747342,
             "remaining_time": 4.00247436,
             "test": [
              0.5984921179,
              0.9771767504
             ]
            },
            {
             "iteration": 1784,
             "learn": [
              0.7271917198,
              0.7603717511
             ],
             "passed_time": 33.07653519,
             "remaining_time": 3.98400844,
             "test": [
              0.5986291981,
              0.9772194541
             ]
            },
            {
             "iteration": 1785,
             "learn": [
              0.7272259922,
              0.7603015998
             ],
             "passed_time": 33.09555644,
             "remaining_time": 3.965536997,
             "test": [
              0.5984921179,
              0.9772201904
             ]
            },
            {
             "iteration": 1786,
             "learn": [
              0.7272259922,
              0.7602313815
             ],
             "passed_time": 33.11661095,
             "remaining_time": 3.947307293,
             "test": [
              0.5983550377,
              0.9772217968
             ]
            },
            {
             "iteration": 1787,
             "learn": [
              0.7273973542,
              0.7601535992
             ],
             "passed_time": 33.13900426,
             "remaining_time": 3.929233168,
             "test": [
              0.5986291981,
              0.9772395342
             ]
            },
            {
             "iteration": 1788,
             "learn": [
              0.7275344438,
              0.7599791581
             ],
             "passed_time": 33.16298696,
             "remaining_time": 3.911341671,
             "test": [
              0.5984921179,
              0.9772389318
             ]
            },
            {
             "iteration": 1789,
             "learn": [
              0.7278771677,
              0.7596747898
             ],
             "passed_time": 33.18315,
             "remaining_time": 3.892995251,
             "test": [
              0.5986291981,
              0.9772944868
             ]
            },
            {
             "iteration": 1790,
             "learn": [
              0.7278771677,
              0.7596218416
             ],
             "passed_time": 33.20455907,
             "remaining_time": 3.874792208,
             "test": [
              0.5989033585,
              0.9773084759
             ]
            },
            {
             "iteration": 1791,
             "learn": [
              0.7281513469,
              0.7594718998
             ],
             "passed_time": 33.22826246,
             "remaining_time": 3.856851892,
             "test": [
              0.5983550377,
              0.9773478999
             ]
            },
            {
             "iteration": 1792,
             "learn": [
              0.7282198917,
              0.7594325401
             ],
             "passed_time": 33.25606332,
             "remaining_time": 3.839378197,
             "test": [
              0.5984921179,
              0.9773434823
             ]
            },
            {
             "iteration": 1793,
             "learn": [
              0.7284255261,
              0.7592647928
             ],
             "passed_time": 33.2860269,
             "remaining_time": 3.822141327,
             "test": [
              0.5990404387,
              0.9773153032
             ]
            },
            {
             "iteration": 1794,
             "learn": [
              0.7284597985,
              0.7591673976
             ],
             "passed_time": 33.31599079,
             "remaining_time": 3.804890313,
             "test": [
              0.5987662783,
              0.9772855177
             ]
            },
            {
             "iteration": 1795,
             "learn": [
              0.7285626157,
              0.7591029361
             ],
             "passed_time": 33.35274032,
             "remaining_time": 3.788395894,
             "test": [
              0.5990404387,
              0.9773252763
             ]
            },
            {
             "iteration": 1796,
             "learn": [
              0.7285968881,
              0.7590507912
             ],
             "passed_time": 33.37039611,
             "remaining_time": 3.769721987,
             "test": [
              0.5991775188,
              0.9773693856
             ]
            },
            {
             "iteration": 1797,
             "learn": [
              0.7286311605,
              0.7589612277
             ],
             "passed_time": 33.3940767,
             "remaining_time": 3.751726081,
             "test": [
              0.5987662783,
              0.9773425452
             ]
            },
            {
             "iteration": 1798,
             "learn": [
              0.7288025224,
              0.7588226655
             ],
             "passed_time": 33.43489172,
             "remaining_time": 3.735638263,
             "test": [
              0.5994516792,
              0.9773814337
             ]
            },
            {
             "iteration": 1799,
             "learn": [
              0.7288367948,
              0.7586983611
             ],
             "passed_time": 33.45264558,
             "remaining_time": 3.71696062,
             "test": [
              0.599314599,
              0.977375008
             ]
            },
            {
             "iteration": 1800,
             "learn": [
              0.7289738844,
              0.7586148222
             ],
             "passed_time": 33.46996458,
             "remaining_time": 3.698235953,
             "test": [
              0.599314599,
              0.9774585413
             ]
            },
            {
             "iteration": 1801,
             "learn": [
              0.7287682501,
              0.7585747931
             ],
             "passed_time": 33.50707124,
             "remaining_time": 3.681687073,
             "test": [
              0.599314599,
              0.9774395321
             ]
            },
            {
             "iteration": 1802,
             "learn": [
              0.728939612,
              0.7584650143
             ],
             "passed_time": 33.53420122,
             "remaining_time": 3.664025314,
             "test": [
              0.5995887594,
              0.9773762798
             ]
            },
            {
             "iteration": 1803,
             "learn": [
              0.7288367948,
              0.7584093217
             ],
             "passed_time": 33.55053847,
             "remaining_time": 3.645180454,
             "test": [
              0.5997258396,
              0.9774158376
             ]
            },
            {
             "iteration": 1804,
             "learn": [
              0.7288367948,
              0.7583577792
             ],
             "passed_time": 33.5665027,
             "remaining_time": 3.626298076,
             "test": [
              0.5994516792,
              0.9773999743
             ]
            },
            {
             "iteration": 1805,
             "learn": [
              0.7290767016,
              0.758290774
             ],
             "passed_time": 33.58348388,
             "remaining_time": 3.607528168,
             "test": [
              0.5994516792,
              0.9773632946
             ]
            },
            {
             "iteration": 1806,
             "learn": [
              0.728939612,
              0.7582411058
             ],
             "passed_time": 33.59977135,
             "remaining_time": 3.588686149,
             "test": [
              0.5995887594,
              0.9773373244
             ]
            },
            {
             "iteration": 1807,
             "learn": [
              0.7290767016,
              0.7581530819
             ],
             "passed_time": 33.61669236,
             "remaining_time": 3.569914233,
             "test": [
              0.5995887594,
              0.9774027855
             ]
            },
            {
             "iteration": 1808,
             "learn": [
              0.7290081568,
              0.7580938416
             ],
             "passed_time": 33.63258322,
             "remaining_time": 3.551035598,
             "test": [
              0.5995887594,
              0.977410416
             ]
            },
            {
             "iteration": 1809,
             "learn": [
              0.7289738844,
              0.7580216821
             ],
             "passed_time": 33.64870449,
             "remaining_time": 3.532184449,
             "test": [
              0.5995887594,
              0.9773683816
             ]
            },
            {
             "iteration": 1810,
             "learn": [
              0.7290081568,
              0.7579572875
             ],
             "passed_time": 33.66798582,
             "remaining_time": 3.513666107,
             "test": [
              0.5995887594,
              0.977390135
             ]
            },
            {
             "iteration": 1811,
             "learn": [
              0.7291795188,
              0.7578887427
             ],
             "passed_time": 33.68508686,
             "remaining_time": 3.494920712,
             "test": [
              0.5997258396,
              0.9774185149
             ]
            },
            {
             "iteration": 1812,
             "learn": [
              0.7290767016,
              0.7578313766
             ],
             "passed_time": 33.70084726,
             "remaining_time": 3.476038852,
             "test": [
              0.5997258396,
              0.9773948873
             ]
            },
            {
             "iteration": 1813,
             "learn": [
              0.729110974,
              0.757747436
             ],
             "passed_time": 33.71750355,
             "remaining_time": 3.457252294,
             "test": [
              0.5998629198,
              0.9773693187
             ]
            },
            {
             "iteration": 1814,
             "learn": [
              0.7289738844,
              0.7575936118
             ],
             "passed_time": 33.73413654,
             "remaining_time": 3.438465708,
             "test": [
              0.6,
              0.9772474994
             ]
            },
            {
             "iteration": 1815,
             "learn": [
              0.7289053396,
              0.757513152
             ],
             "passed_time": 33.75115165,
             "remaining_time": 3.419720212,
             "test": [
              0.6,
              0.9772846476
             ]
            },
            {
             "iteration": 1816,
             "learn": [
              0.7288367948,
              0.7574645548
             ],
             "passed_time": 33.76760128,
             "remaining_time": 3.400919667,
             "test": [
              0.6,
              0.977289266
             ]
            },
            {
             "iteration": 1817,
             "learn": [
              0.7288025224,
              0.7573444676
             ],
             "passed_time": 33.78446987,
             "remaining_time": 3.38216365,
             "test": [
              0.5998629198,
              0.9772477002
             ]
            },
            {
             "iteration": 1818,
             "learn": [
              0.7287339777,
              0.7572721742
             ],
             "passed_time": 33.8014318,
             "remaining_time": 3.363418997,
             "test": [
              0.6001370802,
              0.9771997756
             ]
            },
            {
             "iteration": 1819,
             "learn": [
              0.7291452464,
              0.7570745055
             ],
             "passed_time": 33.81857656,
             "remaining_time": 3.344694385,
             "test": [
              0.6001370802,
              0.9770982372
             ]
            },
            {
             "iteration": 1820,
             "learn": [
              0.7292137912,
              0.7570282512
             ],
             "passed_time": 33.83425479,
             "remaining_time": 3.325827351,
             "test": [
              0.6004112406,
              0.9770521869
             ]
            },
            {
             "iteration": 1821,
             "learn": [
              0.729110974,
              0.7569965224
             ],
             "passed_time": 33.85003507,
             "remaining_time": 3.306973788,
             "test": [
              0.6004112406,
              0.9770705936
             ]
            },
            {
             "iteration": 1822,
             "learn": [
              0.729110974,
              0.7569246307
             ],
             "passed_time": 33.86679288,
             "remaining_time": 3.288218508,
             "test": [
              0.6005483208,
              0.9770141685
             ]
            },
            {
             "iteration": 1823,
             "learn": [
              0.7291795188,
              0.7568113712
             ],
             "passed_time": 33.88371128,
             "remaining_time": 3.269480913,
             "test": [
              0.6004112406,
              0.9769444236
             ]
            },
            {
             "iteration": 1824,
             "learn": [
              0.7292480636,
              0.7567109637
             ],
             "passed_time": 33.90011161,
             "remaining_time": 3.250695633,
             "test": [
              0.6002741604,
              0.9768704619
             ]
            },
            {
             "iteration": 1825,
             "learn": [
              0.7296593324,
              0.7565031873
             ],
             "passed_time": 33.91708937,
             "remaining_time": 3.231967991,
             "test": [
              0.6,
              0.9767829126
             ]
            },
            {
             "iteration": 1826,
             "learn": [
              0.7296593324,
              0.7564411356
             ],
             "passed_time": 33.9336747,
             "remaining_time": 3.213205103,
             "test": [
              0.6,
              0.9767335825
             ]
            },
            {
             "iteration": 1827,
             "learn": [
              0.7296593324,
              0.7563790838
             ],
             "passed_time": 33.95070477,
             "remaining_time": 3.194486444,
             "test": [
              0.5998629198,
              0.9767250819
             ]
            },
            {
             "iteration": 1828,
             "learn": [
              0.7299677839,
              0.7562245233
             ],
             "passed_time": 33.96729631,
             "remaining_time": 3.175728633,
             "test": [
              0.6002741604,
              0.9766373988
             ]
            },
            {
             "iteration": 1829,
             "learn": [
              0.7300706011,
              0.7561182253
             ],
             "passed_time": 33.98420232,
             "remaining_time": 3.157002402,
             "test": [
              0.6004112406,
              0.9765960338
             ]
            },
            {
             "iteration": 1830,
             "learn": [
              0.7300363287,
              0.7560129314
             ],
             "passed_time": 34.00135959,
             "remaining_time": 3.13830135,
             "test": [
              0.6008224812,
              0.976480774
             ]
            },
            {
             "iteration": 1831,
             "learn": [
              0.7300020563,
              0.7559773202
             ],
             "passed_time": 34.01798992,
             "remaining_time": 3.119553661,
             "test": [
              0.6008224812,
              0.976457481
             ]
            },
            {
             "iteration": 1832,
             "learn": [
              0.7299677839,
              0.7559122562
             ],
             "passed_time": 34.03520344,
             "remaining_time": 3.100861416,
             "test": [
              0.6008224812,
              0.9765011218
             ]
            },
            {
             "iteration": 1833,
             "learn": [
              0.7301391459,
              0.7556564851
             ],
             "passed_time": 34.05300725,
             "remaining_time": 3.082224211,
             "test": [
              0.600685401,
              0.9764497167
             ]
            },
            {
             "iteration": 1834,
             "learn": [
              0.7303447803,
              0.7555873378
             ],
             "passed_time": 34.07034642,
             "remaining_time": 3.063546136,
             "test": [
              0.6010966415,
              0.9763762235
             ]
            },
            {
             "iteration": 1835,
             "learn": [
              0.7304133251,
              0.7554829141
             ],
             "passed_time": 34.08753611,
             "remaining_time": 3.044856166,
             "test": [
              0.6010966415,
              0.9763122349
             ]
            },
            {
             "iteration": 1836,
             "learn": [
              0.7304818699,
              0.7553439503
             ],
             "passed_time": 34.10529494,
             "remaining_time": 3.026218332,
             "test": [
              0.6013708019,
              0.9762916863
             ]
            },
            {
             "iteration": 1837,
             "learn": [
              0.7307560491,
              0.755234707
             ],
             "passed_time": 34.12244563,
             "remaining_time": 3.007527852,
             "test": [
              0.6013708019,
              0.9762602275
             ]
            },
            {
             "iteration": 1838,
             "learn": [
              0.7307903215,
              0.7551355045
             ],
             "passed_time": 34.139435,
             "remaining_time": 2.988824924,
             "test": [
              0.6016449623,
              0.9762668539
             ]
            },
            {
             "iteration": 1839,
             "learn": [
              0.7307903215,
              0.7550762641
             ],
             "passed_time": 34.15612742,
             "remaining_time": 2.970098036,
             "test": [
              0.6016449623,
              0.9762528648
             ]
            },
            {
             "iteration": 1840,
             "learn": [
              0.7308588663,
              0.7550342938
             ],
             "passed_time": 34.1720786,
             "remaining_time": 2.951309341,
             "test": [
              0.6016449623,
              0.9762481794
             ]
            },
            {
             "iteration": 1841,
             "learn": [
              0.7308931387,
              0.7549960051
             ],
             "passed_time": 34.18794093,
             "remaining_time": 2.932516105,
             "test": [
              0.6015078821,
              0.9762307097
             ]
            },
            {
             "iteration": 1842,
             "learn": [
              0.7309959559,
              0.7548962002
             ],
             "passed_time": 34.20465752,
             "remaining_time": 2.913798823,
             "test": [
              0.6016449623,
              0.976169867
             ]
            },
            {
             "iteration": 1843,
             "learn": [
              0.7315100418,
              0.7544925624
             ],
             "passed_time": 34.22259211,
             "remaining_time": 2.895186751,
             "test": [
              0.6008224812,
              0.9760501896
             ]
            },
            {
             "iteration": 1844,
             "learn": [
              0.7316471314,
              0.7543210665
             ],
             "passed_time": 34.24069147,
             "remaining_time": 2.876589257,
             "test": [
              0.6010966415,
              0.9760735494
             ]
            },
            {
             "iteration": 1845,
             "learn": [
              0.7315785866,
              0.7542653738
             ],
             "passed_time": 34.25737076,
             "remaining_time": 2.857873834,
             "test": [
              0.6009595613,
              0.9760552765
             ]
            },
            {
             "iteration": 1846,
             "learn": [
              0.731784221,
              0.7540814275
             ],
             "passed_time": 34.27445722,
             "remaining_time": 2.839194345,
             "test": [
              0.6009595613,
              0.9760511936
             ]
            },
            {
             "iteration": 1847,
             "learn": [
              0.7317156762,
              0.7539405224
             ],
             "passed_time": 34.29140868,
             "remaining_time": 2.820505476,
             "test": [
              0.6010966415,
              0.9759424263
             ]
            },
            {
             "iteration": 1848,
             "learn": [
              0.7317499486,
              0.7538186278
             ],
             "passed_time": 34.30807881,
             "remaining_time": 2.801795511,
             "test": [
              0.6012337217,
              0.9759330556
             ]
            },
            {
             "iteration": 1849,
             "learn": [
              0.7316814038,
              0.7537306709
             ],
             "passed_time": 34.32487611,
             "remaining_time": 2.783098063,
             "test": [
              0.6013708019,
              0.9758959074
             ]
            },
            {
             "iteration": 1850,
             "learn": [
              0.7316814038,
              0.7535347426
             ],
             "passed_time": 34.34272677,
             "remaining_time": 2.76448746,
             "test": [
              0.6013708019,
              0.9759447021
             ]
            },
            {
             "iteration": 1851,
             "learn": [
              0.7319213106,
              0.7534593701
             ],
             "passed_time": 34.35900202,
             "remaining_time": 2.745751782,
             "test": [
              0.6013708019,
              0.9759507261
             ]
            },
            {
             "iteration": 1852,
             "learn": [
              0.7318870382,
              0.7534202112
             ],
             "passed_time": 34.3748179,
             "remaining_time": 2.726982316,
             "test": [
              0.6013708019,
              0.9760042061
             ]
            },
            {
             "iteration": 1853,
             "learn": [
              0.7319213106,
              0.7532475774
             ],
             "passed_time": 34.39216093,
             "remaining_time": 2.708336298,
             "test": [
              0.6015078821,
              0.9760627731
             ]
            },
            {
             "iteration": 1854,
             "learn": [
              0.7318527658,
              0.7531697951
             ],
             "passed_time": 34.40827896,
             "remaining_time": 2.689595929,
             "test": [
              0.6015078821,
              0.9759866695
             ]
            },
            {
             "iteration": 1855,
             "learn": [
              0.731955583,
              0.7530572049
             ],
             "passed_time": 34.42533573,
             "remaining_time": 2.670931221,
             "test": [
              0.6013708019,
              0.9759723457
             ]
            },
            {
             "iteration": 1856,
             "learn": [
              0.7320584002,
              0.7529826357
             ],
             "passed_time": 34.44223862,
             "remaining_time": 2.652256394,
             "test": [
              0.6013708019,
              0.9759715425
             ]
            },
            {
             "iteration": 1857,
             "learn": [
              0.7319213106,
              0.7528841695
             ],
             "passed_time": 34.45996247,
             "remaining_time": 2.633646217,
             "test": [
              0.6016449623,
              0.9759766964
             ]
            },
            {
             "iteration": 1858,
             "learn": [
              0.7320926726,
              0.7527982207
             ],
             "passed_time": 34.47695674,
             "remaining_time": 2.614981657,
             "test": [
              0.6016449623,
              0.9759766964
             ]
            },
            {
             "iteration": 1859,
             "learn": [
              0.7320584002,
              0.7527293412
             ],
             "passed_time": 34.49361273,
             "remaining_time": 2.596293432,
             "test": [
              0.6008224812,
              0.9760050093
             ]
            },
            {
             "iteration": 1860,
             "learn": [
              0.7318527658,
              0.752674318
             ],
             "passed_time": 34.50994618,
             "remaining_time": 2.577583299,
             "test": [
              0.600685401,
              0.9759631758
             ]
            },
            {
             "iteration": 1861,
             "learn": [
              0.7319898554,
              0.7526162156
             ],
             "passed_time": 34.53919459,
             "remaining_time": 2.559832896,
             "test": [
              0.6004112406,
              0.9759837913
             ]
            },
            {
             "iteration": 1862,
             "learn": [
              0.732126945,
              0.7525573099
             ],
             "passed_time": 34.55586347,
             "remaining_time": 2.541145086,
             "test": [
              0.6002741604,
              0.9759612347
             ]
            },
            {
             "iteration": 1863,
             "learn": [
              0.7325039413,
              0.7523534828
             ],
             "passed_time": 34.57280117,
             "remaining_time": 2.522479055,
             "test": [
              0.600685401,
              0.9758917575
             ]
            },
            {
             "iteration": 1864,
             "learn": [
              0.7326410309,
              0.7522715504
             ],
             "passed_time": 34.59849953,
             "remaining_time": 2.504449028,
             "test": [
              0.600685401,
              0.9758528021
             ]
            },
            {
             "iteration": 1865,
             "learn": [
              0.7327438481,
              0.7522151214
             ],
             "passed_time": 34.62695852,
             "remaining_time": 2.486609026,
             "test": [
              0.6008224812,
              0.9758352655
             ]
            },
            {
             "iteration": 1866,
             "learn": [
              0.7326753033,
              0.752149455
             ],
             "passed_time": 34.65458237,
             "remaining_time": 2.468698155,
             "test": [
              0.6004112406,
              0.9758572867
             ]
            },
            {
             "iteration": 1867,
             "learn": [
              0.7326753033,
              0.7520954358
             ],
             "passed_time": 34.67109369,
             "remaining_time": 2.449991631,
             "test": [
              0.6004112406,
              0.9758142483
             ]
            },
            {
             "iteration": 1868,
             "learn": [
              0.7329837549,
              0.7518644318
             ],
             "passed_time": 34.69257478,
             "remaining_time": 2.431635792,
             "test": [
              0.6008224812,
              0.975882186
             ]
            },
            {
             "iteration": 1869,
             "learn": [
              0.7329837549,
              0.7518247374
             ],
             "passed_time": 34.71360493,
             "remaining_time": 2.413245262,
             "test": [
              0.6009595613,
              0.9758394154
             ]
            },
            {
             "iteration": 1870,
             "learn": [
              0.7328123929,
              0.7517433404
             ],
             "passed_time": 34.7356088,
             "remaining_time": 2.394919046,
             "test": [
              0.6008224812,
              0.9758261625
             ]
            },
            {
             "iteration": 1871,
             "learn": [
              0.7329152101,
              0.7516697753
             ],
             "passed_time": 34.75886436,
             "remaining_time": 2.376674486,
             "test": [
              0.6008224812,
              0.9757414914
             ]
            },
            {
             "iteration": 1872,
             "learn": [
              0.7329837549,
              0.7515988207
             ],
             "passed_time": 34.78258502,
             "remaining_time": 2.358456112,
             "test": [
              0.6008224812,
              0.9757232185
             ]
            },
            {
             "iteration": 1873,
             "learn": [
              0.7330865721,
              0.7515514284
             ],
             "passed_time": 34.80659667,
             "remaining_time": 2.34025143,
             "test": [
              0.6004112406,
              0.9757717454
             ]
            },
            {
             "iteration": 1874,
             "learn": [
              0.7332236617,
              0.7514427876
             ],
             "passed_time": 34.82383936,
             "remaining_time": 2.321589291,
             "test": [
              0.6008224812,
              0.9757693358
             ]
            },
            {
             "iteration": 1875,
             "learn": [
              0.7331208445,
              0.7513798656
             ],
             "passed_time": 34.84066067,
             "remaining_time": 2.302900812,
             "test": [
              0.6005483208,
              0.9757209427
             ]
            },
            {
             "iteration": 1876,
             "learn": [
              0.7331208445,
              0.7513318709
             ],
             "passed_time": 34.85686216,
             "remaining_time": 2.284173706,
             "test": [
              0.6008224812,
              0.9756492568
             ]
            },
            {
             "iteration": 1877,
             "learn": [
              0.7332236617,
              0.7512893651
             ],
             "passed_time": 34.87247461,
             "remaining_time": 2.265411023,
             "test": [
              0.600685401,
              0.9755690702
             ]
            },
            {
             "iteration": 1878,
             "learn": [
              0.7333264789,
              0.7511932417
             ],
             "passed_time": 34.88994983,
             "remaining_time": 2.246771649,
             "test": [
              0.6010966415,
              0.9755519352
             ]
            },
            {
             "iteration": 1879,
             "learn": [
              0.7332922065,
              0.7511321271
             ],
             "passed_time": 34.90678841,
             "remaining_time": 2.228092877,
             "test": [
              0.6009595613,
              0.9755744249
             ]
            },
            {
             "iteration": 1880,
             "learn": [
              0.7329837549,
              0.7510376771
             ],
             "passed_time": 34.92360926,
             "remaining_time": 2.20941494,
             "test": [
              0.600685401,
              0.9755668614
             ]
            },
            {
             "iteration": 1881,
             "learn": [
              0.7330522997,
              0.7509986521
             ],
             "passed_time": 34.93949562,
             "remaining_time": 2.190680384,
             "test": [
              0.6008224812,
              0.9755479192
             ]
            },
            {
             "iteration": 1882,
             "learn": [
              0.7331208445,
              0.7509144438
             ],
             "passed_time": 34.95600941,
             "remaining_time": 2.171987839,
             "test": [
              0.600685401,
              0.9755003962
             ]
            },
            {
             "iteration": 1883,
             "learn": [
              0.7331551169,
              0.7508756196
             ],
             "passed_time": 34.97164832,
             "remaining_time": 2.15324374,
             "test": [
              0.600685401,
              0.9754884821
             ]
            },
            {
             "iteration": 1884,
             "learn": [
              0.7332579341,
              0.7508331138
             ],
             "passed_time": 34.9872248,
             "remaining_time": 2.134499126,
             "test": [
              0.6008224812,
              0.9755225513
             ]
            },
            {
             "iteration": 1885,
             "learn": [
              0.7331208445,
              0.7507614898
             ],
             "passed_time": 35.00425544,
             "remaining_time": 2.115845769,
             "test": [
              0.6009595613,
              0.9755232206
             ]
            },
            {
             "iteration": 1886,
             "learn": [
              0.7334978408,
              0.7505662978
             ],
             "passed_time": 35.02204442,
             "remaining_time": 2.097239544,
             "test": [
              0.6008224812,
              0.9754426994
             ]
            },
            {
             "iteration": 1887,
             "learn": [
              0.7335321132,
              0.7505307536
             ],
             "passed_time": 35.03836209,
             "remaining_time": 2.078546904,
             "test": [
              0.6005483208,
              0.9754418293
             ]
            },
            {
             "iteration": 1888,
             "learn": [
              0.7337377476,
              0.7504622757
             ],
             "passed_time": 35.05457517,
             "remaining_time": 2.059850632,
             "test": [
              0.600685401,
              0.9754034763
             ]
            },
            {
             "iteration": 1889,
             "learn": [
              0.73377202,
              0.7503738503
             ],
             "passed_time": 35.07199427,
             "remaining_time": 2.04122718,
             "test": [
              0.6010966415,
              0.9753890186
             ]
            },
            {
             "iteration": 1890,
             "learn": [
              0.7336349304,
              0.7503235796
             ],
             "passed_time": 35.08786784,
             "remaining_time": 2.022515914,
             "test": [
              0.6010966415,
              0.9754295804
             ]
            },
            {
             "iteration": 1891,
             "learn": [
              0.73377202,
              0.7502327444
             ],
             "passed_time": 35.10466475,
             "remaining_time": 2.003860356,
             "test": [
              0.6010966415,
              0.9753713481
             ]
            },
            {
             "iteration": 1892,
             "learn": [
              0.7338748372,
              0.7501878957
             ],
             "passed_time": 35.12033247,
             "remaining_time": 1.985142934,
             "test": [
              0.6010966415,
              0.9753546816
             ]
            },
            {
             "iteration": 1893,
             "learn": [
              0.7342175612,
              0.7500308585
             ],
             "passed_time": 35.13799639,
             "remaining_time": 1.966540452,
             "test": [
              0.6010966415,
              0.975346181
             ]
            },
            {
             "iteration": 1894,
             "learn": [
              0.7343203784,
              0.7499333964
             ],
             "passed_time": 35.15369957,
             "remaining_time": 1.947830319,
             "test": [
              0.6012337217,
              0.9753018709
             ]
            },
            {
             "iteration": 1895,
             "learn": [
              0.7343889232,
              0.7498456403
             ],
             "passed_time": 35.16929803,
             "remaining_time": 1.929117613,
             "test": [
              0.6010966415,
              0.9752366775
             ]
            },
            {
             "iteration": 1896,
             "learn": [
              0.7344231956,
              0.7498076194
             ],
             "passed_time": 35.18585665,
             "remaining_time": 1.910460324,
             "test": [
              0.6009595613,
              0.9752188062
             ]
            },
            {
             "iteration": 1897,
             "learn": [
              0.7345945575,
              0.7497529308
             ],
             "passed_time": 35.20253847,
             "remaining_time": 1.891811867,
             "test": [
              0.6010966415,
              0.9752202788
             ]
            },
            {
             "iteration": 1898,
             "learn": [
              0.7347316471,
              0.7497116299
             ],
             "passed_time": 35.21922605,
             "remaining_time": 1.873165788,
             "test": [
              0.6010966415,
              0.9752524069
             ]
            },
            {
             "iteration": 1899,
             "learn": [
              0.7347659195,
              0.7496159751
             ],
             "passed_time": 35.23607916,
             "remaining_time": 1.854530482,
             "test": [
              0.6013708019,
              0.9752734241
             ]
            },
            {
             "iteration": 1900,
             "learn": [
              0.7346631023,
              0.749573804
             ],
             "passed_time": 35.25275721,
             "remaining_time": 1.835887935,
             "test": [
              0.6013708019,
              0.9752901575
             ]
            },
            {
             "iteration": 1901,
             "learn": [
              0.7347659195,
              0.7495324361
             ],
             "passed_time": 35.26919252,
             "remaining_time": 1.817234946,
             "test": [
              0.6012337217,
              0.9752703452
             ]
            },
            {
             "iteration": 1902,
             "learn": [
              0.7347659195,
              0.7494926079
             ],
             "passed_time": 35.28570817,
             "remaining_time": 1.798588383,
             "test": [
              0.6012337217,
              0.9752666638
             ]
            },
            {
             "iteration": 1903,
             "learn": [
              0.7347316471,
              0.7494299536
             ],
             "passed_time": 35.3018161,
             "remaining_time": 1.779923501,
             "test": [
              0.6013708019,
              0.975158432
             ]
            },
            {
             "iteration": 1904,
             "learn": [
              0.7348001919,
              0.7493616097
             ],
             "passed_time": 35.31813774,
             "remaining_time": 1.761271961,
             "test": [
              0.6013708019,
              0.9750933725
             ]
            },
            {
             "iteration": 1905,
             "learn": [
              0.7349715539,
              0.7492815515
             ],
             "passed_time": 35.33539451,
             "remaining_time": 1.742668984,
             "test": [
              0.6009595613,
              0.9750672684
             ]
            },
            {
             "iteration": 1906,
             "learn": [
              0.7350743711,
              0.7492471452
             ],
             "passed_time": 35.3518249,
             "remaining_time": 1.724027119,
             "test": [
              0.6008224812,
              0.9750465858
             ]
            },
            {
             "iteration": 1907,
             "learn": [
              0.7349372815,
              0.749099881
             ],
             "passed_time": 35.36870694,
             "remaining_time": 1.705409349,
             "test": [
              0.6008224812,
              0.9751126494
             ]
            },
            {
             "iteration": 1908,
             "learn": [
              0.7350400987,
              0.7490450586
             ],
             "passed_time": 35.38484911,
             "remaining_time": 1.686758129,
             "test": [
              0.6008224812,
              0.9750730916
             ]
            },
            {
             "iteration": 1909,
             "learn": [
              0.7354513675,
              0.7488565604
             ],
             "passed_time": 35.40219175,
             "remaining_time": 1.668166103,
             "test": [
              0.6008224812,
              0.9751614441
             ]
            },
            {
             "iteration": 1910,
             "learn": [
              0.7354856399,
              0.7488169999
             ],
             "passed_time": 35.41775862,
             "remaining_time": 1.649492683,
             "test": [
              0.6008224812,
              0.9751400922
             ]
            },
            {
             "iteration": 1911,
             "learn": [
              0.7354513675,
              0.748740958
             ],
             "passed_time": 35.43485914,
             "remaining_time": 1.630893098,
             "test": [
              0.6009595613,
              0.9751105075
             ]
            },
            {
             "iteration": 1912,
             "learn": [
              0.735759819,
              0.7487114382
             ],
             "passed_time": 35.45142452,
             "remaining_time": 1.612270744,
             "test": [
              0.6008224812,
              0.9751196105
             ]
            },
            {
             "iteration": 1913,
             "learn": [
              0.735759819,
              0.7486675936
             ],
             "passed_time": 35.47019965,
             "remaining_time": 1.593749827,
             "test": [
              0.6008224812,
              0.9751127163
             ]
            },
            {
             "iteration": 1914,
             "learn": [
              0.7355541847,
              0.7485617642
             ],
             "passed_time": 35.48678471,
             "remaining_time": 1.575131436,
             "test": [
              0.600685401,
              0.9751054875
             ]
            },
            {
             "iteration": 1915,
             "learn": [
              0.7356570019,
              0.7485220029
             ],
             "passed_time": 35.50262345,
             "remaining_time": 1.556482448,
             "test": [
              0.6008224812,
              0.9751266385
             ]
            },
            {
             "iteration": 1916,
             "learn": [
              0.7359654534,
              0.7483297562
             ],
             "passed_time": 35.51979889,
             "remaining_time": 1.537894266,
             "test": [
              0.600685401,
              0.9752080968
             ]
            },
            {
             "iteration": 1917,
             "learn": [
              0.735931181,
              0.748235574
             ],
             "passed_time": 35.53703096,
             "remaining_time": 1.519309978,
             "test": [
              0.6005483208,
              0.9752272399
             ]
            },
            {
             "iteration": 1918,
             "learn": [
              0.7359997258,
              0.7481355013
             ],
             "passed_time": 35.55395688,
             "remaining_time": 1.500714178,
             "test": [
              0.600685401,
              0.9751967181
             ]
            },
            {
             "iteration": 1919,
             "learn": [
              0.7361710878,
              0.7479881032
             ],
             "passed_time": 35.57125868,
             "remaining_time": 1.482135779,
             "test": [
              0.6009595613,
              0.9752663291
             ]
            },
            {
             "iteration": 1920,
             "learn": [
              0.7361710878,
              0.7479358244
             ],
             "passed_time": 35.58770824,
             "remaining_time": 1.46352366,
             "test": [
              0.6008224812,
              0.9752597027
             ]
            },
            {
             "iteration": 1921,
             "learn": [
              0.7361710878,
              0.7478822068
             ],
             "passed_time": 35.61693307,
             "remaining_time": 1.445432247,
             "test": [
              0.6009595613,
              0.9752532101
             ]
            },
            {
             "iteration": 1922,
             "learn": [
              0.7361368154,
              0.7478257109
             ],
             "passed_time": 35.63349311,
             "remaining_time": 1.426822137,
             "test": [
              0.6008224812,
              0.9752366106
             ]
            },
            {
             "iteration": 1923,
             "learn": [
              0.7362396326,
              0.7476361417
             ],
             "passed_time": 35.65491884,
             "remaining_time": 1.408406357,
             "test": [
              0.6012337217,
              0.9751063576
             ]
            },
            {
             "iteration": 1924,
             "learn": [
              0.7358283638,
              0.7474915551
             ],
             "passed_time": 35.67208438,
             "remaining_time": 1.389821469,
             "test": [
              0.6,
              0.9750197454
             ]
            },
            {
             "iteration": 1925,
             "learn": [
              0.735759819,
              0.7474239474
             ],
             "passed_time": 35.68771731,
             "remaining_time": 1.37117917,
             "test": [
              0.6,
              0.9750248324
             ]
            },
            {
             "iteration": 1926,
             "learn": [
              0.7358283638,
              0.7473435545
             ],
             "passed_time": 35.71572836,
             "remaining_time": 1.35300891,
             "test": [
              0.5997258396,
              0.9750573622
             ]
            },
            {
             "iteration": 1927,
             "learn": [
              0.7358969086,
              0.7472429463
             ],
             "passed_time": 35.73208126,
             "remaining_time": 1.334393076,
             "test": [
              0.6,
              0.9750833994
             ]
            },
            {
             "iteration": 1928,
             "learn": [
              0.7360339982,
              0.7471566629
             ],
             "passed_time": 35.74867754,
             "remaining_time": 1.315788546,
             "test": [
              0.5997258396,
              0.975042369
             ]
            },
            {
             "iteration": 1929,
             "learn": [
              0.7360339982,
              0.7471169685
             ],
             "passed_time": 35.76487427,
             "remaining_time": 1.297171605,
             "test": [
              0.5998629198,
              0.9750412981
             ]
            },
            {
             "iteration": 1930,
             "learn": [
              0.7360682706,
              0.7470149545
             ],
             "passed_time": 35.78137703,
             "remaining_time": 1.278568107,
             "test": [
              0.6001370802,
              0.9750238953
             ]
            },
            {
             "iteration": 1931,
             "learn": [
              0.7363424498,
              0.7469513632
             ],
             "passed_time": 35.79832522,
             "remaining_time": 1.259982461,
             "test": [
              0.6,
              0.9750244977
             ]
            },
            {
             "iteration": 1932,
             "learn": [
              0.7363424498,
              0.7467575099
             ],
             "passed_time": 35.81540684,
             "remaining_time": 1.241403134,
             "test": [
              0.6001370802,
              0.9749044187
             ]
            },
            {
             "iteration": 1933,
             "learn": [
              0.7363767222,
              0.7467145356
             ],
             "passed_time": 35.83197486,
             "remaining_time": 1.222807829,
             "test": [
              0.6001370802,
              0.9749321962
             ]
            },
            {
             "iteration": 1934,
             "learn": [
              0.7363081774,
              0.7466785228
             ],
             "passed_time": 35.84760674,
             "remaining_time": 1.204183172,
             "test": [
              0.6001370802,
              0.9749185417
             ]
            },
            {
             "iteration": 1935,
             "learn": [
              0.7363081774,
              0.7466463255
             ],
             "passed_time": 35.86422041,
             "remaining_time": 1.185594063,
             "test": [
              0.6001370802,
              0.9749076984
             ]
            },
            {
             "iteration": 1936,
             "learn": [
              0.7363424498,
              0.7466170065
             ],
             "passed_time": 35.88092744,
             "remaining_time": 1.16701003,
             "test": [
              0.6001370802,
              0.97490308
             ]
            },
            {
             "iteration": 1937,
             "learn": [
              0.7363424498,
              0.7465721579
             ],
             "passed_time": 35.89753488,
             "remaining_time": 1.148424748,
             "test": [
              0.6004112406,
              0.9749004027
             ]
            },
            {
             "iteration": 1938,
             "learn": [
              0.7361710878,
              0.7465050857
             ],
             "passed_time": 35.91351758,
             "remaining_time": 1.129821853,
             "test": [
              0.6002741604,
              0.974840564
             ]
            },
            {
             "iteration": 1939,
             "learn": [
              0.7363081774,
              0.7464283744
             ],
             "passed_time": 35.93031956,
             "remaining_time": 1.111246997,
             "test": [
              0.6002741604,
              0.9748513403
             ]
            },
            {
             "iteration": 1940,
             "learn": [
              0.7363424498,
              0.7463200014
             ],
             "passed_time": 35.94714954,
             "remaining_time": 1.092674819,
             "test": [
              0.6005483208,
              0.9748612465
             ]
            },
            {
             "iteration": 1941,
             "learn": [
              0.7363767222,
              0.7461115556
             ],
             "passed_time": 35.96451191,
             "remaining_time": 1.074120335,
             "test": [
              0.5997258396,
              0.9749046864
             ]
            },
            {
             "iteration": 1942,
             "learn": [
              0.7364109946,
              0.7460187122
             ],
             "passed_time": 35.98111113,
             "remaining_time": 1.055544691,
             "test": [
              0.5998629198,
              0.9748891578
             ]
            },
            {
             "iteration": 1943,
             "learn": [
              0.736616629,
              0.7458686366
             ],
             "passed_time": 35.99827057,
             "remaining_time": 1.036987218,
             "test": [
              0.6001370802,
              0.9749089702
             ]
            },
            {
             "iteration": 1944,
             "learn": [
              0.7365480842,
              0.7457840266
             ],
             "passed_time": 36.01482462,
             "remaining_time": 1.018414064,
             "test": [
              0.6,
              0.9748716212
             ]
            },
            {
             "iteration": 1945,
             "learn": [
              0.7366851738,
              0.745732618
             ],
             "passed_time": 36.03168136,
             "remaining_time": 0.9998513841,
             "test": [
              0.6001370802,
              0.9748283151
             ]
            },
            {
             "iteration": 1946,
             "learn": [
              0.7367537186,
              0.7456299347
             ],
             "passed_time": 36.04830814,
             "remaining_time": 0.9812841969,
             "test": [
              0.6,
              0.974904151
             ]
            },
            {
             "iteration": 1947,
             "learn": [
              0.736787991,
              0.7455756477
             ],
             "passed_time": 36.06419203,
             "remaining_time": 0.9626991713,
             "test": [
              0.6,
              0.9749452482
             ]
            },
            {
             "iteration": 1948,
             "learn": [
              0.7368222633,
              0.7455377607
             ],
             "passed_time": 36.08073448,
             "remaining_time": 0.9441341501,
             "test": [
              0.5998629198,
              0.9749598398
             ]
            },
            {
             "iteration": 1949,
             "learn": [
              0.7370964425,
              0.7452917625
             ],
             "passed_time": 36.0982685,
             "remaining_time": 0.9255966283,
             "test": [
              0.5998629198,
              0.9750002008
             ]
            },
            {
             "iteration": 1950,
             "learn": [
              0.7372678045,
              0.7452398184
             ],
             "passed_time": 36.1139753,
             "remaining_time": 0.9070142439,
             "test": [
              0.5997258396,
              0.9749402282
             ]
            },
            {
             "iteration": 1951,
             "learn": [
              0.7372335321,
              0.7451412853
             ],
             "passed_time": 36.13101895,
             "remaining_time": 0.8884676791,
             "test": [
              0.5998629198,
              0.9750110441
             ]
            },
            {
             "iteration": 1952,
             "learn": [
              0.7372678045,
              0.7451013901
             ],
             "passed_time": 36.1467908,
             "remaining_time": 0.869892047,
             "test": [
              0.5998629198,
              0.9749922357
             ]
            },
            {
             "iteration": 1953,
             "learn": [
              0.7373706217,
              0.7450077434
             ],
             "passed_time": 36.16356792,
             "remaining_time": 0.8513429499,
             "test": [
              0.5997258396,
              0.974968675
             ]
            },
            {
             "iteration": 1954,
             "learn": [
              0.7374391665,
              0.7449446206
             ],
             "passed_time": 36.18033167,
             "remaining_time": 0.8327953581,
             "test": [
              0.5997258396,
              0.9749495989
             ]
            },
            {
             "iteration": 1955,
             "learn": [
              0.7375077113,
              0.7448380549
             ],
             "passed_time": 36.19707357,
             "remaining_time": 0.8142490988,
             "test": [
              0.5997258396,
              0.9749156636
             ]
            },
            {
             "iteration": 1956,
             "learn": [
              0.7373363493,
              0.7447881859
             ],
             "passed_time": 36.21362296,
             "remaining_time": 0.7957004534,
             "test": [
              0.5997258396,
              0.9749077654
             ]
            },
            {
             "iteration": 1957,
             "learn": [
              0.7375762561,
              0.7446685002
             ],
             "passed_time": 36.23056972,
             "remaining_time": 0.777162374,
             "test": [
              0.6,
              0.9749362791
             ]
            },
            {
             "iteration": 1958,
             "learn": [
              0.7373706217,
              0.7446327552
             ],
             "passed_time": 36.24786977,
             "remaining_time": 0.7586333131,
             "test": [
              0.5998629198,
              0.9749422362
             ]
            },
            {
             "iteration": 1959,
             "learn": [
              0.7373363493,
              0.7445658839
             ],
             "passed_time": 36.26469193,
             "remaining_time": 0.7400957536,
             "test": [
              0.5998629198,
              0.9748943117
             ]
            },
            {
             "iteration": 1960,
             "learn": [
              0.7374391665,
              0.7445170859
             ],
             "passed_time": 36.28051909,
             "remaining_time": 0.7215401554,
             "test": [
              0.6002741604,
              0.9748801887
             ]
            },
            {
             "iteration": 1961,
             "learn": [
              0.7375077113,
              0.7444593181
             ],
             "passed_time": 36.29687346,
             "remaining_time": 0.7029975492,
             "test": [
              0.6001370802,
              0.9748685422
             ]
            },
            {
             "iteration": 1962,
             "learn": [
              0.7379189801,
              0.7443317338
             ],
             "passed_time": 36.31402957,
             "remaining_time": 0.6844722842,
             "test": [
              0.5998629198,
              0.9749631865
             ]
            },
            {
             "iteration": 1963,
             "learn": [
              0.7378504353,
              0.7442498683
             ],
             "passed_time": 36.33192734,
             "remaining_time": 0.6659620082,
             "test": [
              0.5997258396,
              0.9749980589
             ]
            },
            {
             "iteration": 1964,
             "learn": [
              0.7378504353,
              0.7441613089
             ],
             "passed_time": 36.34876656,
             "remaining_time": 0.6474335011,
             "test": [
              0.6001370802,
              0.975034337
             ]
            },
            {
             "iteration": 1965,
             "learn": [
              0.738090342,
              0.7440969143
             ],
             "passed_time": 36.36571393,
             "remaining_time": 0.6289085826,
             "test": [
              0.6001370802,
              0.9749926373
             ]
            },
            {
             "iteration": 1966,
             "learn": [
              0.7379532525,
              0.7439677904
             ],
             "passed_time": 36.38237007,
             "remaining_time": 0.6103803825,
             "test": [
              0.5997258396,
              0.9749273769
             ]
            },
            {
             "iteration": 1967,
             "learn": [
              0.7379875248,
              0.743898777
             ],
             "passed_time": 36.39820191,
             "remaining_time": 0.5918406815,
             "test": [
              0.5998629198,
              0.9749647259
             ]
            },
            {
             "iteration": 1968,
             "learn": [
              0.7379532525,
              0.7437906048
             ],
             "passed_time": 36.41497444,
             "remaining_time": 0.5733185412,
             "test": [
              0.5998629198,
              0.9749143918
             ]
            },
            {
             "iteration": 1969,
             "learn": [
              0.7379532525,
              0.7437558638
             ],
             "passed_time": 36.4307636,
             "remaining_time": 0.554783202,
             "test": [
              0.5998629198,
              0.9748935754
             ]
            },
            {
             "iteration": 1970,
             "learn": [
              0.7380217972,
              0.7436069931
             ],
             "passed_time": 36.44837118,
             "remaining_time": 0.5362774045,
             "test": [
              0.6002741604,
              0.9748135897
             ]
            },
            {
             "iteration": 1971,
             "learn": [
              0.7381588868,
              0.7433785997
             ],
             "passed_time": 36.46603484,
             "remaining_time": 0.5177733142,
             "test": [
              0.6001370802,
              0.9747730948
             ]
            },
            {
             "iteration": 1972,
             "learn": [
              0.7381588868,
              0.743348946
             ],
             "passed_time": 36.48168477,
             "remaining_time": 0.4992425184,
             "test": [
              0.6001370802,
              0.9747697481
             ]
            },
            {
             "iteration": 1973,
             "learn": [
              0.7382274316,
              0.7433111928
             ],
             "passed_time": 36.49779287,
             "remaining_time": 0.4807206761,
             "test": [
              0.6002741604,
              0.9747282492
             ]
            },
            {
             "iteration": 1974,
             "learn": [
              0.7381588868,
              0.7432356865
             ],
             "passed_time": 36.51473962,
             "remaining_time": 0.462211894,
             "test": [
              0.6001370802,
              0.9747222252
             ]
            },
            {
             "iteration": 1975,
             "learn": [
              0.7381931592,
              0.743138626
             ],
             "passed_time": 36.53125965,
             "remaining_time": 0.4436995099,
             "test": [
              0.6001370802,
              0.9746937784
             ]
            },
            {
             "iteration": 1976,
             "learn": [
              0.7385016108,
              0.7429833961
             ],
             "passed_time": 36.54803667,
             "remaining_time": 0.4251921312,
             "test": [
              0.5994516792,
              0.9746822658
             ]
            },
            {
             "iteration": 1977,
             "learn": [
              0.7385358832,
              0.7428581546
             ],
             "passed_time": 36.5650437,
             "remaining_time": 0.4066890603,
             "test": [
              0.5994516792,
              0.9746771788
             ]
            },
            {
             "iteration": 1978,
             "learn": [
              0.7384673384,
              0.7428060766
             ],
             "passed_time": 36.58220579,
             "remaining_time": 0.3881891469,
             "test": [
              0.599314599,
              0.9746596422
             ]
            },
            {
             "iteration": 1979,
             "learn": [
              0.738947152,
              0.7425187106
             ],
             "passed_time": 36.59964028,
             "remaining_time": 0.3696933361,
             "test": [
              0.5997258396,
              0.9745362165
             ]
            },
            {
             "iteration": 1980,
             "learn": [
              0.738947152,
              0.7424673689
             ],
             "passed_time": 36.61620047,
             "remaining_time": 0.3511902115,
             "test": [
              0.5997258396,
              0.9745192153
             ]
            },
            {
             "iteration": 1981,
             "learn": [
              0.7392213311,
              0.7423074534
             ],
             "passed_time": 36.63387424,
             "remaining_time": 0.3326991606,
             "test": [
              0.5995887594,
              0.974501344
             ]
            },
            {
             "iteration": 1982,
             "learn": [
              0.7392898759,
              0.7421569761
             ],
             "passed_time": 36.65142821,
             "remaining_time": 0.314207907,
             "test": [
              0.5994516792,
              0.9745099785
             ]
            },
            {
             "iteration": 1983,
             "learn": [
              0.7392898759,
              0.7420808673
             ],
             "passed_time": 36.66870237,
             "remaining_time": 0.2957153417,
             "test": [
              0.599314599,
              0.9744861501
             ]
            },
            {
             "iteration": 1984,
             "learn": [
              0.7393926931,
              0.7419875554
             ],
             "passed_time": 36.68468034,
             "remaining_time": 0.2772142091,
             "test": [
              0.599314599,
              0.9744332725
             ]
            },
            {
             "iteration": 1985,
             "learn": [
              0.7394955103,
              0.7418962516
             ],
             "passed_time": 36.70125797,
             "remaining_time": 0.2587198447,
             "test": [
              0.5994516792,
              0.9743895648
             ]
            },
            {
             "iteration": 1986,
             "learn": [
              0.7394612379,
              0.7418295141
             ],
             "passed_time": 36.73391196,
             "remaining_time": 0.2403325896,
             "test": [
              0.5994516792,
              0.9743599801
             ]
            },
            {
             "iteration": 1987,
             "learn": [
              0.7397696895,
              0.7416967086
             ],
             "passed_time": 36.76058152,
             "remaining_time": 0.2218948583,
             "test": [
              0.5997258396,
              0.9743429789
             ]
            },
            {
             "iteration": 1988,
             "learn": [
              0.7397354171,
              0.7416276283
             ],
             "passed_time": 36.78543563,
             "remaining_time": 0.2034388094,
             "test": [
              0.5997258396,
              0.9742832071
             ]
            },
            {
             "iteration": 1989,
             "learn": [
              0.7396325999,
              0.7415642377
             ],
             "passed_time": 36.81473274,
             "remaining_time": 0.184998657,
             "test": [
              0.5995887594,
              0.9742523507
             ]
            },
            {
             "iteration": 1990,
             "learn": [
              0.7395983275,
              0.7415031231
             ],
             "passed_time": 36.8315361,
             "remaining_time": 0.1664911225,
             "test": [
              0.5995887594,
              0.9742387632
             ]
            },
            {
             "iteration": 1991,
             "learn": [
              0.7397011447,
              0.7414645666
             ],
             "passed_time": 36.87470427,
             "remaining_time": 0.1480911818,
             "test": [
              0.5995887594,
              0.9742231676
             ]
            },
            {
             "iteration": 1992,
             "learn": [
              0.7397696895,
              0.7413119474
             ],
             "passed_time": 36.90986907,
             "remaining_time": 0.1296382757,
             "test": [
              0.5997258396,
              0.9743137289
             ]
            },
            {
             "iteration": 1993,
             "learn": [
              0.7400095963,
              0.7409909783
             ],
             "passed_time": 36.93199821,
             "remaining_time": 0.1111293828,
             "test": [
              0.5994516792,
              0.9742412397
             ]
            },
            {
             "iteration": 1994,
             "learn": [
              0.7397354171,
              0.7408552275
             ],
             "passed_time": 36.96632775,
             "remaining_time": 0.09264743798,
             "test": [
              0.599314599,
              0.9742339439
             ]
            },
            {
             "iteration": 1995,
             "learn": [
              0.7397696895,
              0.7408107136
             ],
             "passed_time": 37.00371917,
             "remaining_time": 0.07415574983,
             "test": [
              0.5991775188,
              0.9742199548
             ]
            },
            {
             "iteration": 1996,
             "learn": [
              0.7398039619,
              0.7407641914
             ],
             "passed_time": 37.04418313,
             "remaining_time": 0.05564974931,
             "test": [
              0.5990404387,
              0.9742319359
             ]
            },
            {
             "iteration": 1997,
             "learn": [
              0.7401466859,
              0.7406663277
             ],
             "passed_time": 37.08653962,
             "remaining_time": 0.03712366328,
             "test": [
              0.5990404387,
              0.9742901682
             ]
            },
            {
             "iteration": 1998,
             "learn": [
              0.7402837754,
              0.7405558795
             ],
             "passed_time": 37.11893089,
             "remaining_time": 0.01856874982,
             "test": [
              0.5991775188,
              0.9742787226
             ]
            },
            {
             "iteration": 1999,
             "learn": [
              0.7403523202,
              0.7403128267
             ],
             "passed_time": 37.15341557,
             "remaining_time": 0,
             "test": [
              0.5994516792,
              0.974143048
             ]
            }
           ],
           "meta": {
            "iteration_count": 2000,
            "launch_mode": "Train",
            "learn_metrics": [
             {
              "best_value": "Max",
              "name": "Accuracy"
             },
             {
              "best_value": "Min",
              "name": "MultiClass"
             }
            ],
            "learn_sets": [
             "learn"
            ],
            "name": "experiment",
            "parameters": "",
            "test_metrics": [
             {
              "best_value": "Max",
              "name": "Accuracy"
             },
             {
              "best_value": "Min",
              "name": "MultiClass"
             }
            ],
            "test_sets": [
             "test"
            ]
           }
          },
          "passed_iterations": 1999,
          "total_iterations": 2000
         },
         "name": "catboost_info",
         "path": "catboost_info"
        }
       },
       "layout": "IPY_MODEL_8f29449ca09b4e729ba08fde37adb5b3"
      }
     },
     "8f29449ca09b4e729ba08fde37adb5b3": {
      "model_module": "@jupyter-widgets/base",
      "model_module_version": "1.2.0",
      "model_name": "LayoutModel",
      "state": {
       "_model_module": "@jupyter-widgets/base",
       "_model_module_version": "1.2.0",
       "_model_name": "LayoutModel",
       "_view_count": null,
       "_view_module": "@jupyter-widgets/base",
       "_view_module_version": "1.2.0",
       "_view_name": "LayoutView",
       "align_content": null,
       "align_items": null,
       "align_self": "stretch",
       "border": null,
       "bottom": null,
       "display": null,
       "flex": null,
       "flex_flow": null,
       "grid_area": null,
       "grid_auto_columns": null,
       "grid_auto_flow": null,
       "grid_auto_rows": null,
       "grid_column": null,
       "grid_gap": null,
       "grid_row": null,
       "grid_template_areas": null,
       "grid_template_columns": null,
       "grid_template_rows": null,
       "height": "500px",
       "justify_content": null,
       "justify_items": null,
       "left": null,
       "margin": null,
       "max_height": null,
       "max_width": null,
       "min_height": null,
       "min_width": null,
       "object_fit": null,
       "object_position": null,
       "order": null,
       "overflow": null,
       "overflow_x": null,
       "overflow_y": null,
       "padding": null,
       "right": null,
       "top": null,
       "visibility": null,
       "width": null
      }
     }
    },
    "version_major": 2,
    "version_minor": 0
   }
  }
 },
 "nbformat": 4,
 "nbformat_minor": 5
}
