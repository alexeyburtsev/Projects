{
 "cells": [
  {
   "cell_type": "markdown",
   "id": "a998f111",
   "metadata": {},
   "source": [
    "# All imports necessary"
   ]
  },
  {
   "cell_type": "code",
   "execution_count": 56,
   "id": "feec2626",
   "metadata": {},
   "outputs": [],
   "source": [
    "import pandas as pd \n",
    "import datetime as dt\n",
    "import numpy as np\n",
    "import sklearn\n",
    "import statsmodels.api as sm\n",
    "import matplotlib\n",
    "import matplotlib.pyplot as plt\n",
    "import matplotlib.dates as mdates\n",
    "import warnings\n",
    "\n",
    "from scipy import stats\n",
    "from pandas import Series\n",
    "from sklearn.preprocessing import MinMaxScaler\n",
    "from sklearn.preprocessing import StandardScaler\n",
    "from pandas import concat\n",
    "from math import sqrt\n",
    "from tensorflow.keras.callbacks import EarlyStopping\n",
    "from tensorflow.keras.layers import GRU, Dense\n",
    "from tensorflow.keras.models import Model, Sequential"
   ]
  },
  {
   "cell_type": "code",
   "execution_count": 2,
   "id": "04cb9287",
   "metadata": {},
   "outputs": [],
   "source": [
    "import os\n",
    "import re\n",
    "import sys\n",
    "import zipfile\n",
    "from collections import UserDict\n",
    "\n",
    "import requests\n",
    "\n",
    "pd.options.display.float_format = \"{:,.2f}\".format\n",
    "np.set_printoptions(precision=2)"
   ]
  },
  {
   "cell_type": "markdown",
   "id": "7b9c77f6",
   "metadata": {},
   "source": [
    "## Helpful functions"
   ]
  },
  {
   "cell_type": "code",
   "execution_count": 91,
   "id": "2c4e04a6",
   "metadata": {},
   "outputs": [],
   "source": [
    "def download_file(url):\n",
    "    local_filename = re.search(\"^[^?]+\", url.split(\"/\")[-1]).group()\n",
    "    with requests.get(url, stream=True) as r:\n",
    "        r.raise_for_status()\n",
    "        with open(local_filename, \"wb\") as f:\n",
    "            for chunk in r.iter_content(chunk_size=8192):\n",
    "                f.write(chunk)\n",
    "    return local_filename\n",
    "\n",
    "\n",
    "def load_data(data_dir):\n",
    "    \"\"\"Load the GEFCom 2014 energy load data\"\"\"\n",
    "\n",
    "    energy = pd.read_csv(\n",
    "        os.path.join(data_dir, \"energy.csv\"), parse_dates=[\"timestamp\"]\n",
    "    )\n",
    "\n",
    "    # Reindex the dataframe such that the dataframe has a record for every time point\n",
    "    # between the minimum and maximum timestamp in the time series. This helps to\n",
    "    # identify missing time periods in the data (there are none in this dataset).\n",
    "\n",
    "    energy.index = energy[\"timestamp\"]\n",
    "    energy = energy.reindex(\n",
    "        pd.date_range(min(energy[\"timestamp\"]), max(energy[\"timestamp\"]), freq=\"H\")\n",
    "    )\n",
    "    energy = energy.drop(\"timestamp\", axis=1)\n",
    "\n",
    "    return energy\n",
    "\n",
    "def extract_data(data_dir):\n",
    "    GEFCom_dir = os.path.join(data_dir, \"GEFCom2014\", \"GEFCom2014 Data\")\n",
    "\n",
    "    GEFCom_zipfile = os.path.join(data_dir, \"GEFCom2014.zip\")\n",
    "    if not os.path.exists(GEFCom_zipfile):\n",
    "        sys.exit(\n",
    "            \"Download GEFCom2014.zip from https://mlftsfwp.blob.core.windows.net/mlftsfwp/GEFCom2014.zip and save it to the '{}' directory.\".format(\n",
    "                data_dir\n",
    "            )\n",
    "        )\n",
    "\n",
    "    # unzip root directory\n",
    "    zip_ref = zipfile.ZipFile(GEFCom_zipfile, \"r\")\n",
    "    zip_ref.extractall(os.path.join(data_dir, \"GEFCom2014\"))\n",
    "    zip_ref.close()\n",
    "\n",
    "    # extract the extended competition data\n",
    "    zip_ref = zipfile.ZipFile(os.path.join(GEFCom_dir, \"GEFCom2014-E_V2.zip\"), \"r\")\n",
    "    zip_ref.extractall(os.path.join(data_dir, \"GEFCom2014-E\"))\n",
    "    zip_ref.close()\n",
    "\n",
    "    # load the data from Excel file\n",
    "    data = pd.read_excel(\n",
    "        os.path.join(data_dir, \"GEFCom2014-E\", \"GEFCom2014-E.xlsx\"), parse_dates=[\"Date\"]\n",
    "    )\n",
    "\n",
    "    # create timestamp variable from Date and Hour\n",
    "    data[\"timestamp\"] = data[\"Date\"].add(pd.to_timedelta(data.Hour - 1, unit=\"h\"))\n",
    "    data = data[[\"timestamp\", \"load\", \"T\"]]\n",
    "    data = data.rename(columns={\"T\": \"temp\"})\n",
    "\n",
    "    # remove time period with no load data\n",
    "    data = data[data.timestamp >= \"2012-01-01\"]\n",
    "\n",
    "    # save to csv\n",
    "    data.to_csv(os.path.join(data_dir, \"energy.csv\"), index=False)"
   ]
  },
  {
   "cell_type": "code",
   "execution_count": 89,
   "id": "9d9ef190",
   "metadata": {},
   "outputs": [],
   "source": [
    "class TimeSeriesTensor(UserDict):\n",
    "    \"\"\"A dictionary of tensors for input into the RNN model.\n",
    "     This class is used to:\n",
    "      1. Shift the values of the time series to create a Pandas dataframe containing all the data\n",
    "         for a single training example\n",
    "      2. Discard any samples with missing values\n",
    "      3. Transform this Pandas dataframe into a numpy array of shape\n",
    "         (samples, time steps, features) for input into Keras\n",
    "    The class takes the following parameters:\n",
    "       - **dataset**: original time series\n",
    "       - **target** name of the target column\n",
    "       - **H**: the forecast horizon\n",
    "       - **tensor_structures**: a dictionary discribing the tensor structure of the form\n",
    "             { 'tensor_name' : (range(max_backward_shift, max_forward_shift), [feature, feature, ...] ) }\n",
    "             if features are non-sequential and should not be shifted, use the form\n",
    "             { 'tensor_name' : (None, [feature, feature, ...])}\n",
    "       - **freq**: time series frequency (default 'H' - hourly)\n",
    "       - **drop_incomplete**: (Boolean) whether to drop incomplete samples (default True)\n",
    "    \"\"\"\n",
    "\n",
    "    def __init__(\n",
    "        self, dataset, target, H, tensor_structure, freq=\"H\", drop_incomplete=True\n",
    "    ):\n",
    "        self.dataset = dataset\n",
    "        self.target = target\n",
    "        self.tensor_structure = tensor_structure\n",
    "        self.tensor_names = list(tensor_structure.keys())\n",
    "\n",
    "        self.dataframe = self._shift_data(H, freq, drop_incomplete)\n",
    "        self.data = self._df2tensors(self.dataframe)\n",
    "\n",
    "    def _shift_data(self, H, freq, drop_incomplete):\n",
    "\n",
    "        # The tensor_structures definitions are used to shift the features in the original dataset.\n",
    "        # The result is a Pandas dataframe with multi-index columns in the hierarchy\n",
    "        #     tensor - the name of the input tensor\n",
    "        #     feature - the input feature to be shifted\n",
    "        #     time step - the time step for the RNN in which the data is input. These labels\n",
    "        #         are centred on time t. the forecast creation time\n",
    "        df = self.dataset.copy()\n",
    "\n",
    "        idx_tuples = []\n",
    "        for t in range(1, H + 1):\n",
    "            df[\"t+\" + str(t)] = df[self.target].shift(t * -1, freq=freq)\n",
    "            idx_tuples.append((\"target\", \"y\", \"t+\" + str(t)))\n",
    "\n",
    "        for name, structure in self.tensor_structure.items():\n",
    "            rng = structure[0]\n",
    "            dataset_cols = structure[1]\n",
    "\n",
    "            for col in dataset_cols:\n",
    "\n",
    "                # do not shift non-sequential 'static' features\n",
    "                if rng is None:\n",
    "                    df[\"context_\" + col] = df[col]\n",
    "                    idx_tuples.append((name, col, \"static\"))\n",
    "\n",
    "                else:\n",
    "                    for t in rng:\n",
    "                        sign = \"+\" if t > 0 else \"\"\n",
    "                        shift = str(t) if t != 0 else \"\"\n",
    "                        period = \"t\" + sign + shift\n",
    "                        shifted_col = name + \"_\" + col + \"_\" + period\n",
    "                        df[shifted_col] = df[col].shift(t * -1, freq=freq)\n",
    "                        idx_tuples.append((name, col, period))\n",
    "\n",
    "        df = df.drop(self.dataset.columns, axis=1)\n",
    "        idx = pd.MultiIndex.from_tuples(\n",
    "            idx_tuples, names=[\"tensor\", \"feature\", \"time step\"]\n",
    "        )\n",
    "        df.columns = idx\n",
    "\n",
    "        if drop_incomplete:\n",
    "            df = df.dropna(how=\"any\")\n",
    "\n",
    "        return df\n",
    "\n",
    "    def _df2tensors(self, dataframe):\n",
    "\n",
    "        # Transform the shifted Pandas dataframe into the multidimensional numpy arrays. These\n",
    "        # arrays can be used to input into the keras model and can be accessed by tensor name.\n",
    "        # For example, for a TimeSeriesTensor object named \"model_inputs\" and a tensor named\n",
    "        # \"target\", the input tensor can be acccessed with model_inputs['target']\n",
    "\n",
    "        inputs = {}\n",
    "        y = dataframe[\"target\"]\n",
    "        y = y.to_numpy()\n",
    "        inputs[\"target\"] = y\n",
    "\n",
    "        for name, structure in self.tensor_structure.items():\n",
    "            rng = structure[0]\n",
    "            cols = structure[1]\n",
    "            tensor = dataframe[name][cols].to_numpy()\n",
    "            if rng is None:\n",
    "                tensor = tensor.reshape(tensor.shape[0], len(cols))\n",
    "            else:\n",
    "                tensor = tensor.reshape(tensor.shape[0], len(cols), len(rng))\n",
    "                tensor = np.transpose(tensor, axes=[0, 2, 1])\n",
    "            inputs[name] = tensor\n",
    "\n",
    "        return inputs\n",
    "\n",
    "    def subset_data(self, new_dataframe):\n",
    "\n",
    "        # This function is used to recreate the input tensors if the shifted dataframe\n",
    "        # has been filtered.\n",
    "\n",
    "        self.dataframe = new_dataframe\n",
    "        self.data = self._df2tensors(self.dataframe)"
   ]
  },
  {
   "cell_type": "code",
   "execution_count": 90,
   "id": "efb1ceb7",
   "metadata": {},
   "outputs": [],
   "source": [
    "def create_evaluation_df(predictions, test_inputs, H, scaler):\n",
    "    \"\"\"Create a data frame for easy evaluation\"\"\"\n",
    "    eval_df = pd.DataFrame(\n",
    "        predictions, columns=[\"t+\" + str(t) for t in range(1, H + 1)]\n",
    "    )\n",
    "    eval_df[\"timestamp\"] = test_inputs.dataframe.index\n",
    "    eval_df = pd.melt(\n",
    "        eval_df, id_vars=\"timestamp\", value_name=\"prediction\", var_name=\"h\"\n",
    "    )\n",
    "    eval_df[\"actual\"] = np.transpose(test_inputs[\"target\"]).ravel()\n",
    "    eval_df[[\"prediction\", \"actual\"]] = scaler.inverse_transform(\n",
    "        eval_df[[\"prediction\", \"actual\"]]\n",
    "    )\n",
    "    return eval_df"
   ]
  },
  {
   "cell_type": "markdown",
   "id": "13a7c147",
   "metadata": {},
   "source": [
    "## Dowloading data"
   ]
  },
  {
   "cell_type": "code",
   "execution_count": 4,
   "id": "c41332e6",
   "metadata": {},
   "outputs": [],
   "source": [
    "data_dir = \"./data\"\n",
    "\n",
    "if not os.path.exists(data_dir):\n",
    "    os.mkdir(data_dir)\n",
    "\n",
    "if not os.path.exists(os.path.join(data_dir, \"energy.csv\")):\n",
    "    download_file(\"https://mlftsfwp.blob.core.windows.net/mlftsfwp/GEFCom2014.zip\")\n",
    "    shutil.move(\"GEFCom2014.zip\", os.path.join(data_dir, \"GEFCom2014.zip\"))\n",
    "    extract_data(data_dir)"
   ]
  },
  {
   "cell_type": "code",
   "execution_count": 11,
   "id": "60a82d26",
   "metadata": {},
   "outputs": [
    {
     "data": {
      "text/html": [
       "<div>\n",
       "<style scoped>\n",
       "    .dataframe tbody tr th:only-of-type {\n",
       "        vertical-align: middle;\n",
       "    }\n",
       "\n",
       "    .dataframe tbody tr th {\n",
       "        vertical-align: top;\n",
       "    }\n",
       "\n",
       "    .dataframe thead th {\n",
       "        text-align: right;\n",
       "    }\n",
       "</style>\n",
       "<table border=\"1\" class=\"dataframe\">\n",
       "  <thead>\n",
       "    <tr style=\"text-align: right;\">\n",
       "      <th></th>\n",
       "      <th>load</th>\n",
       "      <th>temp</th>\n",
       "    </tr>\n",
       "  </thead>\n",
       "  <tbody>\n",
       "    <tr>\n",
       "      <th>2012-01-01 00:00:00</th>\n",
       "      <td>2,698.00</td>\n",
       "      <td>32.00</td>\n",
       "    </tr>\n",
       "    <tr>\n",
       "      <th>2012-01-01 01:00:00</th>\n",
       "      <td>2,558.00</td>\n",
       "      <td>32.67</td>\n",
       "    </tr>\n",
       "    <tr>\n",
       "      <th>2012-01-01 02:00:00</th>\n",
       "      <td>2,444.00</td>\n",
       "      <td>30.00</td>\n",
       "    </tr>\n",
       "    <tr>\n",
       "      <th>2012-01-01 03:00:00</th>\n",
       "      <td>2,402.00</td>\n",
       "      <td>31.00</td>\n",
       "    </tr>\n",
       "    <tr>\n",
       "      <th>2012-01-01 04:00:00</th>\n",
       "      <td>2,403.00</td>\n",
       "      <td>32.00</td>\n",
       "    </tr>\n",
       "  </tbody>\n",
       "</table>\n",
       "</div>"
      ],
      "text/plain": [
       "                        load  temp\n",
       "2012-01-01 00:00:00 2,698.00 32.00\n",
       "2012-01-01 01:00:00 2,558.00 32.67\n",
       "2012-01-01 02:00:00 2,444.00 30.00\n",
       "2012-01-01 03:00:00 2,402.00 31.00\n",
       "2012-01-01 04:00:00 2,403.00 32.00"
      ]
     },
     "execution_count": 11,
     "metadata": {},
     "output_type": "execute_result"
    }
   ],
   "source": [
    "ts_data = load_data(data_dir)\n",
    "ts_data.head()"
   ]
  },
  {
   "cell_type": "code",
   "execution_count": 9,
   "id": "540dfdb3",
   "metadata": {
    "scrolled": true
   },
   "outputs": [
    {
     "data": {
      "text/plain": [
       "DatetimeIndex(['2012-01-01 00:00:00', '2012-01-01 01:00:00',\n",
       "               '2012-01-01 02:00:00', '2012-01-01 03:00:00',\n",
       "               '2012-01-01 04:00:00', '2012-01-01 05:00:00',\n",
       "               '2012-01-01 06:00:00', '2012-01-01 07:00:00',\n",
       "               '2012-01-01 08:00:00', '2012-01-01 09:00:00',\n",
       "               ...\n",
       "               '2014-12-31 14:00:00', '2014-12-31 15:00:00',\n",
       "               '2014-12-31 16:00:00', '2014-12-31 17:00:00',\n",
       "               '2014-12-31 18:00:00', '2014-12-31 19:00:00',\n",
       "               '2014-12-31 20:00:00', '2014-12-31 21:00:00',\n",
       "               '2014-12-31 22:00:00', '2014-12-31 23:00:00'],\n",
       "              dtype='datetime64[ns]', length=26304, freq='H')"
      ]
     },
     "execution_count": 9,
     "metadata": {},
     "output_type": "execute_result"
    }
   ],
   "source": [
    "ts_data_load.index"
   ]
  },
  {
   "cell_type": "code",
   "execution_count": 12,
   "id": "c472dcca",
   "metadata": {},
   "outputs": [
    {
     "data": {
      "text/plain": [
       "load    0\n",
       "temp    0\n",
       "dtype: int64"
      ]
     },
     "execution_count": 12,
     "metadata": {},
     "output_type": "execute_result"
    }
   ],
   "source": [
    "ts_data.isna().sum()"
   ]
  },
  {
   "cell_type": "code",
   "execution_count": 13,
   "id": "48197be6",
   "metadata": {},
   "outputs": [
    {
     "data": {
      "text/plain": [
       "load    float64\n",
       "temp    float64\n",
       "dtype: object"
      ]
     },
     "execution_count": 13,
     "metadata": {},
     "output_type": "execute_result"
    }
   ],
   "source": [
    "ts_data.dtypes"
   ]
  },
  {
   "cell_type": "code",
   "execution_count": 14,
   "id": "4cccbbeb",
   "metadata": {},
   "outputs": [
    {
     "data": {
      "text/html": [
       "<div>\n",
       "<style scoped>\n",
       "    .dataframe tbody tr th:only-of-type {\n",
       "        vertical-align: middle;\n",
       "    }\n",
       "\n",
       "    .dataframe tbody tr th {\n",
       "        vertical-align: top;\n",
       "    }\n",
       "\n",
       "    .dataframe thead th {\n",
       "        text-align: right;\n",
       "    }\n",
       "</style>\n",
       "<table border=\"1\" class=\"dataframe\">\n",
       "  <thead>\n",
       "    <tr style=\"text-align: right;\">\n",
       "      <th></th>\n",
       "      <th>load</th>\n",
       "      <th>temp</th>\n",
       "    </tr>\n",
       "  </thead>\n",
       "  <tbody>\n",
       "    <tr>\n",
       "      <th>count</th>\n",
       "      <td>26,304.00</td>\n",
       "      <td>26,304.00</td>\n",
       "    </tr>\n",
       "    <tr>\n",
       "      <th>mean</th>\n",
       "      <td>3,303.77</td>\n",
       "      <td>47.77</td>\n",
       "    </tr>\n",
       "    <tr>\n",
       "      <th>std</th>\n",
       "      <td>564.58</td>\n",
       "      <td>19.34</td>\n",
       "    </tr>\n",
       "    <tr>\n",
       "      <th>min</th>\n",
       "      <td>1,979.00</td>\n",
       "      <td>-13.67</td>\n",
       "    </tr>\n",
       "    <tr>\n",
       "      <th>25%</th>\n",
       "      <td>2,867.00</td>\n",
       "      <td>32.67</td>\n",
       "    </tr>\n",
       "    <tr>\n",
       "      <th>50%</th>\n",
       "      <td>3,364.00</td>\n",
       "      <td>48.33</td>\n",
       "    </tr>\n",
       "    <tr>\n",
       "      <th>75%</th>\n",
       "      <td>3,690.00</td>\n",
       "      <td>63.67</td>\n",
       "    </tr>\n",
       "    <tr>\n",
       "      <th>max</th>\n",
       "      <td>5,224.00</td>\n",
       "      <td>95.00</td>\n",
       "    </tr>\n",
       "  </tbody>\n",
       "</table>\n",
       "</div>"
      ],
      "text/plain": [
       "           load      temp\n",
       "count 26,304.00 26,304.00\n",
       "mean   3,303.77     47.77\n",
       "std      564.58     19.34\n",
       "min    1,979.00    -13.67\n",
       "25%    2,867.00     32.67\n",
       "50%    3,364.00     48.33\n",
       "75%    3,690.00     63.67\n",
       "max    5,224.00     95.00"
      ]
     },
     "execution_count": 14,
     "metadata": {},
     "output_type": "execute_result"
    }
   ],
   "source": [
    "ts_data.describe()"
   ]
  },
  {
   "cell_type": "code",
   "execution_count": 15,
   "id": "7729ce87",
   "metadata": {},
   "outputs": [
    {
     "data": {
      "image/png": "[encoded data removed]",
      "text/plain": [
       "<Figure size 432x288 with 4 Axes>"
      ]
     },
     "metadata": {
      "needs_background": "light"
     },
     "output_type": "display_data"
    }
   ],
   "source": [
    "ts_data_load = ts_data[\"load\"]\n",
    "decomposition = sm.tsa.seasonal_decompose(\n",
    "    ts_data_load[\"2012-07-01\":\"2012-12-31\"], model=\"additive\"\n",
    ")\n",
    "\n",
    "fig = decomposition.plot()\n",
    "matplotlib.rcParams[\"figure.figsize\"] = [10.0, 6.0]"
   ]
  },
  {
   "cell_type": "code",
   "execution_count": 16,
   "id": "fdafef18",
   "metadata": {},
   "outputs": [
    {
     "data": {
      "text/plain": [
       "[<matplotlib.lines.Line2D at 0x214416a62b0>]"
      ]
     },
     "execution_count": 16,
     "metadata": {},
     "output_type": "execute_result"
    },
    {
     "data": {
      "image/png": "[encoded data removed]",
      "text/plain": [
       "<Figure size 720x432 with 1 Axes>"
      ]
     },
     "metadata": {
      "needs_background": "light"
     },
     "output_type": "display_data"
    }
   ],
   "source": [
    "decomposition = sm.tsa.seasonal_decompose(ts_data_load, model=\"additive\")\n",
    "\n",
    "fig, ax = plt.subplots()\n",
    "ax.grid(True)\n",
    "\n",
    "year = mdates.YearLocator(month=1)\n",
    "month = mdates.MonthLocator(interval=1)\n",
    "\n",
    "year_format = mdates.DateFormatter(\"%Y\")\n",
    "month_format = mdates.DateFormatter(\"%m\")\n",
    "\n",
    "ax.xaxis.set_minor_locator(month)\n",
    "ax.xaxis.grid(True, which=\"minor\")\n",
    "ax.xaxis.set_major_locator(year)\n",
    "ax.xaxis.set_major_formatter(year_format)\n",
    "\n",
    "plt.plot(ts_data_load.index, ts_data_load, c=\"blue\")\n",
    "plt.plot(decomposition.trend.index, decomposition.trend, c=\"yellow\")"
   ]
  },
  {
   "cell_type": "markdown",
   "id": "ca79b5bf",
   "metadata": {},
   "source": [
    "## Data Cleaning"
   ]
  },
  {
   "cell_type": "code",
   "execution_count": 17,
   "id": "b6f5b433",
   "metadata": {},
   "outputs": [
    {
     "data": {
      "text/plain": [
       "2012-01-01 00:00:00   2,698.00\n",
       "2012-01-01 01:00:00   2,558.00\n",
       "2012-01-01 02:00:00   2,444.00\n",
       "2012-01-01 03:00:00   2,402.00\n",
       "2012-01-01 04:00:00   2,403.00\n",
       "                        ...   \n",
       "2014-12-31 19:00:00   4,012.00\n",
       "2014-12-31 20:00:00   3,856.00\n",
       "2014-12-31 21:00:00   3,671.00\n",
       "2014-12-31 22:00:00   3,499.00\n",
       "2014-12-31 23:00:00   3,345.00\n",
       "Freq: H, Name: load, Length: 26304, dtype: float64"
      ]
     },
     "execution_count": 17,
     "metadata": {},
     "output_type": "execute_result"
    }
   ],
   "source": [
    "ts_data_load.interpolate(limit=8, method=\"linear\", limit_direction=\"both\")"
   ]
  },
  {
   "cell_type": "code",
   "execution_count": 18,
   "id": "0de3e210",
   "metadata": {},
   "outputs": [
    {
     "name": "stderr",
     "output_type": "stream",
     "text": [
      "C:\\Users\\811864\\AppData\\Local\\Temp/ipykernel_11796/2203099859.py:1: DeprecationWarning: np.asscalar(a) is deprecated since NumPy v1.16, use a.item() instead\n",
      "  temp_mode = np.asscalar(stats.mode(ts_data[\"temp\"]).mode)\n"
     ]
    },
    {
     "data": {
      "text/plain": [
       "load    0\n",
       "temp    0\n",
       "dtype: int64"
      ]
     },
     "execution_count": 18,
     "metadata": {},
     "output_type": "execute_result"
    }
   ],
   "source": [
    "temp_mode = np.asscalar(stats.mode(ts_data[\"temp\"]).mode)\n",
    "ts_data[\"temp\"] = ts_data[\"temp\"].fillna(temp_mode)\n",
    "ts_data.isnull().sum()"
   ]
  },
  {
   "cell_type": "markdown",
   "id": "b747ab0e",
   "metadata": {},
   "source": [
    "## Data Normalization and Standartization"
   ]
  },
  {
   "cell_type": "code",
   "execution_count": 19,
   "id": "9adbec39",
   "metadata": {},
   "outputs": [
    {
     "name": "stdout",
     "output_type": "stream",
     "text": [
      "Min: 1979.000000, Max: 5224.000000\n"
     ]
    }
   ],
   "source": [
    "values = ts_data_load.values\n",
    "values = values.reshape((len(values), 1))\n",
    "\n",
    "scaler = MinMaxScaler(feature_range=(0, 1))\n",
    "scaler = scaler.fit(values)\n",
    "print(\"Min: %f, Max: %f\" % (scaler.data_min_, scaler.data_max_))"
   ]
  },
  {
   "cell_type": "code",
   "execution_count": 20,
   "id": "44667711",
   "metadata": {},
   "outputs": [
    {
     "name": "stdout",
     "output_type": "stream",
     "text": [
      "[0.22]\n",
      "[0.18]\n",
      "[0.14]\n",
      "[0.13]\n",
      "[0.13]\n",
      "[2698.]\n",
      "[2558.]\n",
      "[2444.]\n",
      "[2402.]\n",
      "[2403.]\n"
     ]
    }
   ],
   "source": [
    "normalized = scaler.transform(values)\n",
    "for i in range(5):\n",
    "    print(normalized[i])\n",
    "\n",
    "inversed = scaler.inverse_transform(normalized)\n",
    "for i in range(5):\n",
    "    print(inversed[i])"
   ]
  },
  {
   "cell_type": "code",
   "execution_count": 21,
   "id": "9a6008e0",
   "metadata": {},
   "outputs": [
    {
     "name": "stdout",
     "output_type": "stream",
     "text": [
      "Mean: 3303.769199, StandardDeviation: 564.568521\n"
     ]
    }
   ],
   "source": [
    "values = ts_data_load.values\n",
    "values = values.reshape((len(values), 1))\n",
    "\n",
    "scaler = StandardScaler()\n",
    "scaler = scaler.fit(values)\n",
    "print(\"Mean: %f, StandardDeviation: %f\" % (scaler.mean_, sqrt(scaler.var_)))"
   ]
  },
  {
   "cell_type": "code",
   "execution_count": 22,
   "id": "7154aaa6",
   "metadata": {},
   "outputs": [
    {
     "name": "stdout",
     "output_type": "stream",
     "text": [
      "[-1.07]\n",
      "[-1.32]\n",
      "[-1.52]\n",
      "[-1.6]\n",
      "[-1.6]\n",
      "[2698.]\n",
      "[2558.]\n",
      "[2444.]\n",
      "[2402.]\n",
      "[2403.]\n"
     ]
    }
   ],
   "source": [
    "normalized = scaler.transform(values)\n",
    "for i in range(5):\n",
    "    print(normalized[i])\n",
    "\n",
    "inversed = scaler.inverse_transform(normalized)\n",
    "for i in range(5):\n",
    "    print(inversed[i])"
   ]
  },
  {
   "cell_type": "markdown",
   "id": "bd1a9401",
   "metadata": {},
   "source": [
    "## Feature engineering"
   ]
  },
  {
   "cell_type": "markdown",
   "id": "e2ba8fa9",
   "metadata": {},
   "source": [
    "### Date time Features"
   ]
  },
  {
   "cell_type": "code",
   "execution_count": 23,
   "id": "856c5fc1",
   "metadata": {
    "scrolled": true
   },
   "outputs": [
    {
     "name": "stdout",
     "output_type": "stream",
     "text": [
      "                        load  temp  hour  month  dayofweek\n",
      "2012-01-01 00:00:00 2,698.00 32.00     0      1          1\n",
      "2012-01-01 01:00:00 2,558.00 32.67     1      1          1\n",
      "2012-01-01 02:00:00 2,444.00 30.00     2      1          1\n",
      "2012-01-01 03:00:00 2,402.00 31.00     3      1          1\n",
      "2012-01-01 04:00:00 2,403.00 32.00     4      1          1\n"
     ]
    }
   ],
   "source": [
    "ts_data[\"hour\"] = [ts_data.index[i].hour for i in range(len(ts_data))]\n",
    "ts_data[\"month\"] = [ts_data.index[i].month for i in range(len(ts_data))]\n",
    "ts_data[\"dayofweek\"] = [ts_data.index[i].day for i in range(len(ts_data))]\n",
    "print(ts_data.head(5))"
   ]
  },
  {
   "cell_type": "markdown",
   "id": "366f9629",
   "metadata": {},
   "source": [
    "### Lagged Features"
   ]
  },
  {
   "cell_type": "markdown",
   "id": "ce78562a",
   "metadata": {},
   "source": [
    "#### Shift function with DateOffset class and offset alias"
   ]
  },
  {
   "cell_type": "code",
   "execution_count": 24,
   "id": "0a324ccc",
   "metadata": {},
   "outputs": [
    {
     "data": {
      "text/html": [
       "<div>\n",
       "<style scoped>\n",
       "    .dataframe tbody tr th:only-of-type {\n",
       "        vertical-align: middle;\n",
       "    }\n",
       "\n",
       "    .dataframe tbody tr th {\n",
       "        vertical-align: top;\n",
       "    }\n",
       "\n",
       "    .dataframe thead th {\n",
       "        text-align: right;\n",
       "    }\n",
       "</style>\n",
       "<table border=\"1\" class=\"dataframe\">\n",
       "  <thead>\n",
       "    <tr style=\"text-align: right;\">\n",
       "      <th></th>\n",
       "      <th>load</th>\n",
       "      <th>temp</th>\n",
       "    </tr>\n",
       "  </thead>\n",
       "  <tbody>\n",
       "    <tr>\n",
       "      <th>2012-01-01 00:00:00</th>\n",
       "      <td>2,698.00</td>\n",
       "      <td>32.00</td>\n",
       "    </tr>\n",
       "    <tr>\n",
       "      <th>2012-01-01 01:00:00</th>\n",
       "      <td>2,558.00</td>\n",
       "      <td>32.67</td>\n",
       "    </tr>\n",
       "    <tr>\n",
       "      <th>2012-01-01 02:00:00</th>\n",
       "      <td>2,444.00</td>\n",
       "      <td>30.00</td>\n",
       "    </tr>\n",
       "    <tr>\n",
       "      <th>2012-01-01 03:00:00</th>\n",
       "      <td>2,402.00</td>\n",
       "      <td>31.00</td>\n",
       "    </tr>\n",
       "    <tr>\n",
       "      <th>2012-01-01 04:00:00</th>\n",
       "      <td>2,403.00</td>\n",
       "      <td>32.00</td>\n",
       "    </tr>\n",
       "    <tr>\n",
       "      <th>2012-01-01 05:00:00</th>\n",
       "      <td>2,453.00</td>\n",
       "      <td>31.33</td>\n",
       "    </tr>\n",
       "    <tr>\n",
       "      <th>2012-01-01 06:00:00</th>\n",
       "      <td>2,560.00</td>\n",
       "      <td>30.00</td>\n",
       "    </tr>\n",
       "    <tr>\n",
       "      <th>2012-01-01 07:00:00</th>\n",
       "      <td>2,719.00</td>\n",
       "      <td>29.00</td>\n",
       "    </tr>\n",
       "    <tr>\n",
       "      <th>2012-01-01 08:00:00</th>\n",
       "      <td>2,916.00</td>\n",
       "      <td>29.00</td>\n",
       "    </tr>\n",
       "    <tr>\n",
       "      <th>2012-01-01 09:00:00</th>\n",
       "      <td>3,105.00</td>\n",
       "      <td>33.33</td>\n",
       "    </tr>\n",
       "  </tbody>\n",
       "</table>\n",
       "</div>"
      ],
      "text/plain": [
       "                        load  temp\n",
       "2012-01-01 00:00:00 2,698.00 32.00\n",
       "2012-01-01 01:00:00 2,558.00 32.67\n",
       "2012-01-01 02:00:00 2,444.00 30.00\n",
       "2012-01-01 03:00:00 2,402.00 31.00\n",
       "2012-01-01 04:00:00 2,403.00 32.00\n",
       "2012-01-01 05:00:00 2,453.00 31.33\n",
       "2012-01-01 06:00:00 2,560.00 30.00\n",
       "2012-01-01 07:00:00 2,719.00 29.00\n",
       "2012-01-01 08:00:00 2,916.00 29.00\n",
       "2012-01-01 09:00:00 3,105.00 33.33"
      ]
     },
     "execution_count": 24,
     "metadata": {},
     "output_type": "execute_result"
    }
   ],
   "source": [
    "ts_data = load_data(data_dir)\n",
    "ts_data.head(10)"
   ]
  },
  {
   "cell_type": "code",
   "execution_count": 25,
   "id": "e7151cee",
   "metadata": {},
   "outputs": [
    {
     "data": {
      "text/html": [
       "<div>\n",
       "<style scoped>\n",
       "    .dataframe tbody tr th:only-of-type {\n",
       "        vertical-align: middle;\n",
       "    }\n",
       "\n",
       "    .dataframe tbody tr th {\n",
       "        vertical-align: top;\n",
       "    }\n",
       "\n",
       "    .dataframe thead th {\n",
       "        text-align: right;\n",
       "    }\n",
       "</style>\n",
       "<table border=\"1\" class=\"dataframe\">\n",
       "  <thead>\n",
       "    <tr style=\"text-align: right;\">\n",
       "      <th></th>\n",
       "      <th>load</th>\n",
       "      <th>temp</th>\n",
       "    </tr>\n",
       "  </thead>\n",
       "  <tbody>\n",
       "    <tr>\n",
       "      <th>2012-01-05 00:00:00</th>\n",
       "      <td>2,698.00</td>\n",
       "      <td>32.00</td>\n",
       "    </tr>\n",
       "    <tr>\n",
       "      <th>2012-01-05 01:00:00</th>\n",
       "      <td>2,558.00</td>\n",
       "      <td>32.67</td>\n",
       "    </tr>\n",
       "    <tr>\n",
       "      <th>2012-01-05 02:00:00</th>\n",
       "      <td>2,444.00</td>\n",
       "      <td>30.00</td>\n",
       "    </tr>\n",
       "    <tr>\n",
       "      <th>2012-01-05 03:00:00</th>\n",
       "      <td>2,402.00</td>\n",
       "      <td>31.00</td>\n",
       "    </tr>\n",
       "    <tr>\n",
       "      <th>2012-01-05 04:00:00</th>\n",
       "      <td>2,403.00</td>\n",
       "      <td>32.00</td>\n",
       "    </tr>\n",
       "  </tbody>\n",
       "</table>\n",
       "</div>"
      ],
      "text/plain": [
       "                        load  temp\n",
       "2012-01-05 00:00:00 2,698.00 32.00\n",
       "2012-01-05 01:00:00 2,558.00 32.67\n",
       "2012-01-05 02:00:00 2,444.00 30.00\n",
       "2012-01-05 03:00:00 2,402.00 31.00\n",
       "2012-01-05 04:00:00 2,403.00 32.00"
      ]
     },
     "execution_count": 25,
     "metadata": {},
     "output_type": "execute_result"
    }
   ],
   "source": [
    "ts_data_shift = ts_data.shift(4, freq=pd.offsets.BDay())\n",
    "ts_data_shift.head(5)"
   ]
  },
  {
   "cell_type": "code",
   "execution_count": 26,
   "id": "e1842390",
   "metadata": {},
   "outputs": [
    {
     "name": "stderr",
     "output_type": "stream",
     "text": [
      "C:\\Users\\811864\\AppData\\Local\\Temp/ipykernel_11796/3329810385.py:1: FutureWarning: tshift is deprecated and will be removed in a future version. Please use shift instead.\n",
      "  ts_data_shift_2 = ts_data.tshift(6, freq=\"D\")\n"
     ]
    },
    {
     "data": {
      "text/html": [
       "<div>\n",
       "<style scoped>\n",
       "    .dataframe tbody tr th:only-of-type {\n",
       "        vertical-align: middle;\n",
       "    }\n",
       "\n",
       "    .dataframe tbody tr th {\n",
       "        vertical-align: top;\n",
       "    }\n",
       "\n",
       "    .dataframe thead th {\n",
       "        text-align: right;\n",
       "    }\n",
       "</style>\n",
       "<table border=\"1\" class=\"dataframe\">\n",
       "  <thead>\n",
       "    <tr style=\"text-align: right;\">\n",
       "      <th></th>\n",
       "      <th>load</th>\n",
       "      <th>temp</th>\n",
       "    </tr>\n",
       "  </thead>\n",
       "  <tbody>\n",
       "    <tr>\n",
       "      <th>2012-01-07 00:00:00</th>\n",
       "      <td>2,698.00</td>\n",
       "      <td>32.00</td>\n",
       "    </tr>\n",
       "    <tr>\n",
       "      <th>2012-01-07 01:00:00</th>\n",
       "      <td>2,558.00</td>\n",
       "      <td>32.67</td>\n",
       "    </tr>\n",
       "    <tr>\n",
       "      <th>2012-01-07 02:00:00</th>\n",
       "      <td>2,444.00</td>\n",
       "      <td>30.00</td>\n",
       "    </tr>\n",
       "    <tr>\n",
       "      <th>2012-01-07 03:00:00</th>\n",
       "      <td>2,402.00</td>\n",
       "      <td>31.00</td>\n",
       "    </tr>\n",
       "    <tr>\n",
       "      <th>2012-01-07 04:00:00</th>\n",
       "      <td>2,403.00</td>\n",
       "      <td>32.00</td>\n",
       "    </tr>\n",
       "  </tbody>\n",
       "</table>\n",
       "</div>"
      ],
      "text/plain": [
       "                        load  temp\n",
       "2012-01-07 00:00:00 2,698.00 32.00\n",
       "2012-01-07 01:00:00 2,558.00 32.67\n",
       "2012-01-07 02:00:00 2,444.00 30.00\n",
       "2012-01-07 03:00:00 2,402.00 31.00\n",
       "2012-01-07 04:00:00 2,403.00 32.00"
      ]
     },
     "execution_count": 26,
     "metadata": {},
     "output_type": "execute_result"
    }
   ],
   "source": [
    "ts_data_shift_2 = ts_data.tshift(6, freq=\"D\")\n",
    "ts_data_shift_2.head(5)"
   ]
  },
  {
   "cell_type": "markdown",
   "id": "e04de318",
   "metadata": {},
   "source": [
    "#### Shift() function"
   ]
  },
  {
   "cell_type": "code",
   "execution_count": 27,
   "id": "9135b5da",
   "metadata": {},
   "outputs": [],
   "source": [
    "def generated_lagged_features(ts_data, var, max_lag):\n",
    "    for t in range(1, max_lag + 1):\n",
    "        ts_data[var + \"_lag\" + str(t)] = ts_data[var].shift(t, freq=\"1H\")"
   ]
  },
  {
   "cell_type": "code",
   "execution_count": 28,
   "id": "22b6339d",
   "metadata": {
    "scrolled": true
   },
   "outputs": [
    {
     "name": "stdout",
     "output_type": "stream",
     "text": [
      "                        load  temp  load_lag1  load_lag2  load_lag3  \\\n",
      "2012-01-01 00:00:00 2,698.00 32.00        NaN        NaN        NaN   \n",
      "2012-01-01 01:00:00 2,558.00 32.67   2,698.00        NaN        NaN   \n",
      "2012-01-01 02:00:00 2,444.00 30.00   2,558.00   2,698.00        NaN   \n",
      "2012-01-01 03:00:00 2,402.00 31.00   2,444.00   2,558.00   2,698.00   \n",
      "2012-01-01 04:00:00 2,403.00 32.00   2,402.00   2,444.00   2,558.00   \n",
      "\n",
      "                     load_lag4  load_lag5  load_lag6  load_lag7  load_lag8  \\\n",
      "2012-01-01 00:00:00        NaN        NaN        NaN        NaN        NaN   \n",
      "2012-01-01 01:00:00        NaN        NaN        NaN        NaN        NaN   \n",
      "2012-01-01 02:00:00        NaN        NaN        NaN        NaN        NaN   \n",
      "2012-01-01 03:00:00        NaN        NaN        NaN        NaN        NaN   \n",
      "2012-01-01 04:00:00   2,698.00        NaN        NaN        NaN        NaN   \n",
      "\n",
      "                     temp_lag1  temp_lag2  temp_lag3  temp_lag4  temp_lag5  \\\n",
      "2012-01-01 00:00:00        NaN        NaN        NaN        NaN        NaN   \n",
      "2012-01-01 01:00:00      32.00        NaN        NaN        NaN        NaN   \n",
      "2012-01-01 02:00:00      32.67      32.00        NaN        NaN        NaN   \n",
      "2012-01-01 03:00:00      30.00      32.67      32.00        NaN        NaN   \n",
      "2012-01-01 04:00:00      31.00      30.00      32.67      32.00        NaN   \n",
      "\n",
      "                     temp_lag6  temp_lag7  temp_lag8  \n",
      "2012-01-01 00:00:00        NaN        NaN        NaN  \n",
      "2012-01-01 01:00:00        NaN        NaN        NaN  \n",
      "2012-01-01 02:00:00        NaN        NaN        NaN  \n",
      "2012-01-01 03:00:00        NaN        NaN        NaN  \n",
      "2012-01-01 04:00:00        NaN        NaN        NaN  \n"
     ]
    }
   ],
   "source": [
    "generated_lagged_features(ts_data, \"load\", 8)\n",
    "generated_lagged_features(ts_data, \"temp\", 8)\n",
    "print(ts_data.head(5))"
   ]
  },
  {
   "cell_type": "markdown",
   "id": "6e856f73",
   "metadata": {},
   "source": [
    "### Rolling Window Statistics"
   ]
  },
  {
   "cell_type": "code",
   "execution_count": 30,
   "id": "01923980",
   "metadata": {},
   "outputs": [
    {
     "name": "stdout",
     "output_type": "stream",
     "text": [
      "                     load_rol_mean     load\n",
      "2012-01-01 00:00:00            NaN 2,698.00\n",
      "2012-01-01 01:00:00            NaN 2,558.00\n",
      "2012-01-01 02:00:00            NaN 2,444.00\n",
      "2012-01-01 03:00:00            NaN 2,402.00\n",
      "2012-01-01 04:00:00            NaN 2,403.00\n",
      "2012-01-01 05:00:00            NaN 2,453.00\n",
      "2012-01-01 06:00:00       2,493.00 2,560.00\n",
      "2012-01-01 07:00:00       2,470.00 2,719.00\n",
      "2012-01-01 08:00:00       2,496.83 2,916.00\n",
      "2012-01-01 09:00:00       2,575.50 3,105.00\n"
     ]
    }
   ],
   "source": [
    "load_val = ts_data[[\"load\"]]\n",
    "shifted = load_val.shift(1)\n",
    "\n",
    "window = shifted.rolling(window=6)\n",
    "means = window.mean()\n",
    "new_dataframe = concat([means, load_val], axis=1)\n",
    "new_dataframe.columns = [\"load_rol_mean\", \"load\"]\n",
    "\n",
    "print(new_dataframe.head(10))"
   ]
  },
  {
   "cell_type": "code",
   "execution_count": 31,
   "id": "bae9ea73",
   "metadata": {
    "scrolled": true
   },
   "outputs": [
    {
     "name": "stdout",
     "output_type": "stream",
     "text": [
      "                         min     mean      max     load\n",
      "2012-01-01 00:00:00      NaN      NaN      NaN 2,698.00\n",
      "2012-01-01 01:00:00      NaN      NaN      NaN 2,558.00\n",
      "2012-01-01 02:00:00      NaN      NaN      NaN 2,444.00\n",
      "2012-01-01 03:00:00      NaN      NaN      NaN 2,402.00\n",
      "2012-01-01 04:00:00      NaN      NaN      NaN 2,403.00\n",
      "2012-01-01 05:00:00      NaN      NaN      NaN 2,453.00\n",
      "2012-01-01 06:00:00 2,402.00 2,525.50 2,698.00 2,560.00\n",
      "2012-01-01 07:00:00 2,402.00 2,451.75 2,558.00 2,719.00\n",
      "2012-01-01 08:00:00 2,402.00 2,425.50 2,453.00 2,916.00\n",
      "2012-01-01 09:00:00 2,402.00 2,454.50 2,560.00 3,105.00\n"
     ]
    }
   ],
   "source": [
    "load_val = ts_data[[\"load\"]]\n",
    "width = 4\n",
    "shifted = load_val.shift(width - 1)\n",
    "window = shifted.rolling(window=width)\n",
    "\n",
    "new_dataframe = pd.concat([window.min(), window.mean(), window.max(), load_val], axis=1)\n",
    "new_dataframe.columns = [\"min\", \"mean\", \"max\", \"load\"]\n",
    "\n",
    "print(new_dataframe.head(10))"
   ]
  },
  {
   "cell_type": "markdown",
   "id": "00b276c1",
   "metadata": {},
   "source": [
    "### Expanding Window Statistics"
   ]
  },
  {
   "cell_type": "code",
   "execution_count": 32,
   "id": "8ceeb2ba",
   "metadata": {
    "scrolled": true
   },
   "outputs": [
    {
     "name": "stdout",
     "output_type": "stream",
     "text": [
      "                         min     mean      max   load+1\n",
      "2012-01-01 00:00:00 2,698.00 2,698.00 2,698.00 2,558.00\n",
      "2012-01-01 01:00:00 2,558.00 2,628.00 2,698.00 2,444.00\n",
      "2012-01-01 02:00:00 2,444.00 2,566.67 2,698.00 2,402.00\n",
      "2012-01-01 03:00:00 2,402.00 2,525.50 2,698.00 2,403.00\n",
      "2012-01-01 04:00:00 2,402.00 2,501.00 2,698.00 2,453.00\n",
      "2012-01-01 05:00:00 2,402.00 2,493.00 2,698.00 2,560.00\n",
      "2012-01-01 06:00:00 2,402.00 2,502.57 2,698.00 2,719.00\n",
      "2012-01-01 07:00:00 2,402.00 2,529.62 2,719.00 2,916.00\n",
      "2012-01-01 08:00:00 2,402.00 2,572.56 2,916.00 3,105.00\n",
      "2012-01-01 09:00:00 2,402.00 2,625.80 3,105.00 3,174.00\n"
     ]
    }
   ],
   "source": [
    "load_val = ts_data[[\"load\"]]\n",
    "window = load_val.expanding()\n",
    "new_dataframe = concat(\n",
    "    [window.min(), window.mean(), window.max(), load_val.shift(-1)], axis=1\n",
    ")\n",
    "new_dataframe.columns = [\"min\", \"mean\", \"max\", \"load+1\"]\n",
    "print(new_dataframe.head(10))"
   ]
  },
  {
   "cell_type": "markdown",
   "id": "bb2a9372",
   "metadata": {},
   "source": [
    "## Applying Neural Networks to Time Series Forecasting"
   ]
  },
  {
   "cell_type": "code",
   "execution_count": 35,
   "id": "ab843c49",
   "metadata": {},
   "outputs": [],
   "source": [
    "pd.options.display.float_format = \"{:,.2f}\".format\n",
    "np.set_printoptions(precision=2)\n",
    "warnings.filterwarnings(\"ignore\")"
   ]
  },
  {
   "cell_type": "code",
   "execution_count": 37,
   "id": "ff92ea5c",
   "metadata": {},
   "outputs": [
    {
     "data": {
      "text/html": [
       "<div>\n",
       "<style scoped>\n",
       "    .dataframe tbody tr th:only-of-type {\n",
       "        vertical-align: middle;\n",
       "    }\n",
       "\n",
       "    .dataframe tbody tr th {\n",
       "        vertical-align: top;\n",
       "    }\n",
       "\n",
       "    .dataframe thead th {\n",
       "        text-align: right;\n",
       "    }\n",
       "</style>\n",
       "<table border=\"1\" class=\"dataframe\">\n",
       "  <thead>\n",
       "    <tr style=\"text-align: right;\">\n",
       "      <th></th>\n",
       "      <th>load</th>\n",
       "    </tr>\n",
       "  </thead>\n",
       "  <tbody>\n",
       "    <tr>\n",
       "      <th>2012-01-01 00:00:00</th>\n",
       "      <td>2,698.00</td>\n",
       "    </tr>\n",
       "    <tr>\n",
       "      <th>2012-01-01 01:00:00</th>\n",
       "      <td>2,558.00</td>\n",
       "    </tr>\n",
       "    <tr>\n",
       "      <th>2012-01-01 02:00:00</th>\n",
       "      <td>2,444.00</td>\n",
       "    </tr>\n",
       "    <tr>\n",
       "      <th>2012-01-01 03:00:00</th>\n",
       "      <td>2,402.00</td>\n",
       "    </tr>\n",
       "    <tr>\n",
       "      <th>2012-01-01 04:00:00</th>\n",
       "      <td>2,403.00</td>\n",
       "    </tr>\n",
       "  </tbody>\n",
       "</table>\n",
       "</div>"
      ],
      "text/plain": [
       "                        load\n",
       "2012-01-01 00:00:00 2,698.00\n",
       "2012-01-01 01:00:00 2,558.00\n",
       "2012-01-01 02:00:00 2,444.00\n",
       "2012-01-01 03:00:00 2,402.00\n",
       "2012-01-01 04:00:00 2,403.00"
      ]
     },
     "execution_count": 37,
     "metadata": {},
     "output_type": "execute_result"
    }
   ],
   "source": [
    "data_dir = \"data/\"\n",
    "ts_data_load = load_data(data_dir)[[\"load\"]]\n",
    "ts_data_load.head()"
   ]
  },
  {
   "cell_type": "code",
   "execution_count": 38,
   "id": "79bc9f43",
   "metadata": {},
   "outputs": [],
   "source": [
    "valid_st_data_load = \"2014-09-01 00:00:00\"\n",
    "test_st_data_load = \"2014-11-01 00:00:00\""
   ]
  },
  {
   "cell_type": "code",
   "execution_count": 39,
   "id": "030bf694",
   "metadata": {},
   "outputs": [
    {
     "data": {
      "image/png": "[encoded data removed]",
      "text/plain": [
       "<Figure size 1080x576 with 1 Axes>"
      ]
     },
     "metadata": {
      "needs_background": "light"
     },
     "output_type": "display_data"
    }
   ],
   "source": [
    "ts_data_load[ts_data_load.index < valid_st_data_load][[\"load\"]].rename(columns={\"load\": \"train\"}).join(\n",
    "    ts_data_load[(ts_data_load.index >= valid_st_data_load) & (ts_data_load.index < test_st_data_load)][\n",
    "        [\"load\"]\n",
    "    ].rename(columns={\"load\": \"validation\"}),\n",
    "    how=\"outer\",\n",
    ").join(\n",
    "    ts_data_load[test_st_data_load:][[\"load\"]].rename(columns={\"load\": \"test\"}), how=\"outer\"\n",
    ").plot(\n",
    "    y=[\"train\", \"validation\", \"test\"], figsize=(15, 8), fontsize=12\n",
    ")\n",
    "plt.xlabel(\"timestamp\", fontsize=12)\n",
    "plt.ylabel(\"load\", fontsize=12)\n",
    "plt.show()"
   ]
  },
  {
   "cell_type": "code",
   "execution_count": 40,
   "id": "da9addf5",
   "metadata": {},
   "outputs": [
    {
     "data": {
      "text/html": [
       "<div>\n",
       "<style scoped>\n",
       "    .dataframe tbody tr th:only-of-type {\n",
       "        vertical-align: middle;\n",
       "    }\n",
       "\n",
       "    .dataframe tbody tr th {\n",
       "        vertical-align: top;\n",
       "    }\n",
       "\n",
       "    .dataframe thead th {\n",
       "        text-align: right;\n",
       "    }\n",
       "</style>\n",
       "<table border=\"1\" class=\"dataframe\">\n",
       "  <thead>\n",
       "    <tr style=\"text-align: right;\">\n",
       "      <th></th>\n",
       "      <th>load_original</th>\n",
       "      <th>y_t+1</th>\n",
       "      <th>load_t-5</th>\n",
       "      <th>load_t-4</th>\n",
       "      <th>load_t-3</th>\n",
       "      <th>load_t-2</th>\n",
       "      <th>load_t-1</th>\n",
       "      <th>load_t</th>\n",
       "    </tr>\n",
       "  </thead>\n",
       "  <tbody>\n",
       "    <tr>\n",
       "      <th>2012-01-01 05:00:00</th>\n",
       "      <td>0.15</td>\n",
       "      <td>0.18</td>\n",
       "      <td>0.22</td>\n",
       "      <td>0.18</td>\n",
       "      <td>0.14</td>\n",
       "      <td>0.13</td>\n",
       "      <td>0.13</td>\n",
       "      <td>0.15</td>\n",
       "    </tr>\n",
       "    <tr>\n",
       "      <th>2012-01-01 06:00:00</th>\n",
       "      <td>0.18</td>\n",
       "      <td>0.23</td>\n",
       "      <td>0.18</td>\n",
       "      <td>0.14</td>\n",
       "      <td>0.13</td>\n",
       "      <td>0.13</td>\n",
       "      <td>0.15</td>\n",
       "      <td>0.18</td>\n",
       "    </tr>\n",
       "    <tr>\n",
       "      <th>2012-01-01 07:00:00</th>\n",
       "      <td>0.23</td>\n",
       "      <td>0.29</td>\n",
       "      <td>0.14</td>\n",
       "      <td>0.13</td>\n",
       "      <td>0.13</td>\n",
       "      <td>0.15</td>\n",
       "      <td>0.18</td>\n",
       "      <td>0.23</td>\n",
       "    </tr>\n",
       "    <tr>\n",
       "      <th>2012-01-01 08:00:00</th>\n",
       "      <td>0.29</td>\n",
       "      <td>0.35</td>\n",
       "      <td>0.13</td>\n",
       "      <td>0.13</td>\n",
       "      <td>0.15</td>\n",
       "      <td>0.18</td>\n",
       "      <td>0.23</td>\n",
       "      <td>0.29</td>\n",
       "    </tr>\n",
       "    <tr>\n",
       "      <th>2012-01-01 09:00:00</th>\n",
       "      <td>0.35</td>\n",
       "      <td>0.37</td>\n",
       "      <td>0.13</td>\n",
       "      <td>0.15</td>\n",
       "      <td>0.18</td>\n",
       "      <td>0.23</td>\n",
       "      <td>0.29</td>\n",
       "      <td>0.35</td>\n",
       "    </tr>\n",
       "  </tbody>\n",
       "</table>\n",
       "</div>"
      ],
      "text/plain": [
       "                     load_original  y_t+1  load_t-5  load_t-4  load_t-3  \\\n",
       "2012-01-01 05:00:00           0.15   0.18      0.22      0.18      0.14   \n",
       "2012-01-01 06:00:00           0.18   0.23      0.18      0.14      0.13   \n",
       "2012-01-01 07:00:00           0.23   0.29      0.14      0.13      0.13   \n",
       "2012-01-01 08:00:00           0.29   0.35      0.13      0.13      0.15   \n",
       "2012-01-01 09:00:00           0.35   0.37      0.13      0.15      0.18   \n",
       "\n",
       "                     load_t-2  load_t-1  load_t  \n",
       "2012-01-01 05:00:00      0.13      0.13    0.15  \n",
       "2012-01-01 06:00:00      0.13      0.15    0.18  \n",
       "2012-01-01 07:00:00      0.15      0.18    0.23  \n",
       "2012-01-01 08:00:00      0.18      0.23    0.29  \n",
       "2012-01-01 09:00:00      0.23      0.29    0.35  "
      ]
     },
     "execution_count": 40,
     "metadata": {},
     "output_type": "execute_result"
    }
   ],
   "source": [
    "T = 6\n",
    "HORIZON = 1\n",
    "train = ts_data_load.copy()[ts_data_load.index < valid_st_data_load][[\"load\"]]\n",
    "\n",
    "scaler = MinMaxScaler()\n",
    "train[\"load\"] = scaler.fit_transform(train)\n",
    "\n",
    "train_shifted = train.copy()\n",
    "train_shifted[\"y_t+1\"] = train_shifted[\"load\"].shift(-1, freq=\"H\")\n",
    "for t in range(1, T + 1):\n",
    "    train_shifted[str(T - t)] = train_shifted[\"load\"].shift(T - t, freq=\"H\")\n",
    "y_col = \"y_t+1\"\n",
    "X_cols = [\"load_t-5\", \"load_t-4\", \"load_t-3\", \"load_t-2\", \"load_t-1\", \"load_t\"]\n",
    "train_shifted.columns = [\"load_original\"] + [y_col] + X_cols\n",
    "\n",
    "train_shifted = train_shifted.dropna(how=\"any\")\n",
    "train_shifted.head(5)"
   ]
  },
  {
   "cell_type": "code",
   "execution_count": 41,
   "id": "4b95dc4a",
   "metadata": {},
   "outputs": [],
   "source": [
    "y_train = train_shifted[y_col].to_numpy()\n",
    "X_train = train_shifted[X_cols].to_numpy()"
   ]
  },
  {
   "cell_type": "code",
   "execution_count": 42,
   "id": "05b7d547",
   "metadata": {},
   "outputs": [],
   "source": [
    "X_train = X_train.reshape(X_train.shape[0], T, 1)"
   ]
  },
  {
   "cell_type": "code",
   "execution_count": 43,
   "id": "06376133",
   "metadata": {},
   "outputs": [
    {
     "data": {
      "text/plain": [
       "(23370,)"
      ]
     },
     "execution_count": 43,
     "metadata": {},
     "output_type": "execute_result"
    }
   ],
   "source": [
    "y_train.shape"
   ]
  },
  {
   "cell_type": "code",
   "execution_count": 44,
   "id": "3d59f232",
   "metadata": {},
   "outputs": [
    {
     "data": {
      "text/plain": [
       "array([0.18, 0.23, 0.29])"
      ]
     },
     "execution_count": 44,
     "metadata": {},
     "output_type": "execute_result"
    }
   ],
   "source": [
    "y_train[:3]"
   ]
  },
  {
   "cell_type": "code",
   "execution_count": 45,
   "id": "8689b58a",
   "metadata": {},
   "outputs": [
    {
     "data": {
      "text/plain": [
       "(23370, 6, 1)"
      ]
     },
     "execution_count": 45,
     "metadata": {},
     "output_type": "execute_result"
    }
   ],
   "source": [
    "X_train.shape"
   ]
  },
  {
   "cell_type": "code",
   "execution_count": 46,
   "id": "8b6cc22b",
   "metadata": {},
   "outputs": [
    {
     "data": {
      "text/plain": [
       "array([[[0.22],\n",
       "        [0.18],\n",
       "        [0.14],\n",
       "        [0.13],\n",
       "        [0.13],\n",
       "        [0.15]],\n",
       "\n",
       "       [[0.18],\n",
       "        [0.14],\n",
       "        [0.13],\n",
       "        [0.13],\n",
       "        [0.15],\n",
       "        [0.18]],\n",
       "\n",
       "       [[0.14],\n",
       "        [0.13],\n",
       "        [0.13],\n",
       "        [0.15],\n",
       "        [0.18],\n",
       "        [0.23]]])"
      ]
     },
     "execution_count": 46,
     "metadata": {},
     "output_type": "execute_result"
    }
   ],
   "source": [
    "X_train[:3]"
   ]
  },
  {
   "cell_type": "code",
   "execution_count": 47,
   "id": "b4d75710",
   "metadata": {},
   "outputs": [
    {
     "data": {
      "text/html": [
       "<div>\n",
       "<style scoped>\n",
       "    .dataframe tbody tr th:only-of-type {\n",
       "        vertical-align: middle;\n",
       "    }\n",
       "\n",
       "    .dataframe tbody tr th {\n",
       "        vertical-align: top;\n",
       "    }\n",
       "\n",
       "    .dataframe thead th {\n",
       "        text-align: right;\n",
       "    }\n",
       "</style>\n",
       "<table border=\"1\" class=\"dataframe\">\n",
       "  <thead>\n",
       "    <tr style=\"text-align: right;\">\n",
       "      <th></th>\n",
       "      <th>load_original</th>\n",
       "      <th>y_t+1</th>\n",
       "      <th>load_t-5</th>\n",
       "      <th>load_t-4</th>\n",
       "      <th>load_t-3</th>\n",
       "      <th>load_t-2</th>\n",
       "      <th>load_t-1</th>\n",
       "      <th>load_t</th>\n",
       "    </tr>\n",
       "  </thead>\n",
       "  <tbody>\n",
       "    <tr>\n",
       "      <th>2012-01-01 05:00:00</th>\n",
       "      <td>0.15</td>\n",
       "      <td>0.18</td>\n",
       "      <td>0.22</td>\n",
       "      <td>0.18</td>\n",
       "      <td>0.14</td>\n",
       "      <td>0.13</td>\n",
       "      <td>0.13</td>\n",
       "      <td>0.15</td>\n",
       "    </tr>\n",
       "    <tr>\n",
       "      <th>2012-01-01 06:00:00</th>\n",
       "      <td>0.18</td>\n",
       "      <td>0.23</td>\n",
       "      <td>0.18</td>\n",
       "      <td>0.14</td>\n",
       "      <td>0.13</td>\n",
       "      <td>0.13</td>\n",
       "      <td>0.15</td>\n",
       "      <td>0.18</td>\n",
       "    </tr>\n",
       "    <tr>\n",
       "      <th>2012-01-01 07:00:00</th>\n",
       "      <td>0.23</td>\n",
       "      <td>0.29</td>\n",
       "      <td>0.14</td>\n",
       "      <td>0.13</td>\n",
       "      <td>0.13</td>\n",
       "      <td>0.15</td>\n",
       "      <td>0.18</td>\n",
       "      <td>0.23</td>\n",
       "    </tr>\n",
       "  </tbody>\n",
       "</table>\n",
       "</div>"
      ],
      "text/plain": [
       "                     load_original  y_t+1  load_t-5  load_t-4  load_t-3  \\\n",
       "2012-01-01 05:00:00           0.15   0.18      0.22      0.18      0.14   \n",
       "2012-01-01 06:00:00           0.18   0.23      0.18      0.14      0.13   \n",
       "2012-01-01 07:00:00           0.23   0.29      0.14      0.13      0.13   \n",
       "\n",
       "                     load_t-2  load_t-1  load_t  \n",
       "2012-01-01 05:00:00      0.13      0.13    0.15  \n",
       "2012-01-01 06:00:00      0.13      0.15    0.18  \n",
       "2012-01-01 07:00:00      0.15      0.18    0.23  "
      ]
     },
     "execution_count": 47,
     "metadata": {},
     "output_type": "execute_result"
    }
   ],
   "source": [
    "train_shifted.head(3)"
   ]
  },
  {
   "cell_type": "code",
   "execution_count": 48,
   "id": "0c9c1fb0",
   "metadata": {},
   "outputs": [
    {
     "data": {
      "text/html": [
       "<div>\n",
       "<style scoped>\n",
       "    .dataframe tbody tr th:only-of-type {\n",
       "        vertical-align: middle;\n",
       "    }\n",
       "\n",
       "    .dataframe tbody tr th {\n",
       "        vertical-align: top;\n",
       "    }\n",
       "\n",
       "    .dataframe thead th {\n",
       "        text-align: right;\n",
       "    }\n",
       "</style>\n",
       "<table border=\"1\" class=\"dataframe\">\n",
       "  <thead>\n",
       "    <tr style=\"text-align: right;\">\n",
       "      <th></th>\n",
       "      <th>load</th>\n",
       "      <th>y+1</th>\n",
       "      <th>load_t-5</th>\n",
       "      <th>load_t-4</th>\n",
       "      <th>load_t-3</th>\n",
       "      <th>load_t-2</th>\n",
       "      <th>load_t-1</th>\n",
       "      <th>load_t-0</th>\n",
       "    </tr>\n",
       "  </thead>\n",
       "  <tbody>\n",
       "    <tr>\n",
       "      <th>2014-09-01 00:00:00</th>\n",
       "      <td>0.28</td>\n",
       "      <td>0.24</td>\n",
       "      <td>0.61</td>\n",
       "      <td>0.58</td>\n",
       "      <td>0.51</td>\n",
       "      <td>0.43</td>\n",
       "      <td>0.34</td>\n",
       "      <td>0.28</td>\n",
       "    </tr>\n",
       "    <tr>\n",
       "      <th>2014-09-01 01:00:00</th>\n",
       "      <td>0.24</td>\n",
       "      <td>0.22</td>\n",
       "      <td>0.58</td>\n",
       "      <td>0.51</td>\n",
       "      <td>0.43</td>\n",
       "      <td>0.34</td>\n",
       "      <td>0.28</td>\n",
       "      <td>0.24</td>\n",
       "    </tr>\n",
       "    <tr>\n",
       "      <th>2014-09-01 02:00:00</th>\n",
       "      <td>0.22</td>\n",
       "      <td>0.22</td>\n",
       "      <td>0.51</td>\n",
       "      <td>0.43</td>\n",
       "      <td>0.34</td>\n",
       "      <td>0.28</td>\n",
       "      <td>0.24</td>\n",
       "      <td>0.22</td>\n",
       "    </tr>\n",
       "  </tbody>\n",
       "</table>\n",
       "</div>"
      ],
      "text/plain": [
       "                     load  y+1  load_t-5  load_t-4  load_t-3  load_t-2  \\\n",
       "2014-09-01 00:00:00  0.28 0.24      0.61      0.58      0.51      0.43   \n",
       "2014-09-01 01:00:00  0.24 0.22      0.58      0.51      0.43      0.34   \n",
       "2014-09-01 02:00:00  0.22 0.22      0.51      0.43      0.34      0.28   \n",
       "\n",
       "                     load_t-1  load_t-0  \n",
       "2014-09-01 00:00:00      0.34      0.28  \n",
       "2014-09-01 01:00:00      0.28      0.24  \n",
       "2014-09-01 02:00:00      0.24      0.22  "
      ]
     },
     "execution_count": 48,
     "metadata": {},
     "output_type": "execute_result"
    }
   ],
   "source": [
    "look_back_dt = dt.datetime.strptime(valid_st_data_load, \"%Y-%m-%d %H:%M:%S\") - dt.timedelta(\n",
    "    hours=T - 1\n",
    ")\n",
    "valid = ts_data_load.copy()[(ts_data_load.index >= look_back_dt) & (ts_data_load.index < test_st_data_load)][\n",
    "    [\"load\"]\n",
    "]\n",
    "\n",
    "valid[\"load\"] = scaler.transform(valid)\n",
    "\n",
    "valid_shifted = valid.copy()\n",
    "valid_shifted[\"y+1\"] = valid_shifted[\"load\"].shift(-1, freq=\"H\")\n",
    "for t in range(1, T + 1):\n",
    "    valid_shifted[\"load_t-\" + str(T - t)] = valid_shifted[\"load\"].shift(T - t, freq=\"H\")\n",
    "\n",
    "valid_shifted = valid_shifted.dropna(how=\"any\")\n",
    "valid_shifted.head(3)"
   ]
  },
  {
   "cell_type": "code",
   "execution_count": 51,
   "id": "ee7eaf29",
   "metadata": {},
   "outputs": [],
   "source": [
    "y_valid = valid_shifted[\"y+1\"].to_numpy()\n",
    "X_valid = valid_shifted[[\"load_t-\" + str(T - t) for t in range(1, T + 1)]].to_numpy()\n",
    "X_valid = X_valid.reshape(X_valid.shape[0], T, 1)"
   ]
  },
  {
   "cell_type": "code",
   "execution_count": 52,
   "id": "d27897d3",
   "metadata": {},
   "outputs": [
    {
     "data": {
      "text/plain": [
       "(1463,)"
      ]
     },
     "execution_count": 52,
     "metadata": {},
     "output_type": "execute_result"
    }
   ],
   "source": [
    "y_valid.shape"
   ]
  },
  {
   "cell_type": "code",
   "execution_count": 53,
   "id": "4d332f41",
   "metadata": {},
   "outputs": [
    {
     "data": {
      "text/plain": [
       "array([0.24, 0.22, 0.22])"
      ]
     },
     "execution_count": 53,
     "metadata": {},
     "output_type": "execute_result"
    }
   ],
   "source": [
    "y_valid[:3]"
   ]
  },
  {
   "cell_type": "code",
   "execution_count": 54,
   "id": "4a533f99",
   "metadata": {},
   "outputs": [
    {
     "data": {
      "text/plain": [
       "(1463, 6, 1)"
      ]
     },
     "execution_count": 54,
     "metadata": {},
     "output_type": "execute_result"
    }
   ],
   "source": [
    "X_valid.shape"
   ]
  },
  {
   "cell_type": "code",
   "execution_count": 55,
   "id": "28a16854",
   "metadata": {},
   "outputs": [
    {
     "data": {
      "text/plain": [
       "array([[[0.61],\n",
       "        [0.58],\n",
       "        [0.51],\n",
       "        [0.43],\n",
       "        [0.34],\n",
       "        [0.28]],\n",
       "\n",
       "       [[0.58],\n",
       "        [0.51],\n",
       "        [0.43],\n",
       "        [0.34],\n",
       "        [0.28],\n",
       "        [0.24]],\n",
       "\n",
       "       [[0.51],\n",
       "        [0.43],\n",
       "        [0.34],\n",
       "        [0.28],\n",
       "        [0.24],\n",
       "        [0.22]]])"
      ]
     },
     "execution_count": 55,
     "metadata": {},
     "output_type": "execute_result"
    }
   ],
   "source": [
    "X_valid[:3]"
   ]
  },
  {
   "cell_type": "markdown",
   "id": "478ef256",
   "metadata": {},
   "source": [
    "### Modeling"
   ]
  },
  {
   "cell_type": "code",
   "execution_count": 57,
   "id": "92b49b10",
   "metadata": {},
   "outputs": [],
   "source": [
    "LATENT_DIM = 5\n",
    "BATCH_SIZE = 32\n",
    "EPOCHS = (\n",
    "    10\n",
    ")"
   ]
  },
  {
   "cell_type": "code",
   "execution_count": 58,
   "id": "f658c385",
   "metadata": {},
   "outputs": [],
   "source": [
    "model = Sequential()\n",
    "model.add(GRU(LATENT_DIM, input_shape=(T, 1)))\n",
    "model.add(Dense(HORIZON))"
   ]
  },
  {
   "cell_type": "code",
   "execution_count": 59,
   "id": "6824b0b2",
   "metadata": {},
   "outputs": [],
   "source": [
    "model.compile(optimizer=\"RMSprop\", loss=\"mse\")"
   ]
  },
  {
   "cell_type": "code",
   "execution_count": 60,
   "id": "9bdd7dc4",
   "metadata": {},
   "outputs": [
    {
     "name": "stdout",
     "output_type": "stream",
     "text": [
      "Model: \"sequential\"\n",
      "_________________________________________________________________\n",
      "Layer (type)                 Output Shape              Param #   \n",
      "=================================================================\n",
      "gru (GRU)                    (None, 5)                 120       \n",
      "_________________________________________________________________\n",
      "dense (Dense)                (None, 1)                 6         \n",
      "=================================================================\n",
      "Total params: 126\n",
      "Trainable params: 126\n",
      "Non-trainable params: 0\n",
      "_________________________________________________________________\n"
     ]
    }
   ],
   "source": [
    "model.summary()"
   ]
  },
  {
   "cell_type": "code",
   "execution_count": 61,
   "id": "becd48c9",
   "metadata": {},
   "outputs": [],
   "source": [
    "earlystop = EarlyStopping(monitor=\"val_loss\", min_delta=0, patience=5)"
   ]
  },
  {
   "cell_type": "code",
   "execution_count": 62,
   "id": "dadceb1f",
   "metadata": {},
   "outputs": [
    {
     "name": "stdout",
     "output_type": "stream",
     "text": [
      "Epoch 1/10\n",
      "731/731 [==============================] - 15s 13ms/step - loss: 0.0021 - val_loss: 8.6866e-04A: 1s -  - ETA: 0s - loss: \n",
      "Epoch 2/10\n",
      "731/731 [==============================] - 5s 7ms/step - loss: 6.8801e-04 - val_loss: 5.4943e-04\n",
      "Epoch 3/10\n",
      "731/731 [==============================] - 6s 8ms/step - loss: 5.9719e-04 - val_loss: 5.6179e-04\n",
      "Epoch 4/10\n",
      "731/731 [==============================] - 6s 8ms/step - loss: 5.7604e-04 - val_loss: 5.0745e-04\n",
      "Epoch 5/10\n",
      "731/731 [==============================] - 5s 7ms/step - loss: 5.6843e-04 - val_loss: 5.1360e-04\n",
      "Epoch 6/10\n",
      "731/731 [==============================] - 5s 7ms/step - loss: 5.6411e-04 - val_loss: 8.6491e-04\n",
      "Epoch 7/10\n",
      "731/731 [==============================] - 5s 7ms/step - loss: 5.5962e-04 - val_loss: 5.6613e-04TA: 2s - loss: 5.6238e-0 - ETA: 2s - loss: 5.6 - ETA: 1s - loss: 5.594 -\n",
      "Epoch 8/10\n",
      "731/731 [==============================] - 5s 7ms/step - loss: 5.5503e-04 - val_loss: 4.9386e-04\n",
      "Epoch 9/10\n",
      "731/731 [==============================] - 5s 7ms/step - loss: 5.5424e-04 - val_loss: 4.8629e-04\n",
      "Epoch 10/10\n",
      "731/731 [==============================] - 5s 7ms/step - loss: 5.4876e-04 - val_loss: 5.3761e-04\n"
     ]
    }
   ],
   "source": [
    "model_history = model.fit(\n",
    "    X_train,\n",
    "    y_train,\n",
    "    batch_size=BATCH_SIZE,\n",
    "    epochs=EPOCHS,\n",
    "    validation_data=(X_valid, y_valid),\n",
    "    callbacks=[earlystop],\n",
    "    verbose=1,\n",
    ")"
   ]
  },
  {
   "cell_type": "code",
   "execution_count": 64,
   "id": "1972fbfe",
   "metadata": {},
   "outputs": [],
   "source": [
    "look_back_dt = dt.datetime.strptime(test_st_data_load, \"%Y-%m-%d %H:%M:%S\") - dt.timedelta(\n",
    "    hours=T - 1\n",
    ")\n",
    "test = ts_data_load.copy()[test_st_data_load:][[\"load\"]]\n",
    "\n",
    "test[\"load\"] = scaler.transform(test)\n",
    "\n",
    "test_shifted = test.copy()\n",
    "test_shifted[\"y_t+1\"] = test_shifted[\"load\"].shift(-1, freq=\"H\")\n",
    "for t in range(1, T + 1):\n",
    "    test_shifted[\"load_t-\" + str(T - t)] = test_shifted[\"load\"].shift(T - t, freq=\"H\")\n",
    "\n",
    "test_shifted = test_shifted.dropna(how=\"any\")\n",
    "\n",
    "y_test = test_shifted[\"y_t+1\"].to_numpy()\n",
    "X_test = test_shifted[[\"load_t-\" + str(T - t) for t in range(1, T + 1)]].to_numpy()\n",
    "X_test = X_test.reshape(X_test.shape[0], T, 1)"
   ]
  },
  {
   "cell_type": "code",
   "execution_count": 65,
   "id": "476b2639",
   "metadata": {},
   "outputs": [
    {
     "data": {
      "text/plain": [
       "(1458,)"
      ]
     },
     "execution_count": 65,
     "metadata": {},
     "output_type": "execute_result"
    }
   ],
   "source": [
    "y_test.shape"
   ]
  },
  {
   "cell_type": "code",
   "execution_count": 66,
   "id": "f1196bb3",
   "metadata": {},
   "outputs": [
    {
     "data": {
      "text/plain": [
       "(1458, 6, 1)"
      ]
     },
     "execution_count": 66,
     "metadata": {},
     "output_type": "execute_result"
    }
   ],
   "source": [
    "X_test.shape"
   ]
  },
  {
   "cell_type": "code",
   "execution_count": 67,
   "id": "d2c44a54",
   "metadata": {},
   "outputs": [
    {
     "data": {
      "text/plain": [
       "array([[0.22],\n",
       "       [0.3 ],\n",
       "       [0.38],\n",
       "       ...,\n",
       "       [0.54],\n",
       "       [0.47],\n",
       "       [0.43]], dtype=float32)"
      ]
     },
     "execution_count": 67,
     "metadata": {},
     "output_type": "execute_result"
    }
   ],
   "source": [
    "ts_predictions = model.predict(X_test)\n",
    "ts_predictions"
   ]
  },
  {
   "cell_type": "code",
   "execution_count": 68,
   "id": "7270b09d",
   "metadata": {},
   "outputs": [
    {
     "data": {
      "text/html": [
       "<div>\n",
       "<style scoped>\n",
       "    .dataframe tbody tr th:only-of-type {\n",
       "        vertical-align: middle;\n",
       "    }\n",
       "\n",
       "    .dataframe tbody tr th {\n",
       "        vertical-align: top;\n",
       "    }\n",
       "\n",
       "    .dataframe thead th {\n",
       "        text-align: right;\n",
       "    }\n",
       "</style>\n",
       "<table border=\"1\" class=\"dataframe\">\n",
       "  <thead>\n",
       "    <tr style=\"text-align: right;\">\n",
       "      <th></th>\n",
       "      <th>timestamp</th>\n",
       "      <th>h</th>\n",
       "      <th>prediction</th>\n",
       "      <th>actual</th>\n",
       "    </tr>\n",
       "  </thead>\n",
       "  <tbody>\n",
       "    <tr>\n",
       "      <th>0</th>\n",
       "      <td>2014-11-01 05:00:00</td>\n",
       "      <td>t+1</td>\n",
       "      <td>2,689.84</td>\n",
       "      <td>2,714.00</td>\n",
       "    </tr>\n",
       "    <tr>\n",
       "      <th>1</th>\n",
       "      <td>2014-11-01 06:00:00</td>\n",
       "      <td>t+1</td>\n",
       "      <td>2,960.94</td>\n",
       "      <td>2,970.00</td>\n",
       "    </tr>\n",
       "    <tr>\n",
       "      <th>2</th>\n",
       "      <td>2014-11-01 07:00:00</td>\n",
       "      <td>t+1</td>\n",
       "      <td>3,224.85</td>\n",
       "      <td>3,189.00</td>\n",
       "    </tr>\n",
       "    <tr>\n",
       "      <th>3</th>\n",
       "      <td>2014-11-01 08:00:00</td>\n",
       "      <td>t+1</td>\n",
       "      <td>3,354.45</td>\n",
       "      <td>3,356.00</td>\n",
       "    </tr>\n",
       "    <tr>\n",
       "      <th>4</th>\n",
       "      <td>2014-11-01 09:00:00</td>\n",
       "      <td>t+1</td>\n",
       "      <td>3,483.36</td>\n",
       "      <td>3,436.00</td>\n",
       "    </tr>\n",
       "  </tbody>\n",
       "</table>\n",
       "</div>"
      ],
      "text/plain": [
       "            timestamp    h  prediction   actual\n",
       "0 2014-11-01 05:00:00  t+1    2,689.84 2,714.00\n",
       "1 2014-11-01 06:00:00  t+1    2,960.94 2,970.00\n",
       "2 2014-11-01 07:00:00  t+1    3,224.85 3,189.00\n",
       "3 2014-11-01 08:00:00  t+1    3,354.45 3,356.00\n",
       "4 2014-11-01 09:00:00  t+1    3,483.36 3,436.00"
      ]
     },
     "execution_count": 68,
     "metadata": {},
     "output_type": "execute_result"
    }
   ],
   "source": [
    "ev_ts_data = pd.DataFrame(\n",
    "    ts_predictions, columns=[\"t+\" + str(t) for t in range(1, HORIZON + 1)]\n",
    ")\n",
    "ev_ts_data[\"timestamp\"] = test_shifted.index\n",
    "ev_ts_data = pd.melt(ev_ts_data, id_vars=\"timestamp\", value_name=\"prediction\", var_name=\"h\")\n",
    "ev_ts_data[\"actual\"] = np.transpose(y_test).ravel()\n",
    "ev_ts_data[[\"prediction\", \"actual\"]] = scaler.inverse_transform(\n",
    "    ev_ts_data[[\"prediction\", \"actual\"]]\n",
    ")\n",
    "ev_ts_data.head()"
   ]
  },
  {
   "cell_type": "markdown",
   "id": "6fca72ab",
   "metadata": {},
   "source": [
    "### Model Evaluation"
   ]
  },
  {
   "cell_type": "code",
   "execution_count": 69,
   "id": "85ae4799",
   "metadata": {},
   "outputs": [],
   "source": [
    "def mape(ts_predictions, actuals):\n",
    "    \"\"\"Mean absolute percentage error\"\"\"\n",
    "    return ((ts_predictions - actuals).abs() / actuals).mean()"
   ]
  },
  {
   "cell_type": "code",
   "execution_count": 70,
   "id": "078fc516",
   "metadata": {},
   "outputs": [
    {
     "data": {
      "text/plain": [
       "0.016093864058080734"
      ]
     },
     "execution_count": 70,
     "metadata": {},
     "output_type": "execute_result"
    }
   ],
   "source": [
    "mape(ev_ts_data[\"prediction\"], ev_ts_data[\"actual\"])"
   ]
  },
  {
   "cell_type": "code",
   "execution_count": 71,
   "id": "86484f1f",
   "metadata": {},
   "outputs": [
    {
     "data": {
      "image/png": "[encoded data removed]",
      "text/plain": [
       "<Figure size 1080x576 with 1 Axes>"
      ]
     },
     "metadata": {
      "needs_background": "light"
     },
     "output_type": "display_data"
    }
   ],
   "source": [
    "ev_ts_data[ev_ts_data.timestamp < \"2014-11-08\"].plot(\n",
    "    x=\"timestamp\", y=[\"prediction\", \"actual\"], style=[\"r\", \"b\"], figsize=(15, 8)\n",
    ")\n",
    "plt.xlabel(\"timestamp\", fontsize=12)\n",
    "plt.ylabel(\"load\", fontsize=12)\n",
    "plt.show()"
   ]
  },
  {
   "cell_type": "markdown",
   "id": "a2554300",
   "metadata": {},
   "source": [
    "## Multivariate model"
   ]
  },
  {
   "cell_type": "code",
   "execution_count": 74,
   "id": "8b098da7",
   "metadata": {},
   "outputs": [
    {
     "data": {
      "text/html": [
       "<div>\n",
       "<style scoped>\n",
       "    .dataframe tbody tr th:only-of-type {\n",
       "        vertical-align: middle;\n",
       "    }\n",
       "\n",
       "    .dataframe tbody tr th {\n",
       "        vertical-align: top;\n",
       "    }\n",
       "\n",
       "    .dataframe thead th {\n",
       "        text-align: right;\n",
       "    }\n",
       "</style>\n",
       "<table border=\"1\" class=\"dataframe\">\n",
       "  <thead>\n",
       "    <tr style=\"text-align: right;\">\n",
       "      <th></th>\n",
       "      <th>load</th>\n",
       "      <th>temp</th>\n",
       "    </tr>\n",
       "  </thead>\n",
       "  <tbody>\n",
       "    <tr>\n",
       "      <th>2012-01-01 00:00:00</th>\n",
       "      <td>2,698.00</td>\n",
       "      <td>32.00</td>\n",
       "    </tr>\n",
       "    <tr>\n",
       "      <th>2012-01-01 01:00:00</th>\n",
       "      <td>2,558.00</td>\n",
       "      <td>32.67</td>\n",
       "    </tr>\n",
       "    <tr>\n",
       "      <th>2012-01-01 02:00:00</th>\n",
       "      <td>2,444.00</td>\n",
       "      <td>30.00</td>\n",
       "    </tr>\n",
       "    <tr>\n",
       "      <th>2012-01-01 03:00:00</th>\n",
       "      <td>2,402.00</td>\n",
       "      <td>31.00</td>\n",
       "    </tr>\n",
       "    <tr>\n",
       "      <th>2012-01-01 04:00:00</th>\n",
       "      <td>2,403.00</td>\n",
       "      <td>32.00</td>\n",
       "    </tr>\n",
       "  </tbody>\n",
       "</table>\n",
       "</div>"
      ],
      "text/plain": [
       "                        load  temp\n",
       "2012-01-01 00:00:00 2,698.00 32.00\n",
       "2012-01-01 01:00:00 2,558.00 32.67\n",
       "2012-01-01 02:00:00 2,444.00 30.00\n",
       "2012-01-01 03:00:00 2,402.00 31.00\n",
       "2012-01-01 04:00:00 2,403.00 32.00"
      ]
     },
     "execution_count": 74,
     "metadata": {},
     "output_type": "execute_result"
    }
   ],
   "source": [
    "data_dir = \"./data/\"\n",
    "ts_data = load_data(data_dir)\n",
    "ts_data.head()"
   ]
  },
  {
   "cell_type": "code",
   "execution_count": 75,
   "id": "d000ba47",
   "metadata": {},
   "outputs": [],
   "source": [
    "valid_st_data_load = \"2014-09-01 00:00:00\"\n",
    "test_st_data_load = \"2014-11-01 00:00:00\""
   ]
  },
  {
   "cell_type": "code",
   "execution_count": 76,
   "id": "631273dd",
   "metadata": {},
   "outputs": [],
   "source": [
    "T = 6\n",
    "HORIZON = 1"
   ]
  },
  {
   "cell_type": "code",
   "execution_count": 81,
   "id": "be29917d",
   "metadata": {},
   "outputs": [
    {
     "data": {
      "text/plain": [
       "MinMaxScaler()"
      ]
     },
     "execution_count": 81,
     "metadata": {},
     "output_type": "execute_result"
    }
   ],
   "source": [
    "y_scaler = MinMaxScaler()\n",
    "y_scaler.fit(train[[\"load\"]])"
   ]
  },
  {
   "cell_type": "code",
   "execution_count": 80,
   "id": "938bbf81",
   "metadata": {},
   "outputs": [],
   "source": [
    "train = ts_data.copy()[ts_data.index < valid_st_data_load][[\"load\", \"temp\"]]\n",
    "X_scaler = MinMaxScaler()\n",
    "train[[\"load\", \"temp\"]] = X_scaler.fit_transform(train)"
   ]
  },
  {
   "cell_type": "code",
   "execution_count": 82,
   "id": "4c8c53c2",
   "metadata": {},
   "outputs": [
    {
     "data": {
      "text/html": [
       "<div>\n",
       "<style scoped>\n",
       "    .dataframe tbody tr th:only-of-type {\n",
       "        vertical-align: middle;\n",
       "    }\n",
       "\n",
       "    .dataframe tbody tr th {\n",
       "        vertical-align: top;\n",
       "    }\n",
       "\n",
       "    .dataframe thead th {\n",
       "        text-align: right;\n",
       "    }\n",
       "</style>\n",
       "<table border=\"1\" class=\"dataframe\">\n",
       "  <thead>\n",
       "    <tr style=\"text-align: right;\">\n",
       "      <th></th>\n",
       "      <th>load</th>\n",
       "      <th>temp</th>\n",
       "    </tr>\n",
       "  </thead>\n",
       "  <tbody>\n",
       "    <tr>\n",
       "      <th>2012-01-01 00:00:00</th>\n",
       "      <td>0.22</td>\n",
       "      <td>0.42</td>\n",
       "    </tr>\n",
       "    <tr>\n",
       "      <th>2012-01-01 01:00:00</th>\n",
       "      <td>0.18</td>\n",
       "      <td>0.43</td>\n",
       "    </tr>\n",
       "    <tr>\n",
       "      <th>2012-01-01 02:00:00</th>\n",
       "      <td>0.14</td>\n",
       "      <td>0.40</td>\n",
       "    </tr>\n",
       "    <tr>\n",
       "      <th>2012-01-01 03:00:00</th>\n",
       "      <td>0.13</td>\n",
       "      <td>0.41</td>\n",
       "    </tr>\n",
       "    <tr>\n",
       "      <th>2012-01-01 04:00:00</th>\n",
       "      <td>0.13</td>\n",
       "      <td>0.42</td>\n",
       "    </tr>\n",
       "  </tbody>\n",
       "</table>\n",
       "</div>"
      ],
      "text/plain": [
       "                     load  temp\n",
       "2012-01-01 00:00:00  0.22  0.42\n",
       "2012-01-01 01:00:00  0.18  0.43\n",
       "2012-01-01 02:00:00  0.14  0.40\n",
       "2012-01-01 03:00:00  0.13  0.41\n",
       "2012-01-01 04:00:00  0.13  0.42"
      ]
     },
     "execution_count": 82,
     "metadata": {},
     "output_type": "execute_result"
    }
   ],
   "source": [
    "train.head()"
   ]
  },
  {
   "cell_type": "code",
   "execution_count": 83,
   "id": "dd122c1c",
   "metadata": {},
   "outputs": [],
   "source": [
    "tensor_structure = {\"X\": (range(-T + 1, 1), [\"load\", \"temp\"])}\n",
    "ts_train_inp = TimeSeriesTensor(\n",
    "    dataset=train,\n",
    "    target=\"load\",\n",
    "    H=HORIZON,\n",
    "    tensor_structure=tensor_structure,\n",
    "    freq=\"H\",\n",
    "    drop_incomplete=True,\n",
    ")\n",
    "back_ts_data = dt.datetime.strptime(valid_st_data_load, \"%Y-%m-%d %H:%M:%S\") - dt.timedelta(\n",
    "    hours=T - 1\n",
    ")\n",
    "valid = ts_data.copy()[(ts_data.index >= back_ts_data) & (ts_data.index < test_st_data_load)][\n",
    "    [\"load\", \"temp\"]\n",
    "]\n",
    "valid[[\"load\", \"temp\"]] = X_scaler.transform(valid)\n",
    "valid_inputs = TimeSeriesTensor(valid, \"load\", HORIZON, tensor_structure)"
   ]
  },
  {
   "cell_type": "markdown",
   "id": "4871ced5",
   "metadata": {},
   "source": [
    "### Modeling"
   ]
  },
  {
   "cell_type": "code",
   "execution_count": 84,
   "id": "30adffef",
   "metadata": {},
   "outputs": [],
   "source": [
    "LATENT_DIM = 5\n",
    "BATCH_SIZE = 32\n",
    "EPOCHS = 50\n",
    "\n",
    "model = Sequential()\n",
    "model.add(GRU(LATENT_DIM, input_shape=(T, 2)))\n",
    "model.add(Dense(HORIZON))"
   ]
  },
  {
   "cell_type": "code",
   "execution_count": 85,
   "id": "3391cb9b",
   "metadata": {},
   "outputs": [
    {
     "name": "stdout",
     "output_type": "stream",
     "text": [
      "Model: \"sequential_1\"\n",
      "_________________________________________________________________\n",
      "Layer (type)                 Output Shape              Param #   \n",
      "=================================================================\n",
      "gru_1 (GRU)                  (None, 5)                 135       \n",
      "_________________________________________________________________\n",
      "dense_1 (Dense)              (None, 1)                 6         \n",
      "=================================================================\n",
      "Total params: 141\n",
      "Trainable params: 141\n",
      "Non-trainable params: 0\n",
      "_________________________________________________________________\n"
     ]
    }
   ],
   "source": [
    "model.compile(optimizer=\"RMSprop\", loss=\"mse\")\n",
    "\n",
    "model.summary()"
   ]
  },
  {
   "cell_type": "code",
   "execution_count": 87,
   "id": "cfd2c76d",
   "metadata": {},
   "outputs": [],
   "source": [
    "earlystop = EarlyStopping(monitor=\"val_loss\", min_delta=0, patience=5)"
   ]
  },
  {
   "cell_type": "code",
   "execution_count": 88,
   "id": "5b6e0763",
   "metadata": {},
   "outputs": [
    {
     "name": "stdout",
     "output_type": "stream",
     "text": [
      "Epoch 1/50\n",
      "731/731 [==============================] - 15s 12ms/step - loss: 0.0257 - val_loss: 0.0021\n",
      "Epoch 2/50\n",
      "731/731 [==============================] - 6s 8ms/step - loss: 0.0014 - val_loss: 9.5986e-04\n",
      "Epoch 3/50\n",
      "731/731 [==============================] - 5s 7ms/step - loss: 8.7592e-04 - val_loss: 0.0012\n",
      "Epoch 4/50\n",
      "731/731 [==============================] - 6s 8ms/step - loss: 7.2317e-04 - val_loss: 8.4941e-04\n",
      "Epoch 5/50\n",
      "731/731 [==============================] - 5s 7ms/step - loss: 6.3268e-04 - val_loss: 5.0494e-04\n",
      "Epoch 6/50\n",
      "731/731 [==============================] - 5s 6ms/step - loss: 5.8497e-04 - val_loss: 5.7402e-04\n",
      "Epoch 7/50\n",
      "731/731 [==============================] - ETA: 0s - loss: 5.5824e-0 - 4s 6ms/step - loss: 5.5788e-04 - val_loss: 5.3081e-04\n",
      "Epoch 8/50\n",
      "731/731 [==============================] - 4s 6ms/step - loss: 5.4624e-04 - val_loss: 5.2085e-04\n",
      "Epoch 9/50\n",
      "731/731 [==============================] - 5s 6ms/step - loss: 5.4019e-04 - val_loss: 5.1661e-04\n",
      "Epoch 10/50\n",
      "731/731 [==============================] - 6s 8ms/step - loss: 5.3513e-04 - val_loss: 4.6769e-04\n",
      "Epoch 11/50\n",
      "731/731 [==============================] - 5s 7ms/step - loss: 5.3384e-04 - val_loss: 4.6588e-04A: 1s - loss - ETA: 0s\n",
      "Epoch 12/50\n",
      "731/731 [==============================] - 5s 6ms/step - loss: 5.3094e-04 - val_loss: 0.0010\n",
      "Epoch 13/50\n",
      "731/731 [==============================] - 5s 6ms/step - loss: 5.2543e-04 - val_loss: 4.7724e-04\n",
      "Epoch 14/50\n",
      "731/731 [==============================] - 5s 6ms/step - loss: 5.2624e-04 - val_loss: 5.3104e-04\n",
      "Epoch 15/50\n",
      "731/731 [==============================] - 6s 8ms/step - loss: 5.2535e-04 - val_loss: 5.4778e-04\n",
      "Epoch 16/50\n",
      "731/731 [==============================] - 6s 8ms/step - loss: 5.2260e-04 - val_loss: 5.4881e-04\n"
     ]
    }
   ],
   "source": [
    "model_history = model.fit(\n",
    "    ts_train_inp[\"X\"],\n",
    "    ts_train_inp[\"target\"],\n",
    "    batch_size=BATCH_SIZE,\n",
    "    epochs=EPOCHS,\n",
    "    validation_data=(valid_inputs[\"X\"], valid_inputs[\"target\"]),\n",
    "    callbacks=[earlystop],\n",
    "    verbose=1,\n",
    ")"
   ]
  },
  {
   "cell_type": "code",
   "execution_count": 94,
   "id": "918efa8b",
   "metadata": {},
   "outputs": [
    {
     "data": {
      "text/html": [
       "<div>\n",
       "<style scoped>\n",
       "    .dataframe tbody tr th:only-of-type {\n",
       "        vertical-align: middle;\n",
       "    }\n",
       "\n",
       "    .dataframe tbody tr th {\n",
       "        vertical-align: top;\n",
       "    }\n",
       "\n",
       "    .dataframe thead th {\n",
       "        text-align: right;\n",
       "    }\n",
       "</style>\n",
       "<table border=\"1\" class=\"dataframe\">\n",
       "  <thead>\n",
       "    <tr style=\"text-align: right;\">\n",
       "      <th></th>\n",
       "      <th>timestamp</th>\n",
       "      <th>h</th>\n",
       "      <th>prediction</th>\n",
       "      <th>actual</th>\n",
       "    </tr>\n",
       "  </thead>\n",
       "  <tbody>\n",
       "    <tr>\n",
       "      <th>0</th>\n",
       "      <td>2014-11-01 05:00:00</td>\n",
       "      <td>t+1</td>\n",
       "      <td>0.23</td>\n",
       "      <td>0.23</td>\n",
       "    </tr>\n",
       "    <tr>\n",
       "      <th>1</th>\n",
       "      <td>2014-11-01 06:00:00</td>\n",
       "      <td>t+1</td>\n",
       "      <td>0.30</td>\n",
       "      <td>0.31</td>\n",
       "    </tr>\n",
       "    <tr>\n",
       "      <th>2</th>\n",
       "      <td>2014-11-01 07:00:00</td>\n",
       "      <td>t+1</td>\n",
       "      <td>0.39</td>\n",
       "      <td>0.37</td>\n",
       "    </tr>\n",
       "    <tr>\n",
       "      <th>3</th>\n",
       "      <td>2014-11-01 08:00:00</td>\n",
       "      <td>t+1</td>\n",
       "      <td>0.43</td>\n",
       "      <td>0.42</td>\n",
       "    </tr>\n",
       "    <tr>\n",
       "      <th>4</th>\n",
       "      <td>2014-11-01 09:00:00</td>\n",
       "      <td>t+1</td>\n",
       "      <td>0.47</td>\n",
       "      <td>0.45</td>\n",
       "    </tr>\n",
       "  </tbody>\n",
       "</table>\n",
       "</div>"
      ],
      "text/plain": [
       "            timestamp    h  prediction  actual\n",
       "0 2014-11-01 05:00:00  t+1        0.23    0.23\n",
       "1 2014-11-01 06:00:00  t+1        0.30    0.31\n",
       "2 2014-11-01 07:00:00  t+1        0.39    0.37\n",
       "3 2014-11-01 08:00:00  t+1        0.43    0.42\n",
       "4 2014-11-01 09:00:00  t+1        0.47    0.45"
      ]
     },
     "execution_count": 94,
     "metadata": {},
     "output_type": "execute_result"
    }
   ],
   "source": [
    "back_ts_data = dt.datetime.strptime(test_st_data_load, \"%Y-%m-%d %H:%M:%S\") - dt.timedelta(\n",
    "    hours=T - 1\n",
    ")\n",
    "ts_data_test = ts_data.copy()[test_st_data_load:][[\"load\", \"temp\"]]\n",
    "ts_data_test[[\"load\", \"temp\"]] = X_scaler.transform(ts_data_test)\n",
    "ts_data_test_inputs = TimeSeriesTensor(ts_data_test, \"load\", HORIZON, tensor_structure)\n",
    "\n",
    "ts_predictions = model.predict(ts_data_test_inputs[\"X\"])\n",
    "\n",
    "ev_ts_data = create_evaluation_df(ts_predictions, ts_data_test_inputs, HORIZON, y_scaler)\n",
    "ev_ts_data.head()"
   ]
  },
  {
   "cell_type": "markdown",
   "id": "a3e33099",
   "metadata": {},
   "source": [
    "### Model Evaluation"
   ]
  },
  {
   "cell_type": "code",
   "execution_count": 95,
   "id": "8ce75741",
   "metadata": {},
   "outputs": [
    {
     "data": {
      "text/plain": [
       "0.0523874743090587"
      ]
     },
     "execution_count": 95,
     "metadata": {},
     "output_type": "execute_result"
    }
   ],
   "source": [
    "mape(ev_ts_data[\"prediction\"], ev_ts_data[\"actual\"])"
   ]
  }
 ],
 "metadata": {
  "kernelspec": {
   "display_name": "Python 3 (ipykernel)",
   "language": "python",
   "name": "python3"
  },
  "language_info": {
   "codemirror_mode": {
    "name": "ipython",
    "version": 3
   },
   "file_extension": ".py",
   "mimetype": "text/x-python",
   "name": "python",
   "nbconvert_exporter": "python",
   "pygments_lexer": "ipython3",
   "version": "3.9.7"
  }
 },
 "nbformat": 4,
 "nbformat_minor": 5
}
