{
 "cells": [
  {
   "cell_type": "markdown",
   "id": "fa85e0b3",
   "metadata": {
    "heading_collapsed": true
   },
   "source": [
    "### Импорты библиотек"
   ]
  },
  {
   "cell_type": "code",
   "execution_count": 95,
   "id": "9d9f3f8f",
   "metadata": {
    "hidden": true
   },
   "outputs": [],
   "source": [
    "import pandas as pd\n",
    "import numpy as np\n",
    "\n",
    "import natasha\n",
    "\n",
    "from natasha import (\n",
    "    Segmenter,\n",
    "    MorphVocab,\n",
    "    \n",
    "    NewsEmbedding,\n",
    "    NewsMorphTagger,\n",
    "    NewsSyntaxParser,\n",
    "    NewsNERTagger,\n",
    "    \n",
    "    PER,\n",
    "    LOC,\n",
    "    NamesExtractor,\n",
    "\n",
    "    Doc\n",
    ")\n",
    "\n",
    "from yargy.tokenizer import MorphTokenizer\n",
    "from ipymarkup import show_line_markup\n",
    "\n",
    "from yargy import rule, Parser, or_\n",
    "from yargy.predicates import normalized\n",
    "from yargy.pipelines import morph_pipeline"
   ]
  },
  {
   "cell_type": "markdown",
   "id": "d049ed49",
   "metadata": {
    "heading_collapsed": true
   },
   "source": [
    "### Загрузка данных"
   ]
  },
  {
   "cell_type": "code",
   "execution_count": 2,
   "id": "68470a54",
   "metadata": {
    "hidden": true
   },
   "outputs": [],
   "source": [
    "df = pd.read_csv(r\"D:\\code\\Projects_for_resume\\test_nlp\\test_data_copy.csv\")"
   ]
  },
  {
   "cell_type": "code",
   "execution_count": 3,
   "id": "9900a694",
   "metadata": {
    "hidden": true
   },
   "outputs": [
    {
     "data": {
      "text/html": [
       "<div>\n",
       "<style scoped>\n",
       "    .dataframe tbody tr th:only-of-type {\n",
       "        vertical-align: middle;\n",
       "    }\n",
       "\n",
       "    .dataframe tbody tr th {\n",
       "        vertical-align: top;\n",
       "    }\n",
       "\n",
       "    .dataframe thead th {\n",
       "        text-align: right;\n",
       "    }\n",
       "</style>\n",
       "<table border=\"1\" class=\"dataframe\">\n",
       "  <thead>\n",
       "    <tr style=\"text-align: right;\">\n",
       "      <th></th>\n",
       "      <th>dlg_id</th>\n",
       "      <th>line_n</th>\n",
       "      <th>role</th>\n",
       "      <th>text</th>\n",
       "    </tr>\n",
       "  </thead>\n",
       "  <tbody>\n",
       "    <tr>\n",
       "      <th>0</th>\n",
       "      <td>0</td>\n",
       "      <td>0</td>\n",
       "      <td>client</td>\n",
       "      <td>Алло</td>\n",
       "    </tr>\n",
       "    <tr>\n",
       "      <th>1</th>\n",
       "      <td>0</td>\n",
       "      <td>1</td>\n",
       "      <td>manager</td>\n",
       "      <td>Алло здравствуйте</td>\n",
       "    </tr>\n",
       "    <tr>\n",
       "      <th>2</th>\n",
       "      <td>0</td>\n",
       "      <td>2</td>\n",
       "      <td>client</td>\n",
       "      <td>Добрый день</td>\n",
       "    </tr>\n",
       "    <tr>\n",
       "      <th>3</th>\n",
       "      <td>0</td>\n",
       "      <td>3</td>\n",
       "      <td>manager</td>\n",
       "      <td>Меня зовут ангелина компания диджитал бизнес з...</td>\n",
       "    </tr>\n",
       "    <tr>\n",
       "      <th>4</th>\n",
       "      <td>0</td>\n",
       "      <td>4</td>\n",
       "      <td>client</td>\n",
       "      <td>Ага</td>\n",
       "    </tr>\n",
       "    <tr>\n",
       "      <th>...</th>\n",
       "      <td>...</td>\n",
       "      <td>...</td>\n",
       "      <td>...</td>\n",
       "      <td>...</td>\n",
       "    </tr>\n",
       "    <tr>\n",
       "      <th>475</th>\n",
       "      <td>5</td>\n",
       "      <td>138</td>\n",
       "      <td>manager</td>\n",
       "      <td>По поводу виджетов и с ними уже обсудите конкр...</td>\n",
       "    </tr>\n",
       "    <tr>\n",
       "      <th>476</th>\n",
       "      <td>5</td>\n",
       "      <td>139</td>\n",
       "      <td>manager</td>\n",
       "      <td>Все я вам высылаю счет и с вами на связи если ...</td>\n",
       "    </tr>\n",
       "    <tr>\n",
       "      <th>477</th>\n",
       "      <td>5</td>\n",
       "      <td>140</td>\n",
       "      <td>client</td>\n",
       "      <td>Спасибо спасибо</td>\n",
       "    </tr>\n",
       "    <tr>\n",
       "      <th>478</th>\n",
       "      <td>5</td>\n",
       "      <td>141</td>\n",
       "      <td>client</td>\n",
       "      <td>Да да тогда созвонимся ага спасибо вам давайте</td>\n",
       "    </tr>\n",
       "    <tr>\n",
       "      <th>479</th>\n",
       "      <td>5</td>\n",
       "      <td>142</td>\n",
       "      <td>manager</td>\n",
       "      <td>Ну до свидания хорошего вечера</td>\n",
       "    </tr>\n",
       "  </tbody>\n",
       "</table>\n",
       "<p>480 rows × 4 columns</p>\n",
       "</div>"
      ],
      "text/plain": [
       "     dlg_id  line_n     role  \\\n",
       "0         0       0   client   \n",
       "1         0       1  manager   \n",
       "2         0       2   client   \n",
       "3         0       3  manager   \n",
       "4         0       4   client   \n",
       "..      ...     ...      ...   \n",
       "475       5     138  manager   \n",
       "476       5     139  manager   \n",
       "477       5     140   client   \n",
       "478       5     141   client   \n",
       "479       5     142  manager   \n",
       "\n",
       "                                                  text  \n",
       "0                                                 Алло  \n",
       "1                                    Алло здравствуйте  \n",
       "2                                          Добрый день  \n",
       "3    Меня зовут ангелина компания диджитал бизнес з...  \n",
       "4                                                  Ага  \n",
       "..                                                 ...  \n",
       "475  По поводу виджетов и с ними уже обсудите конкр...  \n",
       "476  Все я вам высылаю счет и с вами на связи если ...  \n",
       "477                                    Спасибо спасибо  \n",
       "478     Да да тогда созвонимся ага спасибо вам давайте  \n",
       "479                     Ну до свидания хорошего вечера  \n",
       "\n",
       "[480 rows x 4 columns]"
      ]
     },
     "execution_count": 3,
     "metadata": {},
     "output_type": "execute_result"
    }
   ],
   "source": [
    "df"
   ]
  },
  {
   "cell_type": "code",
   "execution_count": 4,
   "id": "a8a726af",
   "metadata": {
    "hidden": true
   },
   "outputs": [],
   "source": [
    "df_mng = df.drop(df[df.role == 'client'].index)"
   ]
  },
  {
   "cell_type": "code",
   "execution_count": 5,
   "id": "b21d8c8d",
   "metadata": {
    "hidden": true,
    "scrolled": true
   },
   "outputs": [
    {
     "data": {
      "text/html": [
       "<div>\n",
       "<style scoped>\n",
       "    .dataframe tbody tr th:only-of-type {\n",
       "        vertical-align: middle;\n",
       "    }\n",
       "\n",
       "    .dataframe tbody tr th {\n",
       "        vertical-align: top;\n",
       "    }\n",
       "\n",
       "    .dataframe thead th {\n",
       "        text-align: right;\n",
       "    }\n",
       "</style>\n",
       "<table border=\"1\" class=\"dataframe\">\n",
       "  <thead>\n",
       "    <tr style=\"text-align: right;\">\n",
       "      <th></th>\n",
       "      <th>dlg_id</th>\n",
       "      <th>line_n</th>\n",
       "      <th>role</th>\n",
       "      <th>text</th>\n",
       "    </tr>\n",
       "  </thead>\n",
       "  <tbody>\n",
       "    <tr>\n",
       "      <th>1</th>\n",
       "      <td>0</td>\n",
       "      <td>1</td>\n",
       "      <td>manager</td>\n",
       "      <td>Алло здравствуйте</td>\n",
       "    </tr>\n",
       "    <tr>\n",
       "      <th>3</th>\n",
       "      <td>0</td>\n",
       "      <td>3</td>\n",
       "      <td>manager</td>\n",
       "      <td>Меня зовут ангелина компания диджитал бизнес з...</td>\n",
       "    </tr>\n",
       "    <tr>\n",
       "      <th>5</th>\n",
       "      <td>0</td>\n",
       "      <td>5</td>\n",
       "      <td>manager</td>\n",
       "      <td>Угу ну возможно вы рассмотрите и другие вариан...</td>\n",
       "    </tr>\n",
       "    <tr>\n",
       "      <th>8</th>\n",
       "      <td>0</td>\n",
       "      <td>8</td>\n",
       "      <td>manager</td>\n",
       "      <td>Угу а на что вы обращаете внимание при выборе</td>\n",
       "    </tr>\n",
       "    <tr>\n",
       "      <th>11</th>\n",
       "      <td>0</td>\n",
       "      <td>11</td>\n",
       "      <td>manager</td>\n",
       "      <td>Что для вас приоритет</td>\n",
       "    </tr>\n",
       "    <tr>\n",
       "      <th>...</th>\n",
       "      <td>...</td>\n",
       "      <td>...</td>\n",
       "      <td>...</td>\n",
       "      <td>...</td>\n",
       "    </tr>\n",
       "    <tr>\n",
       "      <th>472</th>\n",
       "      <td>5</td>\n",
       "      <td>135</td>\n",
       "      <td>manager</td>\n",
       "      <td>Так дмитрий</td>\n",
       "    </tr>\n",
       "    <tr>\n",
       "      <th>473</th>\n",
       "      <td>5</td>\n",
       "      <td>136</td>\n",
       "      <td>manager</td>\n",
       "      <td>Все записала тогда завтра ждите звонка</td>\n",
       "    </tr>\n",
       "    <tr>\n",
       "      <th>475</th>\n",
       "      <td>5</td>\n",
       "      <td>138</td>\n",
       "      <td>manager</td>\n",
       "      <td>По поводу виджетов и с ними уже обсудите конкр...</td>\n",
       "    </tr>\n",
       "    <tr>\n",
       "      <th>476</th>\n",
       "      <td>5</td>\n",
       "      <td>139</td>\n",
       "      <td>manager</td>\n",
       "      <td>Все я вам высылаю счет и с вами на связи если ...</td>\n",
       "    </tr>\n",
       "    <tr>\n",
       "      <th>479</th>\n",
       "      <td>5</td>\n",
       "      <td>142</td>\n",
       "      <td>manager</td>\n",
       "      <td>Ну до свидания хорошего вечера</td>\n",
       "    </tr>\n",
       "  </tbody>\n",
       "</table>\n",
       "<p>201 rows × 4 columns</p>\n",
       "</div>"
      ],
      "text/plain": [
       "     dlg_id  line_n     role  \\\n",
       "1         0       1  manager   \n",
       "3         0       3  manager   \n",
       "5         0       5  manager   \n",
       "8         0       8  manager   \n",
       "11        0      11  manager   \n",
       "..      ...     ...      ...   \n",
       "472       5     135  manager   \n",
       "473       5     136  manager   \n",
       "475       5     138  manager   \n",
       "476       5     139  manager   \n",
       "479       5     142  manager   \n",
       "\n",
       "                                                  text  \n",
       "1                                    Алло здравствуйте  \n",
       "3    Меня зовут ангелина компания диджитал бизнес з...  \n",
       "5    Угу ну возможно вы рассмотрите и другие вариан...  \n",
       "8        Угу а на что вы обращаете внимание при выборе  \n",
       "11                               Что для вас приоритет  \n",
       "..                                                 ...  \n",
       "472                                        Так дмитрий  \n",
       "473             Все записала тогда завтра ждите звонка  \n",
       "475  По поводу виджетов и с ними уже обсудите конкр...  \n",
       "476  Все я вам высылаю счет и с вами на связи если ...  \n",
       "479                     Ну до свидания хорошего вечера  \n",
       "\n",
       "[201 rows x 4 columns]"
      ]
     },
     "execution_count": 5,
     "metadata": {},
     "output_type": "execute_result"
    }
   ],
   "source": [
    "df_mng"
   ]
  },
  {
   "cell_type": "markdown",
   "id": "8030df0d",
   "metadata": {
    "heading_collapsed": true
   },
   "source": [
    "### Приветствие"
   ]
  },
  {
   "cell_type": "code",
   "execution_count": 6,
   "id": "2dcfa4b0",
   "metadata": {
    "hidden": true
   },
   "outputs": [],
   "source": [
    "df_mng['insight'] = np.nan"
   ]
  },
  {
   "cell_type": "code",
   "execution_count": 7,
   "id": "e8430323",
   "metadata": {
    "hidden": true
   },
   "outputs": [],
   "source": [
    "def greetings(line):\n",
    "    \"\"\"Функция осуществляет поиск реплик, в которых менеджер поздоровался с клиентом\"\"\"\n",
    "    \n",
    "    VARIANTS = morph_pipeline([\n",
    "        'здравствуйте',\n",
    "        'добрый день'\n",
    "    ])\n",
    "\n",
    "    GREETINGS = rule(VARIANTS)\n",
    "    parser = Parser(GREETINGS)\n",
    "    matches = list(parser.findall(line))\n",
    "    flag = 1 if len(matches) != 0 else 0\n",
    "    return f'greeting=True' if flag else f'greeting=False'"
   ]
  },
  {
   "cell_type": "code",
   "execution_count": 8,
   "id": "af602df0",
   "metadata": {
    "hidden": true,
    "scrolled": true
   },
   "outputs": [
    {
     "data": {
      "text/html": [
       "<div>\n",
       "<style scoped>\n",
       "    .dataframe tbody tr th:only-of-type {\n",
       "        vertical-align: middle;\n",
       "    }\n",
       "\n",
       "    .dataframe tbody tr th {\n",
       "        vertical-align: top;\n",
       "    }\n",
       "\n",
       "    .dataframe thead th {\n",
       "        text-align: right;\n",
       "    }\n",
       "</style>\n",
       "<table border=\"1\" class=\"dataframe\">\n",
       "  <thead>\n",
       "    <tr style=\"text-align: right;\">\n",
       "      <th></th>\n",
       "      <th>dlg_id</th>\n",
       "      <th>line_n</th>\n",
       "      <th>role</th>\n",
       "      <th>text</th>\n",
       "      <th>insight</th>\n",
       "    </tr>\n",
       "  </thead>\n",
       "  <tbody>\n",
       "    <tr>\n",
       "      <th>1</th>\n",
       "      <td>0</td>\n",
       "      <td>1</td>\n",
       "      <td>manager</td>\n",
       "      <td>Алло здравствуйте</td>\n",
       "      <td>greeting=True</td>\n",
       "    </tr>\n",
       "    <tr>\n",
       "      <th>3</th>\n",
       "      <td>0</td>\n",
       "      <td>3</td>\n",
       "      <td>manager</td>\n",
       "      <td>Меня зовут ангелина компания диджитал бизнес з...</td>\n",
       "      <td>greeting=False</td>\n",
       "    </tr>\n",
       "    <tr>\n",
       "      <th>5</th>\n",
       "      <td>0</td>\n",
       "      <td>5</td>\n",
       "      <td>manager</td>\n",
       "      <td>Угу ну возможно вы рассмотрите и другие вариан...</td>\n",
       "      <td>greeting=False</td>\n",
       "    </tr>\n",
       "    <tr>\n",
       "      <th>8</th>\n",
       "      <td>0</td>\n",
       "      <td>8</td>\n",
       "      <td>manager</td>\n",
       "      <td>Угу а на что вы обращаете внимание при выборе</td>\n",
       "      <td>greeting=False</td>\n",
       "    </tr>\n",
       "    <tr>\n",
       "      <th>11</th>\n",
       "      <td>0</td>\n",
       "      <td>11</td>\n",
       "      <td>manager</td>\n",
       "      <td>Что для вас приоритет</td>\n",
       "      <td>greeting=False</td>\n",
       "    </tr>\n",
       "    <tr>\n",
       "      <th>...</th>\n",
       "      <td>...</td>\n",
       "      <td>...</td>\n",
       "      <td>...</td>\n",
       "      <td>...</td>\n",
       "      <td>...</td>\n",
       "    </tr>\n",
       "    <tr>\n",
       "      <th>472</th>\n",
       "      <td>5</td>\n",
       "      <td>135</td>\n",
       "      <td>manager</td>\n",
       "      <td>Так дмитрий</td>\n",
       "      <td>greeting=False</td>\n",
       "    </tr>\n",
       "    <tr>\n",
       "      <th>473</th>\n",
       "      <td>5</td>\n",
       "      <td>136</td>\n",
       "      <td>manager</td>\n",
       "      <td>Все записала тогда завтра ждите звонка</td>\n",
       "      <td>greeting=False</td>\n",
       "    </tr>\n",
       "    <tr>\n",
       "      <th>475</th>\n",
       "      <td>5</td>\n",
       "      <td>138</td>\n",
       "      <td>manager</td>\n",
       "      <td>По поводу виджетов и с ними уже обсудите конкр...</td>\n",
       "      <td>greeting=False</td>\n",
       "    </tr>\n",
       "    <tr>\n",
       "      <th>476</th>\n",
       "      <td>5</td>\n",
       "      <td>139</td>\n",
       "      <td>manager</td>\n",
       "      <td>Все я вам высылаю счет и с вами на связи если ...</td>\n",
       "      <td>greeting=False</td>\n",
       "    </tr>\n",
       "    <tr>\n",
       "      <th>479</th>\n",
       "      <td>5</td>\n",
       "      <td>142</td>\n",
       "      <td>manager</td>\n",
       "      <td>Ну до свидания хорошего вечера</td>\n",
       "      <td>greeting=False</td>\n",
       "    </tr>\n",
       "  </tbody>\n",
       "</table>\n",
       "<p>201 rows × 5 columns</p>\n",
       "</div>"
      ],
      "text/plain": [
       "     dlg_id  line_n     role  \\\n",
       "1         0       1  manager   \n",
       "3         0       3  manager   \n",
       "5         0       5  manager   \n",
       "8         0       8  manager   \n",
       "11        0      11  manager   \n",
       "..      ...     ...      ...   \n",
       "472       5     135  manager   \n",
       "473       5     136  manager   \n",
       "475       5     138  manager   \n",
       "476       5     139  manager   \n",
       "479       5     142  manager   \n",
       "\n",
       "                                                  text         insight  \n",
       "1                                    Алло здравствуйте   greeting=True  \n",
       "3    Меня зовут ангелина компания диджитал бизнес з...  greeting=False  \n",
       "5    Угу ну возможно вы рассмотрите и другие вариан...  greeting=False  \n",
       "8        Угу а на что вы обращаете внимание при выборе  greeting=False  \n",
       "11                               Что для вас приоритет  greeting=False  \n",
       "..                                                 ...             ...  \n",
       "472                                        Так дмитрий  greeting=False  \n",
       "473             Все записала тогда завтра ждите звонка  greeting=False  \n",
       "475  По поводу виджетов и с ними уже обсудите конкр...  greeting=False  \n",
       "476  Все я вам высылаю счет и с вами на связи если ...  greeting=False  \n",
       "479                     Ну до свидания хорошего вечера  greeting=False  \n",
       "\n",
       "[201 rows x 5 columns]"
      ]
     },
     "execution_count": 8,
     "metadata": {},
     "output_type": "execute_result"
    }
   ],
   "source": [
    "df_mng['insight'] = df_mng['text'].apply(greetings)\n",
    "df_mng"
   ]
  },
  {
   "cell_type": "markdown",
   "id": "83814c5a",
   "metadata": {
    "heading_collapsed": true
   },
   "source": [
    "### Представление себя клиенту"
   ]
  },
  {
   "cell_type": "code",
   "execution_count": 9,
   "id": "2375c7c1",
   "metadata": {
    "hidden": true
   },
   "outputs": [],
   "source": [
    "def introduce_youself(line):\n",
    "    \"\"\"Функция осуществляет поиск реплик, в которых менеджер представился \n",
    "    в начале диалога с клиентом\"\"\"\n",
    "    \n",
    "    VARIANTS = morph_pipeline([\n",
    "        'меня зовут',\n",
    "        'зовут'\n",
    "    ])\n",
    "\n",
    "    INTROS = rule(VARIANTS)\n",
    "    parser = Parser(INTROS)\n",
    "    matches = list(parser.findall(line))\n",
    "    flag = 1 if len(matches) != 0 else 0\n",
    "    return 'introducing=True' if flag else 'introducing=False'"
   ]
  },
  {
   "cell_type": "code",
   "execution_count": 10,
   "id": "7c01ed04",
   "metadata": {
    "hidden": true
   },
   "outputs": [
    {
     "data": {
      "text/html": [
       "<div>\n",
       "<style scoped>\n",
       "    .dataframe tbody tr th:only-of-type {\n",
       "        vertical-align: middle;\n",
       "    }\n",
       "\n",
       "    .dataframe tbody tr th {\n",
       "        vertical-align: top;\n",
       "    }\n",
       "\n",
       "    .dataframe thead th {\n",
       "        text-align: right;\n",
       "    }\n",
       "</style>\n",
       "<table border=\"1\" class=\"dataframe\">\n",
       "  <thead>\n",
       "    <tr style=\"text-align: right;\">\n",
       "      <th></th>\n",
       "      <th>dlg_id</th>\n",
       "      <th>line_n</th>\n",
       "      <th>role</th>\n",
       "      <th>text</th>\n",
       "      <th>insight</th>\n",
       "    </tr>\n",
       "  </thead>\n",
       "  <tbody>\n",
       "    <tr>\n",
       "      <th>1</th>\n",
       "      <td>0</td>\n",
       "      <td>1</td>\n",
       "      <td>manager</td>\n",
       "      <td>Алло здравствуйте</td>\n",
       "      <td>introducing=False</td>\n",
       "    </tr>\n",
       "    <tr>\n",
       "      <th>3</th>\n",
       "      <td>0</td>\n",
       "      <td>3</td>\n",
       "      <td>manager</td>\n",
       "      <td>Меня зовут ангелина компания диджитал бизнес з...</td>\n",
       "      <td>introducing=True</td>\n",
       "    </tr>\n",
       "    <tr>\n",
       "      <th>5</th>\n",
       "      <td>0</td>\n",
       "      <td>5</td>\n",
       "      <td>manager</td>\n",
       "      <td>Угу ну возможно вы рассмотрите и другие вариан...</td>\n",
       "      <td>introducing=False</td>\n",
       "    </tr>\n",
       "    <tr>\n",
       "      <th>8</th>\n",
       "      <td>0</td>\n",
       "      <td>8</td>\n",
       "      <td>manager</td>\n",
       "      <td>Угу а на что вы обращаете внимание при выборе</td>\n",
       "      <td>introducing=False</td>\n",
       "    </tr>\n",
       "    <tr>\n",
       "      <th>11</th>\n",
       "      <td>0</td>\n",
       "      <td>11</td>\n",
       "      <td>manager</td>\n",
       "      <td>Что для вас приоритет</td>\n",
       "      <td>introducing=False</td>\n",
       "    </tr>\n",
       "    <tr>\n",
       "      <th>...</th>\n",
       "      <td>...</td>\n",
       "      <td>...</td>\n",
       "      <td>...</td>\n",
       "      <td>...</td>\n",
       "      <td>...</td>\n",
       "    </tr>\n",
       "    <tr>\n",
       "      <th>472</th>\n",
       "      <td>5</td>\n",
       "      <td>135</td>\n",
       "      <td>manager</td>\n",
       "      <td>Так дмитрий</td>\n",
       "      <td>introducing=False</td>\n",
       "    </tr>\n",
       "    <tr>\n",
       "      <th>473</th>\n",
       "      <td>5</td>\n",
       "      <td>136</td>\n",
       "      <td>manager</td>\n",
       "      <td>Все записала тогда завтра ждите звонка</td>\n",
       "      <td>introducing=False</td>\n",
       "    </tr>\n",
       "    <tr>\n",
       "      <th>475</th>\n",
       "      <td>5</td>\n",
       "      <td>138</td>\n",
       "      <td>manager</td>\n",
       "      <td>По поводу виджетов и с ними уже обсудите конкр...</td>\n",
       "      <td>introducing=False</td>\n",
       "    </tr>\n",
       "    <tr>\n",
       "      <th>476</th>\n",
       "      <td>5</td>\n",
       "      <td>139</td>\n",
       "      <td>manager</td>\n",
       "      <td>Все я вам высылаю счет и с вами на связи если ...</td>\n",
       "      <td>introducing=False</td>\n",
       "    </tr>\n",
       "    <tr>\n",
       "      <th>479</th>\n",
       "      <td>5</td>\n",
       "      <td>142</td>\n",
       "      <td>manager</td>\n",
       "      <td>Ну до свидания хорошего вечера</td>\n",
       "      <td>introducing=False</td>\n",
       "    </tr>\n",
       "  </tbody>\n",
       "</table>\n",
       "<p>201 rows × 5 columns</p>\n",
       "</div>"
      ],
      "text/plain": [
       "     dlg_id  line_n     role  \\\n",
       "1         0       1  manager   \n",
       "3         0       3  manager   \n",
       "5         0       5  manager   \n",
       "8         0       8  manager   \n",
       "11        0      11  manager   \n",
       "..      ...     ...      ...   \n",
       "472       5     135  manager   \n",
       "473       5     136  manager   \n",
       "475       5     138  manager   \n",
       "476       5     139  manager   \n",
       "479       5     142  manager   \n",
       "\n",
       "                                                  text            insight  \n",
       "1                                    Алло здравствуйте  introducing=False  \n",
       "3    Меня зовут ангелина компания диджитал бизнес з...   introducing=True  \n",
       "5    Угу ну возможно вы рассмотрите и другие вариан...  introducing=False  \n",
       "8        Угу а на что вы обращаете внимание при выборе  introducing=False  \n",
       "11                               Что для вас приоритет  introducing=False  \n",
       "..                                                 ...                ...  \n",
       "472                                        Так дмитрий  introducing=False  \n",
       "473             Все записала тогда завтра ждите звонка  introducing=False  \n",
       "475  По поводу виджетов и с ними уже обсудите конкр...  introducing=False  \n",
       "476  Все я вам высылаю счет и с вами на связи если ...  introducing=False  \n",
       "479                     Ну до свидания хорошего вечера  introducing=False  \n",
       "\n",
       "[201 rows x 5 columns]"
      ]
     },
     "execution_count": 10,
     "metadata": {},
     "output_type": "execute_result"
    }
   ],
   "source": [
    "df_mng['insight'] = df_mng['text'].apply(introduce_youself)\n",
    "df_mng"
   ]
  },
  {
   "cell_type": "markdown",
   "id": "cdeef655",
   "metadata": {
    "heading_collapsed": true
   },
   "source": [
    "### Имя"
   ]
  },
  {
   "cell_type": "code",
   "execution_count": null,
   "id": "96d3c193",
   "metadata": {
    "hidden": true
   },
   "outputs": [],
   "source": [
    "# В с случае с извлечением имени возникли сложности из-за капитализации. \n",
    "# Код в ячейках ниже отрабатывает при поиске имен, прописанных с заглавной буквы.\n",
    "# К сожалению, я не успел адаптировать его для учета случаев, когда имена начинаются с маленькой буквы."
   ]
  },
  {
   "cell_type": "code",
   "execution_count": 104,
   "id": "4bb1e20f",
   "metadata": {
    "hidden": true
   },
   "outputs": [],
   "source": [
    "text = '''Алло здравствуйте\n",
    "Меня зовут ангелина компания диджитал бизнес звоним вам по поводу продления \n",
    "лицензии а мы с серым у вас скоро срок заканчивается\n",
    "Угу ну возможно вы рассмотрите и другие варианты видите это хорошая практика \n",
    "сравнивать\n",
    "Угу а на что вы обращаете внимание при выборе\n",
    "Что для вас приоритет\n",
    "Ну у вас срок заканчивается поэтому мы набрали + ко всему\n",
    "А так нет не только поэтому просто я обратила внимание и вы пользуетесь \n",
    "виджетами мы там с вами сотрудничали\n",
    "А если вы 19 являетесь то лучше то идти бесплатно\n",
    "Ага хорошо\n",
    "Индивидуальным поэтому не все то есть сотрудничают с кем то сейчас да кому то \n",
    "например не с кем сейчас справляться кто то сравнивал\n",
    "Да мы услышали вас спасибо за рекомендации\n",
    "Вот понимаю да но дело в том что в основном да за месяц\n",
    "Необходимо обзванивать\n",
    "Хорошо я данную информацию тогда зафиксирую передам будем иметь ввиду\n",
    "И вам спасибо большое за обратную связь\n",
    "Всего хорошего до свидания'''"
   ]
  },
  {
   "cell_type": "code",
   "execution_count": 105,
   "id": "d26f624f",
   "metadata": {
    "hidden": true
   },
   "outputs": [],
   "source": [
    "segmenter = Segmenter()\n",
    "morph_vocab = MorphVocab()\n",
    "\n",
    "emb = NewsEmbedding()\n",
    "morph_tagger = NewsMorphTagger(emb)\n",
    "syntax_parser = NewsSyntaxParser(emb)\n",
    "ner_tagger = NewsNERTagger(emb)\n",
    "\n",
    "names_extractor = NamesExtractor(morph_vocab)"
   ]
  },
  {
   "cell_type": "code",
   "execution_count": 106,
   "id": "1041537b",
   "metadata": {
    "hidden": true
   },
   "outputs": [],
   "source": [
    "doc = Doc(text)\n",
    "doc.segment(segmenter) \n",
    "doc.tag_morph(morph_tagger)\n",
    "doc.parse_syntax(syntax_parser)\n",
    "doc.tag_ner(ner_tagger)"
   ]
  },
  {
   "cell_type": "code",
   "execution_count": 107,
   "id": "d3a7697e",
   "metadata": {
    "hidden": true
   },
   "outputs": [],
   "source": [
    "doc.segment(segmenter)"
   ]
  },
  {
   "cell_type": "code",
   "execution_count": 108,
   "id": "8ac66ae3",
   "metadata": {
    "hidden": true
   },
   "outputs": [],
   "source": [
    "doc.tag_morph(morph_tagger)"
   ]
  },
  {
   "cell_type": "code",
   "execution_count": 109,
   "id": "2283a220",
   "metadata": {
    "hidden": true
   },
   "outputs": [
    {
     "data": {
      "text/plain": [
       "{}"
      ]
     },
     "execution_count": 109,
     "metadata": {},
     "output_type": "execute_result"
    }
   ],
   "source": [
    "for span in doc.spans:\n",
    "    span.normalize(morph_vocab)\n",
    "\n",
    "{_.text: _.normal for _ in doc.spans if _.text != _.normal}"
   ]
  },
  {
   "cell_type": "code",
   "execution_count": 110,
   "id": "5f61ddb6",
   "metadata": {
    "hidden": true
   },
   "outputs": [
    {
     "data": {
      "text/plain": [
       "{'Ангелина': {'first': 'Ангелина'}}"
      ]
     },
     "execution_count": 110,
     "metadata": {},
     "output_type": "execute_result"
    }
   ],
   "source": [
    "for span in doc.spans:\n",
    "    if span.type == PER:\n",
    "        span.extract_fact(names_extractor)\n",
    "\n",
    "names_dict = {_.normal: _.fact.as_dict for _ in doc.spans if _.fact}\n",
    "names_dict"
   ]
  },
  {
   "cell_type": "code",
   "execution_count": 111,
   "id": "1dcafcc1",
   "metadata": {
    "hidden": true
   },
   "outputs": [
    {
     "data": {
      "text/plain": [
       "['Ангелина']"
      ]
     },
     "execution_count": 111,
     "metadata": {},
     "output_type": "execute_result"
    }
   ],
   "source": [
    "list(names_dict.keys())"
   ]
  },
  {
   "cell_type": "markdown",
   "id": "91bc8de5",
   "metadata": {
    "heading_collapsed": true
   },
   "source": [
    "### Название компании"
   ]
  },
  {
   "cell_type": "code",
   "execution_count": 13,
   "id": "1550e9a5",
   "metadata": {
    "hidden": true
   },
   "outputs": [],
   "source": [
    "def company_name(line):\n",
    "    \"\"\"Функция осуществляет поиск реплик, в которых менеджер упомянул \n",
    "    название компании, которую он представляет.\"\"\"\n",
    "    \n",
    "    VARIANTS = morph_pipeline([\n",
    "    'компания'\n",
    "    ])\n",
    "\n",
    "    COMPANIES = rule(VARIANTS)\n",
    "    parser = Parser(COMPANIES)\n",
    "    matches = list(parser.findall(line))\n",
    "    flag = 1 if len(matches) != 0 else 0\n",
    "    return 'company_name=True' if flag else 'company_name=False'"
   ]
  },
  {
   "cell_type": "code",
   "execution_count": 14,
   "id": "7203dedc",
   "metadata": {
    "hidden": true
   },
   "outputs": [
    {
     "data": {
      "text/html": [
       "<div>\n",
       "<style scoped>\n",
       "    .dataframe tbody tr th:only-of-type {\n",
       "        vertical-align: middle;\n",
       "    }\n",
       "\n",
       "    .dataframe tbody tr th {\n",
       "        vertical-align: top;\n",
       "    }\n",
       "\n",
       "    .dataframe thead th {\n",
       "        text-align: right;\n",
       "    }\n",
       "</style>\n",
       "<table border=\"1\" class=\"dataframe\">\n",
       "  <thead>\n",
       "    <tr style=\"text-align: right;\">\n",
       "      <th></th>\n",
       "      <th>dlg_id</th>\n",
       "      <th>line_n</th>\n",
       "      <th>role</th>\n",
       "      <th>text</th>\n",
       "      <th>insight</th>\n",
       "    </tr>\n",
       "  </thead>\n",
       "  <tbody>\n",
       "    <tr>\n",
       "      <th>1</th>\n",
       "      <td>0</td>\n",
       "      <td>1</td>\n",
       "      <td>manager</td>\n",
       "      <td>Алло здравствуйте</td>\n",
       "      <td>company_name=False</td>\n",
       "    </tr>\n",
       "    <tr>\n",
       "      <th>3</th>\n",
       "      <td>0</td>\n",
       "      <td>3</td>\n",
       "      <td>manager</td>\n",
       "      <td>Меня зовут ангелина компания диджитал бизнес з...</td>\n",
       "      <td>company_name=True</td>\n",
       "    </tr>\n",
       "    <tr>\n",
       "      <th>5</th>\n",
       "      <td>0</td>\n",
       "      <td>5</td>\n",
       "      <td>manager</td>\n",
       "      <td>Угу ну возможно вы рассмотрите и другие вариан...</td>\n",
       "      <td>company_name=False</td>\n",
       "    </tr>\n",
       "    <tr>\n",
       "      <th>8</th>\n",
       "      <td>0</td>\n",
       "      <td>8</td>\n",
       "      <td>manager</td>\n",
       "      <td>Угу а на что вы обращаете внимание при выборе</td>\n",
       "      <td>company_name=False</td>\n",
       "    </tr>\n",
       "    <tr>\n",
       "      <th>11</th>\n",
       "      <td>0</td>\n",
       "      <td>11</td>\n",
       "      <td>manager</td>\n",
       "      <td>Что для вас приоритет</td>\n",
       "      <td>company_name=False</td>\n",
       "    </tr>\n",
       "    <tr>\n",
       "      <th>...</th>\n",
       "      <td>...</td>\n",
       "      <td>...</td>\n",
       "      <td>...</td>\n",
       "      <td>...</td>\n",
       "      <td>...</td>\n",
       "    </tr>\n",
       "    <tr>\n",
       "      <th>472</th>\n",
       "      <td>5</td>\n",
       "      <td>135</td>\n",
       "      <td>manager</td>\n",
       "      <td>Так дмитрий</td>\n",
       "      <td>company_name=False</td>\n",
       "    </tr>\n",
       "    <tr>\n",
       "      <th>473</th>\n",
       "      <td>5</td>\n",
       "      <td>136</td>\n",
       "      <td>manager</td>\n",
       "      <td>Все записала тогда завтра ждите звонка</td>\n",
       "      <td>company_name=False</td>\n",
       "    </tr>\n",
       "    <tr>\n",
       "      <th>475</th>\n",
       "      <td>5</td>\n",
       "      <td>138</td>\n",
       "      <td>manager</td>\n",
       "      <td>По поводу виджетов и с ними уже обсудите конкр...</td>\n",
       "      <td>company_name=False</td>\n",
       "    </tr>\n",
       "    <tr>\n",
       "      <th>476</th>\n",
       "      <td>5</td>\n",
       "      <td>139</td>\n",
       "      <td>manager</td>\n",
       "      <td>Все я вам высылаю счет и с вами на связи если ...</td>\n",
       "      <td>company_name=False</td>\n",
       "    </tr>\n",
       "    <tr>\n",
       "      <th>479</th>\n",
       "      <td>5</td>\n",
       "      <td>142</td>\n",
       "      <td>manager</td>\n",
       "      <td>Ну до свидания хорошего вечера</td>\n",
       "      <td>company_name=False</td>\n",
       "    </tr>\n",
       "  </tbody>\n",
       "</table>\n",
       "<p>201 rows × 5 columns</p>\n",
       "</div>"
      ],
      "text/plain": [
       "     dlg_id  line_n     role  \\\n",
       "1         0       1  manager   \n",
       "3         0       3  manager   \n",
       "5         0       5  manager   \n",
       "8         0       8  manager   \n",
       "11        0      11  manager   \n",
       "..      ...     ...      ...   \n",
       "472       5     135  manager   \n",
       "473       5     136  manager   \n",
       "475       5     138  manager   \n",
       "476       5     139  manager   \n",
       "479       5     142  manager   \n",
       "\n",
       "                                                  text             insight  \n",
       "1                                    Алло здравствуйте  company_name=False  \n",
       "3    Меня зовут ангелина компания диджитал бизнес з...   company_name=True  \n",
       "5    Угу ну возможно вы рассмотрите и другие вариан...  company_name=False  \n",
       "8        Угу а на что вы обращаете внимание при выборе  company_name=False  \n",
       "11                               Что для вас приоритет  company_name=False  \n",
       "..                                                 ...                 ...  \n",
       "472                                        Так дмитрий  company_name=False  \n",
       "473             Все записала тогда завтра ждите звонка  company_name=False  \n",
       "475  По поводу виджетов и с ними уже обсудите конкр...  company_name=False  \n",
       "476  Все я вам высылаю счет и с вами на связи если ...  company_name=False  \n",
       "479                     Ну до свидания хорошего вечера  company_name=False  \n",
       "\n",
       "[201 rows x 5 columns]"
      ]
     },
     "execution_count": 14,
     "metadata": {},
     "output_type": "execute_result"
    }
   ],
   "source": [
    "df_mng['insight'] = df_mng['text'].apply(company_name)\n",
    "df_mng"
   ]
  },
  {
   "cell_type": "markdown",
   "id": "0a192ac1",
   "metadata": {
    "heading_collapsed": true
   },
   "source": [
    "### Прощание"
   ]
  },
  {
   "cell_type": "code",
   "execution_count": 15,
   "id": "78740923",
   "metadata": {
    "hidden": true
   },
   "outputs": [],
   "source": [
    "def farewell(line):\n",
    "    \"\"\"Функция извлекает реплики, в которых менеджер \n",
    "    прощается с клиентом.\"\"\"\n",
    "    \n",
    "    VARIANTS = morph_pipeline([\n",
    "         'до свидания',\n",
    "         'всего доброго'\n",
    "     ])\n",
    "\n",
    "    FAREWELLS = rule(VARIANTS)\n",
    "    parser = Parser(FAREWELLS)\n",
    "    matches = list(parser.findall(line))\n",
    "    flag = 1 if len(matches) != 0 else 0\n",
    "    return 'farewell=True' if flag else 'farewell=False'"
   ]
  },
  {
   "cell_type": "code",
   "execution_count": 16,
   "id": "7c33b112",
   "metadata": {
    "hidden": true,
    "scrolled": true
   },
   "outputs": [
    {
     "data": {
      "text/html": [
       "<div>\n",
       "<style scoped>\n",
       "    .dataframe tbody tr th:only-of-type {\n",
       "        vertical-align: middle;\n",
       "    }\n",
       "\n",
       "    .dataframe tbody tr th {\n",
       "        vertical-align: top;\n",
       "    }\n",
       "\n",
       "    .dataframe thead th {\n",
       "        text-align: right;\n",
       "    }\n",
       "</style>\n",
       "<table border=\"1\" class=\"dataframe\">\n",
       "  <thead>\n",
       "    <tr style=\"text-align: right;\">\n",
       "      <th></th>\n",
       "      <th>dlg_id</th>\n",
       "      <th>line_n</th>\n",
       "      <th>role</th>\n",
       "      <th>text</th>\n",
       "      <th>insight</th>\n",
       "    </tr>\n",
       "  </thead>\n",
       "  <tbody>\n",
       "    <tr>\n",
       "      <th>1</th>\n",
       "      <td>0</td>\n",
       "      <td>1</td>\n",
       "      <td>manager</td>\n",
       "      <td>Алло здравствуйте</td>\n",
       "      <td>farewell=False</td>\n",
       "    </tr>\n",
       "    <tr>\n",
       "      <th>3</th>\n",
       "      <td>0</td>\n",
       "      <td>3</td>\n",
       "      <td>manager</td>\n",
       "      <td>Меня зовут ангелина компания диджитал бизнес з...</td>\n",
       "      <td>farewell=False</td>\n",
       "    </tr>\n",
       "    <tr>\n",
       "      <th>5</th>\n",
       "      <td>0</td>\n",
       "      <td>5</td>\n",
       "      <td>manager</td>\n",
       "      <td>Угу ну возможно вы рассмотрите и другие вариан...</td>\n",
       "      <td>farewell=False</td>\n",
       "    </tr>\n",
       "    <tr>\n",
       "      <th>8</th>\n",
       "      <td>0</td>\n",
       "      <td>8</td>\n",
       "      <td>manager</td>\n",
       "      <td>Угу а на что вы обращаете внимание при выборе</td>\n",
       "      <td>farewell=False</td>\n",
       "    </tr>\n",
       "    <tr>\n",
       "      <th>11</th>\n",
       "      <td>0</td>\n",
       "      <td>11</td>\n",
       "      <td>manager</td>\n",
       "      <td>Что для вас приоритет</td>\n",
       "      <td>farewell=False</td>\n",
       "    </tr>\n",
       "    <tr>\n",
       "      <th>...</th>\n",
       "      <td>...</td>\n",
       "      <td>...</td>\n",
       "      <td>...</td>\n",
       "      <td>...</td>\n",
       "      <td>...</td>\n",
       "    </tr>\n",
       "    <tr>\n",
       "      <th>472</th>\n",
       "      <td>5</td>\n",
       "      <td>135</td>\n",
       "      <td>manager</td>\n",
       "      <td>Так дмитрий</td>\n",
       "      <td>farewell=False</td>\n",
       "    </tr>\n",
       "    <tr>\n",
       "      <th>473</th>\n",
       "      <td>5</td>\n",
       "      <td>136</td>\n",
       "      <td>manager</td>\n",
       "      <td>Все записала тогда завтра ждите звонка</td>\n",
       "      <td>farewell=False</td>\n",
       "    </tr>\n",
       "    <tr>\n",
       "      <th>475</th>\n",
       "      <td>5</td>\n",
       "      <td>138</td>\n",
       "      <td>manager</td>\n",
       "      <td>По поводу виджетов и с ними уже обсудите конкр...</td>\n",
       "      <td>farewell=False</td>\n",
       "    </tr>\n",
       "    <tr>\n",
       "      <th>476</th>\n",
       "      <td>5</td>\n",
       "      <td>139</td>\n",
       "      <td>manager</td>\n",
       "      <td>Все я вам высылаю счет и с вами на связи если ...</td>\n",
       "      <td>farewell=False</td>\n",
       "    </tr>\n",
       "    <tr>\n",
       "      <th>479</th>\n",
       "      <td>5</td>\n",
       "      <td>142</td>\n",
       "      <td>manager</td>\n",
       "      <td>Ну до свидания хорошего вечера</td>\n",
       "      <td>farewell=True</td>\n",
       "    </tr>\n",
       "  </tbody>\n",
       "</table>\n",
       "<p>201 rows × 5 columns</p>\n",
       "</div>"
      ],
      "text/plain": [
       "     dlg_id  line_n     role  \\\n",
       "1         0       1  manager   \n",
       "3         0       3  manager   \n",
       "5         0       5  manager   \n",
       "8         0       8  manager   \n",
       "11        0      11  manager   \n",
       "..      ...     ...      ...   \n",
       "472       5     135  manager   \n",
       "473       5     136  manager   \n",
       "475       5     138  manager   \n",
       "476       5     139  manager   \n",
       "479       5     142  manager   \n",
       "\n",
       "                                                  text         insight  \n",
       "1                                    Алло здравствуйте  farewell=False  \n",
       "3    Меня зовут ангелина компания диджитал бизнес з...  farewell=False  \n",
       "5    Угу ну возможно вы рассмотрите и другие вариан...  farewell=False  \n",
       "8        Угу а на что вы обращаете внимание при выборе  farewell=False  \n",
       "11                               Что для вас приоритет  farewell=False  \n",
       "..                                                 ...             ...  \n",
       "472                                        Так дмитрий  farewell=False  \n",
       "473             Все записала тогда завтра ждите звонка  farewell=False  \n",
       "475  По поводу виджетов и с ними уже обсудите конкр...  farewell=False  \n",
       "476  Все я вам высылаю счет и с вами на связи если ...  farewell=False  \n",
       "479                     Ну до свидания хорошего вечера   farewell=True  \n",
       "\n",
       "[201 rows x 5 columns]"
      ]
     },
     "execution_count": 16,
     "metadata": {},
     "output_type": "execute_result"
    }
   ],
   "source": [
    "df_mng['insight'] = df_mng['text'].apply(farewell)\n",
    "df_mng"
   ]
  },
  {
   "cell_type": "code",
   "execution_count": 17,
   "id": "b17cad3f",
   "metadata": {
    "hidden": true
   },
   "outputs": [
    {
     "data": {
      "text/html": [
       "<div>\n",
       "<style scoped>\n",
       "    .dataframe tbody tr th:only-of-type {\n",
       "        vertical-align: middle;\n",
       "    }\n",
       "\n",
       "    .dataframe tbody tr th {\n",
       "        vertical-align: top;\n",
       "    }\n",
       "\n",
       "    .dataframe thead th {\n",
       "        text-align: right;\n",
       "    }\n",
       "</style>\n",
       "<table border=\"1\" class=\"dataframe\">\n",
       "  <thead>\n",
       "    <tr style=\"text-align: right;\">\n",
       "      <th></th>\n",
       "      <th>dlg_id</th>\n",
       "      <th>line_n</th>\n",
       "      <th>role</th>\n",
       "      <th>text</th>\n",
       "      <th>insight</th>\n",
       "    </tr>\n",
       "  </thead>\n",
       "  <tbody>\n",
       "    <tr>\n",
       "      <th>108</th>\n",
       "      <td>0</td>\n",
       "      <td>108</td>\n",
       "      <td>manager</td>\n",
       "      <td>Всего хорошего до свидания</td>\n",
       "      <td>farewell=True</td>\n",
       "    </tr>\n",
       "    <tr>\n",
       "      <th>163</th>\n",
       "      <td>1</td>\n",
       "      <td>54</td>\n",
       "      <td>manager</td>\n",
       "      <td>До свидания</td>\n",
       "      <td>farewell=True</td>\n",
       "    </tr>\n",
       "    <tr>\n",
       "      <th>300</th>\n",
       "      <td>3</td>\n",
       "      <td>51</td>\n",
       "      <td>manager</td>\n",
       "      <td>Угу все хорошо да понедельника тогда всего доб...</td>\n",
       "      <td>farewell=True</td>\n",
       "    </tr>\n",
       "    <tr>\n",
       "      <th>335</th>\n",
       "      <td>4</td>\n",
       "      <td>33</td>\n",
       "      <td>manager</td>\n",
       "      <td>Во вторник все ну с вами да тогда до вторника ...</td>\n",
       "      <td>farewell=True</td>\n",
       "    </tr>\n",
       "    <tr>\n",
       "      <th>479</th>\n",
       "      <td>5</td>\n",
       "      <td>142</td>\n",
       "      <td>manager</td>\n",
       "      <td>Ну до свидания хорошего вечера</td>\n",
       "      <td>farewell=True</td>\n",
       "    </tr>\n",
       "  </tbody>\n",
       "</table>\n",
       "</div>"
      ],
      "text/plain": [
       "     dlg_id  line_n     role  \\\n",
       "108       0     108  manager   \n",
       "163       1      54  manager   \n",
       "300       3      51  manager   \n",
       "335       4      33  manager   \n",
       "479       5     142  manager   \n",
       "\n",
       "                                                  text        insight  \n",
       "108                         Всего хорошего до свидания  farewell=True  \n",
       "163                                        До свидания  farewell=True  \n",
       "300  Угу все хорошо да понедельника тогда всего доб...  farewell=True  \n",
       "335  Во вторник все ну с вами да тогда до вторника ...  farewell=True  \n",
       "479                     Ну до свидания хорошего вечера  farewell=True  "
      ]
     },
     "execution_count": 17,
     "metadata": {},
     "output_type": "execute_result"
    }
   ],
   "source": [
    "df_mng[df_mng.insight == 'farewell=True']"
   ]
  },
  {
   "cell_type": "markdown",
   "id": "6dbc2954",
   "metadata": {
    "heading_collapsed": true
   },
   "source": [
    "### Приветствие и прощание в каждом диалоге"
   ]
  },
  {
   "cell_type": "code",
   "execution_count": 94,
   "id": "24d0904e",
   "metadata": {
    "hidden": true
   },
   "outputs": [
    {
     "name": "stdout",
     "output_type": "stream",
     "text": [
      "Алло здравствуйте Меня зовут ангелина компания диджитал бизнес звоним вам по поводу продления лицензии а мы с серым у вас скоро срок заканчивается Угу ну возможно вы рассмотрите и другие варианты видите это хорошая практика сравнивать Угу а на что вы обращаете внимание при выборе Что для вас приоритет Ну у вас срок заканчивается поэтому мы набрали + ко всему А так нет не только поэтому просто я обратила внимание и вы пользуетесь виджетами мы там с вами сотрудничали А если вы 19 являетесь то лучше то идти бесплатно Ага хорошо Индивидуальным поэтому не все то есть сотрудничают с кем то сейчас да кому то например не с кем сейчас справляться кто то сравнивал Да мы услышали вас спасибо за рекомендации Вот понимаю да но дело в том что в основном да за месяц Необходимо обзванивать Хорошо я данную информацию тогда зафиксирую передам будем иметь ввиду И вам спасибо большое за обратную связь Всего хорошего до свидания\n"
     ]
    }
   ],
   "source": [
    "dialogs = []\n",
    "for i in range(0, 6):\n",
    "    d = ' '.join(df_mng.text[df_mng.dlg_id == i])\n",
    "    dialogs.append(d)\n",
    "print(dialogs[0])"
   ]
  },
  {
   "cell_type": "code",
   "execution_count": 90,
   "id": "282b44f1",
   "metadata": {
    "hidden": true
   },
   "outputs": [],
   "source": [
    "def greetings_farewells(line):\n",
    "    \"\"\"Функция осуществляет поиск реплик, в которых менеджер поздоровался и попрощался с клиентом\"\"\"\n",
    "    \n",
    "    VARIANTS = morph_pipeline([\n",
    "        'здравствуйте',\n",
    "        'добрый день'\n",
    "    ])\n",
    "\n",
    "    GREETINGS = rule(VARIANTS)\n",
    "    parser = Parser(GREETINGS)\n",
    "    matches = list(parser.findall(line))\n",
    "    flag = 1 if len(matches) != 0 else 0\n",
    "    \n",
    "    VARIANTS_2 = morph_pipeline([\n",
    "         'до свидания',\n",
    "         'всего доброго'\n",
    "     ])\n",
    "\n",
    "    FAREWELLS = rule(VARIANTS_2)\n",
    "    parser = Parser(FAREWELLS)\n",
    "    matches_2 = list(parser.findall(line))\n",
    "    \n",
    "    flag = 1 if (len(matches) != 0) and (len(matches_2) != 0)  else 0\n",
    "    \n",
    "    return f'Менеджер выполнил требование по общению с клиентом' if flag else f'Менеджер НЕ выполнил требование по общению с клиентом'"
   ]
  },
  {
   "cell_type": "code",
   "execution_count": 91,
   "id": "e7f50673",
   "metadata": {
    "hidden": true
   },
   "outputs": [
    {
     "name": "stdout",
     "output_type": "stream",
     "text": [
      "Менеджер выполнил требование по общению с клиентом\n",
      "Менеджер выполнил требование по общению с клиентом\n",
      "Менеджер НЕ выполнил требование по общению с клиентом\n",
      "Менеджер выполнил требование по общению с клиентом\n",
      "Менеджер НЕ выполнил требование по общению с клиентом\n",
      "Менеджер НЕ выполнил требование по общению с клиентом\n"
     ]
    }
   ],
   "source": [
    "for d in dialogs:\n",
    "    print(greetings_farewells(d))"
   ]
  },
  {
   "cell_type": "code",
   "execution_count": null,
   "id": "db1886ff",
   "metadata": {
    "hidden": true
   },
   "outputs": [],
   "source": []
  },
  {
   "cell_type": "code",
   "execution_count": null,
   "id": "bc73c444",
   "metadata": {
    "hidden": true
   },
   "outputs": [],
   "source": []
  }
 ],
 "metadata": {
  "kernelspec": {
   "display_name": "Python 3 (ipykernel)",
   "language": "python",
   "name": "python3"
  },
  "language_info": {
   "codemirror_mode": {
    "name": "ipython",
    "version": 3
   },
   "file_extension": ".py",
   "mimetype": "text/x-python",
   "name": "python",
   "nbconvert_exporter": "python",
   "pygments_lexer": "ipython3",
   "version": "3.9.7"
  }
 },
 "nbformat": 4,
 "nbformat_minor": 5
}
